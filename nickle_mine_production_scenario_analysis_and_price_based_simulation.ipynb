{
 "cells": [
  {
   "cell_type": "code",
   "execution_count": 319,
   "id": "84c869ef",
   "metadata": {
    "ExecuteTime": {
     "end_time": "2022-05-27T17:32:25.235629Z",
     "start_time": "2022-05-27T17:32:25.219757Z"
    }
   },
   "outputs": [],
   "source": [
    "import pandas as pd\n",
    "import math\n",
    "import numpy as np\n",
    "from scipy.stats import truncnorm\n",
    "import matplotlib.pyplot as plt\n",
    "import seaborn as sns\n",
    "from fuzzywuzzy import fuzz\n",
    "from scipy.stats import chi2\n",
    "from scipy.optimize import curve_fit\n",
    "from scipy.interpolate import interp1d\n",
    "\n",
    "pd.options.display.max_rows = 999\n",
    "pd.options.display.max_columns = 200\n",
    "\n",
    "from IPython.core.interactiveshell import InteractiveShell\n",
    "InteractiveShell.ast_node_interactivity='all'\n",
    "import glob\n",
    "from tqdm.notebook import tqdm\n",
    "import itertools\n",
    "import time\n",
    "\n",
    "import warnings\n",
    "warnings.filterwarnings(\"ignore\")\n",
    "\n"
   ]
  },
  {
   "cell_type": "markdown",
   "id": "5cd1c53c",
   "metadata": {},
   "source": [
    "# initialization"
   ]
  },
  {
   "cell_type": "markdown",
   "id": "e8cce2f7",
   "metadata": {},
   "source": [
    "## global variable"
   ]
  },
  {
   "cell_type": "code",
   "execution_count": 320,
   "id": "eb40566a",
   "metadata": {
    "ExecuteTime": {
     "end_time": "2022-05-27T17:32:25.242576Z",
     "start_time": "2022-05-27T17:32:25.238887Z"
    }
   },
   "outputs": [],
   "source": [
    "NUM_YEAR = 20\n",
    "NUM_YEAR_FORECAST = 14\n",
    "TIME_STEP_PER_YEAR = 4\n",
    "\n",
    "STEP_RANGE = NUM_YEAR * TIME_STEP_PER_YEAR\n",
    "STEP_RANGE_FORECAST = NUM_YEAR_FORECAST * TIME_STEP_PER_YEAR\n"
   ]
  },
  {
   "cell_type": "markdown",
   "id": "b377453b",
   "metadata": {},
   "source": [
    "## demand"
   ]
  },
  {
   "cell_type": "markdown",
   "id": "dd320fa3",
   "metadata": {},
   "source": [
    "### EV forecast"
   ]
  },
  {
   "cell_type": "code",
   "execution_count": 321,
   "id": "7c39010a",
   "metadata": {
    "ExecuteTime": {
     "end_time": "2022-05-27T17:32:25.322792Z",
     "start_time": "2022-05-27T17:32:25.246211Z"
    }
   },
   "outputs": [
    {
     "data": {
      "text/html": [
       "<div>\n",
       "<style scoped>\n",
       "    .dataframe tbody tr th:only-of-type {\n",
       "        vertical-align: middle;\n",
       "    }\n",
       "\n",
       "    .dataframe tbody tr th {\n",
       "        vertical-align: top;\n",
       "    }\n",
       "\n",
       "    .dataframe thead th {\n",
       "        text-align: right;\n",
       "    }\n",
       "</style>\n",
       "<table border=\"1\" class=\"dataframe\">\n",
       "  <thead>\n",
       "    <tr style=\"text-align: right;\">\n",
       "      <th></th>\n",
       "      <th>year</th>\n",
       "      <th>STEPS_NCX_Li_demand</th>\n",
       "      <th>STEPS_NCX_Co_demand</th>\n",
       "      <th>STEPS_NCX_Ni_demand</th>\n",
       "      <th>STEPS_LFP_Li_demand</th>\n",
       "      <th>STEPS_LFP_Co_demand</th>\n",
       "      <th>STEPS_LFP_Ni_demand</th>\n",
       "      <th>STEPS_NCX_EOL_Li</th>\n",
       "      <th>STEPS_NCX_EOL_Co</th>\n",
       "      <th>STEPS_NCX_EOL_Ni</th>\n",
       "      <th>STEPS_LFP_EOL_Li</th>\n",
       "      <th>STEPS_LFP_EOL_Co</th>\n",
       "      <th>STEPS_LFP_EOL_Ni</th>\n",
       "    </tr>\n",
       "  </thead>\n",
       "  <tbody>\n",
       "    <tr>\n",
       "      <th>0</th>\n",
       "      <td>2010</td>\n",
       "      <td>0.143719</td>\n",
       "      <td>0.168458</td>\n",
       "      <td>0.341628</td>\n",
       "      <td>0.143719</td>\n",
       "      <td>0.168458</td>\n",
       "      <td>0.341628</td>\n",
       "      <td>0.000000e+00</td>\n",
       "      <td>0.000000e+00</td>\n",
       "      <td>0.000000</td>\n",
       "      <td>0.000000e+00</td>\n",
       "      <td>0.000000e+00</td>\n",
       "      <td>0.000000</td>\n",
       "    </tr>\n",
       "    <tr>\n",
       "      <th>1</th>\n",
       "      <td>2011</td>\n",
       "      <td>0.285940</td>\n",
       "      <td>0.323876</td>\n",
       "      <td>0.690666</td>\n",
       "      <td>0.285940</td>\n",
       "      <td>0.323876</td>\n",
       "      <td>0.690666</td>\n",
       "      <td>4.677089e-07</td>\n",
       "      <td>5.482162e-07</td>\n",
       "      <td>0.000001</td>\n",
       "      <td>4.677089e-07</td>\n",
       "      <td>5.482162e-07</td>\n",
       "      <td>0.000001</td>\n",
       "    </tr>\n",
       "    <tr>\n",
       "      <th>2</th>\n",
       "      <td>2012</td>\n",
       "      <td>0.526513</td>\n",
       "      <td>0.588093</td>\n",
       "      <td>1.302426</td>\n",
       "      <td>0.526513</td>\n",
       "      <td>0.588093</td>\n",
       "      <td>1.302426</td>\n",
       "      <td>2.698768e-05</td>\n",
       "      <td>3.159638e-05</td>\n",
       "      <td>0.000064</td>\n",
       "      <td>2.698768e-05</td>\n",
       "      <td>3.159638e-05</td>\n",
       "      <td>0.000064</td>\n",
       "    </tr>\n",
       "    <tr>\n",
       "      <th>3</th>\n",
       "      <td>2013</td>\n",
       "      <td>0.913241</td>\n",
       "      <td>1.015481</td>\n",
       "      <td>2.364588</td>\n",
       "      <td>0.910166</td>\n",
       "      <td>0.990114</td>\n",
       "      <td>2.273879</td>\n",
       "      <td>3.270288e-04</td>\n",
       "      <td>3.811804e-04</td>\n",
       "      <td>0.000780</td>\n",
       "      <td>3.270288e-04</td>\n",
       "      <td>3.811804e-04</td>\n",
       "      <td>0.000780</td>\n",
       "    </tr>\n",
       "    <tr>\n",
       "      <th>4</th>\n",
       "      <td>2014</td>\n",
       "      <td>1.545928</td>\n",
       "      <td>1.660004</td>\n",
       "      <td>3.920547</td>\n",
       "      <td>1.545928</td>\n",
       "      <td>1.660004</td>\n",
       "      <td>3.920547</td>\n",
       "      <td>2.085780e-03</td>\n",
       "      <td>2.417892e-03</td>\n",
       "      <td>0.004989</td>\n",
       "      <td>2.085770e-03</td>\n",
       "      <td>2.417809e-03</td>\n",
       "      <td>0.004988</td>\n",
       "    </tr>\n",
       "  </tbody>\n",
       "</table>\n",
       "</div>"
      ],
      "text/plain": [
       "   year  STEPS_NCX_Li_demand  STEPS_NCX_Co_demand  STEPS_NCX_Ni_demand  \\\n",
       "0  2010             0.143719             0.168458             0.341628   \n",
       "1  2011             0.285940             0.323876             0.690666   \n",
       "2  2012             0.526513             0.588093             1.302426   \n",
       "3  2013             0.913241             1.015481             2.364588   \n",
       "4  2014             1.545928             1.660004             3.920547   \n",
       "\n",
       "   STEPS_LFP_Li_demand  STEPS_LFP_Co_demand  STEPS_LFP_Ni_demand  \\\n",
       "0             0.143719             0.168458             0.341628   \n",
       "1             0.285940             0.323876             0.690666   \n",
       "2             0.526513             0.588093             1.302426   \n",
       "3             0.910166             0.990114             2.273879   \n",
       "4             1.545928             1.660004             3.920547   \n",
       "\n",
       "   STEPS_NCX_EOL_Li  STEPS_NCX_EOL_Co  STEPS_NCX_EOL_Ni  STEPS_LFP_EOL_Li  \\\n",
       "0      0.000000e+00      0.000000e+00          0.000000      0.000000e+00   \n",
       "1      4.677089e-07      5.482162e-07          0.000001      4.677089e-07   \n",
       "2      2.698768e-05      3.159638e-05          0.000064      2.698768e-05   \n",
       "3      3.270288e-04      3.811804e-04          0.000780      3.270288e-04   \n",
       "4      2.085780e-03      2.417892e-03          0.004989      2.085770e-03   \n",
       "\n",
       "   STEPS_LFP_EOL_Co  STEPS_LFP_EOL_Ni  \n",
       "0      0.000000e+00          0.000000  \n",
       "1      5.482162e-07          0.000001  \n",
       "2      3.159638e-05          0.000064  \n",
       "3      3.811804e-04          0.000780  \n",
       "4      2.417809e-03          0.004988  "
      ]
     },
     "execution_count": 321,
     "metadata": {},
     "output_type": "execute_result"
    }
   ],
   "source": [
    "steps_ev_demand = pd.read_excel('data/结果：全球EV对锂钴镍的需求预测.xlsx', skiprows=1, sheet_name=0)\n",
    "steps_ev_demand = steps_ev_demand[['Year', 'Li demand', 'Co demand', 'Ni demand', 'Li demand.1',\n",
    "                       'Co demand.1', 'Ni demand.1', 'EOL Li', 'EOL Co', 'EOL Ni', 'EOL Li.1',\n",
    "                       'EOL Co.1', 'EOL Ni.1']]\n",
    "steps_ev_demand.columns = ['year', 'STEPS_NCX_Li_demand', 'STEPS_NCX_Co_demand',\n",
    "                    'STEPS_NCX_Ni_demand', 'STEPS_LFP_Li_demand',\n",
    "                    'STEPS_LFP_Co_demand', 'STEPS_LFP_Ni_demand', 'STEPS_NCX_EOL_Li',\n",
    "                    'STEPS_NCX_EOL_Co', 'STEPS_NCX_EOL_Ni', 'STEPS_LFP_EOL_Li',\n",
    "                    'STEPS_LFP_EOL_Co', 'STEPS_LFP_EOL_Ni']\n",
    "steps_ev_demand.head()\n"
   ]
  },
  {
   "cell_type": "code",
   "execution_count": 322,
   "id": "72c2fb11",
   "metadata": {
    "ExecuteTime": {
     "end_time": "2022-05-27T17:32:25.380653Z",
     "start_time": "2022-05-27T17:32:25.325456Z"
    }
   },
   "outputs": [
    {
     "data": {
      "text/html": [
       "<div>\n",
       "<style scoped>\n",
       "    .dataframe tbody tr th:only-of-type {\n",
       "        vertical-align: middle;\n",
       "    }\n",
       "\n",
       "    .dataframe tbody tr th {\n",
       "        vertical-align: top;\n",
       "    }\n",
       "\n",
       "    .dataframe thead th {\n",
       "        text-align: right;\n",
       "    }\n",
       "</style>\n",
       "<table border=\"1\" class=\"dataframe\">\n",
       "  <thead>\n",
       "    <tr style=\"text-align: right;\">\n",
       "      <th></th>\n",
       "      <th>year</th>\n",
       "      <th>SDS_NCX_Li_demand</th>\n",
       "      <th>SDS_NCX_Co_demand</th>\n",
       "      <th>SDS_NCX_Ni_demand</th>\n",
       "      <th>SDS_LFP_Li_demand</th>\n",
       "      <th>SDS_LFP_Co_demand</th>\n",
       "      <th>SDS_LFP_Ni_demand</th>\n",
       "      <th>SDS_NCX_EOL_Li</th>\n",
       "      <th>SDS_NCX_EOL_Co</th>\n",
       "      <th>SDS_NCX_EOL_Ni</th>\n",
       "      <th>SDS_LFP_EOL_Li</th>\n",
       "      <th>SDS_LFP_EOL_Co</th>\n",
       "      <th>SDS_LFP_EOL_Ni</th>\n",
       "    </tr>\n",
       "  </thead>\n",
       "  <tbody>\n",
       "    <tr>\n",
       "      <th>0</th>\n",
       "      <td>2010</td>\n",
       "      <td>0.143719</td>\n",
       "      <td>0.168458</td>\n",
       "      <td>0.341628</td>\n",
       "      <td>0.143719</td>\n",
       "      <td>0.168458</td>\n",
       "      <td>0.341628</td>\n",
       "      <td>0.000000e+00</td>\n",
       "      <td>0.000000e+00</td>\n",
       "      <td>0.000000</td>\n",
       "      <td>0.000000e+00</td>\n",
       "      <td>0.000000e+00</td>\n",
       "      <td>0.000000</td>\n",
       "    </tr>\n",
       "    <tr>\n",
       "      <th>1</th>\n",
       "      <td>2011</td>\n",
       "      <td>0.285940</td>\n",
       "      <td>0.323876</td>\n",
       "      <td>0.690666</td>\n",
       "      <td>0.285940</td>\n",
       "      <td>0.323876</td>\n",
       "      <td>0.690666</td>\n",
       "      <td>4.677089e-07</td>\n",
       "      <td>5.482162e-07</td>\n",
       "      <td>0.000001</td>\n",
       "      <td>4.677089e-07</td>\n",
       "      <td>5.482162e-07</td>\n",
       "      <td>0.000001</td>\n",
       "    </tr>\n",
       "    <tr>\n",
       "      <th>2</th>\n",
       "      <td>2012</td>\n",
       "      <td>0.526513</td>\n",
       "      <td>0.588093</td>\n",
       "      <td>1.302426</td>\n",
       "      <td>0.526513</td>\n",
       "      <td>0.588093</td>\n",
       "      <td>1.302426</td>\n",
       "      <td>2.698768e-05</td>\n",
       "      <td>3.159638e-05</td>\n",
       "      <td>0.000064</td>\n",
       "      <td>2.698768e-05</td>\n",
       "      <td>3.159638e-05</td>\n",
       "      <td>0.000064</td>\n",
       "    </tr>\n",
       "    <tr>\n",
       "      <th>3</th>\n",
       "      <td>2013</td>\n",
       "      <td>0.913241</td>\n",
       "      <td>1.015481</td>\n",
       "      <td>2.364588</td>\n",
       "      <td>0.910166</td>\n",
       "      <td>0.990114</td>\n",
       "      <td>2.273879</td>\n",
       "      <td>3.270288e-04</td>\n",
       "      <td>3.811804e-04</td>\n",
       "      <td>0.000780</td>\n",
       "      <td>3.270288e-04</td>\n",
       "      <td>3.811804e-04</td>\n",
       "      <td>0.000780</td>\n",
       "    </tr>\n",
       "    <tr>\n",
       "      <th>4</th>\n",
       "      <td>2014</td>\n",
       "      <td>1.545928</td>\n",
       "      <td>1.660004</td>\n",
       "      <td>3.920547</td>\n",
       "      <td>1.545928</td>\n",
       "      <td>1.660004</td>\n",
       "      <td>3.920547</td>\n",
       "      <td>2.085780e-03</td>\n",
       "      <td>2.417892e-03</td>\n",
       "      <td>0.004989</td>\n",
       "      <td>2.085770e-03</td>\n",
       "      <td>2.417809e-03</td>\n",
       "      <td>0.004988</td>\n",
       "    </tr>\n",
       "  </tbody>\n",
       "</table>\n",
       "</div>"
      ],
      "text/plain": [
       "   year  SDS_NCX_Li_demand  SDS_NCX_Co_demand  SDS_NCX_Ni_demand  \\\n",
       "0  2010           0.143719           0.168458           0.341628   \n",
       "1  2011           0.285940           0.323876           0.690666   \n",
       "2  2012           0.526513           0.588093           1.302426   \n",
       "3  2013           0.913241           1.015481           2.364588   \n",
       "4  2014           1.545928           1.660004           3.920547   \n",
       "\n",
       "   SDS_LFP_Li_demand  SDS_LFP_Co_demand  SDS_LFP_Ni_demand  SDS_NCX_EOL_Li  \\\n",
       "0           0.143719           0.168458           0.341628    0.000000e+00   \n",
       "1           0.285940           0.323876           0.690666    4.677089e-07   \n",
       "2           0.526513           0.588093           1.302426    2.698768e-05   \n",
       "3           0.910166           0.990114           2.273879    3.270288e-04   \n",
       "4           1.545928           1.660004           3.920547    2.085780e-03   \n",
       "\n",
       "   SDS_NCX_EOL_Co  SDS_NCX_EOL_Ni  SDS_LFP_EOL_Li  SDS_LFP_EOL_Co  \\\n",
       "0    0.000000e+00        0.000000    0.000000e+00    0.000000e+00   \n",
       "1    5.482162e-07        0.000001    4.677089e-07    5.482162e-07   \n",
       "2    3.159638e-05        0.000064    2.698768e-05    3.159638e-05   \n",
       "3    3.811804e-04        0.000780    3.270288e-04    3.811804e-04   \n",
       "4    2.417892e-03        0.004989    2.085770e-03    2.417809e-03   \n",
       "\n",
       "   SDS_LFP_EOL_Ni  \n",
       "0        0.000000  \n",
       "1        0.000001  \n",
       "2        0.000064  \n",
       "3        0.000780  \n",
       "4        0.004988  "
      ]
     },
     "execution_count": 322,
     "metadata": {},
     "output_type": "execute_result"
    }
   ],
   "source": [
    "sds_ev_demand = pd.read_excel('data/结果：全球EV对锂钴镍的需求预测.xlsx', skiprows=1, sheet_name=1)\n",
    "sds_ev_demand = sds_ev_demand[['Year', 'Li demand', 'Co demand', 'Ni demand', 'Li demand.1',\n",
    "                       'Co demand.1', 'Ni demand.1', 'EOL Li', 'EOL Co', 'EOL Ni', 'EOL Li.1',\n",
    "                       'EOL Co.1', 'EOL Ni.1']]\n",
    "sds_ev_demand.columns = ['year', 'SDS_NCX_Li_demand', 'SDS_NCX_Co_demand',\n",
    "                     'SDS_NCX_Ni_demand', 'SDS_LFP_Li_demand', 'SDS_LFP_Co_demand',\n",
    "                     'SDS_LFP_Ni_demand', 'SDS_NCX_EOL_Li', 'SDS_NCX_EOL_Co',\n",
    "                     'SDS_NCX_EOL_Ni', 'SDS_LFP_EOL_Li', 'SDS_LFP_EOL_Co',\n",
    "                     'SDS_LFP_EOL_Ni']\n",
    "sds_ev_demand.head()\n"
   ]
  },
  {
   "cell_type": "code",
   "execution_count": 323,
   "id": "e0b3dbd5",
   "metadata": {
    "ExecuteTime": {
     "end_time": "2022-05-27T17:32:25.392671Z",
     "start_time": "2022-05-27T17:32:25.386210Z"
    }
   },
   "outputs": [],
   "source": [
    "ev_demand = pd.merge(steps_ev_demand, sds_ev_demand, on='year')\n"
   ]
  },
  {
   "cell_type": "markdown",
   "id": "a698bda0",
   "metadata": {},
   "source": [
    "### IEA forecast"
   ]
  },
  {
   "cell_type": "code",
   "execution_count": 324,
   "id": "c5bc7c1e",
   "metadata": {
    "ExecuteTime": {
     "end_time": "2022-05-27T17:32:25.410192Z",
     "start_time": "2022-05-27T17:32:25.394966Z"
    }
   },
   "outputs": [
    {
     "data": {
      "text/html": [
       "<div>\n",
       "<style scoped>\n",
       "    .dataframe tbody tr th:only-of-type {\n",
       "        vertical-align: middle;\n",
       "    }\n",
       "\n",
       "    .dataframe tbody tr th {\n",
       "        vertical-align: top;\n",
       "    }\n",
       "\n",
       "    .dataframe thead th {\n",
       "        text-align: right;\n",
       "    }\n",
       "</style>\n",
       "<table border=\"1\" class=\"dataframe\">\n",
       "  <thead>\n",
       "    <tr style=\"text-align: right;\">\n",
       "      <th></th>\n",
       "      <th>Low-carbon power generation</th>\n",
       "      <th>EVs and storage</th>\n",
       "      <th>Hydrogen</th>\n",
       "      <th>Other sectors</th>\n",
       "      <th>Share of clean energy technologies</th>\n",
       "      <th>year</th>\n",
       "    </tr>\n",
       "  </thead>\n",
       "  <tbody>\n",
       "    <tr>\n",
       "      <th>0</th>\n",
       "      <td>115.39</td>\n",
       "      <td>80.87</td>\n",
       "      <td>0.00</td>\n",
       "      <td>2259.69</td>\n",
       "      <td>8.39</td>\n",
       "      <td>2020</td>\n",
       "    </tr>\n",
       "    <tr>\n",
       "      <th>3</th>\n",
       "      <td>633.57</td>\n",
       "      <td>1592.43</td>\n",
       "      <td>7.36</td>\n",
       "      <td>2981.56</td>\n",
       "      <td>48.83</td>\n",
       "      <td>2030</td>\n",
       "    </tr>\n",
       "    <tr>\n",
       "      <th>4</th>\n",
       "      <td>444.90</td>\n",
       "      <td>3352.21</td>\n",
       "      <td>15.38</td>\n",
       "      <td>2913.53</td>\n",
       "      <td>60.85</td>\n",
       "      <td>2040</td>\n",
       "    </tr>\n",
       "  </tbody>\n",
       "</table>\n",
       "</div>"
      ],
      "text/plain": [
       "   Low-carbon power generation  EVs and storage  Hydrogen  Other sectors  \\\n",
       "0                       115.39            80.87      0.00        2259.69   \n",
       "3                       633.57          1592.43      7.36        2981.56   \n",
       "4                       444.90          3352.21     15.38        2913.53   \n",
       "\n",
       "   Share of clean energy technologies  year  \n",
       "0                                8.39  2020  \n",
       "3                               48.83  2030  \n",
       "4                               60.85  2040  "
      ]
     },
     "execution_count": 324,
     "metadata": {},
     "output_type": "execute_result"
    }
   ],
   "source": [
    "demand_f_df = pd.read_csv('total-nickel-demand-by-sector-and-scenario-2020-2040.csv', skiprows=3)\n",
    "del demand_f_df['Unnamed: 0']\n",
    "demand_f_df = demand_f_df.iloc[[0, 3, 4]]\n",
    "demand_f_df['year'] = [2020, 2030, 2040]\n",
    "demand_f_df['Other sectors'] = demand_f_df['Low-carbon power generation'] + demand_f_df['Hydrogen'] + demand_f_df['Other sectors'] \n",
    "demand_f_df\n"
   ]
  },
  {
   "cell_type": "code",
   "execution_count": 325,
   "id": "5f6ade2e",
   "metadata": {
    "ExecuteTime": {
     "end_time": "2022-05-27T17:32:25.731273Z",
     "start_time": "2022-05-27T17:32:25.412224Z"
    }
   },
   "outputs": [
    {
     "data": {
      "text/plain": [
       "[<matplotlib.lines.Line2D at 0x7f95f2635ca0>]"
      ]
     },
     "execution_count": 325,
     "metadata": {},
     "output_type": "execute_result"
    },
    {
     "data": {
      "text/plain": [
       "[<matplotlib.lines.Line2D at 0x7f95f2625100>]"
      ]
     },
     "execution_count": 325,
     "metadata": {},
     "output_type": "execute_result"
    },
    {
     "data": {
      "text/plain": [
       "[<matplotlib.lines.Line2D at 0x7f95f2625580>]"
      ]
     },
     "execution_count": 325,
     "metadata": {},
     "output_type": "execute_result"
    },
    {
     "data": {
      "image/png": "[encoded data removed]",
      "text/plain": [
       "<Figure size 432x288 with 1 Axes>"
      ]
     },
     "metadata": {
      "needs_background": "light"
     },
     "output_type": "display_data"
    },
    {
     "data": {
      "text/plain": [
       "[<matplotlib.lines.Line2D at 0x7f95f225af10>]"
      ]
     },
     "execution_count": 325,
     "metadata": {},
     "output_type": "execute_result"
    },
    {
     "data": {
      "text/plain": [
       "[<matplotlib.lines.Line2D at 0x7f95f2297100>]"
      ]
     },
     "execution_count": 325,
     "metadata": {},
     "output_type": "execute_result"
    },
    {
     "data": {
      "text/plain": [
       "[<matplotlib.lines.Line2D at 0x7f95f2297370>]"
      ]
     },
     "execution_count": 325,
     "metadata": {},
     "output_type": "execute_result"
    },
    {
     "data": {
      "image/png": "[encoded data removed]",
      "text/plain": [
       "<Figure size 432x288 with 1 Axes>"
      ]
     },
     "metadata": {
      "needs_background": "light"
     },
     "output_type": "display_data"
    }
   ],
   "source": [
    "# demand projection\n",
    "\n",
    "year = demand_f_df['year'].tolist()\n",
    "ev_demand_base = demand_f_df['EVs and storage'].tolist()\n",
    "other_demand_base = demand_f_df['Other sectors'].tolist()\n",
    "\n",
    "year_projection = np.linspace(2020, 2055, 35 * 1 + 1)\n",
    "year_projection2 = np.linspace(1971, 2020, 50 * 1)\n",
    "\n",
    "def fit(x, a, b, c):\n",
    "    return a*x**2+b*x + c\n",
    "fitting_parameters, covariance = curve_fit(fit, year, ev_demand_base)\n",
    "a, b, c = fitting_parameters\n",
    "ev_demand_projection = fit(year_projection, a, b, c)\n",
    "plt.plot(year, ev_demand_base)\n",
    "plt.plot(year_projection, ev_demand_projection)\n",
    "\n",
    "def fit(x, a):\n",
    "    return a * x**2\n",
    "fitting_parameters, covariance = curve_fit(fit, [year[0]], [ev_demand_base[0]])\n",
    "a = fitting_parameters[0]\n",
    "ev_demand_projection2 = fit(year_projection2, a)\n",
    "plt.plot(year_projection2, ev_demand_projection2)\n",
    "plt.show()\n",
    "\n",
    "\n",
    "def fit(x, a, b, c):\n",
    "    return a*x**2 + b*x + c\n",
    "fitting_parameters, covariance = curve_fit(fit, year, other_demand_base)\n",
    "a, b, c = fitting_parameters\n",
    "other_demand_projection = fit(year_projection, a, b, c)\n",
    "plt.plot(year, other_demand_base)\n",
    "plt.plot(year_projection, other_demand_projection)\n",
    "\n",
    "def fit(x, a):\n",
    "    return a * x**2\n",
    "fitting_parameters, covariance = curve_fit(fit, [year[0]], [other_demand_base[0]])\n",
    "a = fitting_parameters\n",
    "other_demand_projection2 = fit(year_projection2, a)\n",
    "plt.plot(year_projection2, other_demand_projection2)\n",
    "plt.show()\n"
   ]
  },
  {
   "cell_type": "code",
   "execution_count": 326,
   "id": "9c9f136f",
   "metadata": {
    "ExecuteTime": {
     "end_time": "2022-05-27T17:32:25.755539Z",
     "start_time": "2022-05-27T17:32:25.733643Z"
    }
   },
   "outputs": [
    {
     "data": {
      "text/html": [
       "<div>\n",
       "<style scoped>\n",
       "    .dataframe tbody tr th:only-of-type {\n",
       "        vertical-align: middle;\n",
       "    }\n",
       "\n",
       "    .dataframe tbody tr th {\n",
       "        vertical-align: top;\n",
       "    }\n",
       "\n",
       "    .dataframe thead th {\n",
       "        text-align: right;\n",
       "    }\n",
       "</style>\n",
       "<table border=\"1\" class=\"dataframe\">\n",
       "  <thead>\n",
       "    <tr style=\"text-align: right;\">\n",
       "      <th></th>\n",
       "      <th>year</th>\n",
       "      <th>ev_demand</th>\n",
       "      <th>other_demand</th>\n",
       "    </tr>\n",
       "  </thead>\n",
       "  <tbody>\n",
       "    <tr>\n",
       "      <th>0</th>\n",
       "      <td>1971</td>\n",
       "      <td>76.994190</td>\n",
       "      <td>2151.391128</td>\n",
       "    </tr>\n",
       "    <tr>\n",
       "      <th>1</th>\n",
       "      <td>1972</td>\n",
       "      <td>77.072337</td>\n",
       "      <td>2153.574727</td>\n",
       "    </tr>\n",
       "    <tr>\n",
       "      <th>2</th>\n",
       "      <td>1973</td>\n",
       "      <td>77.150523</td>\n",
       "      <td>2155.759434</td>\n",
       "    </tr>\n",
       "    <tr>\n",
       "      <th>3</th>\n",
       "      <td>1974</td>\n",
       "      <td>77.228749</td>\n",
       "      <td>2157.945248</td>\n",
       "    </tr>\n",
       "    <tr>\n",
       "      <th>4</th>\n",
       "      <td>1975</td>\n",
       "      <td>77.307015</td>\n",
       "      <td>2160.132170</td>\n",
       "    </tr>\n",
       "    <tr>\n",
       "      <th>5</th>\n",
       "      <td>1976</td>\n",
       "      <td>77.385320</td>\n",
       "      <td>2162.320199</td>\n",
       "    </tr>\n",
       "    <tr>\n",
       "      <th>6</th>\n",
       "      <td>1977</td>\n",
       "      <td>77.463665</td>\n",
       "      <td>2164.509336</td>\n",
       "    </tr>\n",
       "    <tr>\n",
       "      <th>7</th>\n",
       "      <td>1978</td>\n",
       "      <td>77.542050</td>\n",
       "      <td>2166.699581</td>\n",
       "    </tr>\n",
       "    <tr>\n",
       "      <th>8</th>\n",
       "      <td>1979</td>\n",
       "      <td>77.620474</td>\n",
       "      <td>2168.890933</td>\n",
       "    </tr>\n",
       "    <tr>\n",
       "      <th>9</th>\n",
       "      <td>1980</td>\n",
       "      <td>77.698938</td>\n",
       "      <td>2171.083393</td>\n",
       "    </tr>\n",
       "    <tr>\n",
       "      <th>10</th>\n",
       "      <td>1981</td>\n",
       "      <td>77.777442</td>\n",
       "      <td>2173.276960</td>\n",
       "    </tr>\n",
       "    <tr>\n",
       "      <th>11</th>\n",
       "      <td>1982</td>\n",
       "      <td>77.855985</td>\n",
       "      <td>2175.471635</td>\n",
       "    </tr>\n",
       "    <tr>\n",
       "      <th>12</th>\n",
       "      <td>1983</td>\n",
       "      <td>77.934568</td>\n",
       "      <td>2177.667418</td>\n",
       "    </tr>\n",
       "    <tr>\n",
       "      <th>13</th>\n",
       "      <td>1984</td>\n",
       "      <td>78.013191</td>\n",
       "      <td>2179.864308</td>\n",
       "    </tr>\n",
       "    <tr>\n",
       "      <th>14</th>\n",
       "      <td>1985</td>\n",
       "      <td>78.091853</td>\n",
       "      <td>2182.062305</td>\n",
       "    </tr>\n",
       "    <tr>\n",
       "      <th>15</th>\n",
       "      <td>1986</td>\n",
       "      <td>78.170554</td>\n",
       "      <td>2184.261410</td>\n",
       "    </tr>\n",
       "    <tr>\n",
       "      <th>16</th>\n",
       "      <td>1987</td>\n",
       "      <td>78.249296</td>\n",
       "      <td>2186.461623</td>\n",
       "    </tr>\n",
       "    <tr>\n",
       "      <th>17</th>\n",
       "      <td>1988</td>\n",
       "      <td>78.328077</td>\n",
       "      <td>2188.662944</td>\n",
       "    </tr>\n",
       "    <tr>\n",
       "      <th>18</th>\n",
       "      <td>1989</td>\n",
       "      <td>78.406898</td>\n",
       "      <td>2190.865372</td>\n",
       "    </tr>\n",
       "    <tr>\n",
       "      <th>19</th>\n",
       "      <td>1990</td>\n",
       "      <td>78.485758</td>\n",
       "      <td>2193.068907</td>\n",
       "    </tr>\n",
       "    <tr>\n",
       "      <th>20</th>\n",
       "      <td>1991</td>\n",
       "      <td>78.564658</td>\n",
       "      <td>2195.273550</td>\n",
       "    </tr>\n",
       "    <tr>\n",
       "      <th>21</th>\n",
       "      <td>1992</td>\n",
       "      <td>78.643598</td>\n",
       "      <td>2197.479301</td>\n",
       "    </tr>\n",
       "    <tr>\n",
       "      <th>22</th>\n",
       "      <td>1993</td>\n",
       "      <td>78.722577</td>\n",
       "      <td>2199.686159</td>\n",
       "    </tr>\n",
       "    <tr>\n",
       "      <th>23</th>\n",
       "      <td>1994</td>\n",
       "      <td>78.801596</td>\n",
       "      <td>2201.894125</td>\n",
       "    </tr>\n",
       "    <tr>\n",
       "      <th>24</th>\n",
       "      <td>1995</td>\n",
       "      <td>78.880654</td>\n",
       "      <td>2204.103199</td>\n",
       "    </tr>\n",
       "    <tr>\n",
       "      <th>25</th>\n",
       "      <td>1996</td>\n",
       "      <td>78.959752</td>\n",
       "      <td>2206.313380</td>\n",
       "    </tr>\n",
       "    <tr>\n",
       "      <th>26</th>\n",
       "      <td>1997</td>\n",
       "      <td>79.038890</td>\n",
       "      <td>2208.524668</td>\n",
       "    </tr>\n",
       "    <tr>\n",
       "      <th>27</th>\n",
       "      <td>1998</td>\n",
       "      <td>79.118068</td>\n",
       "      <td>2210.737065</td>\n",
       "    </tr>\n",
       "    <tr>\n",
       "      <th>28</th>\n",
       "      <td>1999</td>\n",
       "      <td>79.197285</td>\n",
       "      <td>2212.950568</td>\n",
       "    </tr>\n",
       "    <tr>\n",
       "      <th>29</th>\n",
       "      <td>2000</td>\n",
       "      <td>79.276542</td>\n",
       "      <td>2215.165180</td>\n",
       "    </tr>\n",
       "    <tr>\n",
       "      <th>30</th>\n",
       "      <td>2001</td>\n",
       "      <td>79.355838</td>\n",
       "      <td>2217.380899</td>\n",
       "    </tr>\n",
       "    <tr>\n",
       "      <th>31</th>\n",
       "      <td>2002</td>\n",
       "      <td>79.435174</td>\n",
       "      <td>2219.597725</td>\n",
       "    </tr>\n",
       "    <tr>\n",
       "      <th>32</th>\n",
       "      <td>2003</td>\n",
       "      <td>79.514550</td>\n",
       "      <td>2221.815660</td>\n",
       "    </tr>\n",
       "    <tr>\n",
       "      <th>33</th>\n",
       "      <td>2004</td>\n",
       "      <td>79.593965</td>\n",
       "      <td>2224.034701</td>\n",
       "    </tr>\n",
       "    <tr>\n",
       "      <th>34</th>\n",
       "      <td>2005</td>\n",
       "      <td>79.673420</td>\n",
       "      <td>2226.254851</td>\n",
       "    </tr>\n",
       "    <tr>\n",
       "      <th>35</th>\n",
       "      <td>2006</td>\n",
       "      <td>79.752914</td>\n",
       "      <td>2228.476107</td>\n",
       "    </tr>\n",
       "    <tr>\n",
       "      <th>36</th>\n",
       "      <td>2007</td>\n",
       "      <td>79.832448</td>\n",
       "      <td>2230.698472</td>\n",
       "    </tr>\n",
       "    <tr>\n",
       "      <th>37</th>\n",
       "      <td>2008</td>\n",
       "      <td>79.912022</td>\n",
       "      <td>2232.921944</td>\n",
       "    </tr>\n",
       "    <tr>\n",
       "      <th>38</th>\n",
       "      <td>2009</td>\n",
       "      <td>79.991636</td>\n",
       "      <td>2235.146524</td>\n",
       "    </tr>\n",
       "    <tr>\n",
       "      <th>39</th>\n",
       "      <td>2010</td>\n",
       "      <td>80.071289</td>\n",
       "      <td>2237.372211</td>\n",
       "    </tr>\n",
       "    <tr>\n",
       "      <th>40</th>\n",
       "      <td>2011</td>\n",
       "      <td>80.150982</td>\n",
       "      <td>2239.599006</td>\n",
       "    </tr>\n",
       "    <tr>\n",
       "      <th>41</th>\n",
       "      <td>2012</td>\n",
       "      <td>80.230714</td>\n",
       "      <td>2241.826908</td>\n",
       "    </tr>\n",
       "    <tr>\n",
       "      <th>42</th>\n",
       "      <td>2013</td>\n",
       "      <td>80.310486</td>\n",
       "      <td>2244.055918</td>\n",
       "    </tr>\n",
       "    <tr>\n",
       "      <th>43</th>\n",
       "      <td>2014</td>\n",
       "      <td>80.390298</td>\n",
       "      <td>2246.286035</td>\n",
       "    </tr>\n",
       "    <tr>\n",
       "      <th>44</th>\n",
       "      <td>2015</td>\n",
       "      <td>80.470149</td>\n",
       "      <td>2248.517261</td>\n",
       "    </tr>\n",
       "    <tr>\n",
       "      <th>45</th>\n",
       "      <td>2016</td>\n",
       "      <td>80.550040</td>\n",
       "      <td>2250.749593</td>\n",
       "    </tr>\n",
       "    <tr>\n",
       "      <th>46</th>\n",
       "      <td>2017</td>\n",
       "      <td>80.629970</td>\n",
       "      <td>2252.983034</td>\n",
       "    </tr>\n",
       "    <tr>\n",
       "      <th>47</th>\n",
       "      <td>2018</td>\n",
       "      <td>80.709941</td>\n",
       "      <td>2255.217582</td>\n",
       "    </tr>\n",
       "    <tr>\n",
       "      <th>48</th>\n",
       "      <td>2019</td>\n",
       "      <td>80.789951</td>\n",
       "      <td>2257.453237</td>\n",
       "    </tr>\n",
       "    <tr>\n",
       "      <th>49</th>\n",
       "      <td>2020</td>\n",
       "      <td>80.870000</td>\n",
       "      <td>2259.690000</td>\n",
       "    </tr>\n",
       "    <tr>\n",
       "      <th>50</th>\n",
       "      <td>2021</td>\n",
       "      <td>220.856100</td>\n",
       "      <td>2367.422500</td>\n",
       "    </tr>\n",
       "    <tr>\n",
       "      <th>51</th>\n",
       "      <td>2022</td>\n",
       "      <td>363.324400</td>\n",
       "      <td>2467.256000</td>\n",
       "    </tr>\n",
       "    <tr>\n",
       "      <th>52</th>\n",
       "      <td>2023</td>\n",
       "      <td>508.274900</td>\n",
       "      <td>2559.190500</td>\n",
       "    </tr>\n",
       "    <tr>\n",
       "      <th>53</th>\n",
       "      <td>2024</td>\n",
       "      <td>655.707600</td>\n",
       "      <td>2643.226000</td>\n",
       "    </tr>\n",
       "    <tr>\n",
       "      <th>54</th>\n",
       "      <td>2025</td>\n",
       "      <td>805.622500</td>\n",
       "      <td>2719.362500</td>\n",
       "    </tr>\n",
       "    <tr>\n",
       "      <th>55</th>\n",
       "      <td>2026</td>\n",
       "      <td>958.019600</td>\n",
       "      <td>2787.600000</td>\n",
       "    </tr>\n",
       "    <tr>\n",
       "      <th>56</th>\n",
       "      <td>2027</td>\n",
       "      <td>1112.898900</td>\n",
       "      <td>2847.938500</td>\n",
       "    </tr>\n",
       "    <tr>\n",
       "      <th>57</th>\n",
       "      <td>2028</td>\n",
       "      <td>1270.260400</td>\n",
       "      <td>2900.378000</td>\n",
       "    </tr>\n",
       "    <tr>\n",
       "      <th>58</th>\n",
       "      <td>2029</td>\n",
       "      <td>1430.104100</td>\n",
       "      <td>2944.918500</td>\n",
       "    </tr>\n",
       "    <tr>\n",
       "      <th>59</th>\n",
       "      <td>2030</td>\n",
       "      <td>1592.430000</td>\n",
       "      <td>2981.560000</td>\n",
       "    </tr>\n",
       "    <tr>\n",
       "      <th>60</th>\n",
       "      <td>2031</td>\n",
       "      <td>1757.238100</td>\n",
       "      <td>3010.302500</td>\n",
       "    </tr>\n",
       "    <tr>\n",
       "      <th>61</th>\n",
       "      <td>2032</td>\n",
       "      <td>1924.528400</td>\n",
       "      <td>3031.146000</td>\n",
       "    </tr>\n",
       "    <tr>\n",
       "      <th>62</th>\n",
       "      <td>2033</td>\n",
       "      <td>2094.300900</td>\n",
       "      <td>3044.090500</td>\n",
       "    </tr>\n",
       "    <tr>\n",
       "      <th>63</th>\n",
       "      <td>2034</td>\n",
       "      <td>2266.555600</td>\n",
       "      <td>3049.136000</td>\n",
       "    </tr>\n",
       "    <tr>\n",
       "      <th>64</th>\n",
       "      <td>2035</td>\n",
       "      <td>2441.292500</td>\n",
       "      <td>3046.282500</td>\n",
       "    </tr>\n",
       "    <tr>\n",
       "      <th>65</th>\n",
       "      <td>2036</td>\n",
       "      <td>2618.511600</td>\n",
       "      <td>3035.530000</td>\n",
       "    </tr>\n",
       "    <tr>\n",
       "      <th>66</th>\n",
       "      <td>2037</td>\n",
       "      <td>2798.212900</td>\n",
       "      <td>3016.878500</td>\n",
       "    </tr>\n",
       "    <tr>\n",
       "      <th>67</th>\n",
       "      <td>2038</td>\n",
       "      <td>2980.396400</td>\n",
       "      <td>2990.328000</td>\n",
       "    </tr>\n",
       "    <tr>\n",
       "      <th>68</th>\n",
       "      <td>2039</td>\n",
       "      <td>3165.062100</td>\n",
       "      <td>2955.878500</td>\n",
       "    </tr>\n",
       "    <tr>\n",
       "      <th>69</th>\n",
       "      <td>2040</td>\n",
       "      <td>3352.210000</td>\n",
       "      <td>2913.530000</td>\n",
       "    </tr>\n",
       "    <tr>\n",
       "      <th>70</th>\n",
       "      <td>2041</td>\n",
       "      <td>3541.840100</td>\n",
       "      <td>2863.282500</td>\n",
       "    </tr>\n",
       "    <tr>\n",
       "      <th>71</th>\n",
       "      <td>2042</td>\n",
       "      <td>3733.952400</td>\n",
       "      <td>2805.136000</td>\n",
       "    </tr>\n",
       "    <tr>\n",
       "      <th>72</th>\n",
       "      <td>2043</td>\n",
       "      <td>3928.546900</td>\n",
       "      <td>2739.090500</td>\n",
       "    </tr>\n",
       "    <tr>\n",
       "      <th>73</th>\n",
       "      <td>2044</td>\n",
       "      <td>4125.623600</td>\n",
       "      <td>2665.146000</td>\n",
       "    </tr>\n",
       "    <tr>\n",
       "      <th>74</th>\n",
       "      <td>2045</td>\n",
       "      <td>4325.182500</td>\n",
       "      <td>2583.302500</td>\n",
       "    </tr>\n",
       "    <tr>\n",
       "      <th>75</th>\n",
       "      <td>2046</td>\n",
       "      <td>4527.223600</td>\n",
       "      <td>2493.560000</td>\n",
       "    </tr>\n",
       "    <tr>\n",
       "      <th>76</th>\n",
       "      <td>2047</td>\n",
       "      <td>4731.746900</td>\n",
       "      <td>2395.918500</td>\n",
       "    </tr>\n",
       "    <tr>\n",
       "      <th>77</th>\n",
       "      <td>2048</td>\n",
       "      <td>4938.752400</td>\n",
       "      <td>2290.378000</td>\n",
       "    </tr>\n",
       "    <tr>\n",
       "      <th>78</th>\n",
       "      <td>2049</td>\n",
       "      <td>5148.240100</td>\n",
       "      <td>2176.938500</td>\n",
       "    </tr>\n",
       "    <tr>\n",
       "      <th>79</th>\n",
       "      <td>2050</td>\n",
       "      <td>5360.210000</td>\n",
       "      <td>2055.600000</td>\n",
       "    </tr>\n",
       "    <tr>\n",
       "      <th>80</th>\n",
       "      <td>2051</td>\n",
       "      <td>5574.662100</td>\n",
       "      <td>1926.362500</td>\n",
       "    </tr>\n",
       "    <tr>\n",
       "      <th>81</th>\n",
       "      <td>2052</td>\n",
       "      <td>5791.596400</td>\n",
       "      <td>1789.226000</td>\n",
       "    </tr>\n",
       "    <tr>\n",
       "      <th>82</th>\n",
       "      <td>2053</td>\n",
       "      <td>6011.012900</td>\n",
       "      <td>1644.190500</td>\n",
       "    </tr>\n",
       "    <tr>\n",
       "      <th>83</th>\n",
       "      <td>2054</td>\n",
       "      <td>6232.911600</td>\n",
       "      <td>1491.256000</td>\n",
       "    </tr>\n",
       "    <tr>\n",
       "      <th>84</th>\n",
       "      <td>2055</td>\n",
       "      <td>6457.292500</td>\n",
       "      <td>1330.422500</td>\n",
       "    </tr>\n",
       "  </tbody>\n",
       "</table>\n",
       "</div>"
      ],
      "text/plain": [
       "    year    ev_demand  other_demand\n",
       "0   1971    76.994190   2151.391128\n",
       "1   1972    77.072337   2153.574727\n",
       "2   1973    77.150523   2155.759434\n",
       "3   1974    77.228749   2157.945248\n",
       "4   1975    77.307015   2160.132170\n",
       "5   1976    77.385320   2162.320199\n",
       "6   1977    77.463665   2164.509336\n",
       "7   1978    77.542050   2166.699581\n",
       "8   1979    77.620474   2168.890933\n",
       "9   1980    77.698938   2171.083393\n",
       "10  1981    77.777442   2173.276960\n",
       "11  1982    77.855985   2175.471635\n",
       "12  1983    77.934568   2177.667418\n",
       "13  1984    78.013191   2179.864308\n",
       "14  1985    78.091853   2182.062305\n",
       "15  1986    78.170554   2184.261410\n",
       "16  1987    78.249296   2186.461623\n",
       "17  1988    78.328077   2188.662944\n",
       "18  1989    78.406898   2190.865372\n",
       "19  1990    78.485758   2193.068907\n",
       "20  1991    78.564658   2195.273550\n",
       "21  1992    78.643598   2197.479301\n",
       "22  1993    78.722577   2199.686159\n",
       "23  1994    78.801596   2201.894125\n",
       "24  1995    78.880654   2204.103199\n",
       "25  1996    78.959752   2206.313380\n",
       "26  1997    79.038890   2208.524668\n",
       "27  1998    79.118068   2210.737065\n",
       "28  1999    79.197285   2212.950568\n",
       "29  2000    79.276542   2215.165180\n",
       "30  2001    79.355838   2217.380899\n",
       "31  2002    79.435174   2219.597725\n",
       "32  2003    79.514550   2221.815660\n",
       "33  2004    79.593965   2224.034701\n",
       "34  2005    79.673420   2226.254851\n",
       "35  2006    79.752914   2228.476107\n",
       "36  2007    79.832448   2230.698472\n",
       "37  2008    79.912022   2232.921944\n",
       "38  2009    79.991636   2235.146524\n",
       "39  2010    80.071289   2237.372211\n",
       "40  2011    80.150982   2239.599006\n",
       "41  2012    80.230714   2241.826908\n",
       "42  2013    80.310486   2244.055918\n",
       "43  2014    80.390298   2246.286035\n",
       "44  2015    80.470149   2248.517261\n",
       "45  2016    80.550040   2250.749593\n",
       "46  2017    80.629970   2252.983034\n",
       "47  2018    80.709941   2255.217582\n",
       "48  2019    80.789951   2257.453237\n",
       "49  2020    80.870000   2259.690000\n",
       "50  2021   220.856100   2367.422500\n",
       "51  2022   363.324400   2467.256000\n",
       "52  2023   508.274900   2559.190500\n",
       "53  2024   655.707600   2643.226000\n",
       "54  2025   805.622500   2719.362500\n",
       "55  2026   958.019600   2787.600000\n",
       "56  2027  1112.898900   2847.938500\n",
       "57  2028  1270.260400   2900.378000\n",
       "58  2029  1430.104100   2944.918500\n",
       "59  2030  1592.430000   2981.560000\n",
       "60  2031  1757.238100   3010.302500\n",
       "61  2032  1924.528400   3031.146000\n",
       "62  2033  2094.300900   3044.090500\n",
       "63  2034  2266.555600   3049.136000\n",
       "64  2035  2441.292500   3046.282500\n",
       "65  2036  2618.511600   3035.530000\n",
       "66  2037  2798.212900   3016.878500\n",
       "67  2038  2980.396400   2990.328000\n",
       "68  2039  3165.062100   2955.878500\n",
       "69  2040  3352.210000   2913.530000\n",
       "70  2041  3541.840100   2863.282500\n",
       "71  2042  3733.952400   2805.136000\n",
       "72  2043  3928.546900   2739.090500\n",
       "73  2044  4125.623600   2665.146000\n",
       "74  2045  4325.182500   2583.302500\n",
       "75  2046  4527.223600   2493.560000\n",
       "76  2047  4731.746900   2395.918500\n",
       "77  2048  4938.752400   2290.378000\n",
       "78  2049  5148.240100   2176.938500\n",
       "79  2050  5360.210000   2055.600000\n",
       "80  2051  5574.662100   1926.362500\n",
       "81  2052  5791.596400   1789.226000\n",
       "82  2053  6011.012900   1644.190500\n",
       "83  2054  6232.911600   1491.256000\n",
       "84  2055  6457.292500   1330.422500"
      ]
     },
     "execution_count": 326,
     "metadata": {},
     "output_type": "execute_result"
    }
   ],
   "source": [
    "demand = pd.DataFrame([np.append(year_projection[1:], year_projection2),\n",
    "                       np.append(ev_demand_projection[1:], ev_demand_projection2),\n",
    "                       np.append(other_demand_projection[1:], other_demand_projection2)],\n",
    "                      index=['year', 'ev_demand', 'other_demand']).T\n",
    "demand = demand.sort_values(by='year').reset_index(drop=True)\n",
    "demand['year'] = demand['year'].astype(int)\n",
    "demand\n"
   ]
  },
  {
   "cell_type": "code",
   "execution_count": 328,
   "id": "c35d7bde",
   "metadata": {
    "ExecuteTime": {
     "end_time": "2022-05-27T17:33:52.942201Z",
     "start_time": "2022-05-27T17:33:52.857921Z"
    }
   },
   "outputs": [],
   "source": [
    "# other_sector_eol\n",
    "\n",
    "lifetimes = 50\n",
    "total_years = 85\n",
    "stock_matrix = np.zeros((total_years, total_years))\n",
    "outflow_matrix =  np.zeros((total_years, total_years))\n",
    "\n",
    "for k in range(total_years):\n",
    "    stock_matrix[k, k:] = truncnorm.cdf(x=range(total_years-k), a=-lifetimes, b=np.inf, loc=lifetimes, scale=lifetimes*0.3) * \\\n",
    "                          np.array(demand.iloc[k]['other_demand'])\n",
    "    if k!=total_years:\n",
    "        outflow_matrix[k, k+1:] = np.array(demand.iloc[k]['other_demand']) * \\\n",
    "                                 (truncnorm.cdf(x=range(1, total_years-k), a=-lifetimes, b=np.inf, loc=lifetimes, scale=lifetimes*0.3) - \\\n",
    "                                  truncnorm.cdf(x=range(total_years-k-1), a=-lifetimes, b=np.inf, loc=lifetimes, scale=lifetimes*0.3))\n",
    "\n",
    "demand['other_sector_eol'] = outflow_matrix.sum(axis=0)\n"
   ]
  },
  {
   "cell_type": "code",
   "execution_count": 329,
   "id": "e45cb12d",
   "metadata": {
    "ExecuteTime": {
     "end_time": "2022-05-27T17:33:54.154825Z",
     "start_time": "2022-05-27T17:33:54.096659Z"
    }
   },
   "outputs": [
    {
     "data": {
      "text/html": [
       "<div>\n",
       "<style scoped>\n",
       "    .dataframe tbody tr th:only-of-type {\n",
       "        vertical-align: middle;\n",
       "    }\n",
       "\n",
       "    .dataframe tbody tr th {\n",
       "        vertical-align: top;\n",
       "    }\n",
       "\n",
       "    .dataframe thead th {\n",
       "        text-align: right;\n",
       "    }\n",
       "</style>\n",
       "<table border=\"1\" class=\"dataframe\">\n",
       "  <thead>\n",
       "    <tr style=\"text-align: right;\">\n",
       "      <th></th>\n",
       "      <th>year</th>\n",
       "      <th>STEPS_NCX_Li_demand</th>\n",
       "      <th>STEPS_NCX_Co_demand</th>\n",
       "      <th>STEPS_NCX_Ni_demand</th>\n",
       "      <th>STEPS_LFP_Li_demand</th>\n",
       "      <th>STEPS_LFP_Co_demand</th>\n",
       "      <th>STEPS_LFP_Ni_demand</th>\n",
       "      <th>STEPS_NCX_EOL_Li</th>\n",
       "      <th>STEPS_NCX_EOL_Co</th>\n",
       "      <th>STEPS_NCX_EOL_Ni</th>\n",
       "      <th>STEPS_LFP_EOL_Li</th>\n",
       "      <th>STEPS_LFP_EOL_Co</th>\n",
       "      <th>STEPS_LFP_EOL_Ni</th>\n",
       "      <th>SDS_NCX_Li_demand</th>\n",
       "      <th>SDS_NCX_Co_demand</th>\n",
       "      <th>SDS_NCX_Ni_demand</th>\n",
       "      <th>SDS_LFP_Li_demand</th>\n",
       "      <th>SDS_LFP_Co_demand</th>\n",
       "      <th>SDS_LFP_Ni_demand</th>\n",
       "      <th>SDS_NCX_EOL_Li</th>\n",
       "      <th>SDS_NCX_EOL_Co</th>\n",
       "      <th>SDS_NCX_EOL_Ni</th>\n",
       "      <th>SDS_LFP_EOL_Li</th>\n",
       "      <th>SDS_LFP_EOL_Co</th>\n",
       "      <th>SDS_LFP_EOL_Ni</th>\n",
       "      <th>ev_demand</th>\n",
       "      <th>other_demand</th>\n",
       "      <th>other_sector_eol</th>\n",
       "    </tr>\n",
       "  </thead>\n",
       "  <tbody>\n",
       "    <tr>\n",
       "      <th>0</th>\n",
       "      <td>2010</td>\n",
       "      <td>0.143719</td>\n",
       "      <td>0.168458</td>\n",
       "      <td>0.341628</td>\n",
       "      <td>0.143719</td>\n",
       "      <td>0.168458</td>\n",
       "      <td>0.341628</td>\n",
       "      <td>0.000000e+00</td>\n",
       "      <td>0.000000e+00</td>\n",
       "      <td>0.000000</td>\n",
       "      <td>0.000000e+00</td>\n",
       "      <td>0.000000e+00</td>\n",
       "      <td>0.000000</td>\n",
       "      <td>0.143719</td>\n",
       "      <td>0.168458</td>\n",
       "      <td>0.341628</td>\n",
       "      <td>0.143719</td>\n",
       "      <td>0.168458</td>\n",
       "      <td>0.341628</td>\n",
       "      <td>0.000000e+00</td>\n",
       "      <td>0.000000e+00</td>\n",
       "      <td>0.000000</td>\n",
       "      <td>0.000000e+00</td>\n",
       "      <td>0.000000e+00</td>\n",
       "      <td>0.000000</td>\n",
       "      <td>80.071289</td>\n",
       "      <td>2237.372211</td>\n",
       "      <td>501.652301</td>\n",
       "    </tr>\n",
       "    <tr>\n",
       "      <th>1</th>\n",
       "      <td>2011</td>\n",
       "      <td>0.285940</td>\n",
       "      <td>0.323876</td>\n",
       "      <td>0.690666</td>\n",
       "      <td>0.285940</td>\n",
       "      <td>0.323876</td>\n",
       "      <td>0.690666</td>\n",
       "      <td>4.677089e-07</td>\n",
       "      <td>5.482162e-07</td>\n",
       "      <td>0.000001</td>\n",
       "      <td>4.677089e-07</td>\n",
       "      <td>5.482162e-07</td>\n",
       "      <td>0.000001</td>\n",
       "      <td>0.285940</td>\n",
       "      <td>0.323876</td>\n",
       "      <td>0.690666</td>\n",
       "      <td>0.285940</td>\n",
       "      <td>0.323876</td>\n",
       "      <td>0.690666</td>\n",
       "      <td>4.677089e-07</td>\n",
       "      <td>5.482162e-07</td>\n",
       "      <td>0.000001</td>\n",
       "      <td>4.677089e-07</td>\n",
       "      <td>5.482162e-07</td>\n",
       "      <td>0.000001</td>\n",
       "      <td>80.150982</td>\n",
       "      <td>2239.599006</td>\n",
       "      <td>546.940477</td>\n",
       "    </tr>\n",
       "    <tr>\n",
       "      <th>2</th>\n",
       "      <td>2012</td>\n",
       "      <td>0.526513</td>\n",
       "      <td>0.588093</td>\n",
       "      <td>1.302426</td>\n",
       "      <td>0.526513</td>\n",
       "      <td>0.588093</td>\n",
       "      <td>1.302426</td>\n",
       "      <td>2.698768e-05</td>\n",
       "      <td>3.159638e-05</td>\n",
       "      <td>0.000064</td>\n",
       "      <td>2.698768e-05</td>\n",
       "      <td>3.159638e-05</td>\n",
       "      <td>0.000064</td>\n",
       "      <td>0.526513</td>\n",
       "      <td>0.588093</td>\n",
       "      <td>1.302426</td>\n",
       "      <td>0.526513</td>\n",
       "      <td>0.588093</td>\n",
       "      <td>1.302426</td>\n",
       "      <td>2.698768e-05</td>\n",
       "      <td>3.159638e-05</td>\n",
       "      <td>0.000064</td>\n",
       "      <td>2.698768e-05</td>\n",
       "      <td>3.159638e-05</td>\n",
       "      <td>0.000064</td>\n",
       "      <td>80.230714</td>\n",
       "      <td>2241.826908</td>\n",
       "      <td>594.308754</td>\n",
       "    </tr>\n",
       "    <tr>\n",
       "      <th>3</th>\n",
       "      <td>2013</td>\n",
       "      <td>0.913241</td>\n",
       "      <td>1.015481</td>\n",
       "      <td>2.364588</td>\n",
       "      <td>0.910166</td>\n",
       "      <td>0.990114</td>\n",
       "      <td>2.273879</td>\n",
       "      <td>3.270288e-04</td>\n",
       "      <td>3.811804e-04</td>\n",
       "      <td>0.000780</td>\n",
       "      <td>3.270288e-04</td>\n",
       "      <td>3.811804e-04</td>\n",
       "      <td>0.000780</td>\n",
       "      <td>0.913241</td>\n",
       "      <td>1.015481</td>\n",
       "      <td>2.364588</td>\n",
       "      <td>0.910166</td>\n",
       "      <td>0.990114</td>\n",
       "      <td>2.273879</td>\n",
       "      <td>3.270288e-04</td>\n",
       "      <td>3.811804e-04</td>\n",
       "      <td>0.000780</td>\n",
       "      <td>3.270288e-04</td>\n",
       "      <td>3.811804e-04</td>\n",
       "      <td>0.000780</td>\n",
       "      <td>80.310486</td>\n",
       "      <td>2244.055918</td>\n",
       "      <td>643.634682</td>\n",
       "    </tr>\n",
       "    <tr>\n",
       "      <th>4</th>\n",
       "      <td>2014</td>\n",
       "      <td>1.545928</td>\n",
       "      <td>1.660004</td>\n",
       "      <td>3.920547</td>\n",
       "      <td>1.545928</td>\n",
       "      <td>1.660004</td>\n",
       "      <td>3.920547</td>\n",
       "      <td>2.085780e-03</td>\n",
       "      <td>2.417892e-03</td>\n",
       "      <td>0.004989</td>\n",
       "      <td>2.085770e-03</td>\n",
       "      <td>2.417809e-03</td>\n",
       "      <td>0.004988</td>\n",
       "      <td>1.545928</td>\n",
       "      <td>1.660004</td>\n",
       "      <td>3.920547</td>\n",
       "      <td>1.545928</td>\n",
       "      <td>1.660004</td>\n",
       "      <td>3.920547</td>\n",
       "      <td>2.085780e-03</td>\n",
       "      <td>2.417892e-03</td>\n",
       "      <td>0.004989</td>\n",
       "      <td>2.085770e-03</td>\n",
       "      <td>2.417809e-03</td>\n",
       "      <td>0.004988</td>\n",
       "      <td>80.390298</td>\n",
       "      <td>2246.286035</td>\n",
       "      <td>694.773329</td>\n",
       "    </tr>\n",
       "  </tbody>\n",
       "</table>\n",
       "</div>"
      ],
      "text/plain": [
       "   year  STEPS_NCX_Li_demand  STEPS_NCX_Co_demand  STEPS_NCX_Ni_demand  \\\n",
       "0  2010             0.143719             0.168458             0.341628   \n",
       "1  2011             0.285940             0.323876             0.690666   \n",
       "2  2012             0.526513             0.588093             1.302426   \n",
       "3  2013             0.913241             1.015481             2.364588   \n",
       "4  2014             1.545928             1.660004             3.920547   \n",
       "\n",
       "   STEPS_LFP_Li_demand  STEPS_LFP_Co_demand  STEPS_LFP_Ni_demand  \\\n",
       "0             0.143719             0.168458             0.341628   \n",
       "1             0.285940             0.323876             0.690666   \n",
       "2             0.526513             0.588093             1.302426   \n",
       "3             0.910166             0.990114             2.273879   \n",
       "4             1.545928             1.660004             3.920547   \n",
       "\n",
       "   STEPS_NCX_EOL_Li  STEPS_NCX_EOL_Co  STEPS_NCX_EOL_Ni  STEPS_LFP_EOL_Li  \\\n",
       "0      0.000000e+00      0.000000e+00          0.000000      0.000000e+00   \n",
       "1      4.677089e-07      5.482162e-07          0.000001      4.677089e-07   \n",
       "2      2.698768e-05      3.159638e-05          0.000064      2.698768e-05   \n",
       "3      3.270288e-04      3.811804e-04          0.000780      3.270288e-04   \n",
       "4      2.085780e-03      2.417892e-03          0.004989      2.085770e-03   \n",
       "\n",
       "   STEPS_LFP_EOL_Co  STEPS_LFP_EOL_Ni  SDS_NCX_Li_demand  SDS_NCX_Co_demand  \\\n",
       "0      0.000000e+00          0.000000           0.143719           0.168458   \n",
       "1      5.482162e-07          0.000001           0.285940           0.323876   \n",
       "2      3.159638e-05          0.000064           0.526513           0.588093   \n",
       "3      3.811804e-04          0.000780           0.913241           1.015481   \n",
       "4      2.417809e-03          0.004988           1.545928           1.660004   \n",
       "\n",
       "   SDS_NCX_Ni_demand  SDS_LFP_Li_demand  SDS_LFP_Co_demand  SDS_LFP_Ni_demand  \\\n",
       "0           0.341628           0.143719           0.168458           0.341628   \n",
       "1           0.690666           0.285940           0.323876           0.690666   \n",
       "2           1.302426           0.526513           0.588093           1.302426   \n",
       "3           2.364588           0.910166           0.990114           2.273879   \n",
       "4           3.920547           1.545928           1.660004           3.920547   \n",
       "\n",
       "   SDS_NCX_EOL_Li  SDS_NCX_EOL_Co  SDS_NCX_EOL_Ni  SDS_LFP_EOL_Li  \\\n",
       "0    0.000000e+00    0.000000e+00        0.000000    0.000000e+00   \n",
       "1    4.677089e-07    5.482162e-07        0.000001    4.677089e-07   \n",
       "2    2.698768e-05    3.159638e-05        0.000064    2.698768e-05   \n",
       "3    3.270288e-04    3.811804e-04        0.000780    3.270288e-04   \n",
       "4    2.085780e-03    2.417892e-03        0.004989    2.085770e-03   \n",
       "\n",
       "   SDS_LFP_EOL_Co  SDS_LFP_EOL_Ni  ev_demand  other_demand  other_sector_eol  \n",
       "0    0.000000e+00        0.000000  80.071289   2237.372211        501.652301  \n",
       "1    5.482162e-07        0.000001  80.150982   2239.599006        546.940477  \n",
       "2    3.159638e-05        0.000064  80.230714   2241.826908        594.308754  \n",
       "3    3.811804e-04        0.000780  80.310486   2244.055918        643.634682  \n",
       "4    2.417809e-03        0.004988  80.390298   2246.286035        694.773329  "
      ]
     },
     "execution_count": 329,
     "metadata": {},
     "output_type": "execute_result"
    }
   ],
   "source": [
    "demand = pd.merge(ev_demand, demand, on='year')\n",
    "demand.head()\n"
   ]
  },
  {
   "cell_type": "code",
   "execution_count": 330,
   "id": "cd2d526e",
   "metadata": {
    "ExecuteTime": {
     "end_time": "2022-05-27T17:34:01.474530Z",
     "start_time": "2022-05-27T17:34:01.396382Z"
    }
   },
   "outputs": [
    {
     "ename": "ValueError",
     "evalue": "could not broadcast input array from shape (37,) into shape (32,)",
     "output_type": "error",
     "traceback": [
      "\u001b[0;31m---------------------------------------------------------------------------\u001b[0m",
      "\u001b[0;31mValueError\u001b[0m                                Traceback (most recent call last)",
      "Input \u001b[0;32mIn [330]\u001b[0m, in \u001b[0;36m<cell line: 10>\u001b[0;34m()\u001b[0m\n\u001b[1;32m      8\u001b[0m a, b \u001b[38;5;241m=\u001b[39m fitting_parameters\n\u001b[1;32m      9\u001b[0m collection_rate_projection \u001b[38;5;241m=\u001b[39m fit(year_projection, a, b)\n\u001b[0;32m---> 10\u001b[0m demand\u001b[38;5;241m.\u001b[39mloc[\u001b[38;5;241m9\u001b[39m:\u001b[38;5;241m40\u001b[39m, \u001b[38;5;124m'\u001b[39m\u001b[38;5;124mcollection_rate_projection\u001b[39m\u001b[38;5;124m'\u001b[39m] \u001b[38;5;241m=\u001b[39m collection_rate_projection\n\u001b[1;32m     12\u001b[0m plt\u001b[38;5;241m.\u001b[39mplot(year_projection, collection_rate_projection)\n",
      "File \u001b[0;32m~/opt/anaconda3/lib/python3.9/site-packages/pandas/core/indexing.py:716\u001b[0m, in \u001b[0;36m_LocationIndexer.__setitem__\u001b[0;34m(self, key, value)\u001b[0m\n\u001b[1;32m    713\u001b[0m \u001b[38;5;28mself\u001b[39m\u001b[38;5;241m.\u001b[39m_has_valid_setitem_indexer(key)\n\u001b[1;32m    715\u001b[0m iloc \u001b[38;5;241m=\u001b[39m \u001b[38;5;28mself\u001b[39m \u001b[38;5;28;01mif\u001b[39;00m \u001b[38;5;28mself\u001b[39m\u001b[38;5;241m.\u001b[39mname \u001b[38;5;241m==\u001b[39m \u001b[38;5;124m\"\u001b[39m\u001b[38;5;124miloc\u001b[39m\u001b[38;5;124m\"\u001b[39m \u001b[38;5;28;01melse\u001b[39;00m \u001b[38;5;28mself\u001b[39m\u001b[38;5;241m.\u001b[39mobj\u001b[38;5;241m.\u001b[39miloc\n\u001b[0;32m--> 716\u001b[0m \u001b[43miloc\u001b[49m\u001b[38;5;241;43m.\u001b[39;49m\u001b[43m_setitem_with_indexer\u001b[49m\u001b[43m(\u001b[49m\u001b[43mindexer\u001b[49m\u001b[43m,\u001b[49m\u001b[43m \u001b[49m\u001b[43mvalue\u001b[49m\u001b[43m,\u001b[49m\u001b[43m \u001b[49m\u001b[38;5;28;43mself\u001b[39;49m\u001b[38;5;241;43m.\u001b[39;49m\u001b[43mname\u001b[49m\u001b[43m)\u001b[49m\n",
      "File \u001b[0;32m~/opt/anaconda3/lib/python3.9/site-packages/pandas/core/indexing.py:1635\u001b[0m, in \u001b[0;36m_iLocIndexer._setitem_with_indexer\u001b[0;34m(self, indexer, value, name)\u001b[0m\n\u001b[1;32m   1631\u001b[0m empty_value \u001b[38;5;241m=\u001b[39m algos\u001b[38;5;241m.\u001b[39mtake_nd(arr, taker)\n\u001b[1;32m   1632\u001b[0m \u001b[38;5;28;01mif\u001b[39;00m \u001b[38;5;129;01mnot\u001b[39;00m \u001b[38;5;28misinstance\u001b[39m(value, ABCSeries):\n\u001b[1;32m   1633\u001b[0m     \u001b[38;5;66;03m# if not Series (in which case we need to align),\u001b[39;00m\n\u001b[1;32m   1634\u001b[0m     \u001b[38;5;66;03m#  we can short-circuit\u001b[39;00m\n\u001b[0;32m-> 1635\u001b[0m     empty_value[indexer[\u001b[38;5;241m0\u001b[39m]] \u001b[38;5;241m=\u001b[39m arr\n\u001b[1;32m   1636\u001b[0m     \u001b[38;5;28mself\u001b[39m\u001b[38;5;241m.\u001b[39mobj[key] \u001b[38;5;241m=\u001b[39m empty_value\n\u001b[1;32m   1637\u001b[0m     \u001b[38;5;28;01mreturn\u001b[39;00m\n",
      "\u001b[0;31mValueError\u001b[0m: could not broadcast input array from shape (37,) into shape (32,)"
     ]
    }
   ],
   "source": [
    "# collection_rate\n",
    "\n",
    "year_projection = np.linspace(2019, 2055, 37)\n",
    "\n",
    "def fit(x, a, b):\n",
    "    return a*x**2+b*x\n",
    "fitting_parameters, covariance = curve_fit(fit, [2019, 2055], [0.45, 0.99])\n",
    "a, b = fitting_parameters\n",
    "collection_rate_projection = fit(year_projection, a, b)\n",
    "demand.loc[9:40, 'collection_rate_projection'] = collection_rate_projection\n",
    "\n",
    "plt.plot(year_projection, collection_rate_projection)\n"
   ]
  },
  {
   "cell_type": "code",
   "execution_count": null,
   "id": "eee8f1c3",
   "metadata": {
    "ExecuteTime": {
     "end_time": "2022-05-27T17:32:25.899069Z",
     "start_time": "2022-05-27T17:32:25.899054Z"
    }
   },
   "outputs": [],
   "source": [
    "demand['STEPS_LFP_recycled_Ni'] = (demand['other_sector_eol'] + demand['STEPS_LFP_EOL_Ni']) * \\\n",
    "                                   demand['collection_rate_projection'] * \\\n",
    "                                   0.95\n",
    "\n",
    "demand['STEPS_LFP_overall_Ni_demand'] = demand['STEPS_LFP_Ni_demand'] + demand['other_demand']\n",
    "demand['STEPS_LFP_primary_Ni_demand'] = demand['STEPS_LFP_overall_Ni_demand'] - demand['STEPS_LFP_recycled_Ni']\n"
   ]
  },
  {
   "cell_type": "code",
   "execution_count": null,
   "id": "4dfcaeea",
   "metadata": {
    "ExecuteTime": {
     "end_time": "2022-05-27T17:32:25.900585Z",
     "start_time": "2022-05-27T17:32:25.900572Z"
    }
   },
   "outputs": [],
   "source": [
    "hist_demand = demand[demand['year']>=2019]['STEPS_LFP_primary_Ni_demand'].tolist()\n",
    "hist_year = (demand[demand['year']>=2019]['year']+0.5).tolist()\n"
   ]
  },
  {
   "cell_type": "code",
   "execution_count": null,
   "id": "e2d29652",
   "metadata": {
    "ExecuteTime": {
     "end_time": "2022-05-27T17:32:25.901890Z",
     "start_time": "2022-05-27T17:32:25.901878Z"
    }
   },
   "outputs": [],
   "source": [
    "f = interp1d(hist_year, hist_demand, kind='cubic')\n",
    "hist_year_interpolated = np.linspace(hist_year[0], hist_year[-1], 31 * TIME_STEP_PER_YEAR + 1)\n",
    "hist_demand_interpolated = f(hist_year_interpolated)\n",
    "hist_year_interpolated\n",
    "hist_demand_interpolated\n"
   ]
  },
  {
   "cell_type": "code",
   "execution_count": null,
   "id": "25e3e7b9",
   "metadata": {
    "ExecuteTime": {
     "end_time": "2022-05-27T17:32:25.903136Z",
     "start_time": "2022-05-27T17:32:25.903123Z"
    }
   },
   "outputs": [],
   "source": [
    "plt.plot(hist_year, hist_demand)\n",
    "plt.show()\n",
    "plt.plot(hist_year_interpolated, hist_demand_interpolated)\n",
    "plt.show()\n"
   ]
  },
  {
   "cell_type": "code",
   "execution_count": null,
   "id": "a691b709",
   "metadata": {
    "ExecuteTime": {
     "end_time": "2022-05-27T17:32:25.904336Z",
     "start_time": "2022-05-27T17:32:25.904323Z"
    },
    "scrolled": true
   },
   "outputs": [],
   "source": [
    "preset_demand = [i / TIME_STEP_PER_YEAR for i in hist_demand_interpolated[2:]]\n",
    "len(preset_demand)\n",
    "preset_demand\n"
   ]
  },
  {
   "cell_type": "code",
   "execution_count": null,
   "id": "dbf60346",
   "metadata": {
    "ExecuteTime": {
     "end_time": "2022-05-27T17:32:25.905430Z",
     "start_time": "2022-05-27T17:32:25.905413Z"
    }
   },
   "outputs": [],
   "source": [
    "len(preset_demand)"
   ]
  },
  {
   "cell_type": "code",
   "execution_count": 315,
   "id": "28b7fee7",
   "metadata": {
    "ExecuteTime": {
     "end_time": "2022-05-27T17:28:51.387483Z",
     "start_time": "2022-05-27T17:28:51.382221Z"
    }
   },
   "outputs": [
    {
     "data": {
      "text/plain": [
       "(120,)"
      ]
     },
     "execution_count": 315,
     "metadata": {},
     "output_type": "execute_result"
    }
   ],
   "source": [
    "demand_f = np.array([preset_demand[i:i+STEP_RANGE_FORECAST] for i in range(STEP_RANGE)])\n",
    "demand_f.shape\n"
   ]
  },
  {
   "cell_type": "code",
   "execution_count": 317,
   "id": "07576c7b",
   "metadata": {
    "ExecuteTime": {
     "end_time": "2022-05-27T17:29:15.653409Z",
     "start_time": "2022-05-27T17:29:15.641470Z"
    }
   },
   "outputs": [
    {
     "data": {
      "text/plain": [
       "120"
      ]
     },
     "execution_count": 317,
     "metadata": {},
     "output_type": "execute_result"
    }
   ],
   "source": [
    "STEP_RANGE"
   ]
  },
  {
   "cell_type": "markdown",
   "id": "bdc19a65",
   "metadata": {},
   "source": [
    "### prediction"
   ]
  },
  {
   "cell_type": "code",
   "execution_count": 15,
   "id": "d420b731",
   "metadata": {
    "ExecuteTime": {
     "end_time": "2022-05-24T16:04:06.021835Z",
     "start_time": "2022-05-24T16:04:06.019886Z"
    }
   },
   "outputs": [],
   "source": [
    "# growth_f = np.empty(shape=(NUM_YEAR*TIME_STEP_PER_YEAR))\n",
    "# growth_f[:] = np.NaN\n",
    "\n",
    "# demand_f = trend_f = np.empty(shape=(NUM_YEAR*TIME_STEP_PER_YEAR, NUM_YEAR_FORECAST*TIME_STEP_PER_YEAR))\n",
    "# demand_f[:] = trend_f[:] = np.NaN\n",
    "\n",
    "# alpha_dtdf = (1 - np.exp(np.log10(0.5) / (3 * TIME_STEP_PER_YEAR)))\n",
    "# alpha_dgdf = (1 - np.exp(np.log10(0.5) / (3 * TIME_STEP_PER_YEAR)))\n",
    "# r_dfdt = np.log10(2) / (3/4)\n",
    " \n",
    "\n",
    "# growth_f[0] = growth_rate\n",
    "# trend_f[0][0] = hist_demand_interpolated[-1]\n",
    "# for tf in range(STEP_RANGE_FORECAST):\n",
    "#     trend_f[0, tf] = trend_f[0, 0] * (1 + growth_f[0])**(tf-0)\n"
   ]
  },
  {
   "cell_type": "markdown",
   "id": "784eca10",
   "metadata": {},
   "source": [
    "## supply"
   ]
  },
  {
   "cell_type": "code",
   "execution_count": 16,
   "id": "97167903",
   "metadata": {
    "ExecuteTime": {
     "end_time": "2022-05-24T16:04:06.515270Z",
     "start_time": "2022-05-24T16:04:06.022900Z"
    },
    "scrolled": true
   },
   "outputs": [],
   "source": [
    "df = pd.read_excel('nickel_mine_final.xlsx')\n",
    "df = df.applymap(lambda x: str(x).replace('*', '').replace('nan', '')).apply(pd.to_numeric, errors='ignore')\n"
   ]
  },
  {
   "cell_type": "markdown",
   "id": "fdb4f846",
   "metadata": {},
   "source": [
    "### lead time analysis"
   ]
  },
  {
   "cell_type": "code",
   "execution_count": 17,
   "id": "1b8ed933",
   "metadata": {
    "ExecuteTime": {
     "end_time": "2022-05-24T16:04:06.791449Z",
     "start_time": "2022-05-24T16:04:06.516240Z"
    }
   },
   "outputs": [
    {
     "data": {
      "text/html": [
       "<div>\n",
       "<style scoped>\n",
       "    .dataframe tbody tr th:only-of-type {\n",
       "        vertical-align: middle;\n",
       "    }\n",
       "\n",
       "    .dataframe tbody tr th {\n",
       "        vertical-align: top;\n",
       "    }\n",
       "\n",
       "    .dataframe thead th {\n",
       "        text-align: right;\n",
       "    }\n",
       "</style>\n",
       "<table border=\"1\" class=\"dataframe\">\n",
       "  <thead>\n",
       "    <tr style=\"text-align: right;\">\n",
       "      <th></th>\n",
       "      <th>sumsquare_error</th>\n",
       "      <th>aic</th>\n",
       "      <th>bic</th>\n",
       "      <th>kl_div</th>\n",
       "    </tr>\n",
       "  </thead>\n",
       "  <tbody>\n",
       "    <tr>\n",
       "      <th>chi2</th>\n",
       "      <td>1.386311</td>\n",
       "      <td>753.725861</td>\n",
       "      <td>-82.032935</td>\n",
       "      <td>inf</td>\n",
       "    </tr>\n",
       "  </tbody>\n",
       "</table>\n",
       "</div>"
      ],
      "text/plain": [
       "      sumsquare_error         aic        bic  kl_div\n",
       "chi2         1.386311  753.725861 -82.032935     inf"
      ]
     },
     "execution_count": 17,
     "metadata": {},
     "output_type": "execute_result"
    },
    {
     "data": {
      "text/plain": [
       "array([ 2,  2,  4,  5, 27, 18,  4, 17,  2,  2, 11, 10,  2,  3,  4,  3, 34,\n",
       "        5, 12,  7, 16,  2,  6, 13,  3, 13,  4, 15,  4,  2,  5,  4,  3,  8,\n",
       "        9, 19,  8, 11,  4,  3,  4,  2,  4, 19,  3, 25,  2,  3,  2,  8,  2,\n",
       "       17,  3, 11, 10,  4,  8, 14, 19,  3, 23, 14,  5,  2, 15,  8,  7,  4,\n",
       "       20,  6, 19,  4, 13, 18, 19, 27,  8,  9, 10,  2,  7,  6,  5,  5, 11,\n",
       "        4,  3,  5,  6,  5,  3, 18,  2,  3,  4,  2,  2,  8,  4,  2])"
      ]
     },
     "execution_count": 17,
     "metadata": {},
     "output_type": "execute_result"
    },
    {
     "data": {
      "image/png": "[encoded data removed]",
      "text/plain": [
       "<Figure size 432x288 with 1 Axes>"
      ]
     },
     "metadata": {
      "needs_background": "light"
     },
     "output_type": "display_data"
    }
   ],
   "source": [
    "from fitter import get_common_distributions, Fitter, get_distributions\n",
    "from scipy.stats import chi2\n",
    "from scipy.stats import uniform\n",
    "\n",
    "dev_lead_time = [2,3,2,4,3,3,3,3,8,6,8,3,10,7,6,10,10,6,7,11,16,11,16,16,9,18,18,18,24,27]\n",
    "\n",
    "# f1 = Fitter(dev_lead_time,\n",
    "#             distributions=get_common_distributions())\n",
    "# f1.fit()\n",
    "# f1.summary()\n",
    "\n",
    "f1 = Fitter(dev_lead_time,\n",
    "            distributions=['chi2'])\n",
    "f1.fit()\n",
    "f1.summary()\n",
    "\n",
    "chi2.rvs(size=100, **f1.get_best()['chi2']).astype(int)\n"
   ]
  },
  {
   "cell_type": "code",
   "execution_count": 18,
   "id": "1c91398b",
   "metadata": {
    "ExecuteTime": {
     "end_time": "2022-05-24T16:04:06.956616Z",
     "start_time": "2022-05-24T16:04:06.792890Z"
    },
    "scrolled": false
   },
   "outputs": [
    {
     "data": {
      "text/html": [
       "<div>\n",
       "<style scoped>\n",
       "    .dataframe tbody tr th:only-of-type {\n",
       "        vertical-align: middle;\n",
       "    }\n",
       "\n",
       "    .dataframe tbody tr th {\n",
       "        vertical-align: top;\n",
       "    }\n",
       "\n",
       "    .dataframe thead th {\n",
       "        text-align: right;\n",
       "    }\n",
       "</style>\n",
       "<table border=\"1\" class=\"dataframe\">\n",
       "  <thead>\n",
       "    <tr style=\"text-align: right;\">\n",
       "      <th></th>\n",
       "      <th>sumsquare_error</th>\n",
       "      <th>aic</th>\n",
       "      <th>bic</th>\n",
       "      <th>kl_div</th>\n",
       "    </tr>\n",
       "  </thead>\n",
       "  <tbody>\n",
       "    <tr>\n",
       "      <th>uniform</th>\n",
       "      <td>15.226337</td>\n",
       "      <td>443.444915</td>\n",
       "      <td>-13.542727</td>\n",
       "      <td>inf</td>\n",
       "    </tr>\n",
       "  </tbody>\n",
       "</table>\n",
       "</div>"
      ],
      "text/plain": [
       "         sumsquare_error         aic        bic  kl_div\n",
       "uniform        15.226337  443.444915 -13.542727     inf"
      ]
     },
     "execution_count": 18,
     "metadata": {},
     "output_type": "execute_result"
    },
    {
     "data": {
      "text/plain": [
       "array([4, 6, 8, 0, 2, 2, 0, 6, 2, 4, 2, 4, 0, 2, 3, 7, 7, 0, 8, 4, 6, 0,\n",
       "       4, 6, 0, 1, 5, 7, 8, 5, 3, 6, 8, 1, 4, 8, 6, 2, 5, 2, 4, 1, 4, 7,\n",
       "       1, 7, 8, 2, 0, 6, 8, 5, 3, 3, 8, 0, 5, 8, 0, 7, 5, 7, 8, 7, 4, 3,\n",
       "       1, 4, 6, 6, 5, 1, 4, 8, 4, 1, 1, 8, 2, 3, 7, 5, 6, 2, 1, 8, 8, 7,\n",
       "       0, 3, 7, 1, 5, 4, 5, 6, 5, 5, 4, 0])"
      ]
     },
     "execution_count": 18,
     "metadata": {},
     "output_type": "execute_result"
    },
    {
     "data": {
      "image/png": "[encoded data removed]",
      "text/plain": [
       "<Figure size 432x288 with 1 Axes>"
      ]
     },
     "metadata": {
      "needs_background": "light"
     },
     "output_type": "display_data"
    }
   ],
   "source": [
    "# 0 9 4\n",
    "dev_lead_time = [2,1,3,2,5,5,5,6,2,4,3,8,1,4,6,2,4,9,8,5,1,6,1,2,9,1,5,5,0,0]\n",
    "\n",
    "\n",
    "# f2 = Fitter(dev_lead_time,\n",
    "#             distributions=get_common_distributions())\n",
    "# f2.fit()\n",
    "# f2.summary()\n",
    "\n",
    "f2 = Fitter(dev_lead_time,\n",
    "            distributions=['uniform'])\n",
    "f2.fit()\n",
    "f2.summary()\n",
    "\n",
    "uniform.rvs(size=100, **f2.get_best()['uniform']).astype(int)\n"
   ]
  },
  {
   "cell_type": "markdown",
   "id": "98a1ee76",
   "metadata": {},
   "source": [
    "### current stage"
   ]
  },
  {
   "cell_type": "code",
   "execution_count": 19,
   "id": "84943956",
   "metadata": {
    "ExecuteTime": {
     "end_time": "2022-05-24T16:04:06.961981Z",
     "start_time": "2022-05-24T16:04:06.957696Z"
    }
   },
   "outputs": [],
   "source": [
    "stage_dic = {'Grassroots':'Early-stage exploration',\n",
    "'Exploration':'Early-stage exploration',\n",
    "'Target Outline':'Early-stage exploration',\n",
    "\n",
    "'Advanced Exploration':'Late-stage exploration',\n",
    "'Prefeas/Scoping':'Late-stage exploration',\n",
    " \n",
    "'Feasibility Started':'Feasibility-stage',\n",
    "'Feasibility':'Feasibility-stage',\n",
    " \n",
    "'Feasibility Complete':'Development-stage',\n",
    "'Reserves Development':'Development-stage',\n",
    "\n",
    "'Satellite':'Construction-stage',\n",
    "'Construction Planned':'Construction-stage',\n",
    "'Construction Started':'Construction-stage',\n",
    " \n",
    "'Commissioning':'Construction-stage',\n",
    "'Preproduction':'Construction-stage',\n",
    "\n",
    "'Operating':'Operating-stage',\n",
    " \n",
    "'Limited Production':'Operating-stage',\n",
    "'Expansion':'Operating-stage',\n",
    "'Closed':'Closed-stage'}\n",
    "\n",
    "df['current_stage'] = df['dev_stage'].map(stage_dic)\n"
   ]
  },
  {
   "cell_type": "code",
   "execution_count": 20,
   "id": "e5e05057",
   "metadata": {
    "ExecuteTime": {
     "end_time": "2022-05-24T16:04:06.971536Z",
     "start_time": "2022-05-24T16:04:06.963086Z"
    }
   },
   "outputs": [],
   "source": [
    "df = df[df['mine_type1']!='Ocean']\n",
    "\n",
    "df = df[df['resource_metal (mt)'].notnull()]\n",
    "\n",
    "df.loc[(df['production_PROD_Ni_tpa'].isnull())&(df['current_stage'].isin(['Operating-stage'])), 'current_stage']='Development-stage' \n",
    "df.loc[(df['reserve_metal (mt)'].isnull())&(df['current_stage'].isin(['Development-stage', 'Operating-stage'])), 'current_stage']='Feasibility-stage'\n",
    "\n",
    "df.loc[(df['production_PROD_Ni_tpa'].notnull())&(df['current_stage'].isin(['Early-stage exploration', 'Late-stage exploration', 'Feasibility-stage', 'Development-stage'])), 'current_stage']='Operating-stage' \n",
    "df.loc[(df['reserve_metal (mt)'].notnull())&(df['current_stage'].isin(['Early-stage exploration', 'Late-stage exploration', 'Feasibility-stage'])), 'current_stage']='Development-stage'\n",
    "\n",
    "df = df[df['current_stage']!='Early-stage exploration']\n",
    "# df = df[df['dev_stage']!='Closed-stage']\n",
    "# df = df[df['actv_status']!='Inactive']\n"
   ]
  },
  {
   "cell_type": "markdown",
   "id": "07f0c588",
   "metadata": {},
   "source": [
    "### regional risk and probability of shutdown"
   ]
  },
  {
   "cell_type": "code",
   "execution_count": 21,
   "id": "5a2e1107",
   "metadata": {
    "ExecuteTime": {
     "end_time": "2022-05-24T16:04:06.989140Z",
     "start_time": "2022-05-24T16:04:06.972860Z"
    }
   },
   "outputs": [],
   "source": [
    "df['country/region_ter_risk'] = df['country/region_ter_risk'].map({'Medium':2, 'High':3, 'Low':1, 'Insignificant':0}).fillna(2)\n",
    "df['country/region_sec_risk'] = df['country/region_sec_risk'].map({'Medium':2, 'High':3, 'Low':1, 'Insignificant':0}).fillna(2)\n",
    "df['country/region_pol_risk'] = df['country/region_pol_risk'].map({'Medium':2, 'High':3, 'Low':1, 'Insignificant':0}).fillna(2)\n",
    "df['country/region_op_risk'] = df['country/region_op_risk'].map({'Medium':2, 'High':3, 'Low':1, }).fillna(2)\n",
    "df['country/region_overall_risk'] = df['country/region_ter_risk'] + df['country/region_sec_risk'] + \\\n",
    "                                     df['country/region_pol_risk'] + df['country/region_op_risk']\n"
   ]
  },
  {
   "cell_type": "code",
   "execution_count": 22,
   "id": "7c0c4e54",
   "metadata": {
    "ExecuteTime": {
     "end_time": "2022-05-24T16:04:06.995972Z",
     "start_time": "2022-05-24T16:04:06.993226Z"
    }
   },
   "outputs": [],
   "source": [
    "df['prob_shutdown'] = df['country/region_overall_risk'] / 10\n",
    "# df['prob_shutdown'] = np.sqrt(df['country/region_overall_risk'] / 10)\n"
   ]
  },
  {
   "cell_type": "markdown",
   "id": "170edecb",
   "metadata": {},
   "source": [
    "### other basic features"
   ]
  },
  {
   "cell_type": "code",
   "execution_count": 23,
   "id": "3658633d",
   "metadata": {
    "ExecuteTime": {
     "end_time": "2022-05-24T16:04:07.000189Z",
     "start_time": "2022-05-24T16:04:06.997051Z"
    }
   },
   "outputs": [],
   "source": [
    "df['partial_production'] = df['production_PROD_Ni_tpa'] # currently 70% of production capacity \n",
    "df['expand_left_time'] = np.nan\n",
    "df['if_adjust_production'] = np.nan\n"
   ]
  },
  {
   "cell_type": "markdown",
   "id": "9d14704f",
   "metadata": {},
   "source": [
    "### init function"
   ]
  },
  {
   "cell_type": "code",
   "execution_count": 24,
   "id": "b3288307",
   "metadata": {
    "ExecuteTime": {
     "end_time": "2022-05-24T16:04:07.003351Z",
     "start_time": "2022-05-24T16:04:07.001313Z"
    }
   },
   "outputs": [],
   "source": [
    "supply_simulation_resList = []\n"
   ]
  },
  {
   "cell_type": "code",
   "execution_count": 25,
   "id": "6960f48e",
   "metadata": {
    "ExecuteTime": {
     "end_time": "2022-05-24T16:04:07.012999Z",
     "start_time": "2022-05-24T16:04:07.004486Z"
    }
   },
   "outputs": [],
   "source": [
    "def init_supply_data(df, overall_left_year_limit=20):\n",
    "    df2 = df.copy()\n",
    "\n",
    "    exp_stage_index = df2['current_stage']=='Late-stage exploration'\n",
    "    df2.loc[exp_stage_index, 'late_exp_stage_lead_time'] = np.round(np.random.uniform(0, 3, size=sum(exp_stage_index)) * TIME_STEP_PER_YEAR, 0)\n",
    "    df2.loc[exp_stage_index, 'late_exp_stage_left_time'] = np.round(df2.loc[exp_stage_index, 'late_exp_stage_lead_time'] * np.random.rand(sum(exp_stage_index)), 0)\n",
    "\n",
    "    fea_stage_index = df2['current_stage'].isin(['Late-stage exploration', 'Feasibility-stage'])\n",
    "    df2.loc[fea_stage_index, 'fea_stage_lead_time'] = np.round(chi2.rvs(size=sum(fea_stage_index), **f1.get_best()['chi2']) * TIME_STEP_PER_YEAR, 0)\n",
    "    df2.loc[fea_stage_index, 'fea_stage_left_time'] = np.round(df2.loc[fea_stage_index, 'fea_stage_lead_time'] * np.random.rand(sum(fea_stage_index)), 0)\n",
    "\n",
    "    dev_stage_index = df2['current_stage'].isin(['Late-stage exploration', 'Feasibility-stage', 'Development-stage', 'Construction-stage'])\n",
    "    df2.loc[dev_stage_index, 'dev_stage_lead_time'] = np.round(uniform.rvs(size=sum(dev_stage_index), **f2.get_best()['uniform']) * TIME_STEP_PER_YEAR, 0)\n",
    "    df2.loc[dev_stage_index, 'dev_stage_left_time'] = np.round(df2.loc[dev_stage_index, 'dev_stage_lead_time'] * np.random.rand(sum(dev_stage_index)), 0)\n",
    "\n",
    "    df2['overall_left_time'] = df2['late_exp_stage_left_time'].fillna(0) + df2['fea_stage_left_time'].fillna(0) + df2['dev_stage_left_time'].fillna(0)\n",
    "    df2['overall_lead_time'] = df2['late_exp_stage_lead_time'].fillna(0) + df2['fea_stage_lead_time'].fillna(0) + df2['dev_stage_lead_time'].fillna(0)\n",
    "\n",
    "    df2['overall_left_time'] = df2['overall_left_time'].map(lambda x: min(x, overall_left_year_limit * TIME_STEP_PER_YEAR))\n",
    "    df2['dev_stage_left_time'] = np.round(df2['dev_stage_left_time'] / (df2['dev_stage_left_time']+ df2['fea_stage_left_time'].fillna(0) + df2['late_exp_stage_left_time'].fillna(0)) * df2['overall_left_time'].fillna(0), 0)\n",
    "    df2['fea_stage_left_time'] = np.round(df2['fea_stage_left_time'] / (df2['fea_stage_left_time'] + df2['late_exp_stage_left_time'].fillna(0)) * (df2['overall_left_time'].fillna(0) - df2['dev_stage_left_time'].fillna(0)), 0)\n",
    "    df2['late_exp_stage_left_time'] = df2['overall_left_time'] - df2['dev_stage_left_time'] - df2['fea_stage_left_time']\n",
    "\n",
    "    df2['overall_left_time'].hist()\n",
    "    df2['fea_stage_left_time'].hist()\n",
    "    df2['dev_stage_left_time'].hist()\n",
    "    \n",
    "    supply_simulation = []\n",
    "    supply_f = np.empty(shape=(NUM_YEAR * TIME_STEP_PER_YEAR, NUM_YEAR_FORECAST * TIME_STEP_PER_YEAR))\n",
    "    supply_f[:] = np.NaN\n",
    "    \n",
    "    df2['num_halt_developing'] = 0\n",
    "    df2['num_shutdown'] = 0\n",
    "    df2['num_restore'] = 0\n",
    "    df2['num_expansion'] = 0\n",
    "    df2['num_adjust_production'] = 0\n",
    "    \n",
    "    df2['last_time_halt_developing'] = -9999\n",
    "    df2['last_time_shutdown'] = -9999\n",
    "\n",
    "    return df2, supply_f, supply_simulation\n"
   ]
  },
  {
   "cell_type": "markdown",
   "id": "f01d897d",
   "metadata": {},
   "source": [
    "## price"
   ]
  },
  {
   "cell_type": "code",
   "execution_count": 26,
   "id": "e2ce1f46",
   "metadata": {
    "ExecuteTime": {
     "end_time": "2022-05-24T16:04:07.083772Z",
     "start_time": "2022-05-24T16:04:07.014040Z"
    }
   },
   "outputs": [
    {
     "data": {
      "text/plain": [
       "<AxesSubplot:>"
      ]
     },
     "execution_count": 26,
     "metadata": {},
     "output_type": "execute_result"
    },
    {
     "data": {
      "image/png": "[encoded data removed]",
      "text/plain": [
       "<Figure size 432x288 with 1 Axes>"
      ]
     },
     "metadata": {
      "needs_background": "light"
     },
     "output_type": "display_data"
    }
   ],
   "source": [
    "price_df = pd.read_excel('data/SPGlobal_PriceChart-Nickel(Chart)_12-May-2022.xls', sheet_name=1, skiprows=8)\n",
    "price_df['Year-Month'] = price_df['Date'].map(lambda x: str(x)[:7])\n",
    "price_df['Month'] = price_df['Date'].map(lambda x: str(x)[5:7])\n",
    "price_df = price_df.sort_values(by='Year-Month')\n",
    "price_df = price_df[price_df['Year-Month']<'2020-01']\n",
    "# price_df = price_df[price_df['Month'].isin(['01', '04', '07', '10'])]\n",
    "price_df['LME-Nickel Cash ($/tonne)'].plot()\n",
    "hist_price = price_df['LME-Nickel Cash ($/tonne)'].tolist()\n"
   ]
  },
  {
   "cell_type": "markdown",
   "id": "4867e98d",
   "metadata": {},
   "source": [
    "### init_function"
   ]
  },
  {
   "cell_type": "code",
   "execution_count": 27,
   "id": "9d246711",
   "metadata": {
    "ExecuteTime": {
     "end_time": "2022-05-24T16:04:07.091601Z",
     "start_time": "2022-05-24T16:04:07.088785Z"
    }
   },
   "outputs": [],
   "source": [
    "def init_price_data(df):\n",
    "    price_ma = np.empty(shape=(NUM_YEAR*TIME_STEP_PER_YEAR))\n",
    "    price_ma[:] = np.NaN\n",
    "\n",
    "    price_range = np.empty(shape=(NUM_YEAR * TIME_STEP_PER_YEAR, NUM_YEAR_FORECAST * TIME_STEP_PER_YEAR))\n",
    "    price_f = np.empty(shape=(NUM_YEAR * TIME_STEP_PER_YEAR, NUM_YEAR_FORECAST * TIME_STEP_PER_YEAR))\n",
    "    price_range[:] = np.NaN\n",
    "    price_f[:] = np.NaN\n",
    "\n",
    "#     price_dsm = np.empty(shape=(NUM_YEAR * TIME_STEP_PER_YEAR, NUM_YEAR_FORECAST * TIME_STEP_PER_YEAR))\n",
    "#     price_dsm[:] = np.NaN\n",
    "\n",
    "    price_simulation = []\n",
    "\n",
    "    return price_ma, price_range, price_f, price_simulation\n"
   ]
  },
  {
   "cell_type": "code",
   "execution_count": 28,
   "id": "01c91c89",
   "metadata": {
    "ExecuteTime": {
     "end_time": "2022-05-24T16:04:07.094598Z",
     "start_time": "2022-05-24T16:04:07.092607Z"
    }
   },
   "outputs": [],
   "source": [
    "price_simulation_resList = []\n"
   ]
  },
  {
   "cell_type": "markdown",
   "id": "99f3486e",
   "metadata": {},
   "source": [
    "# run simulation"
   ]
  },
  {
   "cell_type": "markdown",
   "id": "8acd0fd1",
   "metadata": {},
   "source": [
    "## variable"
   ]
  },
  {
   "cell_type": "code",
   "execution_count": 108,
   "id": "0f9dac61",
   "metadata": {
    "ExecuteTime": {
     "end_time": "2022-05-26T02:40:16.056461Z",
     "start_time": "2022-05-26T02:40:16.043089Z"
    }
   },
   "outputs": [],
   "source": [
    "# for decision-making and simulation\n",
    "prob_produce = 0.2 # probability of developing deposits reaching operating stage \n",
    "mine_life_avg = 20 # average of mines' life for calculating probability of shutdown at each time step\n",
    "\n",
    "expansion_cutoff = 1.8 # threshold for expansion\n",
    "full_capacity_cutoff = 1.4 # threshold for producing at full capacity\n",
    "partial_production_ratio = 0.7 # ratio of partial production to production capacity\n",
    "\n",
    "r_cc = 0.05 # discount rate used for future cash cost\n",
    "t_LR = 4 # interval for price forecast time range for halting/restoring developing deposits (long run | in years)\n",
    "t_SR = 4 # interval for price forecast time range for shutting down operating deposits (short run | in years)\n",
    "t_EXP = 4 # interval for price forecast time range for expanding operating deposits (short run | in years)\n",
    "t_SR *= TIME_STEP_PER_YEAR # intervals\n",
    "t_LR *= TIME_STEP_PER_YEAR # intervals\n",
    "t_EXP *= TIME_STEP_PER_YEAR # intervals\n"
   ]
  },
  {
   "cell_type": "code",
   "execution_count": 109,
   "id": "dfe83be6",
   "metadata": {
    "ExecuteTime": {
     "end_time": "2022-05-26T02:40:16.513692Z",
     "start_time": "2022-05-26T02:40:16.498964Z"
    }
   },
   "outputs": [],
   "source": [
    "# for price forecast\n",
    "base_response = 10 # smaller the smalaler ds effect\n",
    "half_life_price_infl = 2 # larger the smaller ds effect\n",
    "half_life_price_ma = 1\n",
    "# half_life_price_conv = 10 # larger the smaller ma/p gap effect\n",
    "half_life_price_ma *= TIME_STEP_PER_YEAR\n",
    "half_life_price_infl *= TIME_STEP_PER_YEAR\n",
    "# half_life_price_conv *= TIME_STEP_PER_YEAR\n",
    "\n",
    "a_ppf = 1 - np.exp(np.log(0.5) / (half_life_price_ma))\n",
    "# a_ppf = 1 - np.exp(np.log(0.5) / (half_life_price_ma * TIME_STEP_PER_YEAR))\n",
    "r_pfr = -np.log(2) / half_life_price_infl\n",
    "# r_pfpmaf = -np.log(2) / half_life_price_conv\n"
   ]
  },
  {
   "cell_type": "markdown",
   "id": "30fc8013",
   "metadata": {},
   "source": [
    "## main function"
   ]
  },
  {
   "cell_type": "code",
   "execution_count": 31,
   "id": "47f0e797",
   "metadata": {
    "ExecuteTime": {
     "end_time": "2022-05-24T16:04:07.106263Z",
     "start_time": "2022-05-24T16:04:07.104361Z"
    }
   },
   "outputs": [],
   "source": [
    "# long's equation\n",
    "def func(x,a,b):\n",
    "      return a*np.power(x, b)\n"
   ]
  },
  {
   "cell_type": "code",
   "execution_count": 32,
   "id": "1d664c7c",
   "metadata": {
    "ExecuteTime": {
     "end_time": "2022-05-24T16:04:07.177650Z",
     "start_time": "2022-05-24T16:04:07.107609Z"
    },
    "code_folding": []
   },
   "outputs": [],
   "source": [
    "def supply_simulation_one_step(df, t, tf, record=False):\n",
    "    df_t = df.copy()\n",
    "\n",
    "    # have stepped into operating stage\n",
    "    df_t.loc[df_t['overall_left_time']<=0, 'current_stage'] = 'Operating-stage'\n",
    "    df_t.loc[df_t['overall_left_time']<=0, 'dev_stage_left_time'] = np.nan\n",
    "    op_stage_index = df_t['current_stage'].isin(['Operating-stage'])\n",
    "    non_op_stage_index = df_t['current_stage'].isin(['Feasibility-stage', 'Late-stage exploration', 'Construction-stage', 'Development-stage']) \n",
    "\n",
    "    # step into new stage now\n",
    "    df_t.loc[non_op_stage_index, 'overall_left_time'] -= 1\n",
    "\n",
    "    exp_stage_index = (df_t['current_stage']=='Late-stage exploration')\n",
    "    df_t.loc[exp_stage_index, 'late_exp_stage_left_time'] -=1\n",
    "    exp_stage_finished_index = (-df_t['late_exp_stage_left_time']>0) # enter new stage\n",
    "    df_t.loc[exp_stage_finished_index, 'late_exp_stage_left_time'] = np.nan\n",
    "    df_t.loc[exp_stage_finished_index, 'current_stage'] = 'Feasibility-stage'\n",
    "\n",
    "    fea_stage_index = (df_t['current_stage'].isin(['Feasibility-stage']))\n",
    "    df_t.loc[fea_stage_index, 'fea_stage_left_time'] -=1\n",
    "    fea_finished_index = (-df_t['fea_stage_left_time']>0) # reserve delcaration and enter new stage\n",
    "    df_t.loc[fea_finished_index, 'fea_stage_left_time'] = np.nan\n",
    "    df_t.loc[fea_finished_index, 'current_stage'] = 'Development-stage'\n",
    "\n",
    "    dev_stage_index = (df_t['current_stage'].isin(['Development-stage', 'Construction-stage']))\n",
    "    df_t.loc[dev_stage_index, 'dev_stage_left_time'] -=1\n",
    "    dev_finished_index = (-df_t['dev_stage_left_time']>0) # enter new stage\n",
    "    df_t.loc[dev_finished_index, 'dev_stage_left_time'] = np.nan\n",
    "    df_t.loc[dev_finished_index, 'current_stage'] = 'Operating-stage'\n",
    "\n",
    "    op_stage_index = (df_t['current_stage'].isin(['Operating-stage']))\n",
    "    non_op_stage_index = df_t['current_stage'].isin(['Feasibility-stage', 'Late-stage exploration', 'Construction-stage', 'Development-stage'])\n",
    "\n",
    "    # probability of producing\n",
    "    df_t['dev_complete_ratio'] = (1 - df_t['overall_left_time'] / df_t['overall_lead_time']).fillna(1)\n",
    "    df_t.loc[:, 'prob_produce'] = np.nan\n",
    "    df_t.loc[op_stage_index, 'prob_produce'] = 1\n",
    "    df_t.loc[non_op_stage_index, 'prob_produce'] = df_t.loc[non_op_stage_index].apply(\n",
    "                                                   lambda x: prob_produce + (1 - prob_produce) * x['dev_complete_ratio'] if \n",
    "                                                   tf / x['overall_lead_time'] + x['dev_complete_ratio'] >= 1 else 0, axis=1)\n",
    "\n",
    "    # reserve declaration\n",
    "    resv_delcare_index = op_stage_index & (df_t['reserve_metal (mt)'].isnull())\n",
    "    modification_rate = np.random.normal(loc=0.4, scale=0.1, size=sum(resv_delcare_index))\n",
    "    df_t.loc[resv_delcare_index, 'reserve_metal (mt)'] = df_t.loc[resv_delcare_index, 'resource_metal (mt)'] * modification_rate\n",
    "    \n",
    "    # production capacity declaration\n",
    "    a = 0.01692391768667905; b = 0.7078073223232975 # Laterite\n",
    "    df_t['production_capacity_L'] = df_t['reserve_metal (mt)'].map(lambda x: func(x,a,b)) * 350\n",
    "    a = 7.500699276531266e-06; b = 1.1996374863757813 # Magmatic Sulphide\n",
    "    df_t['production_capacity_S'] = df_t['reserve_metal (mt)'].map(lambda x: func(x,a,b)) * 350\n",
    "    sulphide_index = op_stage_index * (df_t['deposit_type']=='Magmatic Sulphide') & (df_t['production_capacity'].isnull())\n",
    "    df_t.loc[sulphide_index, 'production_capacity'] = df_t.loc[sulphide_index, 'production_capacity_S']\n",
    "    laterite_index = op_stage_index * (df_t['deposit_type']=='Laterite') & (df_t['production_capacity'].isnull())\n",
    "    df_t.loc[laterite_index, 'production_capacity'] = df_t.loc[laterite_index, 'production_capacity_L']\n",
    "    other_deposit_index = op_stage_index * (-df_t['deposit_type'].isin(['Magmatic Sulphide', 'Laterite'])) & (df_t['production_capacity'].isnull())\n",
    "    df_t.loc[other_deposit_index, 'production_capacity'] = (df_t.loc[other_deposit_index, 'production_capacity_S'] + df_t.loc[other_deposit_index, 'production_capacity_L']) / 2\n",
    "    df_t.loc[df_t['production_capacity']<100, 'current_stage'] = 'Closed-stage' # too low\n",
    "    df_t.loc[df_t['production_capacity']<100, 'actv_status'] = 'Inactive' # too low\n",
    "\n",
    "    # production declaration\n",
    "    production_declare_index = op_stage_index & (df_t['production_PROD_Ni_tpa'].isnull())\n",
    "    df_t.loc[production_declare_index, 'partial_production'] = df_t.loc[production_declare_index, 'production_capacity'] * partial_production_ratio\n",
    "    df_t.loc[production_declare_index, 'production_PROD_Ni_tpa'] = df_t.loc[production_declare_index, 'partial_production']\n",
    "\n",
    "    # expansion\n",
    "    expand_index = op_stage_index & (df_t['expand_left_time'].notnull())\n",
    "    df_t.loc[expand_index, 'production_PROD_Ni_tpa'] = df_t.loc[expand_index].apply(\n",
    "        lambda x: x['production_PROD_Ni_tpa'] * 1.333 if x['expand_left_time']==12 else\n",
    "        x['production_PROD_Ni_tpa'] * 1.25 if x['expand_left_time']==8 else\n",
    "        x['production_PROD_Ni_tpa'] * 1.20 if x['expand_left_time']==4 else x['production_PROD_Ni_tpa'], axis=1)\n",
    "    df_t.loc[expand_index, 'production_ROM_Ni_tpa'] = df_t.loc[expand_index].apply(\n",
    "        lambda x: x['production_ROM_Ni_tpa'] * 1.333 if x['expand_left_time']==12 else\n",
    "        x['production_ROM_Ni_tpa'] * 1.25 if x['expand_left_time']==8 else\n",
    "        x['production_ROM_Ni_tpa'] * 1.20 if x['expand_left_time']==4 else x['production_ROM_Ni_tpa'], axis=1)\n",
    "    df_t.loc[expand_index, 'production_capacity'] = df_t.loc[expand_index].apply(\n",
    "        lambda x: x['production_capacity'] * 1.333 if x['expand_left_time']==12 else\n",
    "        x['production_capacity'] * 1.25 if x['expand_left_time']==8 else\n",
    "        x['production_capacity'] * 1.20 if x['expand_left_time']==4 else x['production_capacity'], axis=1)\n",
    "    df_t.loc[expand_index, 'expand_left_time'] -= 1\n",
    "    expand_finished_index = (df_t['expand_left_time'] <= 0)\n",
    "    df_t.loc[expand_finished_index, 'expand_left_time'] = np.nan\n",
    "\n",
    "    # capacity utilization\n",
    "    increase_utilization_index  = op_stage_index & (df_t['if_adjust_production']==1)\n",
    "    df_t.loc[increase_utilization_index, 'production_PROD_Ni_tpa'] = df_t.loc[increase_utilization_index, 'production_capacity']\n",
    "    decrease_utilization_index = op_stage_index & (df_t['if_adjust_production']==-1)\n",
    "    df_t.loc[decrease_utilization_index, 'production_PROD_Ni_tpa'] = df_t.loc[decrease_utilization_index, 'partial_production']\n",
    "    \n",
    "    # production\n",
    "    df_t.loc[op_stage_index, 'production_PROD_Ni_tpa'] = df_t.loc[op_stage_index].apply(lambda x: min(x['production_PROD_Ni_tpa'], x['production_capacity']), axis=1) # can't exceed production capacity\n",
    "    df_t.loc[op_stage_index, 'production_PROD_Ni_tpa'] = df_t.loc[op_stage_index].apply(lambda x: min(x['production_PROD_Ni_tpa'], x['recovery_Ni_perc'] * x['reserve_metal (mt)'] / 100), axis=1) # can't exceed remaining reserve\n",
    "    df_t.loc[op_stage_index, 'production_ROM_Ni_tpa'] = df_t.loc[op_stage_index, 'production_PROD_Ni_tpa'] / df_t.loc[op_stage_index, 'recovery_Ni_perc'] * 100 # calculate raw ore containing nickel\n",
    "    df_t.loc[op_stage_index & (df_t['production_PROD_Ni_tpa']<100), 'current_stage'] = 'Closed-stage' # too low\n",
    "    df_t.loc[op_stage_index & (df_t['production_PROD_Ni_tpa']<100), 'actv_status'] = 'Inactive' # too low\n",
    "    df_t.loc[op_stage_index, 'reserve_metal (mt)'] -= df_t.loc[op_stage_index, 'production_ROM_Ni_tpa'] / TIME_STEP_PER_YEAR # reserve decrease\n",
    "\n",
    "    # if deplete\n",
    "    resv_dep_index = op_stage_index & (df_t['reserve_metal (mt)']<=0)\n",
    "    df_t.loc[resv_dep_index, 'reserve_metal (mt)'] = 0\n",
    "    df_t.loc[resv_dep_index, 'production_PROD_Ni_tpa'] = df_t.loc[resv_dep_index, 'production_PROD_Ni_tpa'] = 0\n",
    "    df_t.loc[resv_dep_index, 'current_stage'] = 'Closed-stage'\n",
    "    df_t.loc[resv_dep_index, 'actv_status'] = 'Inactive'\n",
    "\n",
    "    op_stage_index = df_t['current_stage'].isin(['Operating-stage'])\n",
    "    supply = (df_t.loc[op_stage_index, 'production_PROD_Ni_tpa']  / TIME_STEP_PER_YEAR * df_t.loc[op_stage_index, 'prob_produce']).sum() / 10000\n",
    "    \n",
    "    records = [df_t.loc[op_stage_index, 'production_PROD_Ni_tpa'].sum() / TIME_STEP_PER_YEAR,\n",
    "               df_t.loc[production_declare_index, 'production_PROD_Ni_tpa'].sum() / TIME_STEP_PER_YEAR,\n",
    "               df_t.loc[resv_delcare_index, 'reserve_metal (mt)'].sum(),\n",
    "               sum(op_stage_index)]\n",
    "    \n",
    "    if record:\n",
    "        return df_t, supply, records\n",
    "    else:\n",
    "        return df_t, supply\n"
   ]
  },
  {
   "cell_type": "code",
   "execution_count": 33,
   "id": "f0785afe",
   "metadata": {
    "ExecuteTime": {
     "end_time": "2022-05-24T16:04:07.199017Z",
     "start_time": "2022-05-24T16:04:07.178855Z"
    },
    "code_folding": [],
    "scrolled": false
   },
   "outputs": [],
   "source": [
    "def run_simulation(df, supply_f, supply_simulation, price_ma, price_range, price_f, price_simulation, silent=False):\n",
    "    df_t = df.copy()\n",
    "    df_t['action'] = ''\n",
    "    records_lst = []\n",
    "\n",
    "    for t in range(STEP_RANGE):\n",
    "        # calculate moving adfverage price\n",
    "        if not silent:\n",
    "            print('+++'*50, '\\n', '%d %d/%d'%(2020+t//TIME_STEP_PER_YEAR,\n",
    "                                              t%TIME_STEP_PER_YEAR+1,\n",
    "                                              TIME_STEP_PER_YEAR))\n",
    "        price_ma[t] = sum(np.array([(1 - a_ppf)**i for i in range(len(hist_price), 0, -1)]) * np.array(hist_price))\n",
    "        price_ma[t] /= sum(np.array([(1 - a_ppf)**i for i in range(len(hist_price), 0, -1)]))\n",
    "\n",
    "        # ------------------------------------------------------------------------------------------------------------------------------------\n",
    "        # ------------------------------------------------------------------------------------------------------------------------------------\n",
    "        # ------------------------------------------------------------------------------------------------------------------------------------\n",
    "        # forecast\n",
    "        for tf in range(STEP_RANGE_FORECAST):\n",
    "            # ------------------------------------------------------------------------------------------------------------------------------------\n",
    "            # demand forecast\n",
    "#             trend_f[t, t] = (1 - alpha_dtdf) * trend_f[t-1, t] + alpha_dtdf * hist_demand_interpolated[-1] #Dt -> hist_demand_interpolated[-1]\n",
    "#             growth_f[t] = (1 - alpha_dgdf) * np.log(1 + growth_f[t-1]) + alpha_dgdf * np.log(trend_f[t, t] / trend_f[t-1, t-1])\n",
    "#             growth_f[t] = np.exp(growth_f[t]) - 1\n",
    "#             trend_f[t, tf] = trend_f[t, t] * (1 + growth_f[t])**(tf - t)\n",
    "#             demand_f[t, tf] = + np.exp(-r_dfdt * (tf - t)) * (hist_demand_interpolated[-1] - trend_f[t, tf]) #Dt -> hist_demand_interpolated[-1]\n",
    "\n",
    "            # ------------------------------------------------------------------------------------------------------------------------------------\n",
    "            # supply simulation and forecast\n",
    "            if tf==0: # first step simulation without decision-making\n",
    "                df_t, supply, records = supply_simulation_one_step(df_t, t, tf, record=True) # simulation without decision-making\n",
    "                df_0 = df_t.copy()\n",
    "                records_lst += [records]\n",
    "            else:\n",
    "                df_t, supply = supply_simulation_one_step(df_t, t, tf) # simulation without decision-making\n",
    "                \n",
    "            if supply / demand_f[t, tf] > 1.1:\n",
    "                supply = demand_f[t, tf] * 1.1\n",
    "\n",
    "            supply_f[t, tf] = supply\n",
    "\n",
    "            # when forecasting, developing deposits have probability of being abandoned\n",
    "            df_t['prob_abort_now'] = (1 - prob_produce) / df_t['overall_lead_time']\n",
    "            prob_abort_index = (df_t['prob_abort_now'].notnull()) & (df_t['current_stage'].isin(['Feasibility-stage', 'Late-stage exploration', 'Construction-stage', 'Development-stage']))\n",
    "            df_t.loc[prob_abort_index, 'if_abort_randomly'] = df_t.loc[prob_abort_index, 'prob_abort_now'].map(\n",
    "                     lambda x: 0 if np.random.binomial(1, x, 1)[0]==0 else 1)\n",
    "            df_t.loc[df_t['if_abort_randomly']==1, 'current_stage'] = 'Closed-stage'\n",
    "            df_t.loc[df_t['if_abort_randomly']==1, ['overall_left_time', 'overall_lead_time']] = np.nan\n",
    "\n",
    "            # when forecasting, operating deposits have probability of being shutdowned\n",
    "            df_t['prob_shutdown_now'] = df_t['prob_shutdown'] / (mine_life_avg * TIME_STEP_PER_YEAR)\n",
    "            prob_shutdown_index = (df_t['prob_shutdown_now'].notnull()) & (df_t['current_stage'].isin(['Operating-stage']))\n",
    "            df_t.loc[prob_abort_index, 'if_shutdown_randomly'] = df_t.loc[prob_abort_index, 'prob_shutdown_now'].map(\n",
    "                     lambda x: 0 if np.random.binomial(1, x, 1)[0]==0 else 1)\n",
    "            df_t.loc[df_t['if_shutdown_randomly']==1, 'current_stage'] = 'Closed-stage'\n",
    "\n",
    "            # ------------------------------------------------------------------------------------------------------------------------------------\n",
    "            # price forecast\n",
    "            price_range[t, tf] = base_response / TIME_STEP_PER_YEAR * np.exp(-r_pfr * tf / TIME_STEP_PER_YEAR)\n",
    "#             if tf==0:\n",
    "#                 price_dsm[t, tf] = np.log(price_ma[t]) + np.exp(-r_pfpmaf * 1/TIME_STEP_PER_YEAR) * (np.log(hist_price[-1]) - np.log(price_ma[t]))\n",
    "#             else:\n",
    "#                 price_dsm[t, tf] = np.log(price_ma[t]) + np.exp(-r_pfpmaf * 1/TIME_STEP_PER_YEAR) * (np.log(price_f[t, tf-1]) - np.log(price_ma[t]))\n",
    "#             price_dsm[t, tf] = np.exp(price_dsm[t, tf])\n",
    "#             price_f[t, tf] = np.exp(np.log(price_dsm[t, tf]) + price_range[t, tf] * np.log(demand_f[t, tf] / supply_f[t, tf]))        \n",
    "            price_f[t, tf] = np.exp(np.log(price_ma[t]) + price_range[t, tf] * np.log(demand_f[t, tf] / supply_f[t, tf]))\n",
    "\n",
    "            if tf%TIME_STEP_PER_YEAR==0:\n",
    "                if not silent:\n",
    "                    print('forecast time: +%d Year time_inf_range:%.2f pma:%.2f d:%.2f s:%.2f d/s:%.2f price:%.2f'%(\n",
    "                          tf/TIME_STEP_PER_YEAR+1, price_range[t, tf], price_ma[t], demand_f[t, tf], supply_f[t, tf], demand_f[t, tf] / supply_f[t, tf], price_f[t, tf]))\n",
    "\n",
    "        # ------------------------------------------------------------------------------------------------------------------------------------\n",
    "        # ------------------------------------------------------------------------------------------------------------------------------------\n",
    "        # ------------------------------------------------------------------------------------------------------------------------------------\n",
    "        # simulation\n",
    "        # ------------------------------------------------------------------------------------------------------------------------------------\n",
    "        # current step's (+1) simulation without decision-making\n",
    "        df_t = df_0\n",
    "#         every year developer has a chance to halt or restore (decision-making)\n",
    "#         if t%TIME_STEP_PER_YEAR==0:\n",
    "\n",
    "        df_t[['if_halt_developing', 'if_shutdown', 'if_restore']] = np.nan\n",
    "        if not silent:\n",
    "            print('decision-making:')\n",
    "\n",
    "        # halt developing\n",
    "        potential_halt_index = (t - df_t['last_time_halt_developing'] >= 10 * TIME_STEP_PER_YEAR) & \\\n",
    "            (df_t['overall_left_time'] >= 2.5 * TIME_STEP_PER_YEAR) & \\\n",
    "            (df_t['current_stage'].isin(['Feasibility-stage', 'Late-stage exploration', 'Construction-stage', 'Development-stage']))\n",
    "        df_t.loc[potential_halt_index, 'overall_left_time2'] = df_t.loc[potential_halt_index, 'overall_left_time'].map(lambda x: min(x, 10*TIME_STEP_PER_YEAR))\n",
    "        df_t.loc[potential_halt_index, 'if_halt_developing'] = df_t.loc[potential_halt_index].apply(\n",
    "            lambda x: 1 if x['cash_cost (nickel USD/t)'] * (1+r_cc)**((t+int(x['overall_left_time2']))/TIME_STEP_PER_YEAR)\\\n",
    "            > np.mean(price_f[t, int(x['overall_left_time2']):int(x['overall_left_time2'] + t_LR)]) else 0, axis=1)\n",
    "        df_t.loc[df_t['if_halt_developing']==1, 'last_time_halt_developing'] = t\n",
    "\n",
    "        # shutdown\n",
    "        potential_shutdown_index = (t - df_t['last_time_shutdown'] >= 10 * TIME_STEP_PER_YEAR) & \\\n",
    "            (df_t['current_stage']=='Operating-stage')\n",
    "        df_t.loc[potential_shutdown_index, 'if_shutdown'] = df_t.loc[potential_shutdown_index].apply(\n",
    "            lambda x: 1 if x['cash_cost (nickel USD/t)'] * (1+r_cc)**(t/TIME_STEP_PER_YEAR) > \\\n",
    "            np.mean(price_f[t, 0:t_SR]) else 0, axis=1)\n",
    "        df_t.loc[df_t['if_shutdown']==1, 'last_time_shutdown'] = t\n",
    "\n",
    "        if_abandon_index = (df_t['if_halt_developing']==1) | (df_t['if_shutdown']==1)\n",
    "        df_t.loc[if_abandon_index, 'current_stage'] = 'halt'\n",
    "        df_t.loc[if_abandon_index, 'dev_stage_left_time'] = df_t.loc[if_abandon_index, 'dev_stage_left_time'].fillna(0) + 2 * TIME_STEP_PER_YEAR\n",
    "        df_t.loc[if_abandon_index, 'overall_left_time'] = df_t.loc[if_abandon_index, 'overall_left_time'].fillna(0) + 2 * TIME_STEP_PER_YEAR\n",
    "        df_t.loc[if_abandon_index, 'overall_lead_time'] = df_t.loc[if_abandon_index, 'overall_lead_time'].fillna(0) + 2 * TIME_STEP_PER_YEAR\n",
    "\n",
    "        # restore\n",
    "        potential_restore_index = (df_t['current_stage']=='halt') & (-if_abandon_index)\n",
    "        df_t.loc[potential_restore_index, 'overall_left_time2'] = df_t.loc[potential_restore_index, 'overall_left_time'].map(lambda x: min(x, 10*TIME_STEP_PER_YEAR))\n",
    "        df_t.loc[potential_restore_index, 'if_restore'] = df_t.loc[potential_restore_index].apply(\n",
    "            lambda x: 1 if x['cash_cost (nickel USD/t)'] * (1+r_cc)**((t+int(x['overall_left_time2'])) / TIME_STEP_PER_YEAR)\\\n",
    "            <= np.mean(price_f[t, int(x['overall_left_time2']):int(x['overall_left_time2'] + t_LR)]) else 0, axis=1)\n",
    "        df_t.loc[df_t['if_restore']==1, 'current_stage'] = 'Development-stage'\n",
    "\n",
    "        # capacity utilization\n",
    "        potential_adjust_index = (df_t['current_stage']=='Operating-stage')\n",
    "        df_t.loc[potential_adjust_index, 'if_adjust_production'] = df_t.loc[potential_adjust_index].apply(\n",
    "            lambda x: 1 if x['cash_cost (nickel USD/t)'] * (1+r_cc)**(t / TIME_STEP_PER_YEAR)\\\n",
    "            <= 1 / full_capacity_cutoff * np.mean(price_f[t, 0:t_EXP]) else \\\n",
    "            -1 if x['cash_cost (nickel USD/t)'] * (1+r_cc)**(t / TIME_STEP_PER_YEAR)\\\n",
    "            <= np.mean(price_f[t, 0:t_EXP]) else 0, axis=1)\n",
    "\n",
    "        # expansion\n",
    "        potential_expand_index = (df_t['current_stage']=='Operating-stage') & (df_t['expand_left_time'].isnull())\n",
    "        df_t.loc[potential_expand_index, 'expand_left_time'] = df_t.loc[potential_expand_index].apply(\n",
    "            lambda x: 4 * TIME_STEP_PER_YEAR if x['cash_cost (nickel USD/t)'] * (1+r_cc)**(t / TIME_STEP_PER_YEAR)\\\n",
    "            <= 1 / expansion_cutoff * np.mean(price_f[t, 0:t_EXP]) else np.nan, axis=1)\n",
    "\n",
    "        df_t.loc[abs(df_t['if_adjust_production'])==1, 'num_adjust_production'] += 1\n",
    "        df_t.loc[df_t['if_halt_developing']==1, 'num_halt_developing'] += 1\n",
    "        df_t.loc[df_t['if_shutdown']==1, 'num_shutdown'] += 1\n",
    "        df_t.loc[df_t['if_restore']==1, 'num_restore'] += 1\n",
    "        df_t.loc[df_t['expand_left_time']==4 * TIME_STEP_PER_YEAR, 'num_expansion'] += 1\n",
    "\n",
    "        if not silent:\n",
    "            print('halt developing:%d shutdown:%d restore:%d expanding:%d'%(df_t['if_halt_developing'].sum(), df_t['if_shutdown'].sum(), df_t['if_restore'].sum(), df_t['expand_left_time'].count()))\n",
    "\n",
    "        \n",
    "        # base on current step's (+1) simulation with decision-making as the inital status of next step's simulation        \n",
    "        op_stage_index = df_t['current_stage']=='Operating-stage'\n",
    "        supply = (df_t.loc[op_stage_index, 'production_PROD_Ni_tpa']).sum() / TIME_STEP_PER_YEAR / 10000\n",
    "\n",
    "        supply_simulation += [supply]\n",
    "        price_simulation += [price_f[t, 0]]\n",
    "        \n",
    "        df_t['action'] = df_t['action'] + '_' + df_t['current_stage']\n",
    "        \n",
    "        if not silent:\n",
    "            print('supply:%.2f demand:%.2f price:%.2f'%(supply, demand_f[t, 0], price_f[t, 0]))\n",
    "\n",
    "    #     if t==0:\n",
    "    #         break\n",
    "    return supply_simulation, price_simulation, df_t, records_lst\n"
   ]
  },
  {
   "cell_type": "markdown",
   "id": "21758930",
   "metadata": {},
   "source": [
    "## debug"
   ]
  },
  {
   "cell_type": "code",
   "execution_count": 34,
   "id": "3915776a",
   "metadata": {
    "ExecuteTime": {
     "end_time": "2022-05-24T16:05:34.346625Z",
     "start_time": "2022-05-24T16:04:07.200116Z"
    },
    "scrolled": true
   },
   "outputs": [
    {
     "name": "stdout",
     "output_type": "stream",
     "text": [
      "++++++++++++++++++++++++++++++++++++++++++++++++++++++++++++++++++++++++++++++++++++++++++++++++++++++++++++++++++++++++++++++++++++++++++++++++++++++ \n",
      " 2020 1/4\n",
      "forecast time: +1 Year time_inf_range:2.50 pma:13205.66 d:60.32 s:66.36 d/s:0.91 price:10405.87\n",
      "forecast time: +2 Year time_inf_range:2.68 pma:13205.66 d:61.98 s:68.18 d/s:0.91 price:10229.42\n",
      "forecast time: +3 Year time_inf_range:2.87 pma:13205.66 d:64.72 s:71.19 d/s:0.91 price:10043.63\n",
      "forecast time: +4 Year time_inf_range:3.08 pma:13205.66 d:67.58 s:74.34 d/s:0.91 price:9848.25\n",
      "forecast time: +5 Year time_inf_range:3.30 pma:13205.66 d:70.57 s:77.62 d/s:0.91 price:9643.07\n",
      "forecast time: +6 Year time_inf_range:3.54 pma:13205.66 d:73.69 s:81.05 d/s:0.91 price:9427.90\n",
      "forecast time: +7 Year time_inf_range:3.79 pma:13205.66 d:76.94 s:84.64 d/s:0.91 price:9202.61\n",
      "forecast time: +8 Year time_inf_range:4.06 pma:13205.66 d:80.34 s:88.38 d/s:0.91 price:8967.13\n",
      "forecast time: +9 Year time_inf_range:4.35 pma:13205.66 d:83.90 s:92.29 d/s:0.91 price:8721.44\n",
      "forecast time: +10 Year time_inf_range:4.67 pma:13205.66 d:87.61 s:96.37 d/s:0.91 price:8465.57\n",
      "forecast time: +11 Year time_inf_range:5.00 pma:13205.66 d:91.48 s:100.63 d/s:0.91 price:8199.68\n",
      "forecast time: +12 Year time_inf_range:5.36 pma:13205.66 d:95.52 s:104.83 d/s:0.91 price:8023.71\n",
      "forecast time: +13 Year time_inf_range:5.74 pma:13205.66 d:99.74 s:101.89 d/s:0.98 price:11688.19\n",
      "forecast time: +14 Year time_inf_range:6.16 pma:13205.66 d:104.15 s:98.77 d/s:1.05 price:18311.28\n",
      "decision-making:\n",
      "halt developing:119 shutdown:65 restore:0 expanding:15\n",
      "supply:38.70 demand:60.32 price:10405.87\n",
      "++++++++++++++++++++++++++++++++++++++++++++++++++++++++++++++++++++++++++++++++++++++++++++++++++++++++++++++++++++++++++++++++++++++++++++++++++++++ \n",
      " 2020 2/4\n",
      "forecast time: +1 Year time_inf_range:2.50 pma:13205.66 d:60.00 s:51.16 d/s:1.17 price:19668.95\n",
      "forecast time: +2 Year time_inf_range:2.68 pma:13205.66 d:62.65 s:68.92 d/s:0.91 price:10229.42\n",
      "forecast time: +3 Year time_inf_range:2.87 pma:13205.66 d:65.42 s:71.96 d/s:0.91 price:10043.63\n",
      "forecast time: +4 Year time_inf_range:3.08 pma:13205.66 d:68.31 s:75.15 d/s:0.91 price:9848.25\n",
      "forecast time: +5 Year time_inf_range:3.30 pma:13205.66 d:71.33 s:78.47 d/s:0.91 price:9643.07\n",
      "forecast time: +6 Year time_inf_range:3.54 pma:13205.66 d:74.49 s:81.94 d/s:0.91 price:9427.90\n",
      "forecast time: +7 Year time_inf_range:3.79 pma:13205.66 d:77.78 s:85.56 d/s:0.91 price:9202.61\n",
      "forecast time: +8 Year time_inf_range:4.06 pma:13205.66 d:81.22 s:74.23 d/s:1.09 price:19027.14\n",
      "forecast time: +9 Year time_inf_range:4.35 pma:13205.66 d:84.81 s:68.21 d/s:1.24 price:34086.39\n",
      "forecast time: +10 Year time_inf_range:4.67 pma:13205.66 d:88.56 s:64.02 d/s:1.38 price:59995.49\n",
      "forecast time: +11 Year time_inf_range:5.00 pma:13205.66 d:92.47 s:61.97 d/s:1.49 price:97668.84\n",
      "forecast time: +12 Year time_inf_range:5.36 pma:13205.66 d:96.56 s:59.36 d/s:1.63 price:179180.52\n",
      "forecast time: +13 Year time_inf_range:5.74 pma:13205.66 d:100.83 s:56.81 d/s:1.77 price:356272.03\n",
      "forecast time: +14 Year time_inf_range:6.16 pma:13205.66 d:105.29 s:54.07 d/s:1.95 price:798277.94\n",
      "decision-making:\n",
      "halt developing:0 shutdown:9 restore:108 expanding:17\n",
      "supply:46.68 demand:60.00 price:19668.95\n",
      "++++++++++++++++++++++++++++++++++++++++++++++++++++++++++++++++++++++++++++++++++++++++++++++++++++++++++++++++++++++++++++++++++++++++++++++++++++++ \n",
      " 2020 3/4\n",
      "forecast time: +1 Year time_inf_range:2.50 pma:13205.66 d:60.65 s:53.39 d/s:1.14 price:18164.34\n",
      "forecast time: +2 Year time_inf_range:2.68 pma:13205.66 d:63.33 s:69.67 d/s:0.91 price:10229.42\n",
      "forecast time: +3 Year time_inf_range:2.87 pma:13205.66 d:66.13 s:72.75 d/s:0.91 price:10043.63\n",
      "forecast time: +4 Year time_inf_range:3.08 pma:13205.66 d:69.06 s:75.96 d/s:0.91 price:9848.25\n",
      "forecast time: +5 Year time_inf_range:3.30 pma:13205.66 d:72.11 s:79.32 d/s:0.91 price:9643.07\n",
      "forecast time: +6 Year time_inf_range:3.54 pma:13205.66 d:75.30 s:82.83 d/s:0.91 price:9427.90\n",
      "forecast time: +7 Year time_inf_range:3.79 pma:13205.66 d:78.63 s:86.49 d/s:0.91 price:9202.61\n",
      "forecast time: +8 Year time_inf_range:4.06 pma:13205.66 d:82.10 s:90.31 d/s:0.91 price:8967.13\n",
      "forecast time: +9 Year time_inf_range:4.35 pma:13205.66 d:85.73 s:94.30 d/s:0.91 price:8721.44\n",
      "forecast time: +10 Year time_inf_range:4.67 pma:13205.66 d:89.52 s:91.07 d/s:0.98 price:12188.37\n",
      "forecast time: +11 Year time_inf_range:5.00 pma:13205.66 d:93.48 s:84.03 d/s:1.11 price:22503.83\n",
      "forecast time: +12 Year time_inf_range:5.36 pma:13205.66 d:97.61 s:80.05 d/s:1.22 price:38216.83\n",
      "forecast time: +13 Year time_inf_range:5.74 pma:13205.66 d:101.92 s:76.38 d/s:1.33 price:69250.50\n",
      "forecast time: +14 Year time_inf_range:6.16 pma:13205.66 d:106.43 s:73.32 d/s:1.45 price:130889.04\n",
      "decision-making:\n",
      "halt developing:0 shutdown:7 restore:0 expanding:17\n",
      "supply:51.87 demand:60.65 price:18164.34\n",
      "++++++++++++++++++++++++++++++++++++++++++++++++++++++++++++++++++++++++++++++++++++++++++++++++++++++++++++++++++++++++++++++++++++++++++++++++++++++ \n",
      " 2020 4/4\n",
      "forecast time: +1 Year time_inf_range:2.50 pma:13205.66 d:61.31 s:52.77 d/s:1.16 price:19219.83\n",
      "forecast time: +2 Year time_inf_range:2.68 pma:13205.66 d:64.02 s:70.42 d/s:0.91 price:10229.42\n",
      "forecast time: +3 Year time_inf_range:2.87 pma:13205.66 d:66.85 s:73.54 d/s:0.91 price:10043.63\n",
      "forecast time: +4 Year time_inf_range:3.08 pma:13205.66 d:69.81 s:76.79 d/s:0.91 price:9848.25\n",
      "forecast time: +5 Year time_inf_range:3.30 pma:13205.66 d:72.89 s:80.18 d/s:0.91 price:9643.07\n",
      "forecast time: +6 Year time_inf_range:3.54 pma:13205.66 d:76.12 s:83.73 d/s:0.91 price:9427.90\n",
      "forecast time: +7 Year time_inf_range:3.79 pma:13205.66 d:79.48 s:87.43 d/s:0.91 price:9202.61\n",
      "forecast time: +8 Year time_inf_range:4.06 pma:13205.66 d:82.99 s:81.80 d/s:1.01 price:14005.25\n",
      "forecast time: +9 Year time_inf_range:4.35 pma:13205.66 d:86.66 s:79.50 d/s:1.09 price:19228.47\n",
      "forecast time: +10 Year time_inf_range:4.67 pma:13205.66 d:90.49 s:73.16 d/s:1.24 price:35598.80\n",
      "forecast time: +11 Year time_inf_range:5.00 pma:13205.66 d:94.49 s:67.98 d/s:1.39 price:68527.88\n",
      "forecast time: +12 Year time_inf_range:5.36 pma:13205.66 d:98.67 s:65.30 d/s:1.51 price:120621.00\n",
      "forecast time: +13 Year time_inf_range:5.74 pma:13205.66 d:103.03 s:59.86 d/s:1.72 price:298840.30\n",
      "forecast time: +14 Year time_inf_range:6.16 pma:13205.66 d:107.59 s:56.40 d/s:1.91 price:703248.94\n",
      "decision-making:\n",
      "halt developing:0 shutdown:4 restore:0 expanding:18\n",
      "supply:51.33 demand:61.31 price:19219.83\n",
      "++++++++++++++++++++++++++++++++++++++++++++++++++++++++++++++++++++++++++++++++++++++++++++++++++++++++++++++++++++++++++++++++++++++++++++++++++++++ \n",
      " 2021 1/4\n",
      "forecast time: +1 Year time_inf_range:2.50 pma:13205.66 d:61.98 s:68.18 d/s:0.91 price:10405.87\n",
      "forecast time: +2 Year time_inf_range:2.68 pma:13205.66 d:64.72 s:71.19 d/s:0.91 price:10229.42\n",
      "forecast time: +3 Year time_inf_range:2.87 pma:13205.66 d:67.58 s:74.34 d/s:0.91 price:10043.63\n",
      "forecast time: +4 Year time_inf_range:3.08 pma:13205.66 d:70.57 s:77.62 d/s:0.91 price:9848.25\n",
      "forecast time: +5 Year time_inf_range:3.30 pma:13205.66 d:73.69 s:81.05 d/s:0.91 price:9643.07\n",
      "forecast time: +6 Year time_inf_range:3.54 pma:13205.66 d:76.94 s:84.64 d/s:0.91 price:9427.90\n",
      "forecast time: +7 Year time_inf_range:3.79 pma:13205.66 d:80.34 s:88.38 d/s:0.91 price:9202.61\n",
      "forecast time: +8 Year time_inf_range:4.06 pma:13205.66 d:83.90 s:92.29 d/s:0.91 price:8967.13\n",
      "forecast time: +9 Year time_inf_range:4.35 pma:13205.66 d:87.61 s:87.71 d/s:1.00 price:13136.90\n",
      "forecast time: +10 Year time_inf_range:4.67 pma:13205.66 d:91.48 s:81.58 d/s:1.12 price:22533.69\n",
      "forecast time: +11 Year time_inf_range:5.00 pma:13205.66 d:95.52 s:78.08 d/s:1.22 price:36180.61\n",
      "forecast time: +12 Year time_inf_range:5.36 pma:13205.66 d:99.74 s:73.82 d/s:1.35 price:66276.26\n",
      "forecast time: +13 Year time_inf_range:5.74 pma:13205.66 d:104.15 s:68.67 d/s:1.52 price:144423.95\n",
      "forecast time: +14 Year time_inf_range:6.16 pma:13205.66 d:108.76 s:65.41 d/s:1.66 price:302065.25\n",
      "decision-making:\n",
      "halt developing:0 shutdown:10 restore:0 expanding:18\n",
      "supply:47.99 demand:61.98 price:10405.87\n",
      "++++++++++++++++++++++++++++++++++++++++++++++++++++++++++++++++++++++++++++++++++++++++++++++++++++++++++++++++++++++++++++++++++++++++++++++++++++++ \n",
      " 2021 2/4\n",
      "forecast time: +1 Year time_inf_range:2.50 pma:13205.66 d:62.65 s:58.14 d/s:1.08 price:15920.54\n",
      "forecast time: +2 Year time_inf_range:2.68 pma:13205.66 d:65.42 s:62.36 d/s:1.05 price:15016.42\n",
      "forecast time: +3 Year time_inf_range:2.87 pma:13205.66 d:68.31 s:68.72 d/s:0.99 price:12983.40\n"
     ]
    },
    {
     "name": "stdout",
     "output_type": "stream",
     "text": [
      "forecast time: +4 Year time_inf_range:3.08 pma:13205.66 d:71.33 s:67.45 d/s:1.06 price:15686.64\n",
      "forecast time: +5 Year time_inf_range:3.30 pma:13205.66 d:74.49 s:68.74 d/s:1.08 price:17210.96\n",
      "forecast time: +6 Year time_inf_range:3.54 pma:13205.66 d:77.78 s:75.94 d/s:1.02 price:14371.60\n",
      "forecast time: +7 Year time_inf_range:3.79 pma:13205.66 d:81.22 s:63.80 d/s:1.27 price:32966.27\n",
      "forecast time: +8 Year time_inf_range:4.06 pma:13205.66 d:84.81 s:65.46 d/s:1.30 price:37807.70\n",
      "forecast time: +9 Year time_inf_range:4.35 pma:13205.66 d:88.56 s:63.73 d/s:1.39 price:55281.64\n",
      "forecast time: +10 Year time_inf_range:4.67 pma:13205.66 d:92.47 s:60.76 d/s:1.52 price:93665.55\n",
      "forecast time: +11 Year time_inf_range:5.00 pma:13205.66 d:96.56 s:62.22 d/s:1.55 price:118854.86\n",
      "forecast time: +12 Year time_inf_range:5.36 pma:13205.66 d:100.83 s:58.34 d/s:1.73 price:247717.46\n",
      "forecast time: +13 Year time_inf_range:5.74 pma:13205.66 d:105.29 s:53.77 d/s:1.96 price:626535.80\n",
      "forecast time: +14 Year time_inf_range:6.16 pma:13205.66 d:109.94 s:50.09 d/s:2.19 price:1667826.24\n",
      "decision-making:\n",
      "halt developing:0 shutdown:1 restore:75 expanding:49\n",
      "supply:57.77 demand:62.65 price:15920.54\n",
      "++++++++++++++++++++++++++++++++++++++++++++++++++++++++++++++++++++++++++++++++++++++++++++++++++++++++++++++++++++++++++++++++++++++++++++++++++++++ \n",
      " 2021 3/4\n",
      "forecast time: +1 Year time_inf_range:2.50 pma:13205.66 d:63.33 s:66.04 d/s:0.96 price:11892.02\n",
      "forecast time: +2 Year time_inf_range:2.68 pma:13205.66 d:66.13 s:72.75 d/s:0.91 price:10229.42\n",
      "forecast time: +3 Year time_inf_range:2.87 pma:13205.66 d:69.06 s:75.96 d/s:0.91 price:10043.63\n",
      "forecast time: +4 Year time_inf_range:3.08 pma:13205.66 d:72.11 s:79.32 d/s:0.91 price:9848.25\n",
      "forecast time: +5 Year time_inf_range:3.30 pma:13205.66 d:75.30 s:82.83 d/s:0.91 price:9643.07\n",
      "forecast time: +6 Year time_inf_range:3.54 pma:13205.66 d:78.63 s:86.49 d/s:0.91 price:9427.90\n",
      "forecast time: +7 Year time_inf_range:3.79 pma:13205.66 d:82.10 s:86.70 d/s:0.95 price:10743.23\n",
      "forecast time: +8 Year time_inf_range:4.06 pma:13205.66 d:85.73 s:78.91 d/s:1.09 price:18490.97\n",
      "forecast time: +9 Year time_inf_range:4.35 pma:13205.66 d:89.52 s:72.59 d/s:1.23 price:32884.31\n",
      "forecast time: +10 Year time_inf_range:4.67 pma:13205.66 d:93.48 s:67.85 d/s:1.38 price:58876.50\n",
      "forecast time: +11 Year time_inf_range:5.00 pma:13205.66 d:97.61 s:63.34 d/s:1.54 price:114817.29\n",
      "forecast time: +12 Year time_inf_range:5.36 pma:13205.66 d:101.92 s:57.53 d/s:1.77 price:283083.35\n",
      "forecast time: +13 Year time_inf_range:5.74 pma:13205.66 d:106.43 s:53.11 d/s:2.00 price:715367.38\n",
      "forecast time: +14 Year time_inf_range:6.16 pma:13205.66 d:111.14 s:48.98 d/s:2.27 price:2047568.81\n",
      "decision-making:\n",
      "halt developing:0 shutdown:7 restore:0 expanding:49\n",
      "supply:60.72 demand:63.33 price:11892.02\n",
      "++++++++++++++++++++++++++++++++++++++++++++++++++++++++++++++++++++++++++++++++++++++++++++++++++++++++++++++++++++++++++++++++++++++++++++++++++++++ \n",
      " 2021 4/4\n",
      "forecast time: +1 Year time_inf_range:2.50 pma:13205.66 d:64.02 s:52.35 d/s:1.22 price:21841.35\n",
      "forecast time: +2 Year time_inf_range:2.68 pma:13205.66 d:66.85 s:60.12 d/s:1.11 price:17553.51\n",
      "forecast time: +3 Year time_inf_range:2.87 pma:13205.66 d:69.81 s:73.27 d/s:0.95 price:11492.06\n",
      "forecast time: +4 Year time_inf_range:3.08 pma:13205.66 d:72.89 s:74.17 d/s:0.98 price:12517.36\n",
      "forecast time: +5 Year time_inf_range:3.30 pma:13205.66 d:76.12 s:79.78 d/s:0.95 price:11310.59\n",
      "forecast time: +6 Year time_inf_range:3.54 pma:13205.66 d:79.48 s:77.47 d/s:1.03 price:14455.37\n",
      "forecast time: +7 Year time_inf_range:3.79 pma:13205.66 d:82.99 s:74.22 d/s:1.12 price:20170.15\n",
      "forecast time: +8 Year time_inf_range:4.06 pma:13205.66 d:86.66 s:70.41 d/s:1.23 price:30697.75\n",
      "forecast time: +9 Year time_inf_range:4.35 pma:13205.66 d:90.49 s:66.79 d/s:1.35 price:49551.77\n",
      "forecast time: +10 Year time_inf_range:4.67 pma:13205.66 d:94.49 s:65.90 d/s:1.43 price:70973.91\n",
      "forecast time: +11 Year time_inf_range:5.00 pma:13205.66 d:98.67 s:63.24 d/s:1.56 price:122156.43\n",
      "forecast time: +12 Year time_inf_range:5.36 pma:13205.66 d:103.03 s:56.94 d/s:1.81 price:316993.01\n",
      "forecast time: +13 Year time_inf_range:5.74 pma:13205.66 d:107.59 s:53.51 d/s:2.01 price:729506.25\n",
      "forecast time: +14 Year time_inf_range:6.16 pma:13205.66 d:112.34 s:49.28 d/s:2.28 price:2106941.32\n",
      "decision-making:\n",
      "halt developing:0 shutdown:2 restore:0 expanding:50\n",
      "supply:52.32 demand:64.02 price:21841.35\n",
      "++++++++++++++++++++++++++++++++++++++++++++++++++++++++++++++++++++++++++++++++++++++++++++++++++++++++++++++++++++++++++++++++++++++++++++++++++++++ \n",
      " 2022 1/4\n",
      "forecast time: +1 Year time_inf_range:2.50 pma:13205.66 d:64.72 s:57.41 d/s:1.13 price:17815.56\n",
      "forecast time: +2 Year time_inf_range:2.68 pma:13205.66 d:67.58 s:72.88 d/s:0.93 price:10787.34\n",
      "forecast time: +3 Year time_inf_range:2.87 pma:13205.66 d:70.57 s:77.62 d/s:0.91 price:10043.63\n",
      "forecast time: +4 Year time_inf_range:3.08 pma:13205.66 d:73.69 s:81.05 d/s:0.91 price:9848.25\n",
      "forecast time: +5 Year time_inf_range:3.30 pma:13205.66 d:76.94 s:84.64 d/s:0.91 price:9643.07\n",
      "forecast time: +6 Year time_inf_range:3.54 pma:13205.66 d:80.34 s:88.38 d/s:0.91 price:9427.90\n",
      "forecast time: +7 Year time_inf_range:3.79 pma:13205.66 d:83.90 s:87.79 d/s:0.96 price:11119.16\n",
      "forecast time: +8 Year time_inf_range:4.06 pma:13205.66 d:87.61 s:80.32 d/s:1.09 price:18791.72\n",
      "forecast time: +9 Year time_inf_range:4.35 pma:13205.66 d:91.48 s:76.29 d/s:1.20 price:29105.76\n",
      "forecast time: +10 Year time_inf_range:4.67 pma:13205.66 d:95.52 s:72.37 d/s:1.32 price:48208.78\n",
      "forecast time: +11 Year time_inf_range:5.00 pma:13205.66 d:99.74 s:69.97 d/s:1.43 price:77713.74\n",
      "forecast time: +12 Year time_inf_range:5.36 pma:13205.66 d:104.15 s:62.96 d/s:1.65 price:196013.83\n",
      "forecast time: +13 Year time_inf_range:5.74 pma:13205.66 d:108.76 s:59.06 d/s:1.84 price:440351.11\n",
      "forecast time: +14 Year time_inf_range:6.16 pma:13205.66 d:113.57 s:55.12 d/s:2.06 price:1130887.79\n",
      "decision-making:\n",
      "halt developing:0 shutdown:2 restore:0 expanding:50\n",
      "supply:56.92 demand:64.72 price:17815.56\n",
      "++++++++++++++++++++++++++++++++++++++++++++++++++++++++++++++++++++++++++++++++++++++++++++++++++++++++++++++++++++++++++++++++++++++++++++++++++++++ \n",
      " 2022 2/4\n",
      "forecast time: +1 Year time_inf_range:2.50 pma:13205.66 d:65.42 s:55.92 d/s:1.17 price:19550.49\n",
      "forecast time: +2 Year time_inf_range:2.68 pma:13205.66 d:68.31 s:64.98 d/s:1.05 price:15100.76\n",
      "forecast time: +3 Year time_inf_range:2.87 pma:13205.66 d:71.33 s:78.47 d/s:0.91 price:10043.63\n",
      "forecast time: +4 Year time_inf_range:3.08 pma:13205.66 d:74.49 s:81.94 d/s:0.91 price:9848.25\n",
      "forecast time: +5 Year time_inf_range:3.30 pma:13205.66 d:77.78 s:85.56 d/s:0.91 price:9643.07\n",
      "forecast time: +6 Year time_inf_range:3.54 pma:13205.66 d:81.22 s:88.84 d/s:0.91 price:9618.23\n",
      "forecast time: +7 Year time_inf_range:3.79 pma:13205.66 d:84.81 s:83.42 d/s:1.02 price:14059.48\n",
      "forecast time: +8 Year time_inf_range:4.06 pma:13205.66 d:88.56 s:80.24 d/s:1.10 price:19715.65\n",
      "forecast time: +9 Year time_inf_range:4.35 pma:13205.66 d:92.47 s:79.99 d/s:1.16 price:24822.55\n",
      "forecast time: +10 Year time_inf_range:4.67 pma:13205.66 d:96.56 s:77.43 d/s:1.25 price:36993.06\n",
      "forecast time: +11 Year time_inf_range:5.00 pma:13205.66 d:100.83 s:71.71 d/s:1.41 price:72574.01\n",
      "forecast time: +12 Year time_inf_range:5.36 pma:13205.66 d:105.29 s:65.16 d/s:1.62 price:172802.78\n",
      "forecast time: +13 Year time_inf_range:5.74 pma:13205.66 d:109.94 s:60.27 d/s:1.82 price:417080.89\n",
      "forecast time: +14 Year time_inf_range:6.16 pma:13205.66 d:114.80 s:53.77 d/s:2.14 price:1408128.66\n",
      "decision-making:\n",
      "halt developing:0 shutdown:4 restore:0 expanding:50\n",
      "supply:55.66 demand:65.42 price:19550.49\n",
      "++++++++++++++++++++++++++++++++++++++++++++++++++++++++++++++++++++++++++++++++++++++++++++++++++++++++++++++++++++++++++++++++++++++++++++++++++++++ \n",
      " 2022 3/4\n",
      "forecast time: +1 Year time_inf_range:2.50 pma:13205.66 d:66.13 s:65.79 d/s:1.01 price:13380.01\n",
      "forecast time: +2 Year time_inf_range:2.68 pma:13205.66 d:69.06 s:75.96 d/s:0.91 price:10229.42\n",
      "forecast time: +3 Year time_inf_range:2.87 pma:13205.66 d:72.11 s:79.32 d/s:0.91 price:10043.63\n",
      "forecast time: +4 Year time_inf_range:3.08 pma:13205.66 d:75.30 s:82.83 d/s:0.91 price:9848.25\n",
      "forecast time: +5 Year time_inf_range:3.30 pma:13205.66 d:78.63 s:86.49 d/s:0.91 price:9643.07\n",
      "forecast time: +6 Year time_inf_range:3.54 pma:13205.66 d:82.10 s:84.24 d/s:0.97 price:12056.29\n"
     ]
    },
    {
     "name": "stdout",
     "output_type": "stream",
     "text": [
      "forecast time: +7 Year time_inf_range:3.79 pma:13205.66 d:85.73 s:77.65 d/s:1.10 price:19219.13\n",
      "forecast time: +8 Year time_inf_range:4.06 pma:13205.66 d:89.52 s:72.27 d/s:1.24 price:31505.44\n",
      "forecast time: +9 Year time_inf_range:4.35 pma:13205.66 d:93.48 s:68.61 d/s:1.36 price:50753.65\n",
      "forecast time: +10 Year time_inf_range:4.67 pma:13205.66 d:97.61 s:67.27 d/s:1.45 price:74978.87\n",
      "forecast time: +11 Year time_inf_range:5.00 pma:13205.66 d:101.92 s:60.77 d/s:1.68 price:175326.71\n",
      "forecast time: +12 Year time_inf_range:5.36 pma:13205.66 d:106.43 s:56.63 d/s:1.88 price:388406.73\n",
      "forecast time: +13 Year time_inf_range:5.74 pma:13205.66 d:111.14 s:53.64 d/s:2.07 price:866944.20\n",
      "forecast time: +14 Year time_inf_range:6.16 pma:13205.66 d:116.05 s:50.38 d/s:2.30 price:2246251.72\n",
      "decision-making:\n",
      "halt developing:0 shutdown:7 restore:0 expanding:50\n",
      "supply:63.26 demand:66.13 price:13380.01\n",
      "++++++++++++++++++++++++++++++++++++++++++++++++++++++++++++++++++++++++++++++++++++++++++++++++++++++++++++++++++++++++++++++++++++++++++++++++++++++ \n",
      " 2022 4/4\n",
      "forecast time: +1 Year time_inf_range:2.50 pma:13205.66 d:66.85 s:57.89 d/s:1.15 price:18927.75\n",
      "forecast time: +2 Year time_inf_range:2.68 pma:13205.66 d:69.81 s:76.79 d/s:0.91 price:10229.42\n",
      "forecast time: +3 Year time_inf_range:2.87 pma:13205.66 d:72.89 s:80.18 d/s:0.91 price:10043.63\n",
      "forecast time: +4 Year time_inf_range:3.08 pma:13205.66 d:76.12 s:83.73 d/s:0.91 price:9848.25\n",
      "forecast time: +5 Year time_inf_range:3.30 pma:13205.66 d:79.48 s:87.43 d/s:0.91 price:9643.07\n",
      "forecast time: +6 Year time_inf_range:3.54 pma:13205.66 d:82.99 s:83.64 d/s:0.99 price:12847.27\n",
      "forecast time: +7 Year time_inf_range:3.79 pma:13205.66 d:86.66 s:81.34 d/s:1.07 price:16792.50\n",
      "forecast time: +8 Year time_inf_range:4.06 pma:13205.66 d:90.49 s:78.88 d/s:1.15 price:23071.58\n",
      "forecast time: +9 Year time_inf_range:4.35 pma:13205.66 d:94.49 s:76.55 d/s:1.23 price:33028.28\n",
      "forecast time: +10 Year time_inf_range:4.67 pma:13205.66 d:98.67 s:74.45 d/s:1.33 price:49144.94\n",
      "forecast time: +11 Year time_inf_range:5.00 pma:13205.66 d:103.03 s:67.46 d/s:1.53 price:109776.30\n",
      "forecast time: +12 Year time_inf_range:5.36 pma:13205.66 d:107.59 s:62.45 d/s:1.72 price:243520.62\n",
      "forecast time: +13 Year time_inf_range:5.74 pma:13205.66 d:112.34 s:57.78 d/s:1.94 price:601538.65\n",
      "forecast time: +14 Year time_inf_range:6.16 pma:13205.66 d:117.31 s:51.38 d/s:2.28 price:2126913.42\n",
      "decision-making:\n",
      "halt developing:0 shutdown:1 restore:3 expanding:53\n",
      "supply:57.88 demand:66.85 price:18927.75\n",
      "++++++++++++++++++++++++++++++++++++++++++++++++++++++++++++++++++++++++++++++++++++++++++++++++++++++++++++++++++++++++++++++++++++++++++++++++++++++ \n",
      " 2023 1/4\n",
      "forecast time: +1 Year time_inf_range:2.50 pma:13205.66 d:67.58 s:60.40 d/s:1.12 price:17483.89\n",
      "forecast time: +2 Year time_inf_range:2.68 pma:13205.66 d:70.57 s:77.62 d/s:0.91 price:10229.42\n",
      "forecast time: +3 Year time_inf_range:2.87 pma:13205.66 d:73.69 s:81.05 d/s:0.91 price:10043.63\n",
      "forecast time: +4 Year time_inf_range:3.08 pma:13205.66 d:76.94 s:84.64 d/s:0.91 price:9848.25\n",
      "forecast time: +5 Year time_inf_range:3.30 pma:13205.66 d:80.34 s:88.38 d/s:0.91 price:9643.07\n",
      "forecast time: +6 Year time_inf_range:3.54 pma:13205.66 d:83.90 s:92.29 d/s:0.91 price:9427.90\n",
      "forecast time: +7 Year time_inf_range:3.79 pma:13205.66 d:87.61 s:94.57 d/s:0.93 price:9884.05\n",
      "forecast time: +8 Year time_inf_range:4.06 pma:13205.66 d:91.48 s:90.97 d/s:1.01 price:13505.18\n",
      "forecast time: +9 Year time_inf_range:4.35 pma:13205.66 d:95.52 s:88.41 d/s:1.08 price:18490.72\n",
      "forecast time: +10 Year time_inf_range:4.67 pma:13205.66 d:99.74 s:85.57 d/s:1.17 price:26994.35\n",
      "forecast time: +11 Year time_inf_range:5.00 pma:13205.66 d:104.15 s:78.20 d/s:1.33 price:55350.34\n",
      "forecast time: +12 Year time_inf_range:5.36 pma:13205.66 d:108.76 s:72.41 d/s:1.50 price:116820.79\n",
      "forecast time: +13 Year time_inf_range:5.74 pma:13205.66 d:113.57 s:65.01 d/s:1.75 price:325125.73\n",
      "forecast time: +14 Year time_inf_range:6.16 pma:13205.66 d:118.59 s:60.05 d/s:1.97 price:870602.59\n",
      "decision-making:\n",
      "halt developing:0 shutdown:3 restore:1 expanding:53\n",
      "supply:59.02 demand:67.58 price:17483.89\n",
      "++++++++++++++++++++++++++++++++++++++++++++++++++++++++++++++++++++++++++++++++++++++++++++++++++++++++++++++++++++++++++++++++++++++++++++++++++++++ \n",
      " 2023 2/4\n",
      "forecast time: +1 Year time_inf_range:2.50 pma:13205.66 d:68.31 s:63.50 d/s:1.08 price:15854.91\n",
      "forecast time: +2 Year time_inf_range:2.68 pma:13205.66 d:71.33 s:78.47 d/s:0.91 price:10229.42\n",
      "forecast time: +3 Year time_inf_range:2.87 pma:13205.66 d:74.49 s:81.94 d/s:0.91 price:10043.63\n",
      "forecast time: +4 Year time_inf_range:3.08 pma:13205.66 d:77.78 s:85.56 d/s:0.91 price:9848.25\n",
      "forecast time: +5 Year time_inf_range:3.30 pma:13205.66 d:81.22 s:89.34 d/s:0.91 price:9643.07\n",
      "forecast time: +6 Year time_inf_range:3.54 pma:13205.66 d:84.81 s:92.84 d/s:0.91 price:9590.06\n",
      "forecast time: +7 Year time_inf_range:3.79 pma:13205.66 d:88.56 s:91.15 d/s:0.97 price:11840.37\n",
      "forecast time: +8 Year time_inf_range:4.06 pma:13205.66 d:92.47 s:90.92 d/s:1.02 price:14143.12\n",
      "forecast time: +9 Year time_inf_range:4.35 pma:13205.66 d:96.56 s:92.15 d/s:1.05 price:16186.18\n",
      "forecast time: +10 Year time_inf_range:4.67 pma:13205.66 d:100.83 s:86.99 d/s:1.16 price:26293.69\n",
      "forecast time: +11 Year time_inf_range:5.00 pma:13205.66 d:105.29 s:80.76 d/s:1.30 price:49738.31\n",
      "forecast time: +12 Year time_inf_range:5.36 pma:13205.66 d:109.94 s:74.51 d/s:1.48 price:106167.90\n",
      "forecast time: +13 Year time_inf_range:5.74 pma:13205.66 d:114.80 s:67.67 d/s:1.70 price:274817.52\n",
      "forecast time: +14 Year time_inf_range:6.16 pma:13205.66 d:119.87 s:60.91 d/s:1.97 price:852711.66\n",
      "decision-making:\n",
      "halt developing:0 shutdown:10 restore:0 expanding:53\n",
      "supply:60.06 demand:68.31 price:15854.91\n",
      "++++++++++++++++++++++++++++++++++++++++++++++++++++++++++++++++++++++++++++++++++++++++++++++++++++++++++++++++++++++++++++++++++++++++++++++++++++++ \n",
      " 2023 3/4\n",
      "forecast time: +1 Year time_inf_range:2.50 pma:13205.66 d:69.06 s:75.96 d/s:0.91 price:10405.87\n",
      "forecast time: +2 Year time_inf_range:2.68 pma:13205.66 d:72.11 s:79.32 d/s:0.91 price:10229.42\n",
      "forecast time: +3 Year time_inf_range:2.87 pma:13205.66 d:75.30 s:82.83 d/s:0.91 price:10043.63\n",
      "forecast time: +4 Year time_inf_range:3.08 pma:13205.66 d:78.63 s:86.49 d/s:0.91 price:9848.25\n",
      "forecast time: +5 Year time_inf_range:3.30 pma:13205.66 d:82.10 s:90.31 d/s:0.91 price:9643.07\n",
      "forecast time: +6 Year time_inf_range:3.54 pma:13205.66 d:85.73 s:89.88 d/s:0.95 price:11174.42\n",
      "forecast time: +7 Year time_inf_range:3.79 pma:13205.66 d:89.52 s:86.25 d/s:1.04 price:15204.07\n",
      "forecast time: +8 Year time_inf_range:4.06 pma:13205.66 d:93.48 s:84.34 d/s:1.11 price:20052.91\n",
      "forecast time: +9 Year time_inf_range:4.35 pma:13205.66 d:97.61 s:83.98 d/s:1.16 price:25412.41\n",
      "forecast time: +10 Year time_inf_range:4.67 pma:13205.66 d:101.92 s:76.85 d/s:1.33 price:49296.11\n",
      "forecast time: +11 Year time_inf_range:5.00 pma:13205.66 d:106.43 s:71.50 d/s:1.49 price:96518.49\n",
      "forecast time: +12 Year time_inf_range:5.36 pma:13205.66 d:111.14 s:65.24 d/s:1.70 price:229385.19\n",
      "forecast time: +13 Year time_inf_range:5.74 pma:13205.66 d:116.05 s:57.74 d/s:2.01 price:727915.66\n",
      "forecast time: +14 Year time_inf_range:6.16 pma:13205.66 d:121.18 s:50.47 d/s:2.40 price:2898422.86\n",
      "decision-making:\n",
      "halt developing:0 shutdown:13 restore:3 expanding:53\n",
      "supply:85.76 demand:69.06 price:10405.87\n",
      "++++++++++++++++++++++++++++++++++++++++++++++++++++++++++++++++++++++++++++++++++++++++++++++++++++++++++++++++++++++++++++++++++++++++++++++++++++++ \n",
      " 2023 4/4\n",
      "forecast time: +1 Year time_inf_range:2.50 pma:13205.66 d:69.81 s:76.79 d/s:0.91 price:10405.87\n",
      "forecast time: +2 Year time_inf_range:2.68 pma:13205.66 d:72.89 s:80.18 d/s:0.91 price:10229.42\n",
      "forecast time: +3 Year time_inf_range:2.87 pma:13205.66 d:76.12 s:83.73 d/s:0.91 price:10043.63\n",
      "forecast time: +4 Year time_inf_range:3.08 pma:13205.66 d:79.48 s:87.43 d/s:0.91 price:9848.25\n",
      "forecast time: +5 Year time_inf_range:3.30 pma:13205.66 d:82.99 s:91.29 d/s:0.91 price:9643.07\n",
      "forecast time: +6 Year time_inf_range:3.54 pma:13205.66 d:86.66 s:88.82 d/s:0.98 price:12107.56\n",
      "forecast time: +7 Year time_inf_range:3.79 pma:13205.66 d:90.49 s:84.93 d/s:1.07 price:16798.02\n"
     ]
    },
    {
     "name": "stdout",
     "output_type": "stream",
     "text": [
      "forecast time: +8 Year time_inf_range:4.06 pma:13205.66 d:94.49 s:82.85 d/s:1.14 price:22526.79\n",
      "forecast time: +9 Year time_inf_range:4.35 pma:13205.66 d:98.67 s:81.85 d/s:1.21 price:29795.09\n",
      "forecast time: +10 Year time_inf_range:4.67 pma:13205.66 d:103.03 s:72.84 d/s:1.41 price:66564.33\n",
      "forecast time: +11 Year time_inf_range:5.00 pma:13205.66 d:107.59 s:66.13 d/s:1.63 price:150486.10\n",
      "forecast time: +12 Year time_inf_range:5.36 pma:13205.66 d:112.34 s:59.32 d/s:1.89 price:404489.58\n",
      "forecast time: +13 Year time_inf_range:5.74 pma:13205.66 d:117.31 s:51.73 d/s:2.27 price:1455464.59\n",
      "forecast time: +14 Year time_inf_range:6.16 pma:13205.66 d:122.50 s:45.91 d/s:2.67 price:5552139.22\n",
      "decision-making:\n",
      "halt developing:0 shutdown:6 restore:2 expanding:53\n",
      "supply:82.96 demand:69.81 price:10405.87\n",
      "++++++++++++++++++++++++++++++++++++++++++++++++++++++++++++++++++++++++++++++++++++++++++++++++++++++++++++++++++++++++++++++++++++++++++++++++++++++ \n",
      " 2024 1/4\n",
      "forecast time: +1 Year time_inf_range:2.50 pma:13205.66 d:70.57 s:77.62 d/s:0.91 price:10405.87\n",
      "forecast time: +2 Year time_inf_range:2.68 pma:13205.66 d:73.69 s:81.05 d/s:0.91 price:10229.42\n",
      "forecast time: +3 Year time_inf_range:2.87 pma:13205.66 d:76.94 s:84.64 d/s:0.91 price:10043.63\n",
      "forecast time: +4 Year time_inf_range:3.08 pma:13205.66 d:80.34 s:88.38 d/s:0.91 price:9848.25\n",
      "forecast time: +5 Year time_inf_range:3.30 pma:13205.66 d:83.90 s:90.60 d/s:0.93 price:10247.02\n",
      "forecast time: +6 Year time_inf_range:3.54 pma:13205.66 d:87.61 s:88.09 d/s:0.99 price:12950.81\n",
      "forecast time: +7 Year time_inf_range:3.79 pma:13205.66 d:91.48 s:84.83 d/s:1.08 price:17579.15\n",
      "forecast time: +8 Year time_inf_range:4.06 pma:13205.66 d:95.52 s:83.59 d/s:1.14 price:22698.43\n",
      "forecast time: +9 Year time_inf_range:4.35 pma:13205.66 d:99.74 s:81.90 d/s:1.22 price:31135.82\n",
      "forecast time: +10 Year time_inf_range:4.67 pma:13205.66 d:104.15 s:75.39 d/s:1.38 price:59641.86\n",
      "forecast time: +11 Year time_inf_range:5.00 pma:13205.66 d:108.76 s:69.90 d/s:1.56 price:120441.28\n",
      "forecast time: +12 Year time_inf_range:5.36 pma:13205.66 d:113.57 s:62.88 d/s:1.81 price:313634.22\n",
      "forecast time: +13 Year time_inf_range:5.74 pma:13205.66 d:118.59 s:56.45 d/s:2.10 price:938078.08\n",
      "forecast time: +14 Year time_inf_range:6.16 pma:13205.66 d:123.83 s:50.23 d/s:2.47 price:3411844.49\n",
      "decision-making:\n",
      "halt developing:0 shutdown:3 restore:5 expanding:52\n",
      "supply:82.13 demand:70.57 price:10405.87\n",
      "++++++++++++++++++++++++++++++++++++++++++++++++++++++++++++++++++++++++++++++++++++++++++++++++++++++++++++++++++++++++++++++++++++++++++++++++++++++ \n",
      " 2024 2/4\n",
      "forecast time: +1 Year time_inf_range:2.50 pma:13205.66 d:71.33 s:78.47 d/s:0.91 price:10405.87\n",
      "forecast time: +2 Year time_inf_range:2.68 pma:13205.66 d:74.49 s:81.94 d/s:0.91 price:10229.42\n",
      "forecast time: +3 Year time_inf_range:2.87 pma:13205.66 d:77.78 s:85.56 d/s:0.91 price:10043.63\n",
      "forecast time: +4 Year time_inf_range:3.08 pma:13205.66 d:81.22 s:89.34 d/s:0.91 price:9848.25\n",
      "forecast time: +5 Year time_inf_range:3.30 pma:13205.66 d:84.81 s:89.58 d/s:0.95 price:11026.10\n",
      "forecast time: +6 Year time_inf_range:3.54 pma:13205.66 d:88.56 s:87.64 d/s:1.01 price:13698.31\n",
      "forecast time: +7 Year time_inf_range:3.79 pma:13205.66 d:92.47 s:85.81 d/s:1.08 price:17528.71\n",
      "forecast time: +8 Year time_inf_range:4.06 pma:13205.66 d:96.56 s:83.20 d/s:1.16 price:24180.41\n",
      "forecast time: +9 Year time_inf_range:4.35 pma:13205.66 d:100.83 s:77.39 d/s:1.30 price:41761.11\n",
      "forecast time: +10 Year time_inf_range:4.67 pma:13205.66 d:105.29 s:70.99 d/s:1.48 price:83032.73\n",
      "forecast time: +11 Year time_inf_range:5.00 pma:13205.66 d:109.94 s:65.46 d/s:1.68 price:176456.02\n",
      "forecast time: +12 Year time_inf_range:5.36 pma:13205.66 d:114.80 s:56.66 d/s:2.03 price:581128.06\n",
      "forecast time: +13 Year time_inf_range:5.74 pma:13205.66 d:119.87 s:46.74 d/s:2.56 price:2952931.99\n",
      "forecast time: +14 Year time_inf_range:6.16 pma:13205.66 d:125.17 s:40.28 d/s:3.11 price:14189912.34\n",
      "decision-making:\n",
      "halt developing:0 shutdown:8 restore:4 expanding:50\n",
      "supply:80.10 demand:71.33 price:10405.87\n",
      "++++++++++++++++++++++++++++++++++++++++++++++++++++++++++++++++++++++++++++++++++++++++++++++++++++++++++++++++++++++++++++++++++++++++++++++++++++++ \n",
      " 2024 3/4\n",
      "forecast time: +1 Year time_inf_range:2.50 pma:13205.66 d:72.11 s:79.32 d/s:0.91 price:10405.87\n",
      "forecast time: +2 Year time_inf_range:2.68 pma:13205.66 d:75.30 s:82.83 d/s:0.91 price:10229.42\n",
      "forecast time: +3 Year time_inf_range:2.87 pma:13205.66 d:78.63 s:86.49 d/s:0.91 price:10043.63\n",
      "forecast time: +4 Year time_inf_range:3.08 pma:13205.66 d:82.10 s:88.01 d/s:0.93 price:10664.41\n",
      "forecast time: +5 Year time_inf_range:3.30 pma:13205.66 d:85.73 s:90.04 d/s:0.95 price:11232.83\n",
      "forecast time: +6 Year time_inf_range:3.54 pma:13205.66 d:89.52 s:89.12 d/s:1.00 price:13417.87\n",
      "forecast time: +7 Year time_inf_range:3.79 pma:13205.66 d:93.48 s:87.59 d/s:1.07 price:16894.39\n",
      "forecast time: +8 Year time_inf_range:4.06 pma:13205.66 d:97.61 s:87.64 d/s:1.11 price:20452.62\n",
      "forecast time: +9 Year time_inf_range:4.35 pma:13205.66 d:101.92 s:80.71 d/s:1.26 price:36470.46\n",
      "forecast time: +10 Year time_inf_range:4.67 pma:13205.66 d:106.43 s:75.09 d/s:1.42 price:67204.71\n",
      "forecast time: +11 Year time_inf_range:5.00 pma:13205.66 d:111.14 s:68.46 d/s:1.62 price:148913.44\n",
      "forecast time: +12 Year time_inf_range:5.36 pma:13205.66 d:116.05 s:59.42 d/s:1.95 price:477219.24\n",
      "forecast time: +13 Year time_inf_range:5.74 pma:13205.66 d:121.18 s:51.09 d/s:2.37 price:1885028.08\n",
      "forecast time: +14 Year time_inf_range:6.16 pma:13205.66 d:126.54 s:43.48 d/s:2.91 price:9473358.45\n",
      "decision-making:\n",
      "halt developing:0 shutdown:6 restore:2 expanding:50\n",
      "supply:79.07 demand:72.11 price:10405.87\n",
      "++++++++++++++++++++++++++++++++++++++++++++++++++++++++++++++++++++++++++++++++++++++++++++++++++++++++++++++++++++++++++++++++++++++++++++++++++++++ \n",
      " 2024 4/4\n",
      "forecast time: +1 Year time_inf_range:2.50 pma:13205.66 d:72.89 s:79.58 d/s:0.92 price:10604.55\n",
      "forecast time: +2 Year time_inf_range:2.68 pma:13205.66 d:76.12 s:83.73 d/s:0.91 price:10229.42\n",
      "forecast time: +3 Year time_inf_range:2.87 pma:13205.66 d:79.48 s:87.43 d/s:0.91 price:10043.63\n",
      "forecast time: +4 Year time_inf_range:3.08 pma:13205.66 d:82.99 s:90.23 d/s:0.92 price:10208.61\n",
      "forecast time: +5 Year time_inf_range:3.30 pma:13205.66 d:86.66 s:88.87 d/s:0.98 price:12155.56\n",
      "forecast time: +6 Year time_inf_range:3.54 pma:13205.66 d:90.49 s:87.35 d/s:1.04 price:14964.34\n",
      "forecast time: +7 Year time_inf_range:3.79 pma:13205.66 d:94.49 s:86.56 d/s:1.09 price:18413.72\n",
      "forecast time: +8 Year time_inf_range:4.06 pma:13205.66 d:98.67 s:85.56 d/s:1.15 price:23559.88\n",
      "forecast time: +9 Year time_inf_range:4.35 pma:13205.66 d:103.03 s:77.54 d/s:1.33 price:45518.55\n",
      "forecast time: +10 Year time_inf_range:4.67 pma:13205.66 d:107.59 s:71.79 d/s:1.50 price:87201.25\n",
      "forecast time: +11 Year time_inf_range:5.00 pma:13205.66 d:112.34 s:63.87 d/s:1.76 price:222388.60\n",
      "forecast time: +12 Year time_inf_range:5.36 pma:13205.66 d:117.31 s:53.98 d/s:2.17 price:845413.46\n",
      "forecast time: +13 Year time_inf_range:5.74 pma:13205.66 d:122.50 s:46.85 d/s:2.61 price:3297000.54\n",
      "forecast time: +14 Year time_inf_range:6.16 pma:13205.66 d:127.91 s:40.17 d/s:3.18 price:16481499.90\n",
      "decision-making:\n",
      "halt developing:0 shutdown:6 restore:18 expanding:50\n",
      "supply:78.35 demand:72.89 price:10604.55\n",
      "++++++++++++++++++++++++++++++++++++++++++++++++++++++++++++++++++++++++++++++++++++++++++++++++++++++++++++++++++++++++++++++++++++++++++++++++++++++ \n",
      " 2025 1/4\n",
      "forecast time: +1 Year time_inf_range:2.50 pma:13205.66 d:73.69 s:81.05 d/s:0.91 price:10405.87\n",
      "forecast time: +2 Year time_inf_range:2.68 pma:13205.66 d:76.94 s:84.64 d/s:0.91 price:10229.42\n",
      "forecast time: +3 Year time_inf_range:2.87 pma:13205.66 d:80.34 s:88.38 d/s:0.91 price:10043.63\n",
      "forecast time: +4 Year time_inf_range:3.08 pma:13205.66 d:83.90 s:91.57 d/s:0.92 price:10088.32\n",
      "forecast time: +5 Year time_inf_range:3.30 pma:13205.66 d:87.61 s:88.76 d/s:0.99 price:12647.38\n",
      "forecast time: +6 Year time_inf_range:3.54 pma:13205.66 d:91.48 s:87.66 d/s:1.04 price:15355.79\n",
      "forecast time: +7 Year time_inf_range:3.79 pma:13205.66 d:95.52 s:85.93 d/s:1.11 price:19720.35\n",
      "forecast time: +8 Year time_inf_range:4.06 pma:13205.66 d:99.74 s:83.78 d/s:1.19 price:26814.10\n",
      "forecast time: +9 Year time_inf_range:4.35 pma:13205.66 d:104.15 s:76.20 d/s:1.37 price:51466.78\n"
     ]
    },
    {
     "name": "stdout",
     "output_type": "stream",
     "text": [
      "forecast time: +10 Year time_inf_range:4.67 pma:13205.66 d:108.76 s:69.49 d/s:1.57 price:106715.09\n",
      "forecast time: +11 Year time_inf_range:5.00 pma:13205.66 d:113.57 s:61.57 d/s:1.84 price:282025.80\n",
      "forecast time: +12 Year time_inf_range:5.36 pma:13205.66 d:118.59 s:51.62 d/s:2.30 price:1138911.11\n",
      "forecast time: +13 Year time_inf_range:5.74 pma:13205.66 d:123.83 s:45.04 d/s:2.75 price:4400583.96\n",
      "forecast time: +14 Year time_inf_range:6.16 pma:13205.66 d:129.30 s:40.65 d/s:3.18 price:16389789.50\n",
      "decision-making:\n",
      "halt developing:0 shutdown:8 restore:6 expanding:51\n",
      "supply:79.13 demand:73.69 price:10405.87\n",
      "++++++++++++++++++++++++++++++++++++++++++++++++++++++++++++++++++++++++++++++++++++++++++++++++++++++++++++++++++++++++++++++++++++++++++++++++++++++ \n",
      " 2025 2/4\n",
      "forecast time: +1 Year time_inf_range:2.50 pma:13205.66 d:74.49 s:81.94 d/s:0.91 price:10405.87\n",
      "forecast time: +2 Year time_inf_range:2.68 pma:13205.66 d:77.78 s:85.56 d/s:0.91 price:10229.42\n",
      "forecast time: +3 Year time_inf_range:2.87 pma:13205.66 d:81.22 s:89.34 d/s:0.91 price:10043.63\n",
      "forecast time: +4 Year time_inf_range:3.08 pma:13205.66 d:84.81 s:93.29 d/s:0.91 price:9848.25\n",
      "forecast time: +5 Year time_inf_range:3.30 pma:13205.66 d:88.56 s:91.42 d/s:0.97 price:11891.70\n",
      "forecast time: +6 Year time_inf_range:3.54 pma:13205.66 d:92.47 s:90.28 d/s:1.02 price:14374.86\n",
      "forecast time: +7 Year time_inf_range:3.79 pma:13205.66 d:96.56 s:91.74 d/s:1.05 price:16036.50\n",
      "forecast time: +8 Year time_inf_range:4.06 pma:13205.66 d:100.83 s:86.37 d/s:1.17 price:24756.73\n",
      "forecast time: +9 Year time_inf_range:4.35 pma:13205.66 d:105.29 s:80.25 d/s:1.31 price:43069.49\n",
      "forecast time: +10 Year time_inf_range:4.67 pma:13205.66 d:109.94 s:73.35 d/s:1.50 price:87223.04\n",
      "forecast time: +11 Year time_inf_range:5.00 pma:13205.66 d:114.80 s:65.14 d/s:1.76 price:224537.21\n",
      "forecast time: +12 Year time_inf_range:5.36 pma:13205.66 d:119.87 s:55.27 d/s:2.17 price:836447.26\n",
      "forecast time: +13 Year time_inf_range:5.74 pma:13205.66 d:125.17 s:48.38 d/s:2.59 price:3104121.19\n",
      "forecast time: +14 Year time_inf_range:6.16 pma:13205.66 d:130.71 s:43.05 d/s:3.04 price:12290609.66\n",
      "decision-making:\n",
      "halt developing:0 shutdown:11 restore:3 expanding:21\n",
      "supply:83.97 demand:74.49 price:10405.87\n",
      "++++++++++++++++++++++++++++++++++++++++++++++++++++++++++++++++++++++++++++++++++++++++++++++++++++++++++++++++++++++++++++++++++++++++++++++++++++++ \n",
      " 2025 3/4\n",
      "forecast time: +1 Year time_inf_range:2.50 pma:13205.66 d:75.30 s:82.83 d/s:0.91 price:10405.87\n",
      "forecast time: +2 Year time_inf_range:2.68 pma:13205.66 d:78.63 s:86.49 d/s:0.91 price:10229.42\n",
      "forecast time: +3 Year time_inf_range:2.87 pma:13205.66 d:82.10 s:88.42 d/s:0.93 price:10672.58\n",
      "forecast time: +4 Year time_inf_range:3.08 pma:13205.66 d:85.73 s:90.59 d/s:0.95 price:11144.28\n",
      "forecast time: +5 Year time_inf_range:3.30 pma:13205.66 d:89.52 s:90.14 d/s:0.99 price:12910.00\n",
      "forecast time: +6 Year time_inf_range:3.54 pma:13205.66 d:93.48 s:89.66 d/s:1.04 price:15301.12\n",
      "forecast time: +7 Year time_inf_range:3.79 pma:13205.66 d:97.61 s:87.23 d/s:1.12 price:20218.00\n",
      "forecast time: +8 Year time_inf_range:4.06 pma:13205.66 d:101.92 s:80.89 d/s:1.26 price:33768.92\n",
      "forecast time: +9 Year time_inf_range:4.35 pma:13205.66 d:106.43 s:75.96 d/s:1.40 price:57333.87\n",
      "forecast time: +10 Year time_inf_range:4.67 pma:13205.66 d:111.14 s:68.11 d/s:1.63 price:129662.58\n",
      "forecast time: +11 Year time_inf_range:5.00 pma:13205.66 d:116.05 s:59.28 d/s:1.96 price:379728.97\n",
      "forecast time: +12 Year time_inf_range:5.36 pma:13205.66 d:121.18 s:51.34 d/s:2.36 price:1315965.59\n",
      "forecast time: +13 Year time_inf_range:5.74 pma:13205.66 d:126.54 s:43.57 d/s:2.90 price:6028666.64\n",
      "forecast time: +14 Year time_inf_range:6.16 pma:13205.66 d:132.13 s:38.68 d/s:3.42 price:25415319.85\n",
      "decision-making:\n",
      "halt developing:0 shutdown:6 restore:12 expanding:21\n",
      "supply:82.96 demand:75.30 price:10405.87\n",
      "++++++++++++++++++++++++++++++++++++++++++++++++++++++++++++++++++++++++++++++++++++++++++++++++++++++++++++++++++++++++++++++++++++++++++++++++++++++ \n",
      " 2025 4/4\n",
      "forecast time: +1 Year time_inf_range:2.50 pma:13205.66 d:76.12 s:83.16 d/s:0.92 price:10584.66\n",
      "forecast time: +2 Year time_inf_range:2.68 pma:13205.66 d:79.48 s:81.85 d/s:0.97 price:12205.42\n",
      "forecast time: +3 Year time_inf_range:2.87 pma:13205.66 d:82.99 s:91.29 d/s:0.91 price:10043.63\n",
      "forecast time: +4 Year time_inf_range:3.08 pma:13205.66 d:86.66 s:91.24 d/s:0.95 price:11270.51\n",
      "forecast time: +5 Year time_inf_range:3.30 pma:13205.66 d:90.49 s:89.22 d/s:1.01 price:13840.18\n",
      "forecast time: +6 Year time_inf_range:3.54 pma:13205.66 d:94.49 s:88.28 d/s:1.07 price:16799.35\n",
      "forecast time: +7 Year time_inf_range:3.79 pma:13205.66 d:98.67 s:89.57 d/s:1.10 price:19052.63\n",
      "forecast time: +8 Year time_inf_range:4.06 pma:13205.66 d:103.03 s:82.34 d/s:1.25 price:32820.59\n",
      "forecast time: +9 Year time_inf_range:4.35 pma:13205.66 d:107.59 s:76.09 d/s:1.41 price:59634.39\n",
      "forecast time: +10 Year time_inf_range:4.67 pma:13205.66 d:112.34 s:67.10 d/s:1.67 price:146230.74\n",
      "forecast time: +11 Year time_inf_range:5.00 pma:13205.66 d:117.31 s:59.45 d/s:1.97 price:395075.11\n",
      "forecast time: +12 Year time_inf_range:5.36 pma:13205.66 d:122.50 s:53.41 d/s:2.29 price:1129185.17\n",
      "forecast time: +13 Year time_inf_range:5.74 pma:13205.66 d:127.91 s:48.13 d/s:2.66 price:3619497.12\n",
      "forecast time: +14 Year time_inf_range:6.16 pma:13205.66 d:133.57 s:42.42 d/s:3.15 price:15375885.15\n",
      "decision-making:\n",
      "halt developing:0 shutdown:1 restore:6 expanding:20\n",
      "supply:83.15 demand:76.12 price:10584.66\n",
      "++++++++++++++++++++++++++++++++++++++++++++++++++++++++++++++++++++++++++++++++++++++++++++++++++++++++++++++++++++++++++++++++++++++++++++++++++++++ \n",
      " 2026 1/4\n",
      "forecast time: +1 Year time_inf_range:2.50 pma:13205.66 d:76.94 s:84.64 d/s:0.91 price:10405.87\n",
      "forecast time: +2 Year time_inf_range:2.68 pma:13205.66 d:80.34 s:83.11 d/s:0.97 price:12061.36\n",
      "forecast time: +3 Year time_inf_range:2.87 pma:13205.66 d:83.90 s:92.29 d/s:0.91 price:10043.63\n",
      "forecast time: +4 Year time_inf_range:3.08 pma:13205.66 d:87.61 s:93.02 d/s:0.94 price:10980.64\n",
      "forecast time: +5 Year time_inf_range:3.30 pma:13205.66 d:91.48 s:91.72 d/s:1.00 price:13092.09\n",
      "forecast time: +6 Year time_inf_range:3.54 pma:13205.66 d:95.52 s:90.88 d/s:1.05 price:15749.97\n",
      "forecast time: +7 Year time_inf_range:3.79 pma:13205.66 d:99.74 s:89.61 d/s:1.11 price:19819.80\n",
      "forecast time: +8 Year time_inf_range:4.06 pma:13205.66 d:104.15 s:83.13 d/s:1.25 price:32998.20\n",
      "forecast time: +9 Year time_inf_range:4.35 pma:13205.66 d:108.76 s:77.01 d/s:1.41 price:59323.92\n",
      "forecast time: +10 Year time_inf_range:4.67 pma:13205.66 d:113.57 s:68.99 d/s:1.65 price:135074.92\n",
      "forecast time: +11 Year time_inf_range:5.00 pma:13205.66 d:118.59 s:60.22 d/s:1.97 price:391142.39\n",
      "forecast time: +12 Year time_inf_range:5.36 pma:13205.66 d:123.83 s:52.91 d/s:2.34 price:1258624.78\n",
      "forecast time: +13 Year time_inf_range:5.74 pma:13205.66 d:129.30 s:48.00 d/s:2.69 price:3911311.19\n",
      "forecast time: +14 Year time_inf_range:6.16 pma:13205.66 d:135.02 s:43.56 d/s:3.10 price:13958431.20\n",
      "decision-making:\n",
      "halt developing:0 shutdown:5 restore:0 expanding:22\n",
      "supply:82.93 demand:76.94 price:10405.87\n",
      "++++++++++++++++++++++++++++++++++++++++++++++++++++++++++++++++++++++++++++++++++++++++++++++++++++++++++++++++++++++++++++++++++++++++++++++++++++++ \n",
      " 2026 2/4\n",
      "forecast time: +1 Year time_inf_range:2.50 pma:13205.66 d:77.78 s:85.56 d/s:0.91 price:10405.87\n",
      "forecast time: +2 Year time_inf_range:2.68 pma:13205.66 d:81.22 s:86.88 d/s:0.93 price:11023.81\n",
      "forecast time: +3 Year time_inf_range:2.87 pma:13205.66 d:84.81 s:93.29 d/s:0.91 price:10043.63\n",
      "forecast time: +4 Year time_inf_range:3.08 pma:13205.66 d:88.56 s:89.93 d/s:0.98 price:12596.94\n",
      "forecast time: +5 Year time_inf_range:3.30 pma:13205.66 d:92.47 s:87.42 d/s:1.06 price:15893.18\n",
      "forecast time: +6 Year time_inf_range:3.54 pma:13205.66 d:96.56 s:87.72 d/s:1.10 price:18541.79\n",
      "forecast time: +7 Year time_inf_range:3.79 pma:13205.66 d:100.83 s:82.75 d/s:1.22 price:27917.29\n",
      "forecast time: +8 Year time_inf_range:4.06 pma:13205.66 d:105.29 s:77.36 d/s:1.36 price:46169.77\n",
      "forecast time: +9 Year time_inf_range:4.35 pma:13205.66 d:109.94 s:70.07 d/s:1.57 price:93822.66\n",
      "forecast time: +10 Year time_inf_range:4.67 pma:13205.66 d:114.80 s:61.24 d/s:1.87 price:247712.86\n"
     ]
    },
    {
     "name": "stdout",
     "output_type": "stream",
     "text": [
      "forecast time: +11 Year time_inf_range:5.00 pma:13205.66 d:119.87 s:52.80 d/s:2.27 price:796588.35\n",
      "forecast time: +12 Year time_inf_range:5.36 pma:13205.66 d:125.17 s:45.69 d/s:2.74 price:2926699.64\n",
      "forecast time: +13 Year time_inf_range:5.74 pma:13205.66 d:130.71 s:40.28 d/s:3.25 price:11401951.61\n",
      "forecast time: +14 Year time_inf_range:6.16 pma:13205.66 d:136.49 s:35.70 d/s:3.82 price:50775718.83\n",
      "decision-making:\n",
      "halt developing:0 shutdown:8 restore:13 expanding:22\n",
      "supply:82.01 demand:77.78 price:10405.87\n",
      "++++++++++++++++++++++++++++++++++++++++++++++++++++++++++++++++++++++++++++++++++++++++++++++++++++++++++++++++++++++++++++++++++++++++++++++++++++++ \n",
      " 2026 3/4\n",
      "forecast time: +1 Year time_inf_range:2.50 pma:13205.66 d:78.63 s:78.74 d/s:1.00 price:13159.59\n",
      "forecast time: +2 Year time_inf_range:2.68 pma:13205.66 d:82.10 s:80.00 d/s:1.03 price:14154.06\n",
      "forecast time: +3 Year time_inf_range:2.87 pma:13205.66 d:85.73 s:94.30 d/s:0.91 price:10043.63\n",
      "forecast time: +4 Year time_inf_range:3.08 pma:13205.66 d:89.52 s:94.76 d/s:0.94 price:11083.64\n",
      "forecast time: +5 Year time_inf_range:3.30 pma:13205.66 d:93.48 s:92.21 d/s:1.01 price:13812.20\n",
      "forecast time: +6 Year time_inf_range:3.54 pma:13205.66 d:97.61 s:89.90 d/s:1.09 price:17663.49\n",
      "forecast time: +7 Year time_inf_range:3.79 pma:13205.66 d:101.92 s:83.65 d/s:1.22 price:27920.97\n",
      "forecast time: +8 Year time_inf_range:4.06 pma:13205.66 d:106.43 s:78.20 d/s:1.36 price:46165.61\n",
      "forecast time: +9 Year time_inf_range:4.35 pma:13205.66 d:111.14 s:69.55 d/s:1.60 price:101561.61\n",
      "forecast time: +10 Year time_inf_range:4.67 pma:13205.66 d:116.05 s:60.24 d/s:1.93 price:281221.16\n",
      "forecast time: +11 Year time_inf_range:5.00 pma:13205.66 d:121.18 s:52.53 d/s:2.31 price:862785.72\n",
      "forecast time: +12 Year time_inf_range:5.36 pma:13205.66 d:126.54 s:46.24 d/s:2.74 price:2907360.66\n",
      "forecast time: +13 Year time_inf_range:5.74 pma:13205.66 d:132.13 s:40.43 d/s:3.27 price:11879803.18\n",
      "forecast time: +14 Year time_inf_range:6.16 pma:13205.66 d:137.97 s:35.17 d/s:3.92 price:59514625.91\n",
      "decision-making:\n",
      "halt developing:0 shutdown:2 restore:5 expanding:22\n",
      "supply:77.94 demand:78.63 price:13159.59\n",
      "++++++++++++++++++++++++++++++++++++++++++++++++++++++++++++++++++++++++++++++++++++++++++++++++++++++++++++++++++++++++++++++++++++++++++++++++++++++ \n",
      " 2026 4/4\n",
      "forecast time: +1 Year time_inf_range:2.50 pma:13205.66 d:79.48 s:75.99 d/s:1.05 price:14776.37\n",
      "forecast time: +2 Year time_inf_range:2.68 pma:13205.66 d:82.99 s:85.71 d/s:0.97 price:12115.10\n",
      "forecast time: +3 Year time_inf_range:2.87 pma:13205.66 d:86.66 s:94.72 d/s:0.91 price:10229.59\n",
      "forecast time: +4 Year time_inf_range:3.08 pma:13205.66 d:90.49 s:93.55 d/s:0.97 price:11924.31\n",
      "forecast time: +5 Year time_inf_range:3.30 pma:13205.66 d:94.49 s:92.59 d/s:1.02 price:14121.85\n",
      "forecast time: +6 Year time_inf_range:3.54 pma:13205.66 d:98.67 s:92.28 d/s:1.07 price:16733.40\n",
      "forecast time: +7 Year time_inf_range:3.79 pma:13205.66 d:103.03 s:85.23 d/s:1.21 price:27098.74\n",
      "forecast time: +8 Year time_inf_range:4.06 pma:13205.66 d:107.59 s:79.38 d/s:1.36 price:45405.77\n",
      "forecast time: +9 Year time_inf_range:4.35 pma:13205.66 d:112.34 s:71.21 d/s:1.58 price:96105.81\n",
      "forecast time: +10 Year time_inf_range:4.67 pma:13205.66 d:117.31 s:62.18 d/s:1.89 price:255274.18\n",
      "forecast time: +11 Year time_inf_range:5.00 pma:13205.66 d:122.50 s:55.68 d/s:2.20 price:680643.98\n",
      "forecast time: +12 Year time_inf_range:5.36 pma:13205.66 d:127.91 s:49.40 d/s:2.59 price:2162900.81\n",
      "forecast time: +13 Year time_inf_range:5.74 pma:13205.66 d:133.57 s:40.95 d/s:3.26 price:11746299.22\n",
      "forecast time: +14 Year time_inf_range:6.16 pma:13205.66 d:139.47 s:35.37 d/s:3.94 price:61428199.68\n",
      "decision-making:\n",
      "halt developing:0 shutdown:4 restore:1 expanding:21\n",
      "supply:74.91 demand:79.48 price:14776.37\n",
      "++++++++++++++++++++++++++++++++++++++++++++++++++++++++++++++++++++++++++++++++++++++++++++++++++++++++++++++++++++++++++++++++++++++++++++++++++++++ \n",
      " 2027 1/4\n",
      "forecast time: +1 Year time_inf_range:2.50 pma:13205.66 d:80.34 s:77.12 d/s:1.04 price:14630.54\n",
      "forecast time: +2 Year time_inf_range:2.68 pma:13205.66 d:83.90 s:92.29 d/s:0.91 price:10229.42\n",
      "forecast time: +3 Year time_inf_range:2.87 pma:13205.66 d:87.61 s:96.37 d/s:0.91 price:10043.63\n",
      "forecast time: +4 Year time_inf_range:3.08 pma:13205.66 d:91.48 s:99.71 d/s:0.92 price:10130.36\n",
      "forecast time: +5 Year time_inf_range:3.30 pma:13205.66 d:95.52 s:97.55 d/s:0.98 price:12320.20\n",
      "forecast time: +6 Year time_inf_range:3.54 pma:13205.66 d:99.74 s:94.73 d/s:1.05 price:15849.64\n",
      "forecast time: +7 Year time_inf_range:3.79 pma:13205.66 d:104.15 s:88.91 d/s:1.17 price:24057.59\n",
      "forecast time: +8 Year time_inf_range:4.06 pma:13205.66 d:108.76 s:82.11 d/s:1.32 price:41342.94\n",
      "forecast time: +9 Year time_inf_range:4.35 pma:13205.66 d:113.57 s:74.11 d/s:1.53 price:84657.88\n",
      "forecast time: +10 Year time_inf_range:4.67 pma:13205.66 d:118.59 s:65.51 d/s:1.81 price:210430.05\n",
      "forecast time: +11 Year time_inf_range:5.00 pma:13205.66 d:123.83 s:58.59 d/s:2.11 price:557072.80\n",
      "forecast time: +12 Year time_inf_range:5.36 pma:13205.66 d:129.30 s:52.38 d/s:2.47 price:1674622.28\n",
      "forecast time: +13 Year time_inf_range:5.74 pma:13205.66 d:135.02 s:43.52 d/s:3.10 price:8811994.73\n",
      "forecast time: +14 Year time_inf_range:6.16 pma:13205.66 d:140.99 s:38.46 d/s:3.67 price:39230958.73\n",
      "decision-making:\n",
      "halt developing:0 shutdown:5 restore:1 expanding:21\n",
      "supply:73.69 demand:80.34 price:14630.54\n",
      "++++++++++++++++++++++++++++++++++++++++++++++++++++++++++++++++++++++++++++++++++++++++++++++++++++++++++++++++++++++++++++++++++++++++++++++++++++++ \n",
      " 2027 2/4\n",
      "forecast time: +1 Year time_inf_range:2.50 pma:13205.66 d:81.22 s:76.96 d/s:1.06 price:15108.95\n",
      "forecast time: +2 Year time_inf_range:2.68 pma:13205.66 d:84.81 s:89.16 d/s:0.95 price:11549.96\n",
      "forecast time: +3 Year time_inf_range:2.87 pma:13205.66 d:88.56 s:97.41 d/s:0.91 price:10043.63\n",
      "forecast time: +4 Year time_inf_range:3.08 pma:13205.66 d:92.47 s:97.77 d/s:0.95 price:11123.29\n",
      "forecast time: +5 Year time_inf_range:3.30 pma:13205.66 d:96.56 s:95.56 d/s:1.01 price:13668.33\n",
      "forecast time: +6 Year time_inf_range:3.54 pma:13205.66 d:100.83 s:90.54 d/s:1.11 price:19318.51\n",
      "forecast time: +7 Year time_inf_range:3.79 pma:13205.66 d:105.29 s:84.84 d/s:1.24 price:29929.49\n",
      "forecast time: +8 Year time_inf_range:4.06 pma:13205.66 d:109.94 s:77.26 d/s:1.42 price:55329.09\n",
      "forecast time: +9 Year time_inf_range:4.35 pma:13205.66 d:114.80 s:69.36 d/s:1.66 price:118397.36\n",
      "forecast time: +10 Year time_inf_range:4.67 pma:13205.66 d:119.87 s:61.56 d/s:1.95 price:295906.45\n",
      "forecast time: +11 Year time_inf_range:5.00 pma:13205.66 d:125.17 s:54.67 d/s:2.29 price:830850.45\n",
      "forecast time: +12 Year time_inf_range:5.36 pma:13205.66 d:130.71 s:47.59 d/s:2.75 price:2966347.74\n",
      "forecast time: +13 Year time_inf_range:5.74 pma:13205.66 d:136.49 s:40.29 d/s:3.39 price:14591865.53\n",
      "forecast time: +14 Year time_inf_range:6.16 pma:13205.66 d:142.52 s:35.80 d/s:3.98 price:65174338.55\n",
      "decision-making:\n",
      "halt developing:0 shutdown:3 restore:7 expanding:22\n",
      "supply:75.91 demand:81.22 price:15108.95\n",
      "++++++++++++++++++++++++++++++++++++++++++++++++++++++++++++++++++++++++++++++++++++++++++++++++++++++++++++++++++++++++++++++++++++++++++++++++++++++ \n",
      " 2027 3/4\n",
      "forecast time: +1 Year time_inf_range:2.50 pma:13205.66 d:82.10 s:75.18 d/s:1.09 price:16458.84\n",
      "forecast time: +2 Year time_inf_range:2.68 pma:13205.66 d:85.73 s:92.67 d/s:0.93 price:10721.07\n",
      "forecast time: +3 Year time_inf_range:2.87 pma:13205.66 d:89.52 s:98.47 d/s:0.91 price:10043.63\n",
      "forecast time: +4 Year time_inf_range:3.08 pma:13205.66 d:93.48 s:99.69 d/s:0.94 price:10834.15\n",
      "forecast time: +5 Year time_inf_range:3.30 pma:13205.66 d:97.61 s:97.33 d/s:1.00 price:13332.17\n",
      "forecast time: +6 Year time_inf_range:3.54 pma:13205.66 d:101.92 s:89.76 d/s:1.14 price:20701.17\n",
      "forecast time: +7 Year time_inf_range:3.79 pma:13205.66 d:106.43 s:83.80 d/s:1.27 price:32667.33\n",
      "forecast time: +8 Year time_inf_range:4.06 pma:13205.66 d:111.14 s:74.90 d/s:1.48 price:65588.37\n",
      "forecast time: +9 Year time_inf_range:4.35 pma:13205.66 d:116.05 s:66.24 d/s:1.75 price:151584.10\n",
      "forecast time: +10 Year time_inf_range:4.67 pma:13205.66 d:121.18 s:58.74 d/s:2.06 price:387235.56\n"
     ]
    },
    {
     "name": "stdout",
     "output_type": "stream",
     "text": [
      "forecast time: +11 Year time_inf_range:5.00 pma:13205.66 d:126.54 s:51.63 d/s:2.45 price:1167069.60\n",
      "forecast time: +12 Year time_inf_range:5.36 pma:13205.66 d:132.13 s:45.02 d/s:2.93 price:4232435.93\n",
      "forecast time: +13 Year time_inf_range:5.74 pma:13205.66 d:137.97 s:39.67 d/s:3.48 price:16969179.85\n",
      "forecast time: +14 Year time_inf_range:6.16 pma:13205.66 d:144.07 s:36.42 d/s:3.96 price:62682522.21\n",
      "decision-making:\n",
      "halt developing:0 shutdown:1 restore:3 expanding:21\n",
      "supply:75.04 demand:82.10 price:16458.84\n",
      "++++++++++++++++++++++++++++++++++++++++++++++++++++++++++++++++++++++++++++++++++++++++++++++++++++++++++++++++++++++++++++++++++++++++++++++++++++++ \n",
      " 2027 4/4\n",
      "forecast time: +1 Year time_inf_range:2.50 pma:13205.66 d:82.99 s:86.99 d/s:0.95 price:11739.55\n",
      "forecast time: +2 Year time_inf_range:2.68 pma:13205.66 d:86.66 s:95.33 d/s:0.91 price:10229.42\n",
      "forecast time: +3 Year time_inf_range:2.87 pma:13205.66 d:90.49 s:99.54 d/s:0.91 price:10043.63\n",
      "forecast time: +4 Year time_inf_range:3.08 pma:13205.66 d:94.49 s:101.26 d/s:0.93 price:10673.32\n",
      "forecast time: +5 Year time_inf_range:3.30 pma:13205.66 d:98.67 s:102.29 d/s:0.96 price:11726.57\n",
      "forecast time: +6 Year time_inf_range:3.54 pma:13205.66 d:103.03 s:93.66 d/s:1.10 price:18498.69\n",
      "forecast time: +7 Year time_inf_range:3.79 pma:13205.66 d:107.59 s:87.24 d/s:1.23 price:29224.79\n",
      "forecast time: +8 Year time_inf_range:4.06 pma:13205.66 d:112.34 s:79.23 d/s:1.42 price:54543.03\n",
      "forecast time: +9 Year time_inf_range:4.35 pma:13205.66 d:117.31 s:70.44 d/s:1.67 price:121633.15\n",
      "forecast time: +10 Year time_inf_range:4.67 pma:13205.66 d:122.50 s:63.13 d/s:1.94 price:290904.79\n",
      "forecast time: +11 Year time_inf_range:5.00 pma:13205.66 d:127.91 s:55.31 d/s:2.31 price:873331.12\n",
      "forecast time: +12 Year time_inf_range:5.36 pma:13205.66 d:133.57 s:47.05 d/s:2.84 price:3541598.62\n",
      "forecast time: +13 Year time_inf_range:5.74 pma:13205.66 d:139.47 s:42.28 d/s:3.30 price:12528996.64\n",
      "forecast time: +14 Year time_inf_range:6.16 pma:13205.66 d:145.63 s:39.81 d/s:3.66 price:38738669.21\n",
      "decision-making:\n",
      "halt developing:0 shutdown:16 restore:1 expanding:21\n",
      "supply:75.11 demand:82.99 price:11739.55\n",
      "++++++++++++++++++++++++++++++++++++++++++++++++++++++++++++++++++++++++++++++++++++++++++++++++++++++++++++++++++++++++++++++++++++++++++++++++++++++ \n",
      " 2028 1/4\n",
      "forecast time: +1 Year time_inf_range:2.50 pma:13205.66 d:83.90 s:77.55 d/s:1.08 price:16073.71\n",
      "forecast time: +2 Year time_inf_range:2.68 pma:13205.66 d:87.61 s:87.19 d/s:1.00 price:13373.58\n",
      "forecast time: +3 Year time_inf_range:2.87 pma:13205.66 d:91.48 s:91.53 d/s:1.00 price:13183.59\n",
      "forecast time: +4 Year time_inf_range:3.08 pma:13205.66 d:95.52 s:90.93 d/s:1.05 price:15367.31\n",
      "forecast time: +5 Year time_inf_range:3.30 pma:13205.66 d:99.74 s:90.38 d/s:1.10 price:18284.07\n",
      "forecast time: +6 Year time_inf_range:3.54 pma:13205.66 d:104.15 s:82.64 d/s:1.26 price:29925.88\n",
      "forecast time: +7 Year time_inf_range:3.79 pma:13205.66 d:108.76 s:75.68 d/s:1.44 price:52190.18\n",
      "forecast time: +8 Year time_inf_range:4.06 pma:13205.66 d:113.57 s:68.57 d/s:1.66 price:102475.15\n",
      "forecast time: +9 Year time_inf_range:4.35 pma:13205.66 d:118.59 s:60.49 d/s:1.96 price:247256.43\n",
      "forecast time: +10 Year time_inf_range:4.67 pma:13205.66 d:123.83 s:53.61 d/s:2.31 price:656146.59\n",
      "forecast time: +11 Year time_inf_range:5.00 pma:13205.66 d:129.30 s:47.50 d/s:2.72 price:1973709.63\n",
      "forecast time: +12 Year time_inf_range:5.36 pma:13205.66 d:135.02 s:39.20 d/s:3.44 price:9976106.75\n",
      "forecast time: +13 Year time_inf_range:5.74 pma:13205.66 d:140.99 s:34.90 d/s:4.04 price:40086562.47\n",
      "forecast time: +14 Year time_inf_range:6.16 pma:13205.66 d:147.22 s:32.33 d/s:4.55 price:149187908.92\n",
      "decision-making:\n",
      "halt developing:0 shutdown:2 restore:41 expanding:23\n",
      "supply:77.04 demand:83.90 price:16073.71\n",
      "++++++++++++++++++++++++++++++++++++++++++++++++++++++++++++++++++++++++++++++++++++++++++++++++++++++++++++++++++++++++++++++++++++++++++++++++++++++ \n",
      " 2028 2/4\n",
      "forecast time: +1 Year time_inf_range:2.50 pma:13205.66 d:84.81 s:80.14 d/s:1.06 price:15212.09\n",
      "forecast time: +2 Year time_inf_range:2.68 pma:13205.66 d:88.56 s:91.61 d/s:0.97 price:12060.80\n",
      "forecast time: +3 Year time_inf_range:2.87 pma:13205.66 d:92.47 s:101.72 d/s:0.91 price:10043.63\n",
      "forecast time: +4 Year time_inf_range:3.08 pma:13205.66 d:96.56 s:106.22 d/s:0.91 price:9848.25\n",
      "forecast time: +5 Year time_inf_range:3.30 pma:13205.66 d:100.83 s:101.13 d/s:1.00 price:13075.74\n",
      "forecast time: +6 Year time_inf_range:3.54 pma:13205.66 d:105.29 s:89.30 d/s:1.18 price:23641.37\n",
      "forecast time: +7 Year time_inf_range:3.79 pma:13205.66 d:109.94 s:81.04 d/s:1.36 price:41952.60\n",
      "forecast time: +8 Year time_inf_range:4.06 pma:13205.66 d:114.80 s:73.88 d/s:1.55 price:79079.95\n",
      "forecast time: +9 Year time_inf_range:4.35 pma:13205.66 d:119.87 s:65.78 d/s:1.82 price:179937.20\n",
      "forecast time: +10 Year time_inf_range:4.67 pma:13205.66 d:125.17 s:57.44 d/s:2.18 price:500218.63\n",
      "forecast time: +11 Year time_inf_range:5.00 pma:13205.66 d:130.71 s:47.56 d/s:2.75 price:2070786.46\n",
      "forecast time: +12 Year time_inf_range:5.36 pma:13205.66 d:136.49 s:39.08 d/s:3.49 price:10751397.00\n",
      "forecast time: +13 Year time_inf_range:5.74 pma:13205.66 d:142.52 s:34.80 d/s:4.10 price:43425048.20\n",
      "forecast time: +14 Year time_inf_range:6.16 pma:13205.66 d:148.82 s:32.09 d/s:4.64 price:166915974.53\n",
      "decision-making:\n",
      "halt developing:0 shutdown:1 restore:1 expanding:23\n",
      "supply:80.12 demand:84.81 price:15212.09\n",
      "++++++++++++++++++++++++++++++++++++++++++++++++++++++++++++++++++++++++++++++++++++++++++++++++++++++++++++++++++++++++++++++++++++++++++++++++++++++ \n",
      " 2028 3/4\n",
      "forecast time: +1 Year time_inf_range:2.50 pma:13205.66 d:85.73 s:81.85 d/s:1.05 price:14826.63\n",
      "forecast time: +2 Year time_inf_range:2.68 pma:13205.66 d:89.52 s:95.01 d/s:0.94 price:11258.56\n",
      "forecast time: +3 Year time_inf_range:2.87 pma:13205.66 d:93.48 s:102.83 d/s:0.91 price:10043.63\n",
      "forecast time: +4 Year time_inf_range:3.08 pma:13205.66 d:97.61 s:107.37 d/s:0.91 price:9848.25\n",
      "forecast time: +5 Year time_inf_range:3.30 pma:13205.66 d:101.92 s:101.63 d/s:1.00 price:13334.65\n",
      "forecast time: +6 Year time_inf_range:3.54 pma:13205.66 d:106.43 s:91.54 d/s:1.16 price:22497.08\n",
      "forecast time: +7 Year time_inf_range:3.79 pma:13205.66 d:111.14 s:82.52 d/s:1.35 price:40796.06\n",
      "forecast time: +8 Year time_inf_range:4.06 pma:13205.66 d:116.05 s:75.36 d/s:1.54 price:76235.72\n",
      "forecast time: +9 Year time_inf_range:4.35 pma:13205.66 d:121.18 s:67.38 d/s:1.80 price:169870.71\n",
      "forecast time: +10 Year time_inf_range:4.67 pma:13205.66 d:126.54 s:58.90 d/s:2.15 price:467654.94\n",
      "forecast time: +11 Year time_inf_range:5.00 pma:13205.66 d:132.13 s:48.18 d/s:2.74 price:2047877.38\n",
      "forecast time: +12 Year time_inf_range:5.36 pma:13205.66 d:137.97 s:41.12 d/s:3.36 price:8672770.78\n",
      "forecast time: +13 Year time_inf_range:5.74 pma:13205.66 d:144.07 s:36.50 d/s:3.95 price:35094546.71\n",
      "forecast time: +14 Year time_inf_range:6.16 pma:13205.66 d:150.44 s:34.41 d/s:4.37 price:116026971.22\n",
      "decision-making:\n",
      "halt developing:0 shutdown:0 restore:1 expanding:24\n",
      "supply:81.85 demand:85.73 price:14826.63\n",
      "++++++++++++++++++++++++++++++++++++++++++++++++++++++++++++++++++++++++++++++++++++++++++++++++++++++++++++++++++++++++++++++++++++++++++++++++++++++ \n",
      " 2028 4/4\n",
      "forecast time: +1 Year time_inf_range:2.50 pma:13205.66 d:86.66 s:86.46 d/s:1.00 price:13284.22\n",
      "forecast time: +2 Year time_inf_range:2.68 pma:13205.66 d:90.49 s:94.87 d/s:0.95 price:11635.39\n",
      "forecast time: +3 Year time_inf_range:2.87 pma:13205.66 d:94.49 s:103.94 d/s:0.91 price:10043.63\n",
      "forecast time: +4 Year time_inf_range:3.08 pma:13205.66 d:98.67 s:108.54 d/s:0.91 price:9848.25\n",
      "forecast time: +5 Year time_inf_range:3.30 pma:13205.66 d:103.03 s:100.02 d/s:1.03 price:14561.90\n",
      "forecast time: +6 Year time_inf_range:3.54 pma:13205.66 d:107.59 s:90.78 d/s:1.19 price:24079.24\n",
      "forecast time: +7 Year time_inf_range:3.79 pma:13205.66 d:112.34 s:82.62 d/s:1.36 price:42320.38\n",
      "forecast time: +8 Year time_inf_range:4.06 pma:13205.66 d:117.31 s:75.11 d/s:1.56 price:80768.37\n",
      "forecast time: +9 Year time_inf_range:4.35 pma:13205.66 d:122.50 s:67.86 d/s:1.81 price:172746.36\n",
      "forecast time: +10 Year time_inf_range:4.67 pma:13205.66 d:127.91 s:58.90 d/s:2.17 price:491947.39\n",
      "forecast time: +11 Year time_inf_range:5.00 pma:13205.66 d:133.57 s:48.14 d/s:2.77 price:2170894.91\n"
     ]
    },
    {
     "name": "stdout",
     "output_type": "stream",
     "text": [
      "forecast time: +12 Year time_inf_range:5.36 pma:13205.66 d:139.47 s:42.01 d/s:3.32 price:8187571.22\n",
      "forecast time: +13 Year time_inf_range:5.74 pma:13205.66 d:145.63 s:38.40 d/s:3.79 price:27920541.60\n",
      "forecast time: +14 Year time_inf_range:6.16 pma:13205.66 d:152.07 s:36.76 d/s:4.14 price:82565724.10\n",
      "decision-making:\n",
      "halt developing:0 shutdown:1 restore:0 expanding:24\n",
      "supply:86.28 demand:86.66 price:13284.22\n",
      "++++++++++++++++++++++++++++++++++++++++++++++++++++++++++++++++++++++++++++++++++++++++++++++++++++++++++++++++++++++++++++++++++++++++++++++++++++++ \n",
      " 2029 1/4\n",
      "forecast time: +1 Year time_inf_range:2.50 pma:13205.66 d:87.61 s:86.20 d/s:1.02 price:13748.48\n",
      "forecast time: +2 Year time_inf_range:2.68 pma:13205.66 d:91.48 s:94.21 d/s:0.97 price:12203.23\n",
      "forecast time: +3 Year time_inf_range:2.87 pma:13205.66 d:95.52 s:105.07 d/s:0.91 price:10043.63\n",
      "forecast time: +4 Year time_inf_range:3.08 pma:13205.66 d:99.74 s:105.76 d/s:0.94 price:11026.28\n",
      "forecast time: +5 Year time_inf_range:3.30 pma:13205.66 d:104.15 s:92.83 d/s:1.12 price:19307.04\n",
      "forecast time: +6 Year time_inf_range:3.54 pma:13205.66 d:108.76 s:83.54 d/s:1.30 price:33564.78\n",
      "forecast time: +7 Year time_inf_range:3.79 pma:13205.66 d:113.57 s:75.75 d/s:1.50 price:61266.97\n",
      "forecast time: +8 Year time_inf_range:4.06 pma:13205.66 d:118.59 s:69.38 d/s:1.71 price:116455.25\n",
      "forecast time: +9 Year time_inf_range:4.35 pma:13205.66 d:123.83 s:62.60 d/s:1.98 price:257200.65\n",
      "forecast time: +10 Year time_inf_range:4.67 pma:13205.66 d:129.30 s:54.26 d/s:2.38 price:758808.03\n",
      "forecast time: +11 Year time_inf_range:5.00 pma:13205.66 d:135.02 s:44.18 d/s:3.06 price:3521012.11\n",
      "forecast time: +12 Year time_inf_range:5.36 pma:13205.66 d:140.99 s:40.42 d/s:3.49 price:10678503.84\n",
      "forecast time: +13 Year time_inf_range:5.74 pma:13205.66 d:147.22 s:38.30 d/s:3.84 price:30174445.16\n",
      "forecast time: +14 Year time_inf_range:6.16 pma:13205.66 d:153.73 s:36.95 d/s:4.16 price:85548672.58\n",
      "decision-making:\n",
      "halt developing:0 shutdown:2 restore:1 expanding:24\n",
      "supply:85.36 demand:87.61 price:13748.48\n",
      "++++++++++++++++++++++++++++++++++++++++++++++++++++++++++++++++++++++++++++++++++++++++++++++++++++++++++++++++++++++++++++++++++++++++++++++++++++++ \n",
      " 2029 2/4\n",
      "forecast time: +1 Year time_inf_range:2.50 pma:13205.66 d:88.56 s:87.94 d/s:1.01 price:13437.72\n",
      "forecast time: +2 Year time_inf_range:2.68 pma:13205.66 d:92.47 s:101.72 d/s:0.91 price:10229.42\n",
      "forecast time: +3 Year time_inf_range:2.87 pma:13205.66 d:96.56 s:106.22 d/s:0.91 price:10043.63\n",
      "forecast time: +4 Year time_inf_range:3.08 pma:13205.66 d:100.83 s:106.53 d/s:0.95 price:11148.19\n",
      "forecast time: +5 Year time_inf_range:3.30 pma:13205.66 d:105.29 s:94.76 d/s:1.11 price:18691.21\n",
      "forecast time: +6 Year time_inf_range:3.54 pma:13205.66 d:109.94 s:86.00 d/s:1.28 price:31470.45\n",
      "forecast time: +7 Year time_inf_range:3.79 pma:13205.66 d:114.80 s:78.08 d/s:1.47 price:56893.78\n",
      "forecast time: +8 Year time_inf_range:4.06 pma:13205.66 d:119.87 s:70.17 d/s:1.71 price:116227.76\n",
      "forecast time: +9 Year time_inf_range:4.35 pma:13205.66 d:125.17 s:61.90 d/s:2.02 price:283098.65\n",
      "forecast time: +10 Year time_inf_range:4.67 pma:13205.66 d:130.71 s:52.80 d/s:2.48 price:906446.66\n",
      "forecast time: +11 Year time_inf_range:5.00 pma:13205.66 d:136.49 s:44.93 d/s:3.04 price:3415111.78\n",
      "forecast time: +12 Year time_inf_range:5.36 pma:13205.66 d:142.52 s:40.15 d/s:3.55 price:11723626.32\n",
      "forecast time: +13 Year time_inf_range:5.74 pma:13205.66 d:148.82 s:37.32 d/s:3.99 price:37219465.51\n",
      "forecast time: +14 Year time_inf_range:6.16 pma:13205.66 d:155.40 s:35.24 d/s:4.41 price:122239766.75\n",
      "decision-making:\n",
      "halt developing:0 shutdown:1 restore:1 expanding:24\n",
      "supply:87.59 demand:88.56 price:13437.72\n",
      "++++++++++++++++++++++++++++++++++++++++++++++++++++++++++++++++++++++++++++++++++++++++++++++++++++++++++++++++++++++++++++++++++++++++++++++++++++++ \n",
      " 2029 3/4\n",
      "forecast time: +1 Year time_inf_range:2.50 pma:13205.66 d:89.52 s:93.85 d/s:0.95 price:11734.83\n",
      "forecast time: +2 Year time_inf_range:2.68 pma:13205.66 d:93.48 s:102.83 d/s:0.91 price:10229.42\n",
      "forecast time: +3 Year time_inf_range:2.87 pma:13205.66 d:97.61 s:107.37 d/s:0.91 price:10043.63\n",
      "forecast time: +4 Year time_inf_range:3.08 pma:13205.66 d:101.92 s:101.91 d/s:1.00 price:13212.04\n",
      "forecast time: +5 Year time_inf_range:3.30 pma:13205.66 d:106.43 s:92.24 d/s:1.15 price:21174.48\n",
      "forecast time: +6 Year time_inf_range:3.54 pma:13205.66 d:111.14 s:83.40 d/s:1.33 price:36437.77\n",
      "forecast time: +7 Year time_inf_range:3.79 pma:13205.66 d:116.05 s:76.00 d/s:1.53 price:65662.76\n",
      "forecast time: +8 Year time_inf_range:4.06 pma:13205.66 d:121.18 s:67.92 d/s:1.78 price:138601.05\n",
      "forecast time: +9 Year time_inf_range:4.35 pma:13205.66 d:126.54 s:58.96 d/s:2.15 price:366617.05\n",
      "forecast time: +10 Year time_inf_range:4.67 pma:13205.66 d:132.13 s:48.07 d/s:2.75 price:1476490.21\n",
      "forecast time: +11 Year time_inf_range:5.00 pma:13205.66 d:137.97 s:41.07 d/s:3.36 price:5648043.21\n",
      "forecast time: +12 Year time_inf_range:5.36 pma:13205.66 d:144.07 s:36.82 d/s:3.91 price:19758411.92\n",
      "forecast time: +13 Year time_inf_range:5.74 pma:13205.66 d:150.44 s:34.24 d/s:4.39 price:64956421.89\n",
      "forecast time: +14 Year time_inf_range:6.16 pma:13205.66 d:157.09 s:32.35 d/s:4.86 price:221373260.35\n",
      "decision-making:\n",
      "halt developing:0 shutdown:1 restore:2 expanding:24\n",
      "supply:93.45 demand:89.52 price:11734.83\n",
      "++++++++++++++++++++++++++++++++++++++++++++++++++++++++++++++++++++++++++++++++++++++++++++++++++++++++++++++++++++++++++++++++++++++++++++++++++++++ \n",
      " 2029 4/4\n",
      "forecast time: +1 Year time_inf_range:2.50 pma:13205.66 d:90.49 s:93.90 d/s:0.96 price:12039.81\n",
      "forecast time: +2 Year time_inf_range:2.68 pma:13205.66 d:94.49 s:103.94 d/s:0.91 price:10229.42\n",
      "forecast time: +3 Year time_inf_range:2.87 pma:13205.66 d:98.67 s:108.54 d/s:0.91 price:10043.63\n",
      "forecast time: +4 Year time_inf_range:3.08 pma:13205.66 d:103.03 s:96.04 d/s:1.07 price:16394.44\n",
      "forecast time: +5 Year time_inf_range:3.30 pma:13205.66 d:107.59 s:86.94 d/s:1.24 price:26675.15\n",
      "forecast time: +6 Year time_inf_range:3.54 pma:13205.66 d:112.34 s:78.47 d/s:1.43 price:46963.72\n",
      "forecast time: +7 Year time_inf_range:3.79 pma:13205.66 d:117.31 s:71.27 d/s:1.65 price:87292.74\n",
      "forecast time: +8 Year time_inf_range:4.06 pma:13205.66 d:122.50 s:64.00 d/s:1.91 price:184393.79\n",
      "forecast time: +9 Year time_inf_range:4.35 pma:13205.66 d:127.91 s:54.96 d/s:2.33 price:522060.81\n",
      "forecast time: +10 Year time_inf_range:4.67 pma:13205.66 d:133.57 s:43.98 d/s:3.04 price:2352399.66\n",
      "forecast time: +11 Year time_inf_range:5.00 pma:13205.66 d:139.47 s:38.93 d/s:3.58 price:7794345.02\n",
      "forecast time: +12 Year time_inf_range:5.36 pma:13205.66 d:145.63 s:35.33 d/s:4.12 price:26136292.05\n",
      "forecast time: +13 Year time_inf_range:5.74 pma:13205.66 d:152.07 s:33.56 d/s:4.53 price:77560701.66\n",
      "forecast time: +14 Year time_inf_range:6.16 pma:13205.66 d:158.80 s:30.03 d/s:5.29 price:373992492.05\n",
      "decision-making:\n",
      "halt developing:0 shutdown:0 restore:19 expanding:24\n",
      "supply:93.90 demand:90.49 price:12039.81\n",
      "++++++++++++++++++++++++++++++++++++++++++++++++++++++++++++++++++++++++++++++++++++++++++++++++++++++++++++++++++++++++++++++++++++++++++++++++++++++ \n",
      " 2030 1/4\n",
      "forecast time: +1 Year time_inf_range:2.50 pma:13205.66 d:91.48 s:93.41 d/s:0.98 price:12534.76\n",
      "forecast time: +2 Year time_inf_range:2.68 pma:13205.66 d:95.52 s:105.07 d/s:0.91 price:10229.42\n",
      "forecast time: +3 Year time_inf_range:2.87 pma:13205.66 d:99.74 s:109.72 d/s:0.91 price:10043.63\n",
      "forecast time: +4 Year time_inf_range:3.08 pma:13205.66 d:104.15 s:107.31 d/s:0.97 price:12044.72\n",
      "forecast time: +5 Year time_inf_range:3.30 pma:13205.66 d:108.76 s:98.02 d/s:1.11 price:18604.44\n",
      "forecast time: +6 Year time_inf_range:3.54 pma:13205.66 d:113.57 s:90.07 d/s:1.26 price:29973.06\n",
      "forecast time: +7 Year time_inf_range:3.79 pma:13205.66 d:118.59 s:82.76 d/s:1.43 price:51608.10\n",
      "forecast time: +8 Year time_inf_range:4.06 pma:13205.66 d:123.83 s:75.02 d/s:1.65 price:101086.16\n",
      "forecast time: +9 Year time_inf_range:4.35 pma:13205.66 d:129.30 s:65.63 d/s:1.97 price:252694.47\n",
      "forecast time: +10 Year time_inf_range:4.67 pma:13205.66 d:135.02 s:54.57 d/s:2.47 price:904324.72\n",
      "forecast time: +11 Year time_inf_range:5.00 pma:13205.66 d:140.99 s:49.84 d/s:2.83 price:2393013.36\n",
      "forecast time: +12 Year time_inf_range:5.36 pma:13205.66 d:147.22 s:46.63 d/s:3.16 price:6255069.71\n"
     ]
    },
    {
     "name": "stdout",
     "output_type": "stream",
     "text": [
      "forecast time: +13 Year time_inf_range:5.74 pma:13205.66 d:153.73 s:44.94 d/s:3.42 price:15433648.42\n",
      "forecast time: +14 Year time_inf_range:6.16 pma:13205.66 d:160.52 s:40.75 d/s:3.94 price:61051260.88\n",
      "decision-making:\n",
      "halt developing:2 shutdown:53 restore:0 expanding:23\n",
      "supply:67.47 demand:91.48 price:12534.76\n",
      "++++++++++++++++++++++++++++++++++++++++++++++++++++++++++++++++++++++++++++++++++++++++++++++++++++++++++++++++++++++++++++++++++++++++++++++++++++++ \n",
      " 2030 2/4\n",
      "forecast time: +1 Year time_inf_range:2.50 pma:13205.66 d:92.47 s:84.37 d/s:1.10 price:16608.84\n",
      "forecast time: +2 Year time_inf_range:2.68 pma:13205.66 d:96.56 s:89.31 d/s:1.08 price:16276.96\n",
      "forecast time: +3 Year time_inf_range:2.87 pma:13205.66 d:100.83 s:95.32 d/s:1.06 price:15518.93\n",
      "forecast time: +4 Year time_inf_range:3.08 pma:13205.66 d:105.29 s:87.36 d/s:1.21 price:23457.95\n",
      "forecast time: +5 Year time_inf_range:3.30 pma:13205.66 d:109.94 s:80.64 d/s:1.36 price:36707.66\n",
      "forecast time: +6 Year time_inf_range:3.54 pma:13205.66 d:114.80 s:74.53 d/s:1.54 price:60814.28\n",
      "forecast time: +7 Year time_inf_range:3.79 pma:13205.66 d:119.87 s:68.98 d/s:1.74 price:107195.93\n",
      "forecast time: +8 Year time_inf_range:4.06 pma:13205.66 d:125.17 s:62.35 d/s:2.01 price:223900.04\n",
      "forecast time: +9 Year time_inf_range:4.35 pma:13205.66 d:130.71 s:53.34 d/s:2.45 price:653284.35\n",
      "forecast time: +10 Year time_inf_range:4.67 pma:13205.66 d:136.49 s:46.54 d/s:2.93 price:1997737.79\n",
      "forecast time: +11 Year time_inf_range:5.00 pma:13205.66 d:142.52 s:43.05 d/s:3.31 price:5251200.07\n",
      "forecast time: +12 Year time_inf_range:5.36 pma:13205.66 d:148.82 s:40.01 d/s:3.72 price:15073495.83\n",
      "forecast time: +13 Year time_inf_range:5.74 pma:13205.66 d:155.40 s:37.86 d/s:4.10 price:43958658.28\n",
      "forecast time: +14 Year time_inf_range:6.16 pma:13205.66 d:162.27 s:33.62 d/s:4.83 price:213246256.54\n",
      "decision-making:\n",
      "halt developing:0 shutdown:3 restore:81 expanding:38\n",
      "supply:81.22 demand:92.47 price:16608.84\n",
      "++++++++++++++++++++++++++++++++++++++++++++++++++++++++++++++++++++++++++++++++++++++++++++++++++++++++++++++++++++++++++++++++++++++++++++++++++++++ \n",
      " 2030 3/4\n",
      "forecast time: +1 Year time_inf_range:2.50 pma:13205.66 d:93.48 s:98.70 d/s:0.95 price:11528.63\n",
      "forecast time: +2 Year time_inf_range:2.68 pma:13205.66 d:97.61 s:102.42 d/s:0.95 price:11608.14\n",
      "forecast time: +3 Year time_inf_range:2.87 pma:13205.66 d:101.92 s:112.12 d/s:0.91 price:10043.63\n",
      "forecast time: +4 Year time_inf_range:3.08 pma:13205.66 d:106.43 s:112.20 d/s:0.95 price:11226.18\n",
      "forecast time: +5 Year time_inf_range:3.30 pma:13205.66 d:111.14 s:97.18 d/s:1.14 price:20561.14\n",
      "forecast time: +6 Year time_inf_range:3.54 pma:13205.66 d:116.05 s:86.03 d/s:1.35 price:38047.07\n",
      "forecast time: +7 Year time_inf_range:3.79 pma:13205.66 d:121.18 s:77.56 d/s:1.56 price:71640.75\n",
      "forecast time: +8 Year time_inf_range:4.06 pma:13205.66 d:126.54 s:70.01 d/s:1.81 price:146150.47\n",
      "forecast time: +9 Year time_inf_range:4.35 pma:13205.66 d:132.13 s:59.24 d/s:2.23 price:433669.49\n",
      "forecast time: +10 Year time_inf_range:4.67 pma:13205.66 d:137.97 s:53.10 d/s:2.60 price:1135757.99\n",
      "forecast time: +11 Year time_inf_range:5.00 pma:13205.66 d:144.07 s:48.67 d/s:2.96 price:3001247.39\n",
      "forecast time: +12 Year time_inf_range:5.36 pma:13205.66 d:150.44 s:45.59 d/s:3.30 price:7934142.59\n",
      "forecast time: +13 Year time_inf_range:5.74 pma:13205.66 d:157.09 s:42.25 d/s:3.72 price:24912420.33\n",
      "forecast time: +14 Year time_inf_range:6.16 pma:13205.66 d:164.03 s:37.52 d/s:4.37 price:116066724.57\n",
      "decision-making:\n",
      "halt developing:0 shutdown:1 restore:2 expanding:38\n",
      "supply:98.43 demand:93.48 price:11528.63\n",
      "++++++++++++++++++++++++++++++++++++++++++++++++++++++++++++++++++++++++++++++++++++++++++++++++++++++++++++++++++++++++++++++++++++++++++++++++++++++ \n",
      " 2030 4/4\n",
      "forecast time: +1 Year time_inf_range:2.50 pma:13205.66 d:94.49 s:93.55 d/s:1.01 price:13539.81\n",
      "forecast time: +2 Year time_inf_range:2.68 pma:13205.66 d:98.67 s:96.58 d/s:1.02 price:13985.71\n",
      "forecast time: +3 Year time_inf_range:2.87 pma:13205.66 d:103.03 s:113.34 d/s:0.91 price:10043.63\n",
      "forecast time: +4 Year time_inf_range:3.08 pma:13205.66 d:107.59 s:118.35 d/s:0.91 price:9848.25\n",
      "forecast time: +5 Year time_inf_range:3.30 pma:13205.66 d:112.34 s:122.53 d/s:0.92 price:9916.92\n",
      "forecast time: +6 Year time_inf_range:3.54 pma:13205.66 d:117.31 s:112.46 d/s:1.04 price:15332.51\n",
      "forecast time: +7 Year time_inf_range:3.79 pma:13205.66 d:122.50 s:105.70 d/s:1.16 price:23094.04\n",
      "forecast time: +8 Year time_inf_range:4.06 pma:13205.66 d:127.91 s:98.70 d/s:1.30 price:37850.93\n",
      "forecast time: +9 Year time_inf_range:4.35 pma:13205.66 d:133.57 s:87.00 d/s:1.54 price:85334.76\n",
      "forecast time: +10 Year time_inf_range:4.67 pma:13205.66 d:139.47 s:80.95 d/s:1.72 price:167104.34\n",
      "forecast time: +11 Year time_inf_range:5.00 pma:13205.66 d:145.63 s:76.33 d/s:1.91 price:333933.59\n",
      "forecast time: +12 Year time_inf_range:5.36 pma:13205.66 d:152.07 s:73.44 d/s:2.07 price:653067.67\n",
      "forecast time: +13 Year time_inf_range:5.74 pma:13205.66 d:158.80 s:68.70 d/s:2.31 price:1624563.75\n",
      "forecast time: +14 Year time_inf_range:6.16 pma:13205.66 d:165.82 s:64.94 d/s:2.55 price:4235210.46\n",
      "decision-making:\n",
      "halt developing:1 shutdown:4 restore:0 expanding:37\n",
      "supply:92.78 demand:94.49 price:13539.81\n",
      "++++++++++++++++++++++++++++++++++++++++++++++++++++++++++++++++++++++++++++++++++++++++++++++++++++++++++++++++++++++++++++++++++++++++++++++++++++++ \n",
      " 2031 1/4\n",
      "forecast time: +1 Year time_inf_range:2.50 pma:13205.66 d:95.52 s:92.48 d/s:1.03 price:14319.79\n",
      "forecast time: +2 Year time_inf_range:2.68 pma:13205.66 d:99.74 s:99.69 d/s:1.00 price:13224.78\n",
      "forecast time: +3 Year time_inf_range:2.87 pma:13205.66 d:104.15 s:114.57 d/s:0.91 price:10043.63\n",
      "forecast time: +4 Year time_inf_range:3.08 pma:13205.66 d:108.76 s:104.59 d/s:1.04 price:14892.93\n",
      "forecast time: +5 Year time_inf_range:3.30 pma:13205.66 d:113.57 s:89.98 d/s:1.26 price:28459.65\n",
      "forecast time: +6 Year time_inf_range:3.54 pma:13205.66 d:118.59 s:81.50 d/s:1.46 price:49726.89\n",
      "forecast time: +7 Year time_inf_range:3.79 pma:13205.66 d:123.83 s:76.53 d/s:1.62 price:81794.77\n",
      "forecast time: +8 Year time_inf_range:4.06 pma:13205.66 d:129.30 s:69.00 d/s:1.87 price:169266.00\n",
      "forecast time: +9 Year time_inf_range:4.35 pma:13205.66 d:135.02 s:58.10 d/s:2.32 price:518447.53\n",
      "forecast time: +10 Year time_inf_range:4.67 pma:13205.66 d:140.99 s:50.66 d/s:2.78 price:1565218.01\n",
      "forecast time: +11 Year time_inf_range:5.00 pma:13205.66 d:147.22 s:45.29 d/s:3.25 price:4791175.07\n",
      "forecast time: +12 Year time_inf_range:5.36 pma:13205.66 d:153.73 s:42.28 d/s:3.64 price:13336225.88\n",
      "forecast time: +13 Year time_inf_range:5.74 pma:13205.66 d:160.52 s:37.88 d/s:4.24 price:52829935.52\n",
      "forecast time: +14 Year time_inf_range:6.16 pma:13205.66 d:167.62 s:34.77 d/s:4.82 price:211914741.92\n",
      "decision-making:\n",
      "halt developing:0 shutdown:7 restore:7 expanding:37\n",
      "supply:91.53 demand:95.52 price:14319.79\n",
      "++++++++++++++++++++++++++++++++++++++++++++++++++++++++++++++++++++++++++++++++++++++++++++++++++++++++++++++++++++++++++++++++++++++++++++++++++++++ \n",
      " 2031 2/4\n",
      "forecast time: +1 Year time_inf_range:2.50 pma:13205.66 d:96.56 s:86.25 d/s:1.12 price:17514.42\n",
      "forecast time: +2 Year time_inf_range:2.68 pma:13205.66 d:100.83 s:92.50 d/s:1.09 price:16637.41\n",
      "forecast time: +3 Year time_inf_range:2.87 pma:13205.66 d:105.29 s:115.81 d/s:0.91 price:10043.63\n",
      "forecast time: +4 Year time_inf_range:3.08 pma:13205.66 d:109.94 s:120.93 d/s:0.91 price:9848.25\n",
      "forecast time: +5 Year time_inf_range:3.30 pma:13205.66 d:114.80 s:119.32 d/s:0.96 price:11624.85\n",
      "forecast time: +6 Year time_inf_range:3.54 pma:13205.66 d:119.87 s:110.89 d/s:1.08 price:17393.67\n",
      "forecast time: +7 Year time_inf_range:3.79 pma:13205.66 d:125.17 s:103.68 d/s:1.21 price:26965.67\n",
      "forecast time: +8 Year time_inf_range:4.06 pma:13205.66 d:130.71 s:94.22 d/s:1.39 price:49905.87\n",
      "forecast time: +9 Year time_inf_range:4.35 pma:13205.66 d:136.49 s:85.35 d/s:1.60 price:101900.87\n",
      "forecast time: +10 Year time_inf_range:4.67 pma:13205.66 d:142.52 s:80.99 d/s:1.76 price:184440.90\n",
      "forecast time: +11 Year time_inf_range:5.00 pma:13205.66 d:148.82 s:77.43 d/s:1.92 price:346365.10\n",
      "forecast time: +12 Year time_inf_range:5.36 pma:13205.66 d:155.40 s:73.98 d/s:2.10 price:704949.41\n",
      "forecast time: +13 Year time_inf_range:5.74 pma:13205.66 d:162.27 s:69.41 d/s:2.34 price:1734243.60\n"
     ]
    },
    {
     "name": "stdout",
     "output_type": "stream",
     "text": [
      "forecast time: +14 Year time_inf_range:6.16 pma:13205.66 d:169.44 s:67.68 d/s:2.50 price:3750254.19\n",
      "decision-making:\n",
      "halt developing:0 shutdown:2 restore:1 expanding:37\n",
      "supply:82.47 demand:96.56 price:17514.42\n",
      "++++++++++++++++++++++++++++++++++++++++++++++++++++++++++++++++++++++++++++++++++++++++++++++++++++++++++++++++++++++++++++++++++++++++++++++++++++++ \n",
      " 2031 3/4\n",
      "forecast time: +1 Year time_inf_range:2.50 pma:13205.66 d:97.61 s:80.55 d/s:1.21 price:21344.38\n",
      "forecast time: +2 Year time_inf_range:2.68 pma:13205.66 d:101.92 s:112.12 d/s:0.91 price:10229.42\n",
      "forecast time: +3 Year time_inf_range:2.87 pma:13205.66 d:106.43 s:117.07 d/s:0.91 price:10043.63\n",
      "forecast time: +4 Year time_inf_range:3.08 pma:13205.66 d:111.14 s:122.25 d/s:0.91 price:9848.25\n",
      "forecast time: +5 Year time_inf_range:3.30 pma:13205.66 d:116.05 s:120.02 d/s:0.97 price:11817.67\n",
      "forecast time: +6 Year time_inf_range:3.54 pma:13205.66 d:121.18 s:112.27 d/s:1.08 price:17299.76\n",
      "forecast time: +7 Year time_inf_range:3.79 pma:13205.66 d:126.54 s:104.47 d/s:1.21 price:27293.73\n",
      "forecast time: +8 Year time_inf_range:4.06 pma:13205.66 d:132.13 s:93.16 d/s:1.42 price:54584.72\n",
      "forecast time: +9 Year time_inf_range:4.35 pma:13205.66 d:137.97 s:83.92 d/s:1.64 price:115000.38\n",
      "forecast time: +10 Year time_inf_range:4.67 pma:13205.66 d:144.07 s:77.77 d/s:1.85 price:234413.21\n",
      "forecast time: +11 Year time_inf_range:5.00 pma:13205.66 d:150.44 s:73.94 d/s:2.03 price:460314.19\n",
      "forecast time: +12 Year time_inf_range:5.36 pma:13205.66 d:157.09 s:69.96 d/s:2.25 price:1007936.16\n",
      "forecast time: +13 Year time_inf_range:5.74 pma:13205.66 d:164.03 s:65.42 d/s:2.51 price:2591732.23\n",
      "forecast time: +14 Year time_inf_range:6.16 pma:13205.66 d:171.28 s:63.82 d/s:2.68 price:5752528.28\n",
      "decision-making:\n",
      "halt developing:1 shutdown:6 restore:1 expanding:37\n",
      "supply:76.29 demand:97.61 price:21344.38\n",
      "++++++++++++++++++++++++++++++++++++++++++++++++++++++++++++++++++++++++++++++++++++++++++++++++++++++++++++++++++++++++++++++++++++++++++++++++++++++ \n",
      " 2031 4/4\n",
      "forecast time: +1 Year time_inf_range:2.50 pma:13205.66 d:98.67 s:75.81 d/s:1.30 price:25518.51\n",
      "forecast time: +2 Year time_inf_range:2.68 pma:13205.66 d:103.03 s:113.34 d/s:0.91 price:10229.42\n",
      "forecast time: +3 Year time_inf_range:2.87 pma:13205.66 d:107.59 s:118.35 d/s:0.91 price:10043.63\n",
      "forecast time: +4 Year time_inf_range:3.08 pma:13205.66 d:112.34 s:123.58 d/s:0.91 price:9848.25\n",
      "forecast time: +5 Year time_inf_range:3.30 pma:13205.66 d:117.31 s:116.24 d/s:1.01 price:13609.61\n",
      "forecast time: +6 Year time_inf_range:3.54 pma:13205.66 d:122.50 s:107.89 d/s:1.14 price:20689.74\n",
      "forecast time: +7 Year time_inf_range:3.79 pma:13205.66 d:127.91 s:100.18 d/s:1.28 price:33329.02\n",
      "forecast time: +8 Year time_inf_range:4.06 pma:13205.66 d:133.57 s:88.43 d/s:1.51 price:70486.35\n",
      "forecast time: +9 Year time_inf_range:4.35 pma:13205.66 d:139.47 s:80.49 d/s:1.73 price:144544.77\n",
      "forecast time: +10 Year time_inf_range:4.67 pma:13205.66 d:145.63 s:75.31 d/s:1.93 price:286297.57\n",
      "forecast time: +11 Year time_inf_range:5.00 pma:13205.66 d:152.07 s:72.00 d/s:2.11 price:555057.83\n",
      "forecast time: +12 Year time_inf_range:5.36 pma:13205.66 d:158.80 s:68.84 d/s:2.31 price:1164559.59\n",
      "forecast time: +13 Year time_inf_range:5.74 pma:13205.66 d:165.82 s:65.85 d/s:2.52 price:2655994.89\n",
      "forecast time: +14 Year time_inf_range:6.16 pma:13205.66 d:173.15 s:64.43 d/s:2.69 price:5801579.25\n",
      "decision-making:\n",
      "halt developing:0 shutdown:0 restore:2 expanding:37\n",
      "supply:75.81 demand:98.67 price:25518.51\n",
      "++++++++++++++++++++++++++++++++++++++++++++++++++++++++++++++++++++++++++++++++++++++++++++++++++++++++++++++++++++++++++++++++++++++++++++++++++++++ \n",
      " 2032 1/4\n",
      "forecast time: +1 Year time_inf_range:2.50 pma:13205.66 d:99.74 s:86.56 d/s:1.15 price:18822.10\n",
      "forecast time: +2 Year time_inf_range:2.68 pma:13205.66 d:104.15 s:114.57 d/s:0.91 price:10229.42\n",
      "forecast time: +3 Year time_inf_range:2.87 pma:13205.66 d:108.76 s:119.63 d/s:0.91 price:10043.63\n",
      "forecast time: +4 Year time_inf_range:3.08 pma:13205.66 d:113.57 s:123.46 d/s:0.92 price:10212.14\n",
      "forecast time: +5 Year time_inf_range:3.30 pma:13205.66 d:118.59 s:115.88 d/s:1.02 price:14249.52\n",
      "forecast time: +6 Year time_inf_range:3.54 pma:13205.66 d:123.83 s:108.17 d/s:1.14 price:21301.00\n",
      "forecast time: +7 Year time_inf_range:3.79 pma:13205.66 d:129.30 s:100.55 d/s:1.29 price:34245.25\n",
      "forecast time: +8 Year time_inf_range:4.06 pma:13205.66 d:135.02 s:90.07 d/s:1.50 price:68363.66\n",
      "forecast time: +9 Year time_inf_range:4.35 pma:13205.66 d:140.99 s:82.66 d/s:1.71 price:134943.53\n",
      "forecast time: +10 Year time_inf_range:4.67 pma:13205.66 d:147.22 s:77.63 d/s:1.90 price:261422.02\n",
      "forecast time: +11 Year time_inf_range:5.00 pma:13205.66 d:153.73 s:74.36 d/s:2.07 price:498678.77\n",
      "forecast time: +12 Year time_inf_range:5.36 pma:13205.66 d:160.52 s:71.34 d/s:2.25 price:1018701.20\n",
      "forecast time: +13 Year time_inf_range:5.74 pma:13205.66 d:167.62 s:69.66 d/s:2.41 price:2046579.84\n",
      "forecast time: +14 Year time_inf_range:6.16 pma:13205.66 d:175.03 s:68.01 d/s:2.57 price:4445983.21\n",
      "decision-making:\n",
      "halt developing:0 shutdown:23 restore:0 expanding:24\n",
      "supply:79.68 demand:99.74 price:18822.10\n",
      "++++++++++++++++++++++++++++++++++++++++++++++++++++++++++++++++++++++++++++++++++++++++++++++++++++++++++++++++++++++++++++++++++++++++++++++++++++++ \n",
      " 2032 2/4\n",
      "forecast time: +1 Year time_inf_range:2.50 pma:13205.66 d:100.83 s:77.89 d/s:1.29 price:25181.72\n",
      "forecast time: +2 Year time_inf_range:2.68 pma:13205.66 d:105.29 s:115.81 d/s:0.91 price:10229.42\n",
      "forecast time: +3 Year time_inf_range:2.87 pma:13205.66 d:109.94 s:120.93 d/s:0.91 price:10043.63\n",
      "forecast time: +4 Year time_inf_range:3.08 pma:13205.66 d:114.80 s:117.67 d/s:0.98 price:12240.79\n",
      "forecast time: +5 Year time_inf_range:3.30 pma:13205.66 d:119.87 s:110.81 d/s:1.08 price:17115.08\n",
      "forecast time: +6 Year time_inf_range:3.54 pma:13205.66 d:125.17 s:103.81 d/s:1.21 price:25593.59\n",
      "forecast time: +7 Year time_inf_range:3.79 pma:13205.66 d:130.71 s:94.07 d/s:1.39 price:45927.58\n",
      "forecast time: +8 Year time_inf_range:4.06 pma:13205.66 d:136.49 s:84.88 d/s:1.61 price:90872.04\n",
      "forecast time: +9 Year time_inf_range:4.35 pma:13205.66 d:142.52 s:78.44 d/s:1.82 price:177640.66\n",
      "forecast time: +10 Year time_inf_range:4.67 pma:13205.66 d:148.82 s:74.63 d/s:1.99 price:330532.19\n",
      "forecast time: +11 Year time_inf_range:5.00 pma:13205.66 d:155.40 s:71.54 d/s:2.17 price:638397.71\n",
      "forecast time: +12 Year time_inf_range:5.36 pma:13205.66 d:162.27 s:68.13 d/s:2.38 price:1381721.11\n",
      "forecast time: +13 Year time_inf_range:5.74 pma:13205.66 d:169.44 s:66.77 d/s:2.54 price:2777807.26\n",
      "forecast time: +14 Year time_inf_range:6.16 pma:13205.66 d:176.93 s:65.31 d/s:2.71 price:6097853.08\n",
      "decision-making:\n",
      "halt developing:0 shutdown:2 restore:5 expanding:24\n",
      "supply:77.75 demand:100.83 price:25181.72\n",
      "++++++++++++++++++++++++++++++++++++++++++++++++++++++++++++++++++++++++++++++++++++++++++++++++++++++++++++++++++++++++++++++++++++++++++++++++++++++ \n",
      " 2032 3/4\n",
      "forecast time: +1 Year time_inf_range:2.50 pma:13205.66 d:101.92 s:112.12 d/s:0.91 price:10405.87\n",
      "forecast time: +2 Year time_inf_range:2.68 pma:13205.66 d:106.43 s:117.07 d/s:0.91 price:10229.42\n",
      "forecast time: +3 Year time_inf_range:2.87 pma:13205.66 d:111.14 s:122.25 d/s:0.91 price:10043.63\n",
      "forecast time: +4 Year time_inf_range:3.08 pma:13205.66 d:116.05 s:118.43 d/s:0.98 price:12405.67\n",
      "forecast time: +5 Year time_inf_range:3.30 pma:13205.66 d:121.18 s:110.94 d/s:1.09 price:17670.15\n",
      "forecast time: +6 Year time_inf_range:3.54 pma:13205.66 d:126.54 s:102.91 d/s:1.23 price:27417.12\n",
      "forecast time: +7 Year time_inf_range:3.79 pma:13205.66 d:132.13 s:91.79 d/s:1.44 price:52517.86\n",
      "forecast time: +8 Year time_inf_range:4.06 pma:13205.66 d:137.97 s:82.73 d/s:1.67 price:105399.10\n",
      "forecast time: +9 Year time_inf_range:4.35 pma:13205.66 d:144.07 s:77.11 d/s:1.87 price:200662.49\n",
      "forecast time: +10 Year time_inf_range:4.67 pma:13205.66 d:150.44 s:73.81 d/s:2.04 price:365877.41\n",
      "forecast time: +11 Year time_inf_range:5.00 pma:13205.66 d:157.09 s:70.84 d/s:2.22 price:708149.00\n",
      "forecast time: +12 Year time_inf_range:5.36 pma:13205.66 d:164.03 s:67.41 d/s:2.43 price:1550330.97\n",
      "forecast time: +13 Year time_inf_range:5.74 pma:13205.66 d:171.28 s:66.20 d/s:2.59 price:3103954.74\n"
     ]
    },
    {
     "name": "stdout",
     "output_type": "stream",
     "text": [
      "forecast time: +14 Year time_inf_range:6.16 pma:13205.66 d:178.85 s:64.60 d/s:2.77 price:6968332.63\n",
      "decision-making:\n",
      "halt developing:0 shutdown:33 restore:3 expanding:24\n",
      "supply:99.47 demand:101.92 price:10405.87\n",
      "++++++++++++++++++++++++++++++++++++++++++++++++++++++++++++++++++++++++++++++++++++++++++++++++++++++++++++++++++++++++++++++++++++++++++++++++++++++ \n",
      " 2032 4/4\n",
      "forecast time: +1 Year time_inf_range:2.50 pma:13205.66 d:103.03 s:100.38 d/s:1.03 price:14097.36\n",
      "forecast time: +2 Year time_inf_range:2.68 pma:13205.66 d:107.59 s:98.47 d/s:1.09 price:16743.25\n",
      "forecast time: +3 Year time_inf_range:2.87 pma:13205.66 d:112.34 s:88.13 d/s:1.27 price:26519.63\n",
      "forecast time: +4 Year time_inf_range:3.08 pma:13205.66 d:117.31 s:80.41 d/s:1.46 price:42224.51\n",
      "forecast time: +5 Year time_inf_range:3.30 pma:13205.66 d:122.50 s:72.64 d/s:1.69 price:74017.08\n",
      "forecast time: +6 Year time_inf_range:3.54 pma:13205.66 d:127.91 s:65.63 d/s:1.95 price:139762.11\n",
      "forecast time: +7 Year time_inf_range:3.79 pma:13205.66 d:133.57 s:56.40 d/s:2.37 price:346298.73\n",
      "forecast time: +8 Year time_inf_range:4.06 pma:13205.66 d:139.47 s:50.08 d/s:2.78 price:845740.49\n",
      "forecast time: +9 Year time_inf_range:4.35 pma:13205.66 d:145.63 s:45.47 d/s:3.20 price:2095958.67\n",
      "forecast time: +10 Year time_inf_range:4.67 pma:13205.66 d:152.07 s:42.60 d/s:3.57 price:4999839.98\n",
      "forecast time: +11 Year time_inf_range:5.00 pma:13205.66 d:158.80 s:40.06 d/s:3.96 price:12925673.13\n",
      "forecast time: +12 Year time_inf_range:5.36 pma:13205.66 d:165.82 s:37.86 d/s:4.38 price:36180133.47\n",
      "forecast time: +13 Year time_inf_range:5.74 pma:13205.66 d:173.15 s:36.69 d/s:4.72 price:97943752.66\n",
      "forecast time: +14 Year time_inf_range:6.16 pma:13205.66 d:180.80 s:34.81 d/s:5.19 price:335302459.31\n",
      "decision-making:\n",
      "halt developing:0 shutdown:0 restore:62 expanding:75\n",
      "supply:100.38 demand:103.03 price:14097.36\n",
      "++++++++++++++++++++++++++++++++++++++++++++++++++++++++++++++++++++++++++++++++++++++++++++++++++++++++++++++++++++++++++++++++++++++++++++++++++++++ \n",
      " 2033 1/4\n",
      "forecast time: +1 Year time_inf_range:2.50 pma:13205.66 d:104.15 s:114.57 d/s:0.91 price:10405.87\n",
      "forecast time: +2 Year time_inf_range:2.68 pma:13205.66 d:108.76 s:119.63 d/s:0.91 price:10229.42\n",
      "forecast time: +3 Year time_inf_range:2.87 pma:13205.66 d:113.57 s:124.92 d/s:0.91 price:10043.63\n",
      "forecast time: +4 Year time_inf_range:3.08 pma:13205.66 d:118.59 s:130.44 d/s:0.91 price:9848.25\n",
      "forecast time: +5 Year time_inf_range:3.30 pma:13205.66 d:123.83 s:125.31 d/s:0.99 price:12698.89\n",
      "forecast time: +6 Year time_inf_range:3.54 pma:13205.66 d:129.30 s:113.53 d/s:1.14 price:20916.18\n",
      "forecast time: +7 Year time_inf_range:3.79 pma:13205.66 d:135.02 s:102.66 d/s:1.32 price:37288.38\n",
      "forecast time: +8 Year time_inf_range:4.06 pma:13205.66 d:140.99 s:91.78 d/s:1.54 price:75487.35\n",
      "forecast time: +9 Year time_inf_range:4.35 pma:13205.66 d:147.22 s:83.88 d/s:1.76 price:152845.36\n",
      "forecast time: +10 Year time_inf_range:4.67 pma:13205.66 d:153.73 s:78.90 d/s:1.95 price:296524.02\n",
      "forecast time: +11 Year time_inf_range:5.00 pma:13205.66 d:160.52 s:75.79 d/s:2.12 price:562901.64\n",
      "forecast time: +12 Year time_inf_range:5.36 pma:13205.66 d:167.62 s:72.55 d/s:2.31 price:1173954.35\n",
      "forecast time: +13 Year time_inf_range:5.74 pma:13205.66 d:175.03 s:68.78 d/s:2.54 price:2822289.30\n",
      "forecast time: +14 Year time_inf_range:6.16 pma:13205.66 d:182.76 s:64.91 d/s:2.82 price:7733885.02\n",
      "decision-making:\n",
      "halt developing:0 shutdown:7 restore:0 expanding:75\n",
      "supply:123.98 demand:104.15 price:10405.87\n",
      "++++++++++++++++++++++++++++++++++++++++++++++++++++++++++++++++++++++++++++++++++++++++++++++++++++++++++++++++++++++++++++++++++++++++++++++++++++++ \n",
      " 2033 2/4\n",
      "forecast time: +1 Year time_inf_range:2.50 pma:13205.66 d:105.29 s:115.81 d/s:0.91 price:10405.87\n",
      "forecast time: +2 Year time_inf_range:2.68 pma:13205.66 d:109.94 s:112.65 d/s:0.98 price:12371.33\n",
      "forecast time: +3 Year time_inf_range:2.87 pma:13205.66 d:114.80 s:126.28 d/s:0.91 price:10043.63\n",
      "forecast time: +4 Year time_inf_range:3.08 pma:13205.66 d:119.87 s:131.86 d/s:0.91 price:9848.25\n",
      "forecast time: +5 Year time_inf_range:3.30 pma:13205.66 d:125.17 s:122.23 d/s:1.02 price:14282.44\n",
      "forecast time: +6 Year time_inf_range:3.54 pma:13205.66 d:130.71 s:111.80 d/s:1.17 price:22942.91\n",
      "forecast time: +7 Year time_inf_range:3.79 pma:13205.66 d:136.49 s:102.15 d/s:1.34 price:39595.25\n",
      "forecast time: +8 Year time_inf_range:4.06 pma:13205.66 d:142.52 s:90.99 d/s:1.57 price:81709.37\n",
      "forecast time: +9 Year time_inf_range:4.35 pma:13205.66 d:148.82 s:84.26 d/s:1.77 price:157066.43\n",
      "forecast time: +10 Year time_inf_range:4.67 pma:13205.66 d:155.40 s:80.42 d/s:1.93 price:285312.45\n",
      "forecast time: +11 Year time_inf_range:5.00 pma:13205.66 d:162.27 s:77.60 d/s:2.09 price:527819.21\n",
      "forecast time: +12 Year time_inf_range:5.36 pma:13205.66 d:169.44 s:75.21 d/s:2.25 price:1026000.67\n",
      "forecast time: +13 Year time_inf_range:5.74 pma:13205.66 d:176.93 s:72.07 d/s:2.45 price:2295660.78\n",
      "forecast time: +14 Year time_inf_range:6.16 pma:13205.66 d:184.75 s:66.90 d/s:2.76 price:6864878.67\n",
      "decision-making:\n",
      "halt developing:0 shutdown:7 restore:5 expanding:75\n",
      "supply:115.08 demand:105.29 price:10405.87\n",
      "++++++++++++++++++++++++++++++++++++++++++++++++++++++++++++++++++++++++++++++++++++++++++++++++++++++++++++++++++++++++++++++++++++++++++++++++++++++ \n",
      " 2033 3/4\n",
      "forecast time: +1 Year time_inf_range:2.50 pma:13205.66 d:106.43 s:111.85 d/s:0.95 price:11664.92\n",
      "forecast time: +2 Year time_inf_range:2.68 pma:13205.66 d:111.14 s:104.20 d/s:1.07 price:15696.38\n",
      "forecast time: +3 Year time_inf_range:2.87 pma:13205.66 d:116.05 s:127.65 d/s:0.91 price:10043.63\n",
      "forecast time: +4 Year time_inf_range:3.08 pma:13205.66 d:121.18 s:131.33 d/s:0.92 price:10309.03\n",
      "forecast time: +5 Year time_inf_range:3.30 pma:13205.66 d:126.54 s:120.32 d/s:1.05 price:15594.32\n",
      "forecast time: +6 Year time_inf_range:3.54 pma:13205.66 d:132.13 s:109.38 d/s:1.21 price:25756.87\n",
      "forecast time: +7 Year time_inf_range:3.79 pma:13205.66 d:137.97 s:98.81 d/s:1.40 price:46790.09\n",
      "forecast time: +8 Year time_inf_range:4.06 pma:13205.66 d:144.07 s:88.84 d/s:1.62 price:94068.77\n",
      "forecast time: +9 Year time_inf_range:4.35 pma:13205.66 d:150.44 s:82.90 d/s:1.81 price:176728.88\n",
      "forecast time: +10 Year time_inf_range:4.67 pma:13205.66 d:157.09 s:79.42 d/s:1.98 price:318198.94\n",
      "forecast time: +11 Year time_inf_range:5.00 pma:13205.66 d:164.03 s:76.10 d/s:2.16 price:614256.32\n",
      "forecast time: +12 Year time_inf_range:5.36 pma:13205.66 d:171.28 s:72.98 d/s:2.35 price:1276950.30\n",
      "forecast time: +13 Year time_inf_range:5.74 pma:13205.66 d:178.85 s:68.87 d/s:2.60 price:3171605.68\n",
      "forecast time: +14 Year time_inf_range:6.16 pma:13205.66 d:186.76 s:64.17 d/s:2.91 price:9474177.57\n",
      "decision-making:\n",
      "halt developing:0 shutdown:13 restore:5 expanding:75\n",
      "supply:106.79 demand:106.43 price:11664.92\n",
      "++++++++++++++++++++++++++++++++++++++++++++++++++++++++++++++++++++++++++++++++++++++++++++++++++++++++++++++++++++++++++++++++++++++++++++++++++++++ \n",
      " 2033 4/4\n",
      "forecast time: +1 Year time_inf_range:2.50 pma:13205.66 d:107.59 s:109.78 d/s:0.98 price:12555.18\n",
      "forecast time: +2 Year time_inf_range:2.68 pma:13205.66 d:112.34 s:96.62 d/s:1.16 price:19780.52\n",
      "forecast time: +3 Year time_inf_range:2.87 pma:13205.66 d:117.31 s:129.04 d/s:0.91 price:10043.63\n",
      "forecast time: +4 Year time_inf_range:3.08 pma:13205.66 d:122.50 s:124.09 d/s:0.99 price:12691.57\n",
      "forecast time: +5 Year time_inf_range:3.30 pma:13205.66 d:127.91 s:112.93 d/s:1.13 price:19919.50\n",
      "forecast time: +6 Year time_inf_range:3.54 pma:13205.66 d:133.57 s:103.89 d/s:1.29 price:32100.79\n",
      "forecast time: +7 Year time_inf_range:3.79 pma:13205.66 d:139.47 s:94.41 d/s:1.48 price:57918.21\n",
      "forecast time: +8 Year time_inf_range:4.06 pma:13205.66 d:145.63 s:85.69 d/s:1.70 price:113795.49\n",
      "forecast time: +9 Year time_inf_range:4.35 pma:13205.66 d:152.07 s:80.33 d/s:1.89 price:212454.61\n",
      "forecast time: +10 Year time_inf_range:4.67 pma:13205.66 d:158.80 s:77.44 d/s:2.05 price:376401.84\n",
      "forecast time: +11 Year time_inf_range:5.00 pma:13205.66 d:165.82 s:74.67 d/s:2.22 price:713165.79\n",
      "forecast time: +12 Year time_inf_range:5.36 pma:13205.66 d:173.15 s:71.53 d/s:2.42 price:1507607.94\n",
      "forecast time: +13 Year time_inf_range:5.74 pma:13205.66 d:180.80 s:67.74 d/s:2.67 price:3712633.73\n",
      "forecast time: +14 Year time_inf_range:6.16 pma:13205.66 d:188.79 s:64.72 d/s:2.92 price:9613564.89\n",
      "decision-making:\n",
      "halt developing:0 shutdown:6 restore:17 expanding:75\n",
      "supply:106.94 demand:107.59 price:12555.18\n",
      "++++++++++++++++++++++++++++++++++++++++++++++++++++++++++++++++++++++++++++++++++++++++++++++++++++++++++++++++++++++++++++++++++++++++++++++++++++++ \n",
      " 2034 1/4\n",
      "forecast time: +1 Year time_inf_range:2.50 pma:13205.66 d:108.76 s:109.49 d/s:0.99 price:12987.18\n"
     ]
    },
    {
     "name": "stdout",
     "output_type": "stream",
     "text": [
      "forecast time: +2 Year time_inf_range:2.68 pma:13205.66 d:113.57 s:124.92 d/s:0.91 price:10229.42\n",
      "forecast time: +3 Year time_inf_range:2.87 pma:13205.66 d:118.59 s:130.44 d/s:0.91 price:10043.63\n",
      "forecast time: +4 Year time_inf_range:3.08 pma:13205.66 d:123.83 s:121.26 d/s:1.02 price:14085.24\n",
      "forecast time: +5 Year time_inf_range:3.30 pma:13205.66 d:129.30 s:110.99 d/s:1.17 price:21855.61\n",
      "forecast time: +6 Year time_inf_range:3.54 pma:13205.66 d:135.02 s:103.56 d/s:1.30 price:33735.08\n",
      "forecast time: +7 Year time_inf_range:3.79 pma:13205.66 d:140.99 s:92.17 d/s:1.53 price:66109.37\n",
      "forecast time: +8 Year time_inf_range:4.06 pma:13205.66 d:147.22 s:83.62 d/s:1.76 price:131361.45\n",
      "forecast time: +9 Year time_inf_range:4.35 pma:13205.66 d:153.73 s:78.60 d/s:1.96 price:244790.65\n",
      "forecast time: +10 Year time_inf_range:4.67 pma:13205.66 d:160.52 s:75.84 d/s:2.12 price:436531.48\n",
      "forecast time: +11 Year time_inf_range:5.00 pma:13205.66 d:167.62 s:73.05 d/s:2.29 price:839904.88\n",
      "forecast time: +12 Year time_inf_range:5.36 pma:13205.66 d:175.03 s:69.73 d/s:2.51 price:1830767.87\n",
      "forecast time: +13 Year time_inf_range:5.74 pma:13205.66 d:182.76 s:64.31 d/s:2.84 price:5323280.16\n",
      "forecast time: +14 Year time_inf_range:6.16 pma:13205.66 d:190.84 s:60.52 d/s:3.15 price:15526856.99\n",
      "decision-making:\n",
      "halt developing:0 shutdown:3 restore:6 expanding:75\n",
      "supply:108.57 demand:108.76 price:12987.18\n",
      "++++++++++++++++++++++++++++++++++++++++++++++++++++++++++++++++++++++++++++++++++++++++++++++++++++++++++++++++++++++++++++++++++++++++++++++++++++++ \n",
      " 2034 2/4\n",
      "forecast time: +1 Year time_inf_range:2.50 pma:13205.66 d:109.94 s:103.36 d/s:1.06 price:15408.14\n",
      "forecast time: +2 Year time_inf_range:2.68 pma:13205.66 d:114.80 s:126.28 d/s:0.91 price:10229.42\n",
      "forecast time: +3 Year time_inf_range:2.87 pma:13205.66 d:119.87 s:131.86 d/s:0.91 price:10043.63\n",
      "forecast time: +4 Year time_inf_range:3.08 pma:13205.66 d:125.17 s:121.77 d/s:1.03 price:14375.81\n",
      "forecast time: +5 Year time_inf_range:3.30 pma:13205.66 d:130.71 s:113.10 d/s:1.16 price:21283.67\n",
      "forecast time: +6 Year time_inf_range:3.54 pma:13205.66 d:136.49 s:105.30 d/s:1.30 price:33042.35\n",
      "forecast time: +7 Year time_inf_range:3.79 pma:13205.66 d:142.52 s:94.49 d/s:1.51 price:62681.41\n",
      "forecast time: +8 Year time_inf_range:4.06 pma:13205.66 d:148.82 s:84.38 d/s:1.76 price:132315.75\n",
      "forecast time: +9 Year time_inf_range:4.35 pma:13205.66 d:155.40 s:79.12 d/s:1.96 price:249328.11\n",
      "forecast time: +10 Year time_inf_range:4.67 pma:13205.66 d:162.27 s:76.12 d/s:2.13 price:451265.79\n",
      "forecast time: +11 Year time_inf_range:5.00 pma:13205.66 d:169.44 s:73.44 d/s:2.31 price:863190.10\n",
      "forecast time: +12 Year time_inf_range:5.36 pma:13205.66 d:176.93 s:69.30 d/s:2.55 price:2005717.76\n",
      "forecast time: +13 Year time_inf_range:5.74 pma:13205.66 d:184.75 s:63.42 d/s:2.91 price:6133376.50\n",
      "forecast time: +14 Year time_inf_range:6.16 pma:13205.66 d:192.92 s:60.50 d/s:3.19 price:16634172.90\n",
      "decision-making:\n",
      "halt developing:0 shutdown:7 restore:3 expanding:72\n",
      "supply:97.27 demand:109.94 price:15408.14\n",
      "++++++++++++++++++++++++++++++++++++++++++++++++++++++++++++++++++++++++++++++++++++++++++++++++++++++++++++++++++++++++++++++++++++++++++++++++++++++ \n",
      " 2034 3/4\n",
      "forecast time: +1 Year time_inf_range:2.50 pma:13205.66 d:111.14 s:92.26 d/s:1.20 price:21028.85\n",
      "forecast time: +2 Year time_inf_range:2.68 pma:13205.66 d:116.05 s:127.65 d/s:0.91 price:10229.42\n",
      "forecast time: +3 Year time_inf_range:2.87 pma:13205.66 d:121.18 s:128.95 d/s:0.94 price:11045.60\n",
      "forecast time: +4 Year time_inf_range:3.08 pma:13205.66 d:126.54 s:117.58 d/s:1.08 price:16552.86\n",
      "forecast time: +5 Year time_inf_range:3.30 pma:13205.66 d:132.13 s:110.41 d/s:1.20 price:23880.48\n",
      "forecast time: +6 Year time_inf_range:3.54 pma:13205.66 d:137.97 s:101.92 d/s:1.35 price:38528.26\n",
      "forecast time: +7 Year time_inf_range:3.79 pma:13205.66 d:144.07 s:90.19 d/s:1.60 price:77896.11\n",
      "forecast time: +8 Year time_inf_range:4.06 pma:13205.66 d:150.44 s:81.68 d/s:1.84 price:157753.90\n",
      "forecast time: +9 Year time_inf_range:4.35 pma:13205.66 d:157.09 s:77.63 d/s:2.02 price:283845.15\n",
      "forecast time: +10 Year time_inf_range:4.67 pma:13205.66 d:164.03 s:74.79 d/s:2.19 price:515354.35\n",
      "forecast time: +11 Year time_inf_range:5.00 pma:13205.66 d:171.28 s:71.74 d/s:2.39 price:1024303.33\n",
      "forecast time: +12 Year time_inf_range:5.36 pma:13205.66 d:178.85 s:67.82 d/s:2.64 price:2385251.66\n",
      "forecast time: +13 Year time_inf_range:5.74 pma:13205.66 d:186.76 s:63.03 d/s:2.96 price:6762466.33\n",
      "forecast time: +14 Year time_inf_range:6.16 pma:13205.66 d:195.02 s:60.90 d/s:3.20 price:17069617.53\n",
      "decision-making:\n",
      "halt developing:0 shutdown:4 restore:7 expanding:72\n",
      "supply:92.06 demand:111.14 price:21028.85\n",
      "++++++++++++++++++++++++++++++++++++++++++++++++++++++++++++++++++++++++++++++++++++++++++++++++++++++++++++++++++++++++++++++++++++++++++++++++++++++ \n",
      " 2034 4/4\n",
      "forecast time: +1 Year time_inf_range:2.50 pma:13205.66 d:112.34 s:87.84 d/s:1.28 price:24428.08\n",
      "forecast time: +2 Year time_inf_range:2.68 pma:13205.66 d:117.31 s:128.44 d/s:0.91 price:10358.10\n",
      "forecast time: +3 Year time_inf_range:2.87 pma:13205.66 d:122.50 s:131.64 d/s:0.93 price:10739.58\n",
      "forecast time: +4 Year time_inf_range:3.08 pma:13205.66 d:127.91 s:121.48 d/s:1.05 price:15476.48\n",
      "forecast time: +5 Year time_inf_range:3.30 pma:13205.66 d:133.57 s:114.86 d/s:1.16 price:21720.07\n",
      "forecast time: +6 Year time_inf_range:3.54 pma:13205.66 d:139.47 s:104.91 d/s:1.33 price:36137.31\n",
      "forecast time: +7 Year time_inf_range:3.79 pma:13205.66 d:145.63 s:92.50 d/s:1.57 price:73751.52\n",
      "forecast time: +8 Year time_inf_range:4.06 pma:13205.66 d:152.07 s:84.31 d/s:1.80 price:144905.58\n",
      "forecast time: +9 Year time_inf_range:4.35 pma:13205.66 d:158.80 s:80.53 d/s:1.97 price:253648.61\n",
      "forecast time: +10 Year time_inf_range:4.67 pma:13205.66 d:165.82 s:77.48 d/s:2.14 price:459627.68\n",
      "forecast time: +11 Year time_inf_range:5.00 pma:13205.66 d:173.15 s:74.59 d/s:2.32 price:889894.03\n",
      "forecast time: +12 Year time_inf_range:5.36 pma:13205.66 d:180.80 s:70.21 d/s:2.58 price:2100350.63\n",
      "forecast time: +13 Year time_inf_range:5.74 pma:13205.66 d:188.79 s:66.25 d/s:2.85 price:5406940.70\n",
      "forecast time: +14 Year time_inf_range:6.16 pma:13205.66 d:197.14 s:63.63 d/s:3.10 price:13922202.62\n",
      "decision-making:\n",
      "halt developing:3 shutdown:5 restore:4 expanding:71\n",
      "supply:87.66 demand:112.34 price:24428.08\n",
      "++++++++++++++++++++++++++++++++++++++++++++++++++++++++++++++++++++++++++++++++++++++++++++++++++++++++++++++++++++++++++++++++++++++++++++++++++++++ \n",
      " 2035 1/4\n",
      "forecast time: +1 Year time_inf_range:2.50 pma:13205.66 d:113.57 s:124.92 d/s:0.91 price:10405.87\n",
      "forecast time: +2 Year time_inf_range:2.68 pma:13205.66 d:118.59 s:130.44 d/s:0.91 price:10229.42\n",
      "forecast time: +3 Year time_inf_range:2.87 pma:13205.66 d:123.83 s:127.38 d/s:0.97 price:12175.92\n",
      "forecast time: +4 Year time_inf_range:3.08 pma:13205.66 d:129.30 s:117.82 d/s:1.10 price:17582.83\n",
      "forecast time: +5 Year time_inf_range:3.30 pma:13205.66 d:135.02 s:112.02 d/s:1.21 price:24449.17\n",
      "forecast time: +6 Year time_inf_range:3.54 pma:13205.66 d:140.99 s:102.08 d/s:1.38 price:41359.45\n",
      "forecast time: +7 Year time_inf_range:3.79 pma:13205.66 d:147.22 s:89.46 d/s:1.65 price:87184.67\n",
      "forecast time: +8 Year time_inf_range:4.06 pma:13205.66 d:153.73 s:82.26 d/s:1.87 price:167356.45\n",
      "forecast time: +9 Year time_inf_range:4.35 pma:13205.66 d:160.52 s:78.85 d/s:2.04 price:291427.27\n",
      "forecast time: +10 Year time_inf_range:4.67 pma:13205.66 d:167.62 s:75.87 d/s:2.21 price:533133.34\n",
      "forecast time: +11 Year time_inf_range:5.00 pma:13205.66 d:175.03 s:72.61 d/s:2.41 price:1074642.47\n",
      "forecast time: +12 Year time_inf_range:5.36 pma:13205.66 d:182.76 s:67.44 d/s:2.71 price:2760045.61\n",
      "forecast time: +13 Year time_inf_range:5.74 pma:13205.66 d:190.84 s:63.46 d/s:3.01 price:7364644.39\n",
      "forecast time: +14 Year time_inf_range:6.16 pma:13205.66 d:199.28 s:61.38 d/s:3.25 price:18582564.60\n",
      "decision-making:\n",
      "halt developing:0 shutdown:8 restore:8 expanding:71\n",
      "supply:133.15 demand:113.57 price:10405.87\n",
      "++++++++++++++++++++++++++++++++++++++++++++++++++++++++++++++++++++++++++++++++++++++++++++++++++++++++++++++++++++++++++++++++++++++++++++++++++++++ \n",
      " 2035 2/4\n",
      "forecast time: +1 Year time_inf_range:2.50 pma:13205.66 d:114.80 s:126.28 d/s:0.91 price:10405.87\n",
      "forecast time: +2 Year time_inf_range:2.68 pma:13205.66 d:119.87 s:129.56 d/s:0.93 price:10722.99\n",
      "forecast time: +3 Year time_inf_range:2.87 pma:13205.66 d:125.17 s:121.53 d/s:1.03 price:14375.99\n"
     ]
    },
    {
     "name": "stdout",
     "output_type": "stream",
     "text": [
      "forecast time: +4 Year time_inf_range:3.08 pma:13205.66 d:130.71 s:112.49 d/s:1.16 price:20961.47\n",
      "forecast time: +5 Year time_inf_range:3.30 pma:13205.66 d:136.49 s:108.53 d/s:1.26 price:28128.22\n",
      "forecast time: +6 Year time_inf_range:3.54 pma:13205.66 d:142.52 s:96.91 d/s:1.47 price:51639.32\n",
      "forecast time: +7 Year time_inf_range:3.79 pma:13205.66 d:148.82 s:86.89 d/s:1.71 price:101477.42\n",
      "forecast time: +8 Year time_inf_range:4.06 pma:13205.66 d:155.40 s:81.55 d/s:1.91 price:181136.14\n",
      "forecast time: +9 Year time_inf_range:4.35 pma:13205.66 d:162.27 s:78.52 d/s:2.07 price:311188.12\n",
      "forecast time: +10 Year time_inf_range:4.67 pma:13205.66 d:169.44 s:75.71 d/s:2.24 price:566257.65\n",
      "forecast time: +11 Year time_inf_range:5.00 pma:13205.66 d:176.93 s:72.62 d/s:2.44 price:1133880.39\n",
      "forecast time: +12 Year time_inf_range:5.36 pma:13205.66 d:184.75 s:67.58 d/s:2.73 price:2893901.76\n",
      "forecast time: +13 Year time_inf_range:5.74 pma:13205.66 d:192.92 s:64.31 d/s:3.00 price:7259953.73\n",
      "forecast time: +14 Year time_inf_range:6.16 pma:13205.66 d:201.45 s:62.77 d/s:3.21 price:17299890.22\n",
      "decision-making:\n",
      "halt developing:0 shutdown:8 restore:8 expanding:72\n",
      "supply:119.51 demand:114.80 price:10405.87\n",
      "++++++++++++++++++++++++++++++++++++++++++++++++++++++++++++++++++++++++++++++++++++++++++++++++++++++++++++++++++++++++++++++++++++++++++++++++++++++ \n",
      " 2035 3/4\n",
      "forecast time: +1 Year time_inf_range:2.50 pma:13205.66 d:116.05 s:120.15 d/s:0.97 price:12106.25\n",
      "forecast time: +2 Year time_inf_range:2.68 pma:13205.66 d:121.18 s:122.80 d/s:0.99 price:12742.34\n",
      "forecast time: +3 Year time_inf_range:2.87 pma:13205.66 d:126.54 s:119.44 d/s:1.06 price:15585.36\n",
      "forecast time: +4 Year time_inf_range:3.08 pma:13205.66 d:132.13 s:115.04 d/s:1.15 price:20226.31\n",
      "forecast time: +5 Year time_inf_range:3.30 pma:13205.66 d:137.97 s:107.41 d/s:1.28 price:30158.42\n",
      "forecast time: +6 Year time_inf_range:3.54 pma:13205.66 d:144.07 s:95.57 d/s:1.51 price:56367.80\n",
      "forecast time: +7 Year time_inf_range:3.79 pma:13205.66 d:150.44 s:86.75 d/s:1.73 price:106351.88\n",
      "forecast time: +8 Year time_inf_range:4.06 pma:13205.66 d:157.09 s:82.43 d/s:1.91 price:181229.69\n",
      "forecast time: +9 Year time_inf_range:4.35 pma:13205.66 d:164.03 s:79.48 d/s:2.06 price:309334.81\n",
      "forecast time: +10 Year time_inf_range:4.67 pma:13205.66 d:171.28 s:76.55 d/s:2.24 price:565609.70\n",
      "forecast time: +11 Year time_inf_range:5.00 pma:13205.66 d:178.85 s:72.51 d/s:2.47 price:1205800.91\n",
      "forecast time: +12 Year time_inf_range:5.36 pma:13205.66 d:186.76 s:67.35 d/s:2.77 price:3121128.78\n",
      "forecast time: +13 Year time_inf_range:5.74 pma:13205.66 d:195.02 s:64.28 d/s:3.03 price:7746432.01\n",
      "forecast time: +14 Year time_inf_range:6.16 pma:13205.66 d:203.64 s:62.89 d/s:3.24 price:18279541.98\n",
      "decision-making:\n",
      "halt developing:0 shutdown:6 restore:8 expanding:72\n",
      "supply:118.66 demand:116.05 price:12106.25\n",
      "++++++++++++++++++++++++++++++++++++++++++++++++++++++++++++++++++++++++++++++++++++++++++++++++++++++++++++++++++++++++++++++++++++++++++++++++++++++ \n",
      " 2035 4/4\n",
      "forecast time: +1 Year time_inf_range:2.50 pma:13205.66 d:117.31 s:112.66 d/s:1.04 price:14610.52\n",
      "forecast time: +2 Year time_inf_range:2.68 pma:13205.66 d:122.50 s:116.17 d/s:1.05 price:15222.13\n",
      "forecast time: +3 Year time_inf_range:2.87 pma:13205.66 d:127.91 s:120.21 d/s:1.06 price:15784.74\n",
      "forecast time: +4 Year time_inf_range:3.08 pma:13205.66 d:133.57 s:114.99 d/s:1.16 price:20935.99\n",
      "forecast time: +5 Year time_inf_range:3.30 pma:13205.66 d:139.47 s:104.12 d/s:1.34 price:34632.66\n",
      "forecast time: +6 Year time_inf_range:3.54 pma:13205.66 d:145.63 s:91.42 d/s:1.59 price:68493.33\n",
      "forecast time: +7 Year time_inf_range:3.79 pma:13205.66 d:152.07 s:82.46 d/s:1.84 price:134263.06\n",
      "forecast time: +8 Year time_inf_range:4.06 pma:13205.66 d:158.80 s:77.25 d/s:2.06 price:246371.69\n",
      "forecast time: +9 Year time_inf_range:4.35 pma:13205.66 d:165.82 s:73.75 d/s:2.25 price:449147.28\n",
      "forecast time: +10 Year time_inf_range:4.67 pma:13205.66 d:173.15 s:70.64 d/s:2.45 price:865083.20\n",
      "forecast time: +11 Year time_inf_range:5.00 pma:13205.66 d:180.80 s:67.27 d/s:2.69 price:1852036.74\n",
      "forecast time: +12 Year time_inf_range:5.36 pma:13205.66 d:188.79 s:65.31 d/s:2.89 price:3901834.02\n",
      "forecast time: +13 Year time_inf_range:5.74 pma:13205.66 d:197.14 s:63.57 d/s:3.10 price:8785191.73\n",
      "forecast time: +14 Year time_inf_range:6.16 pma:13205.66 d:205.85 s:62.61 d/s:3.29 price:20080453.49\n",
      "decision-making:\n",
      "halt developing:0 shutdown:1 restore:5 expanding:73\n",
      "supply:112.66 demand:117.31 price:14610.52\n",
      "++++++++++++++++++++++++++++++++++++++++++++++++++++++++++++++++++++++++++++++++++++++++++++++++++++++++++++++++++++++++++++++++++++++++++++++++++++++ \n",
      " 2036 1/4\n",
      "forecast time: +1 Year time_inf_range:2.50 pma:13205.66 d:118.59 s:117.63 d/s:1.01 price:13475.48\n",
      "forecast time: +2 Year time_inf_range:2.68 pma:13205.66 d:123.83 s:114.24 d/s:1.08 price:16389.18\n",
      "forecast time: +3 Year time_inf_range:2.87 pma:13205.66 d:129.30 s:115.95 d/s:1.12 price:18058.14\n",
      "forecast time: +4 Year time_inf_range:3.08 pma:13205.66 d:135.02 s:111.30 d/s:1.21 price:23933.59\n",
      "forecast time: +5 Year time_inf_range:3.30 pma:13205.66 d:140.99 s:101.97 d/s:1.38 price:38455.37\n",
      "forecast time: +6 Year time_inf_range:3.54 pma:13205.66 d:147.22 s:90.03 d/s:1.64 price:75148.43\n",
      "forecast time: +7 Year time_inf_range:3.79 pma:13205.66 d:153.73 s:82.00 d/s:1.87 price:142899.76\n",
      "forecast time: +8 Year time_inf_range:4.06 pma:13205.66 d:160.52 s:77.61 d/s:2.07 price:252682.64\n",
      "forecast time: +9 Year time_inf_range:4.35 pma:13205.66 d:167.62 s:74.31 d/s:2.26 price:455458.98\n",
      "forecast time: +10 Year time_inf_range:4.67 pma:13205.66 d:175.03 s:71.40 d/s:2.45 price:865647.46\n",
      "forecast time: +11 Year time_inf_range:5.00 pma:13205.66 d:182.76 s:67.88 d/s:2.69 price:1869127.46\n",
      "forecast time: +12 Year time_inf_range:5.36 pma:13205.66 d:190.84 s:65.97 d/s:2.89 price:3916289.66\n",
      "forecast time: +13 Year time_inf_range:5.74 pma:13205.66 d:199.28 s:64.60 d/s:3.08 price:8526232.59\n",
      "forecast time: +14 Year time_inf_range:6.16 pma:13205.66 d:208.09 s:62.83 d/s:3.31 price:20997858.80\n",
      "decision-making:\n",
      "halt developing:0 shutdown:5 restore:2 expanding:73\n",
      "supply:114.73 demand:118.59 price:13475.48\n",
      "++++++++++++++++++++++++++++++++++++++++++++++++++++++++++++++++++++++++++++++++++++++++++++++++++++++++++++++++++++++++++++++++++++++++++++++++++++++ \n",
      " 2036 2/4\n",
      "forecast time: +1 Year time_inf_range:2.50 pma:13205.66 d:119.87 s:112.52 d/s:1.07 price:15470.70\n",
      "forecast time: +2 Year time_inf_range:2.68 pma:13205.66 d:125.17 s:107.58 d/s:1.16 price:19816.84\n",
      "forecast time: +3 Year time_inf_range:2.87 pma:13205.66 d:130.71 s:102.03 d/s:1.28 price:26894.31\n",
      "forecast time: +4 Year time_inf_range:3.08 pma:13205.66 d:136.49 s:97.81 d/s:1.40 price:36824.04\n",
      "forecast time: +5 Year time_inf_range:3.30 pma:13205.66 d:142.52 s:89.93 d/s:1.58 price:60302.55\n",
      "forecast time: +6 Year time_inf_range:3.54 pma:13205.66 d:148.82 s:82.65 d/s:1.80 price:105634.39\n",
      "forecast time: +7 Year time_inf_range:3.79 pma:13205.66 d:155.40 s:78.13 d/s:1.99 price:178755.98\n",
      "forecast time: +8 Year time_inf_range:4.06 pma:13205.66 d:162.27 s:75.36 d/s:2.15 price:297539.28\n",
      "forecast time: +9 Year time_inf_range:4.35 pma:13205.66 d:169.44 s:72.35 d/s:2.34 price:536500.95\n",
      "forecast time: +10 Year time_inf_range:4.67 pma:13205.66 d:176.93 s:69.49 d/s:2.55 price:1033249.31\n",
      "forecast time: +11 Year time_inf_range:5.00 pma:13205.66 d:184.75 s:66.49 d/s:2.78 price:2187822.10\n",
      "forecast time: +12 Year time_inf_range:5.36 pma:13205.66 d:192.92 s:64.75 d/s:2.98 price:4587000.63\n",
      "forecast time: +13 Year time_inf_range:5.74 pma:13205.66 d:201.45 s:63.72 d/s:3.16 price:9810448.31\n",
      "forecast time: +14 Year time_inf_range:6.16 pma:13205.66 d:210.35 s:60.74 d/s:3.46 price:27651707.08\n",
      "decision-making:\n",
      "halt developing:0 shutdown:6 restore:5 expanding:76\n",
      "supply:109.75 demand:119.87 price:15470.70\n",
      "++++++++++++++++++++++++++++++++++++++++++++++++++++++++++++++++++++++++++++++++++++++++++++++++++++++++++++++++++++++++++++++++++++++++++++++++++++++ \n",
      " 2036 3/4\n",
      "forecast time: +1 Year time_inf_range:2.50 pma:13205.66 d:121.18 s:121.36 d/s:1.00 price:13157.23\n",
      "forecast time: +2 Year time_inf_range:2.68 pma:13205.66 d:126.54 s:117.50 d/s:1.08 price:16105.97\n",
      "forecast time: +3 Year time_inf_range:2.87 pma:13205.66 d:132.13 s:128.11 d/s:1.03 price:14430.78\n",
      "forecast time: +4 Year time_inf_range:3.08 pma:13205.66 d:137.97 s:116.58 d/s:1.18 price:22179.67\n",
      "forecast time: +5 Year time_inf_range:3.30 pma:13205.66 d:144.07 s:102.10 d/s:1.41 price:41125.27\n"
     ]
    },
    {
     "name": "stdout",
     "output_type": "stream",
     "text": [
      "forecast time: +6 Year time_inf_range:3.54 pma:13205.66 d:150.44 s:89.62 d/s:1.68 price:82443.07\n",
      "forecast time: +7 Year time_inf_range:3.79 pma:13205.66 d:157.09 s:82.34 d/s:1.91 price:152704.43\n",
      "forecast time: +8 Year time_inf_range:4.06 pma:13205.66 d:164.03 s:79.36 d/s:2.07 price:252043.31\n",
      "forecast time: +9 Year time_inf_range:4.35 pma:13205.66 d:171.28 s:77.11 d/s:2.22 price:426139.85\n",
      "forecast time: +10 Year time_inf_range:4.67 pma:13205.66 d:178.85 s:74.27 d/s:2.41 price:797030.47\n",
      "forecast time: +11 Year time_inf_range:5.00 pma:13205.66 d:186.76 s:69.74 d/s:2.68 price:1818372.63\n",
      "forecast time: +12 Year time_inf_range:5.36 pma:13205.66 d:195.02 s:64.93 d/s:3.00 price:4788397.62\n",
      "forecast time: +13 Year time_inf_range:5.74 pma:13205.66 d:203.64 s:62.94 d/s:3.24 price:11208526.22\n",
      "forecast time: +14 Year time_inf_range:6.16 pma:13205.66 d:212.64 s:59.06 d/s:3.60 price:35103413.54\n",
      "decision-making:\n",
      "halt developing:0 shutdown:4 restore:6 expanding:63\n",
      "supply:118.42 demand:121.18 price:13157.23\n",
      "++++++++++++++++++++++++++++++++++++++++++++++++++++++++++++++++++++++++++++++++++++++++++++++++++++++++++++++++++++++++++++++++++++++++++++++++++++++ \n",
      " 2036 4/4\n",
      "forecast time: +1 Year time_inf_range:2.50 pma:13205.66 d:122.50 s:106.47 d/s:1.15 price:18748.09\n",
      "forecast time: +2 Year time_inf_range:2.68 pma:13205.66 d:127.91 s:112.64 d/s:1.14 price:18565.09\n",
      "forecast time: +3 Year time_inf_range:2.87 pma:13205.66 d:133.57 s:116.51 d/s:1.15 price:19552.00\n",
      "forecast time: +4 Year time_inf_range:3.08 pma:13205.66 d:139.47 s:105.51 d/s:1.32 price:31170.09\n",
      "forecast time: +5 Year time_inf_range:3.30 pma:13205.66 d:145.63 s:92.35 d/s:1.58 price:59338.58\n",
      "forecast time: +6 Year time_inf_range:3.54 pma:13205.66 d:152.07 s:82.98 d/s:1.83 price:112434.71\n",
      "forecast time: +7 Year time_inf_range:3.79 pma:13205.66 d:158.80 s:78.50 d/s:2.02 price:190617.83\n",
      "forecast time: +8 Year time_inf_range:4.06 pma:13205.66 d:165.82 s:76.34 d/s:2.17 price:308263.96\n",
      "forecast time: +9 Year time_inf_range:4.35 pma:13205.66 d:173.15 s:73.94 d/s:2.34 price:535930.52\n",
      "forecast time: +10 Year time_inf_range:4.67 pma:13205.66 d:180.80 s:69.88 d/s:2.59 price:1113355.82\n",
      "forecast time: +11 Year time_inf_range:5.00 pma:13205.66 d:188.79 s:67.11 d/s:2.81 price:2326659.83\n",
      "forecast time: +12 Year time_inf_range:5.36 pma:13205.66 d:197.14 s:64.58 d/s:3.05 price:5225903.20\n",
      "forecast time: +13 Year time_inf_range:5.74 pma:13205.66 d:205.85 s:63.60 d/s:3.24 price:11234507.58\n",
      "forecast time: +14 Year time_inf_range:6.16 pma:13205.66 d:214.95 s:59.89 d/s:3.59 price:34455604.44\n",
      "decision-making:\n",
      "halt developing:0 shutdown:3 restore:4 expanding:42\n",
      "supply:105.43 demand:122.50 price:18748.09\n",
      "++++++++++++++++++++++++++++++++++++++++++++++++++++++++++++++++++++++++++++++++++++++++++++++++++++++++++++++++++++++++++++++++++++++++++++++++++++++ \n",
      " 2037 1/4\n",
      "forecast time: +1 Year time_inf_range:2.50 pma:13205.66 d:123.83 s:113.56 d/s:1.09 price:16396.90\n",
      "forecast time: +2 Year time_inf_range:2.68 pma:13205.66 d:129.30 s:116.78 d/s:1.11 price:17351.45\n",
      "forecast time: +3 Year time_inf_range:2.87 pma:13205.66 d:135.02 s:115.36 d/s:1.17 price:20747.08\n",
      "forecast time: +4 Year time_inf_range:3.08 pma:13205.66 d:140.99 s:104.99 d/s:1.34 price:32715.83\n",
      "forecast time: +5 Year time_inf_range:3.30 pma:13205.66 d:147.22 s:92.83 d/s:1.59 price:60448.67\n",
      "forecast time: +6 Year time_inf_range:3.54 pma:13205.66 d:153.73 s:83.87 d/s:1.83 price:112465.55\n",
      "forecast time: +7 Year time_inf_range:3.79 pma:13205.66 d:160.52 s:79.41 d/s:2.02 price:190076.17\n",
      "forecast time: +8 Year time_inf_range:4.06 pma:13205.66 d:167.62 s:76.71 d/s:2.19 price:315815.13\n",
      "forecast time: +9 Year time_inf_range:4.35 pma:13205.66 d:175.03 s:74.01 d/s:2.37 price:559768.45\n",
      "forecast time: +10 Year time_inf_range:4.67 pma:13205.66 d:182.76 s:71.12 d/s:2.57 price:1079213.55\n",
      "forecast time: +11 Year time_inf_range:5.00 pma:13205.66 d:190.84 s:66.09 d/s:2.89 price:2650733.80\n",
      "forecast time: +12 Year time_inf_range:5.36 pma:13205.66 d:199.28 s:62.44 d/s:3.19 price:6633490.77\n",
      "forecast time: +13 Year time_inf_range:5.74 pma:13205.66 d:208.09 s:60.31 d/s:3.45 price:16214785.90\n",
      "forecast time: +14 Year time_inf_range:6.16 pma:13205.66 d:217.29 s:56.21 d/s:3.87 price:54404805.03\n",
      "decision-making:\n",
      "halt developing:0 shutdown:2 restore:3 expanding:41\n",
      "supply:113.51 demand:123.83 price:16396.90\n",
      "++++++++++++++++++++++++++++++++++++++++++++++++++++++++++++++++++++++++++++++++++++++++++++++++++++++++++++++++++++++++++++++++++++++++++++++++++++++ \n",
      " 2037 2/4\n",
      "forecast time: +1 Year time_inf_range:2.50 pma:13205.66 d:125.17 s:110.59 d/s:1.13 price:17997.85\n",
      "forecast time: +2 Year time_inf_range:2.68 pma:13205.66 d:130.71 s:116.60 d/s:1.12 price:17935.32\n",
      "forecast time: +3 Year time_inf_range:2.87 pma:13205.66 d:136.49 s:117.73 d/s:1.16 price:20188.42\n",
      "forecast time: +4 Year time_inf_range:3.08 pma:13205.66 d:142.52 s:105.90 d/s:1.35 price:32942.53\n",
      "forecast time: +5 Year time_inf_range:3.30 pma:13205.66 d:148.82 s:94.56 d/s:1.57 price:58940.18\n",
      "forecast time: +6 Year time_inf_range:3.54 pma:13205.66 d:155.40 s:86.04 d/s:1.81 price:106798.43\n",
      "forecast time: +7 Year time_inf_range:3.79 pma:13205.66 d:162.27 s:82.30 d/s:1.97 price:172930.89\n",
      "forecast time: +8 Year time_inf_range:4.06 pma:13205.66 d:169.44 s:79.71 d/s:2.13 price:282368.66\n",
      "forecast time: +9 Year time_inf_range:4.35 pma:13205.66 d:176.93 s:76.53 d/s:2.31 price:507089.57\n",
      "forecast time: +10 Year time_inf_range:4.67 pma:13205.66 d:184.75 s:72.35 d/s:2.55 price:1047864.44\n",
      "forecast time: +11 Year time_inf_range:5.00 pma:13205.66 d:192.92 s:67.10 d/s:2.88 price:2595188.78\n",
      "forecast time: +12 Year time_inf_range:5.36 pma:13205.66 d:201.45 s:64.26 d/s:3.13 price:6024089.01\n",
      "forecast time: +13 Year time_inf_range:5.74 pma:13205.66 d:210.35 s:61.34 d/s:3.43 price:15653211.47\n",
      "forecast time: +14 Year time_inf_range:6.16 pma:13205.66 d:219.65 s:57.33 d/s:3.83 price:51476780.96\n",
      "decision-making:\n",
      "halt developing:0 shutdown:2 restore:2 expanding:41\n",
      "supply:110.41 demand:125.17 price:17997.85\n",
      "++++++++++++++++++++++++++++++++++++++++++++++++++++++++++++++++++++++++++++++++++++++++++++++++++++++++++++++++++++++++++++++++++++++++++++++++++++++ \n",
      " 2037 3/4\n",
      "forecast time: +1 Year time_inf_range:2.50 pma:13205.66 d:126.54 s:109.99 d/s:1.15 price:18743.79\n",
      "forecast time: +2 Year time_inf_range:2.68 pma:13205.66 d:132.13 s:119.57 d/s:1.11 price:17258.60\n",
      "forecast time: +3 Year time_inf_range:2.87 pma:13205.66 d:137.97 s:113.73 d/s:1.21 price:22999.36\n",
      "forecast time: +4 Year time_inf_range:3.08 pma:13205.66 d:144.07 s:101.29 d/s:1.42 price:39061.25\n",
      "forecast time: +5 Year time_inf_range:3.30 pma:13205.66 d:150.44 s:91.59 d/s:1.64 price:67856.96\n",
      "forecast time: +6 Year time_inf_range:3.54 pma:13205.66 d:157.09 s:84.04 d/s:1.87 price:120570.02\n",
      "forecast time: +7 Year time_inf_range:3.79 pma:13205.66 d:164.03 s:80.87 d/s:2.03 price:192563.75\n",
      "forecast time: +8 Year time_inf_range:4.06 pma:13205.66 d:171.28 s:77.85 d/s:2.20 price:324814.37\n",
      "forecast time: +9 Year time_inf_range:4.35 pma:13205.66 d:178.85 s:74.61 d/s:2.40 price:593712.59\n",
      "forecast time: +10 Year time_inf_range:4.67 pma:13205.66 d:186.76 s:70.39 d/s:2.65 price:1252574.02\n",
      "forecast time: +11 Year time_inf_range:5.00 pma:13205.66 d:195.02 s:65.51 d/s:2.98 price:3087412.11\n",
      "forecast time: +12 Year time_inf_range:5.36 pma:13205.66 d:203.64 s:63.36 d/s:3.21 price:6885152.78\n",
      "forecast time: +13 Year time_inf_range:5.74 pma:13205.66 d:212.64 s:59.85 d/s:3.55 price:19183326.88\n",
      "forecast time: +14 Year time_inf_range:6.16 pma:13205.66 d:222.04 s:55.91 d/s:3.97 price:64239928.58\n",
      "decision-making:\n",
      "halt developing:0 shutdown:1 restore:2 expanding:48\n",
      "supply:109.86 demand:126.54 price:18743.79\n",
      "++++++++++++++++++++++++++++++++++++++++++++++++++++++++++++++++++++++++++++++++++++++++++++++++++++++++++++++++++++++++++++++++++++++++++++++++++++++ \n",
      " 2037 4/4\n",
      "forecast time: +1 Year time_inf_range:2.50 pma:13205.66 d:127.91 s:118.33 d/s:1.08 price:16042.39\n",
      "forecast time: +2 Year time_inf_range:2.68 pma:13205.66 d:133.57 s:120.94 d/s:1.10 price:17230.29\n",
      "forecast time: +3 Year time_inf_range:2.87 pma:13205.66 d:139.47 s:114.31 d/s:1.22 price:23379.43\n",
      "forecast time: +4 Year time_inf_range:3.08 pma:13205.66 d:145.63 s:99.14 d/s:1.47 price:43128.79\n",
      "forecast time: +5 Year time_inf_range:3.30 pma:13205.66 d:152.07 s:89.07 d/s:1.71 price:77102.58\n",
      "forecast time: +6 Year time_inf_range:3.54 pma:13205.66 d:158.80 s:84.18 d/s:1.89 price:124539.40\n",
      "forecast time: +7 Year time_inf_range:3.79 pma:13205.66 d:165.82 s:81.64 d/s:2.03 price:193583.38\n"
     ]
    },
    {
     "name": "stdout",
     "output_type": "stream",
     "text": [
      "forecast time: +8 Year time_inf_range:4.06 pma:13205.66 d:173.15 s:78.78 d/s:2.20 price:323429.36\n",
      "forecast time: +9 Year time_inf_range:4.35 pma:13205.66 d:180.80 s:75.16 d/s:2.41 price:602779.78\n",
      "forecast time: +10 Year time_inf_range:4.67 pma:13205.66 d:188.79 s:70.68 d/s:2.67 price:1292574.33\n",
      "forecast time: +11 Year time_inf_range:5.00 pma:13205.66 d:197.14 s:66.00 d/s:2.99 price:3139810.50\n",
      "forecast time: +12 Year time_inf_range:5.36 pma:13205.66 d:205.85 s:64.27 d/s:3.20 price:6757463.30\n",
      "forecast time: +13 Year time_inf_range:5.74 pma:13205.66 d:214.95 s:60.32 d/s:3.56 price:19525668.78\n",
      "forecast time: +14 Year time_inf_range:6.16 pma:13205.66 d:224.45 s:56.13 d/s:4.00 price:66982867.66\n",
      "decision-making:\n",
      "halt developing:0 shutdown:3 restore:1 expanding:49\n",
      "supply:110.75 demand:127.91 price:16042.39\n",
      "++++++++++++++++++++++++++++++++++++++++++++++++++++++++++++++++++++++++++++++++++++++++++++++++++++++++++++++++++++++++++++++++++++++++++++++++++++++ \n",
      " 2038 1/4\n",
      "forecast time: +1 Year time_inf_range:2.50 pma:13205.66 d:129.30 s:113.40 d/s:1.14 price:18333.81\n",
      "forecast time: +2 Year time_inf_range:2.68 pma:13205.66 d:135.02 s:119.73 d/s:1.13 price:18220.87\n",
      "forecast time: +3 Year time_inf_range:2.87 pma:13205.66 d:140.99 s:108.77 d/s:1.30 price:27815.46\n",
      "forecast time: +4 Year time_inf_range:3.08 pma:13205.66 d:147.22 s:92.53 d/s:1.59 price:55139.14\n",
      "forecast time: +5 Year time_inf_range:3.30 pma:13205.66 d:153.73 s:82.01 d/s:1.87 price:104933.52\n",
      "forecast time: +6 Year time_inf_range:3.54 pma:13205.66 d:160.52 s:78.36 d/s:2.05 price:166688.02\n",
      "forecast time: +7 Year time_inf_range:3.79 pma:13205.66 d:167.62 s:75.54 d/s:2.22 price:270624.18\n",
      "forecast time: +8 Year time_inf_range:4.06 pma:13205.66 d:175.03 s:72.21 d/s:2.42 price:481114.83\n",
      "forecast time: +9 Year time_inf_range:4.35 pma:13205.66 d:182.76 s:68.14 d/s:2.68 price:967747.91\n",
      "forecast time: +10 Year time_inf_range:4.67 pma:13205.66 d:190.84 s:62.65 d/s:3.05 price:2385400.16\n",
      "forecast time: +11 Year time_inf_range:5.00 pma:13205.66 d:199.28 s:58.89 d/s:3.38 price:5857461.97\n",
      "forecast time: +12 Year time_inf_range:5.36 pma:13205.66 d:208.09 s:57.58 d/s:3.61 price:12907626.51\n",
      "forecast time: +13 Year time_inf_range:5.74 pma:13205.66 d:217.29 s:56.47 d/s:3.85 price:30323296.72\n",
      "forecast time: +14 Year time_inf_range:6.16 pma:13205.66 d:226.89 s:53.88 d/s:4.21 price:92076303.67\n",
      "decision-making:\n",
      "halt developing:0 shutdown:1 restore:3 expanding:69\n",
      "supply:113.39 demand:129.30 price:18333.81\n",
      "++++++++++++++++++++++++++++++++++++++++++++++++++++++++++++++++++++++++++++++++++++++++++++++++++++++++++++++++++++++++++++++++++++++++++++++++++++++ \n",
      " 2038 2/4\n",
      "forecast time: +1 Year time_inf_range:2.50 pma:13205.66 d:130.71 s:116.32 d/s:1.12 price:17674.33\n",
      "forecast time: +2 Year time_inf_range:2.68 pma:13205.66 d:136.49 s:121.88 d/s:1.12 price:17883.75\n",
      "forecast time: +3 Year time_inf_range:2.87 pma:13205.66 d:142.52 s:117.82 d/s:1.21 price:22807.30\n",
      "forecast time: +4 Year time_inf_range:3.08 pma:13205.66 d:148.82 s:104.40 d/s:1.43 price:39316.56\n",
      "forecast time: +5 Year time_inf_range:3.30 pma:13205.66 d:155.40 s:94.35 d/s:1.65 price:68476.84\n",
      "forecast time: +6 Year time_inf_range:3.54 pma:13205.66 d:162.27 s:84.41 d/s:1.92 price:133113.92\n",
      "forecast time: +7 Year time_inf_range:3.79 pma:13205.66 d:169.44 s:77.25 d/s:2.19 price:259039.30\n",
      "forecast time: +8 Year time_inf_range:4.06 pma:13205.66 d:176.93 s:72.26 d/s:2.45 price:501326.16\n",
      "forecast time: +9 Year time_inf_range:4.35 pma:13205.66 d:184.75 s:67.54 d/s:2.74 price:1054362.40\n",
      "forecast time: +10 Year time_inf_range:4.67 pma:13205.66 d:192.92 s:64.42 d/s:2.99 price:2203866.20\n",
      "forecast time: +11 Year time_inf_range:5.00 pma:13205.66 d:201.45 s:62.70 d/s:3.21 price:4521733.10\n",
      "forecast time: +12 Year time_inf_range:5.36 pma:13205.66 d:210.35 s:61.99 d/s:3.39 price:9211930.25\n",
      "forecast time: +13 Year time_inf_range:5.74 pma:13205.66 d:219.65 s:60.28 d/s:3.64 price:22193107.92\n",
      "forecast time: +14 Year time_inf_range:6.16 pma:13205.66 d:229.36 s:57.30 d/s:4.00 price:67412254.25\n",
      "decision-making:\n",
      "halt developing:0 shutdown:1 restore:1 expanding:69\n",
      "supply:116.19 demand:130.71 price:17674.33\n",
      "++++++++++++++++++++++++++++++++++++++++++++++++++++++++++++++++++++++++++++++++++++++++++++++++++++++++++++++++++++++++++++++++++++++++++++++++++++++ \n",
      " 2038 3/4\n",
      "forecast time: +1 Year time_inf_range:2.50 pma:13205.66 d:132.13 s:112.33 d/s:1.18 price:19815.05\n",
      "forecast time: +2 Year time_inf_range:2.68 pma:13205.66 d:137.97 s:112.53 d/s:1.23 price:22797.11\n",
      "forecast time: +3 Year time_inf_range:2.87 pma:13205.66 d:144.07 s:102.46 d/s:1.41 price:35145.60\n",
      "forecast time: +4 Year time_inf_range:3.08 pma:13205.66 d:150.44 s:92.59 d/s:1.62 price:58817.16\n",
      "forecast time: +5 Year time_inf_range:3.30 pma:13205.66 d:157.09 s:86.90 d/s:1.81 price:93114.69\n",
      "forecast time: +6 Year time_inf_range:3.54 pma:13205.66 d:164.03 s:77.74 d/s:2.11 price:185030.70\n",
      "forecast time: +7 Year time_inf_range:3.79 pma:13205.66 d:171.28 s:71.35 d/s:2.40 price:364606.47\n",
      "forecast time: +8 Year time_inf_range:4.06 pma:13205.66 d:178.85 s:66.95 d/s:2.67 price:714206.19\n",
      "forecast time: +9 Year time_inf_range:4.35 pma:13205.66 d:186.76 s:63.19 d/s:2.96 price:1476406.80\n",
      "forecast time: +10 Year time_inf_range:4.67 pma:13205.66 d:195.02 s:59.45 d/s:3.28 price:3370708.25\n",
      "forecast time: +11 Year time_inf_range:5.00 pma:13205.66 d:203.64 s:57.93 d/s:3.52 price:7090471.55\n",
      "forecast time: +12 Year time_inf_range:5.36 pma:13205.66 d:212.64 s:57.22 d/s:3.72 price:14985602.83\n",
      "forecast time: +13 Year time_inf_range:5.74 pma:13205.66 d:222.04 s:54.29 d/s:4.09 price:43056662.94\n",
      "forecast time: +14 Year time_inf_range:6.16 pma:13205.66 d:231.85 s:51.92 d/s:4.47 price:132217680.99\n",
      "decision-making:\n",
      "halt developing:0 shutdown:0 restore:1 expanding:71\n",
      "supply:112.33 demand:132.13 price:19815.05\n",
      "++++++++++++++++++++++++++++++++++++++++++++++++++++++++++++++++++++++++++++++++++++++++++++++++++++++++++++++++++++++++++++++++++++++++++++++++++++++ \n",
      " 2038 4/4\n",
      "forecast time: +1 Year time_inf_range:2.50 pma:13205.66 d:133.57 s:123.28 d/s:1.08 price:16133.35\n",
      "forecast time: +2 Year time_inf_range:2.68 pma:13205.66 d:139.47 s:117.99 d/s:1.18 price:20670.61\n",
      "forecast time: +3 Year time_inf_range:2.87 pma:13205.66 d:145.63 s:112.13 d/s:1.30 price:27976.51\n",
      "forecast time: +4 Year time_inf_range:3.08 pma:13205.66 d:152.07 s:101.78 d/s:1.49 price:45441.10\n",
      "forecast time: +5 Year time_inf_range:3.30 pma:13205.66 d:158.80 s:92.47 d/s:1.72 price:78589.71\n",
      "forecast time: +6 Year time_inf_range:3.54 pma:13205.66 d:165.82 s:82.57 d/s:2.01 price:155334.93\n",
      "forecast time: +7 Year time_inf_range:3.79 pma:13205.66 d:173.15 s:76.99 d/s:2.25 price:284770.57\n",
      "forecast time: +8 Year time_inf_range:4.06 pma:13205.66 d:180.80 s:71.51 d/s:2.53 price:571167.64\n",
      "forecast time: +9 Year time_inf_range:4.35 pma:13205.66 d:188.79 s:67.47 d/s:2.80 price:1164048.40\n",
      "forecast time: +10 Year time_inf_range:4.67 pma:13205.66 d:197.14 s:64.21 d/s:3.07 price:2474248.74\n",
      "forecast time: +11 Year time_inf_range:5.00 pma:13205.66 d:205.85 s:63.08 d/s:3.26 price:4885471.88\n",
      "forecast time: +12 Year time_inf_range:5.36 pma:13205.66 d:214.95 s:62.60 d/s:3.43 price:9812536.22\n",
      "forecast time: +13 Year time_inf_range:5.74 pma:13205.66 d:224.45 s:59.82 d/s:3.75 price:26254926.84\n",
      "forecast time: +14 Year time_inf_range:6.16 pma:13205.66 d:234.38 s:55.15 d/s:4.25 price:97445646.40\n",
      "decision-making:\n",
      "halt developing:0 shutdown:0 restore:0 expanding:71\n",
      "supply:123.28 demand:133.57 price:16133.35\n",
      "++++++++++++++++++++++++++++++++++++++++++++++++++++++++++++++++++++++++++++++++++++++++++++++++++++++++++++++++++++++++++++++++++++++++++++++++++++++ \n",
      " 2039 1/4\n",
      "forecast time: +1 Year time_inf_range:2.50 pma:13205.66 d:135.02 s:119.21 d/s:1.13 price:18026.86\n",
      "forecast time: +2 Year time_inf_range:2.68 pma:13205.66 d:140.99 s:109.85 d/s:1.28 price:25773.97\n",
      "forecast time: +3 Year time_inf_range:2.87 pma:13205.66 d:147.22 s:103.19 d/s:1.43 price:36643.46\n",
      "forecast time: +4 Year time_inf_range:3.08 pma:13205.66 d:153.73 s:94.50 d/s:1.63 price:59047.59\n",
      "forecast time: +5 Year time_inf_range:3.30 pma:13205.66 d:160.52 s:87.49 d/s:1.83 price:97794.39\n",
      "forecast time: +6 Year time_inf_range:3.54 pma:13205.66 d:167.62 s:78.51 d/s:2.14 price:192946.11\n",
      "forecast time: +7 Year time_inf_range:3.79 pma:13205.66 d:175.03 s:73.57 d/s:2.38 price:352496.28\n"
     ]
    },
    {
     "name": "stdout",
     "output_type": "stream",
     "text": [
      "forecast time: +8 Year time_inf_range:4.06 pma:13205.66 d:182.76 s:68.96 d/s:2.65 price:691442.39\n",
      "forecast time: +9 Year time_inf_range:4.35 pma:13205.66 d:190.84 s:64.99 d/s:2.94 price:1435635.84\n",
      "forecast time: +10 Year time_inf_range:4.67 pma:13205.66 d:199.28 s:62.45 d/s:3.19 price:2962395.77\n",
      "forecast time: +11 Year time_inf_range:5.00 pma:13205.66 d:208.09 s:61.52 d/s:3.38 price:5848403.27\n",
      "forecast time: +12 Year time_inf_range:5.36 pma:13205.66 d:217.29 s:60.52 d/s:3.59 price:12468701.62\n",
      "forecast time: +13 Year time_inf_range:5.74 pma:13205.66 d:226.89 s:57.88 d/s:3.92 price:33750344.55\n",
      "forecast time: +14 Year time_inf_range:6.16 pma:13205.66 d:236.92 s:52.76 d/s:4.49 price:136842082.09\n",
      "decision-making:\n",
      "halt developing:0 shutdown:2 restore:0 expanding:70\n",
      "supply:118.37 demand:135.02 price:18026.86\n",
      "++++++++++++++++++++++++++++++++++++++++++++++++++++++++++++++++++++++++++++++++++++++++++++++++++++++++++++++++++++++++++++++++++++++++++++++++++++++ \n",
      " 2039 2/4\n",
      "forecast time: +1 Year time_inf_range:2.50 pma:13205.66 d:136.49 s:122.46 d/s:1.11 price:17318.38\n",
      "forecast time: +2 Year time_inf_range:2.68 pma:13205.66 d:142.52 s:120.57 d/s:1.18 price:20672.76\n",
      "forecast time: +3 Year time_inf_range:2.87 pma:13205.66 d:148.82 s:106.32 d/s:1.40 price:34687.97\n",
      "forecast time: +4 Year time_inf_range:3.08 pma:13205.66 d:155.40 s:96.18 d/s:1.62 price:57823.54\n",
      "forecast time: +5 Year time_inf_range:3.30 pma:13205.66 d:162.27 s:84.63 d/s:1.92 price:113053.67\n",
      "forecast time: +6 Year time_inf_range:3.54 pma:13205.66 d:169.44 s:76.63 d/s:2.21 price:218309.96\n",
      "forecast time: +7 Year time_inf_range:3.79 pma:13205.66 d:176.93 s:71.35 d/s:2.48 price:412462.51\n",
      "forecast time: +8 Year time_inf_range:4.06 pma:13205.66 d:184.75 s:67.41 d/s:2.74 price:792603.66\n",
      "forecast time: +9 Year time_inf_range:4.35 pma:13205.66 d:192.92 s:63.67 d/s:3.03 price:1645996.72\n",
      "forecast time: +10 Year time_inf_range:4.67 pma:13205.66 d:201.45 s:61.45 d/s:3.28 price:3360179.80\n",
      "forecast time: +11 Year time_inf_range:5.00 pma:13205.66 d:210.35 s:60.62 d/s:3.47 price:6643784.88\n",
      "forecast time: +12 Year time_inf_range:5.36 pma:13205.66 d:219.65 s:58.89 d/s:3.73 price:15291823.43\n",
      "forecast time: +13 Year time_inf_range:5.74 pma:13205.66 d:229.36 s:55.90 d/s:4.10 price:43880155.33\n",
      "forecast time: +14 Year time_inf_range:6.16 pma:13205.66 d:239.50 s:51.33 d/s:4.67 price:173091060.04\n",
      "decision-making:\n",
      "halt developing:0 shutdown:0 restore:2 expanding:68\n",
      "supply:122.46 demand:136.49 price:17318.38\n",
      "++++++++++++++++++++++++++++++++++++++++++++++++++++++++++++++++++++++++++++++++++++++++++++++++++++++++++++++++++++++++++++++++++++++++++++++++++++++ \n",
      " 2039 3/4\n",
      "forecast time: +1 Year time_inf_range:2.50 pma:13205.66 d:137.97 s:119.17 d/s:1.16 price:19044.83\n",
      "forecast time: +2 Year time_inf_range:2.68 pma:13205.66 d:144.07 s:115.58 d/s:1.25 price:23830.50\n",
      "forecast time: +3 Year time_inf_range:2.87 pma:13205.66 d:150.44 s:103.21 d/s:1.46 price:38968.03\n",
      "forecast time: +4 Year time_inf_range:3.08 pma:13205.66 d:157.09 s:93.89 d/s:1.67 price:64386.63\n",
      "forecast time: +5 Year time_inf_range:3.30 pma:13205.66 d:164.03 s:81.86 d/s:2.00 price:130779.37\n",
      "forecast time: +6 Year time_inf_range:3.54 pma:13205.66 d:171.28 s:74.99 d/s:2.28 price:244935.60\n",
      "forecast time: +7 Year time_inf_range:3.79 pma:13205.66 d:178.85 s:70.21 d/s:2.55 price:456757.99\n",
      "forecast time: +8 Year time_inf_range:4.06 pma:13205.66 d:186.76 s:66.91 d/s:2.79 price:853422.42\n",
      "forecast time: +9 Year time_inf_range:4.35 pma:13205.66 d:195.02 s:62.87 d/s:3.10 price:1822434.84\n",
      "forecast time: +10 Year time_inf_range:4.67 pma:13205.66 d:203.64 s:61.20 d/s:3.33 price:3601570.55\n",
      "forecast time: +11 Year time_inf_range:5.00 pma:13205.66 d:212.64 s:60.53 d/s:3.51 price:7065969.16\n",
      "forecast time: +12 Year time_inf_range:5.36 pma:13205.66 d:222.04 s:58.27 d/s:3.81 price:17145273.20\n",
      "forecast time: +13 Year time_inf_range:5.74 pma:13205.66 d:231.85 s:54.24 d/s:4.27 price:55480244.23\n",
      "forecast time: +14 Year time_inf_range:6.16 pma:13205.66 d:242.10 s:50.75 d/s:4.77 price:198500954.43\n",
      "decision-making:\n",
      "halt developing:0 shutdown:0 restore:0 expanding:80\n",
      "supply:119.17 demand:137.97 price:19044.83\n",
      "++++++++++++++++++++++++++++++++++++++++++++++++++++++++++++++++++++++++++++++++++++++++++++++++++++++++++++++++++++++++++++++++++++++++++++++++++++++ \n",
      " 2039 4/4\n",
      "forecast time: +1 Year time_inf_range:2.50 pma:13205.66 d:139.47 s:120.21 d/s:1.16 price:19148.13\n",
      "forecast time: +2 Year time_inf_range:2.68 pma:13205.66 d:145.63 s:116.67 d/s:1.25 price:23922.79\n",
      "forecast time: +3 Year time_inf_range:2.87 pma:13205.66 d:152.07 s:106.67 d/s:1.43 price:36566.41\n",
      "forecast time: +4 Year time_inf_range:3.08 pma:13205.66 d:158.80 s:98.66 d/s:1.61 price:57143.55\n",
      "forecast time: +5 Year time_inf_range:3.30 pma:13205.66 d:165.82 s:87.33 d/s:1.90 price:109467.75\n",
      "forecast time: +6 Year time_inf_range:3.54 pma:13205.66 d:173.15 s:81.28 d/s:2.13 price:191431.21\n",
      "forecast time: +7 Year time_inf_range:3.79 pma:13205.66 d:180.80 s:76.58 d/s:2.36 price:342271.77\n",
      "forecast time: +8 Year time_inf_range:4.06 pma:13205.66 d:188.79 s:71.16 d/s:2.65 price:694531.34\n",
      "forecast time: +9 Year time_inf_range:4.35 pma:13205.66 d:197.14 s:62.90 d/s:3.13 price:1906317.81\n",
      "forecast time: +10 Year time_inf_range:4.67 pma:13205.66 d:205.85 s:58.56 d/s:3.52 price:4651833.50\n",
      "forecast time: +11 Year time_inf_range:5.00 pma:13205.66 d:214.95 s:56.57 d/s:3.80 price:10458030.60\n",
      "forecast time: +12 Year time_inf_range:5.36 pma:13205.66 d:224.45 s:55.61 d/s:4.04 price:23338888.12\n",
      "forecast time: +13 Year time_inf_range:5.74 pma:13205.66 d:234.38 s:51.52 d/s:4.55 price:79361771.05\n",
      "forecast time: +14 Year time_inf_range:6.16 pma:13205.66 d:244.74 s:48.48 d/s:5.05 price:281168695.78\n",
      "decision-making:\n",
      "halt developing:0 shutdown:0 restore:0 expanding:80\n",
      "supply:120.21 demand:139.47 price:19148.13\n"
     ]
    },
    {
     "data": {
      "image/png": "[encoded data removed]",
      "text/plain": [
       "<Figure size 432x288 with 1 Axes>"
      ]
     },
     "metadata": {
      "needs_background": "light"
     },
     "output_type": "display_data"
    }
   ],
   "source": [
    "df2, supply_f, supply_simulation = init_supply_data(df)\n",
    "\n",
    "price_ma, price_range, price_f, price_simulation = init_price_data(price_df)\n",
    "\n",
    "supply_simulation, price_simulation, df_t, records_lst = run_simulation(\n",
    "    df2, supply_f, supply_simulation, price_ma, price_range, price_f, price_simulation, silent=False)\n"
   ]
  },
  {
   "cell_type": "code",
   "execution_count": 35,
   "id": "8110d6b4",
   "metadata": {
    "ExecuteTime": {
     "end_time": "2022-05-24T16:05:34.412158Z",
     "start_time": "2022-05-24T16:05:34.347646Z"
    }
   },
   "outputs": [
    {
     "data": {
      "text/plain": [
       "<AxesSubplot:>"
      ]
     },
     "execution_count": 35,
     "metadata": {},
     "output_type": "execute_result"
    },
    {
     "data": {
      "text/plain": [
       "<AxesSubplot:>"
      ]
     },
     "execution_count": 35,
     "metadata": {},
     "output_type": "execute_result"
    },
    {
     "data": {
      "text/plain": [
       "(0.0, 250.0)"
      ]
     },
     "execution_count": 35,
     "metadata": {},
     "output_type": "execute_result"
    },
    {
     "data": {
      "image/png": "[encoded data removed]",
      "text/plain": [
       "<Figure size 432x288 with 1 Axes>"
      ]
     },
     "metadata": {
      "needs_background": "light"
     },
     "output_type": "display_data"
    }
   ],
   "source": [
    "pd.Series(supply_simulation).plot()\n",
    "pd.Series(preset_demand[:len(supply_simulation)]).plot()\n",
    "plt.ylim((0, 1000/TIME_STEP_PER_YEAR))\n"
   ]
  },
  {
   "attachments": {
    "image.png": {
     "image/png": "[encoded data removed]"
    }
   },
   "cell_type": "markdown",
   "id": "3a457752",
   "metadata": {},
   "source": [
    "![image.png](attachment:image.png)"
   ]
  },
  {
   "cell_type": "code",
   "execution_count": 36,
   "id": "df73f87c",
   "metadata": {
    "ExecuteTime": {
     "end_time": "2022-05-24T16:05:34.473460Z",
     "start_time": "2022-05-24T16:05:34.413263Z"
    }
   },
   "outputs": [
    {
     "data": {
      "text/plain": [
       "<AxesSubplot:>"
      ]
     },
     "execution_count": 36,
     "metadata": {},
     "output_type": "execute_result"
    },
    {
     "data": {
      "text/plain": [
       "(0.0, 250.0)"
      ]
     },
     "execution_count": 36,
     "metadata": {},
     "output_type": "execute_result"
    },
    {
     "data": {
      "image/png": "[encoded data removed]",
      "text/plain": [
       "<Figure size 432x288 with 1 Axes>"
      ]
     },
     "metadata": {
      "needs_background": "light"
     },
     "output_type": "display_data"
    }
   ],
   "source": [
    "# supply\n",
    "\n",
    "pd.Series(supply_simulation).plot()\n",
    "plt.ylim((0, 1000/TIME_STEP_PER_YEAR))\n"
   ]
  },
  {
   "cell_type": "code",
   "execution_count": 54,
   "id": "9a4cb926",
   "metadata": {
    "ExecuteTime": {
     "end_time": "2022-05-24T16:24:28.557795Z",
     "start_time": "2022-05-24T16:24:28.455933Z"
    }
   },
   "outputs": [
    {
     "data": {
      "text/plain": [
       "<AxesSubplot:>"
      ]
     },
     "execution_count": 54,
     "metadata": {},
     "output_type": "execute_result"
    },
    {
     "data": {
      "text/plain": [
       "(0.0, 60000.0)"
      ]
     },
     "execution_count": 54,
     "metadata": {},
     "output_type": "execute_result"
    },
    {
     "data": {
      "image/png": "[encoded data removed]",
      "text/plain": [
       "<Figure size 432x288 with 1 Axes>"
      ]
     },
     "metadata": {
      "needs_background": "light"
     },
     "output_type": "display_data"
    }
   ],
   "source": [
    "# price\n",
    "\n",
    "# pd.Series(hist_price + price_simulation).plot()\n",
    "pd.Series(price_simulation).plot()\n",
    "plt.ylim((0, 60000))\n"
   ]
  },
  {
   "cell_type": "code",
   "execution_count": 38,
   "id": "3c924201",
   "metadata": {
    "ExecuteTime": {
     "end_time": "2022-05-24T16:05:34.599869Z",
     "start_time": "2022-05-24T16:05:34.536973Z"
    }
   },
   "outputs": [
    {
     "data": {
      "text/plain": [
       "<AxesSubplot:>"
      ]
     },
     "execution_count": 38,
     "metadata": {},
     "output_type": "execute_result"
    },
    {
     "data": {
      "text/plain": [
       "(0.0, 300.0)"
      ]
     },
     "execution_count": 38,
     "metadata": {},
     "output_type": "execute_result"
    },
    {
     "data": {
      "image/png": "[encoded data removed]",
      "text/plain": [
       "<Figure size 432x288 with 1 Axes>"
      ]
     },
     "metadata": {
      "needs_background": "light"
     },
     "output_type": "display_data"
    }
   ],
   "source": [
    "# demand\n",
    "\n",
    "pd.Series(np.append(hist_demand_interpolated, np.array(preset_demand))).plot()\n",
    "plt.ylim((0, 300))\n"
   ]
  },
  {
   "cell_type": "markdown",
   "id": "8896acae",
   "metadata": {},
   "source": [
    "## batch"
   ]
  },
  {
   "cell_type": "code",
   "execution_count": 112,
   "id": "78dfcfdd",
   "metadata": {
    "ExecuteTime": {
     "end_time": "2022-05-26T09:32:43.117236Z",
     "start_time": "2022-05-26T02:41:01.506901Z"
    },
    "scrolled": true
   },
   "outputs": [
    {
     "data": {
      "application/vnd.jupyter.widget-view+json": {
       "model_id": "081e83013f0447399d18301d509ae121",
       "version_major": 2,
       "version_minor": 0
      },
      "text/plain": [
       "  0%|          | 0/100 [00:00<?, ?it/s]"
      ]
     },
     "metadata": {},
     "output_type": "display_data"
    },
    {
     "data": {
      "image/png": "[encoded data removed]",
      "text/plain": [
       "<Figure size 432x288 with 1 Axes>"
      ]
     },
     "metadata": {
      "needs_background": "light"
     },
     "output_type": "display_data"
    }
   ],
   "source": [
    "SIMULATION_STEP = 100\n",
    "\n",
    "for i in tqdm(range(SIMULATION_STEP)):\n",
    "    df2, supply_f, supply_simulation = init_supply_data(df)\n",
    "    price_ma, price_range, price_f, price_simulation = init_price_data(price_df)\n",
    "    supply_simulation, price_simulation, df_t, records_lst = run_simulation(\n",
    "        df2, supply_f, supply_simulation, price_ma, price_range, price_f, price_simulation, silent=True)\n",
    "    supply_simulation_resList += [supply_simulation]\n",
    "    price_simulation_resList += [price_simulation]\n"
   ]
  },
  {
   "cell_type": "code",
   "execution_count": 113,
   "id": "df621d5f",
   "metadata": {
    "ExecuteTime": {
     "end_time": "2022-05-26T09:32:43.252584Z",
     "start_time": "2022-05-26T09:32:43.146088Z"
    }
   },
   "outputs": [],
   "source": [
    "supply_yearly = [[np.sum(lst[i*TIME_STEP_PER_YEAR:(i+1)*TIME_STEP_PER_YEAR]) for i in range(NUM_YEAR)]\n",
    "                                                                 for lst in supply_simulation_resList]\n",
    "supply_yearly = np.array(supply_yearly)\n",
    "supply_yearly_mean = np.mean(supply_yearly, axis=0)\n"
   ]
  },
  {
   "cell_type": "code",
   "execution_count": 114,
   "id": "3cc3ab21",
   "metadata": {
    "ExecuteTime": {
     "end_time": "2022-05-26T09:32:43.264693Z",
     "start_time": "2022-05-26T09:32:43.255652Z"
    }
   },
   "outputs": [],
   "source": [
    "demand_yearly_mean = [preset_demand_ori[int(i*TIME_STEP_PER_YEAR+1)] for i in range(NUM_YEAR)]\n",
    "demand_yearly = [demand_yearly_mean for i in range(SIMULATION_STEP)]\n",
    "demand_yearly_mean = np.array(demand_yearly_mean)\n",
    "demand_yearly = np.array(demand_yearly)\n"
   ]
  },
  {
   "cell_type": "code",
   "execution_count": 115,
   "id": "4e32e23d",
   "metadata": {
    "ExecuteTime": {
     "end_time": "2022-05-26T09:32:43.427676Z",
     "start_time": "2022-05-26T09:32:43.269923Z"
    }
   },
   "outputs": [
    {
     "data": {
      "text/plain": [
       "<AxesSubplot:>"
      ]
     },
     "execution_count": 115,
     "metadata": {},
     "output_type": "execute_result"
    },
    {
     "data": {
      "text/plain": [
       "<AxesSubplot:>"
      ]
     },
     "execution_count": 115,
     "metadata": {},
     "output_type": "execute_result"
    },
    {
     "data": {
      "text/plain": [
       "(0.0, 800.0)"
      ]
     },
     "execution_count": 115,
     "metadata": {},
     "output_type": "execute_result"
    },
    {
     "data": {
      "image/png": "[encoded data removed]",
      "text/plain": [
       "<Figure size 432x288 with 1 Axes>"
      ]
     },
     "metadata": {
      "needs_background": "light"
     },
     "output_type": "display_data"
    }
   ],
   "source": [
    "pd.Series(supply_yearly_mean).plot()\n",
    "pd.Series(demand_yearly_mean).plot()\n",
    "plt.ylim((0, 800))\n"
   ]
  },
  {
   "attachments": {
    "image.png": {
     "image/png": "[encoded data removed]"
    }
   },
   "cell_type": "markdown",
   "id": "d1afb61a",
   "metadata": {},
   "source": [
    "![image.png](attachment:image.png)"
   ]
  },
  {
   "cell_type": "code",
   "execution_count": 116,
   "id": "eaa07b7d",
   "metadata": {
    "ExecuteTime": {
     "end_time": "2022-05-26T09:32:43.509856Z",
     "start_time": "2022-05-26T09:32:43.429280Z"
    }
   },
   "outputs": [
    {
     "data": {
      "text/plain": [
       "<AxesSubplot:>"
      ]
     },
     "execution_count": 116,
     "metadata": {},
     "output_type": "execute_result"
    },
    {
     "data": {
      "text/plain": [
       "(0.0, 800.0)"
      ]
     },
     "execution_count": 116,
     "metadata": {},
     "output_type": "execute_result"
    },
    {
     "data": {
      "image/png": "[encoded data removed]",
      "text/plain": [
       "<Figure size 432x288 with 1 Axes>"
      ]
     },
     "metadata": {
      "needs_background": "light"
     },
     "output_type": "display_data"
    }
   ],
   "source": [
    "# supply\n",
    "\n",
    "pd.Series(supply_yearly_mean).plot()\n",
    "plt.ylim((0, 800))\n"
   ]
  },
  {
   "cell_type": "code",
   "execution_count": 117,
   "id": "a96f6625",
   "metadata": {
    "ExecuteTime": {
     "end_time": "2022-05-26T09:32:43.577452Z",
     "start_time": "2022-05-26T09:32:43.510998Z"
    }
   },
   "outputs": [
    {
     "data": {
      "text/plain": [
       "<AxesSubplot:>"
      ]
     },
     "execution_count": 117,
     "metadata": {},
     "output_type": "execute_result"
    },
    {
     "data": {
      "text/plain": [
       "(0.0, 800.0)"
      ]
     },
     "execution_count": 117,
     "metadata": {},
     "output_type": "execute_result"
    },
    {
     "data": {
      "image/png": "[encoded data removed]",
      "text/plain": [
       "<Figure size 432x288 with 1 Axes>"
      ]
     },
     "metadata": {
      "needs_background": "light"
     },
     "output_type": "display_data"
    }
   ],
   "source": [
    "# demand\n",
    "\n",
    "pd.Series(demand_yearly_mean).plot()\n",
    "plt.ylim((0, 800))\n"
   ]
  },
  {
   "cell_type": "code",
   "execution_count": 118,
   "id": "d99bda97",
   "metadata": {
    "ExecuteTime": {
     "end_time": "2022-05-26T09:32:43.598717Z",
     "start_time": "2022-05-26T09:32:43.578522Z"
    }
   },
   "outputs": [],
   "source": [
    "price_yearly = [[np.mean(lst[i*TIME_STEP_PER_YEAR:(i+1)*TIME_STEP_PER_YEAR]) for i in range(NUM_YEAR)]\n",
    "                                                                 for lst in price_simulation_resList]\n",
    "price_yearly = np.array(price_yearly)\n",
    "price_yearly_mean = np.mean(price_yearly, axis=0)\n"
   ]
  },
  {
   "cell_type": "code",
   "execution_count": 119,
   "id": "e3d1e435",
   "metadata": {
    "ExecuteTime": {
     "end_time": "2022-05-26T09:32:43.663039Z",
     "start_time": "2022-05-26T09:32:43.599947Z"
    }
   },
   "outputs": [
    {
     "data": {
      "text/plain": [
       "<AxesSubplot:>"
      ]
     },
     "execution_count": 119,
     "metadata": {},
     "output_type": "execute_result"
    },
    {
     "data": {
      "text/plain": [
       "(0.0, 30000.0)"
      ]
     },
     "execution_count": 119,
     "metadata": {},
     "output_type": "execute_result"
    },
    {
     "data": {
      "image/png": "[encoded data removed]",
      "text/plain": [
       "<Figure size 432x288 with 1 Axes>"
      ]
     },
     "metadata": {
      "needs_background": "light"
     },
     "output_type": "display_data"
    }
   ],
   "source": [
    "# supply\n",
    "\n",
    "pd.Series(price_yearly_mean).plot()\n",
    "plt.ylim((0, 30000))\n"
   ]
  },
  {
   "cell_type": "markdown",
   "id": "72ea3626",
   "metadata": {},
   "source": [
    "## tuning"
   ]
  },
  {
   "cell_type": "code",
   "execution_count": 101,
   "id": "8e56fda3",
   "metadata": {
    "ExecuteTime": {
     "end_time": "2022-05-24T17:56:13.474696Z",
     "start_time": "2022-05-24T17:56:13.463532Z"
    }
   },
   "outputs": [],
   "source": [
    "def batch_multi_simulation():\n",
    "    supply_simulation_resList = []\n",
    "    price_simulation_resList = []\n",
    "    for i in tqdm(range(SIMULATION_STEP)):\n",
    "#         print('simulation step', i+1)\n",
    "        df2, supply_f, supply_simulation = init_supply_data(df)\n",
    "        price_ma, price_range, price_f, price_simulation = init_price_data(price_df)\n",
    "        supply_simulation, price_simulation, df_t, records_lst = run_simulation(\n",
    "                df2, supply_f, supply_simulation, price_ma, price_range, price_f, price_simulation, silent=True)\n",
    "        supply_simulation_resList += [supply_simulation]\n",
    "        price_simulation_resList += [price_simulation]\n",
    "    return supply_simulation_resList, price_simulation_resList\n"
   ]
  },
  {
   "cell_type": "code",
   "execution_count": 102,
   "id": "9c885e15",
   "metadata": {
    "ExecuteTime": {
     "end_time": "2022-05-24T17:56:23.701568Z",
     "start_time": "2022-05-24T17:56:23.695819Z"
    }
   },
   "outputs": [],
   "source": [
    "def evaluate(demand_yearly, supply_yearly):\n",
    "    metric_res = np.sqrt(np.mean(np.square(demand_yearly - supply_yearly), axis=1))\n",
    "    return metric_res\n"
   ]
  },
  {
   "cell_type": "code",
   "execution_count": 103,
   "id": "13d7af8c",
   "metadata": {
    "ExecuteTime": {
     "end_time": "2022-05-24T17:56:24.431010Z",
     "start_time": "2022-05-24T17:56:24.423543Z"
    }
   },
   "outputs": [],
   "source": [
    "SIMULATION_STEP = 5\n",
    "\n",
    "prob_produce_space = [0.1, 0.2, 0.3, 0.4]\n",
    "base_response_space = [3, 5, 10, 20]\n",
    "half_life_price_infl_space = [1, 2, 5, 10]\n",
    "half_life_price_ma_space = [1, 2, 5]\n",
    "# 4*4*4*3=192\n"
   ]
  },
  {
   "cell_type": "code",
   "execution_count": 104,
   "id": "9e2f83bb",
   "metadata": {
    "ExecuteTime": {
     "end_time": "2022-05-25T21:41:30.346424Z",
     "start_time": "2022-05-24T17:56:25.549926Z"
    }
   },
   "outputs": [
    {
     "name": "stdout",
     "output_type": "stream",
     "text": [
      "++++++++++++++++++++++++++++++++++++++++++++++++++++++++++++++++++++++++++++++++++++++++++++++++++++++++++++++++++++++++++++++++++++++++++++++++++++++ \n",
      "combination 1: (0.1, 3, 1, 1)\n"
     ]
    },
    {
     "data": {
      "application/vnd.jupyter.widget-view+json": {
       "model_id": "7be702d0e8d749f1b9609cf0000ce630",
       "version_major": 2,
       "version_minor": 0
      },
      "text/plain": [
       "  0%|          | 0/5 [00:00<?, ?it/s]"
      ]
     },
     "metadata": {},
     "output_type": "display_data"
    },
    {
     "name": "stdout",
     "output_type": "stream",
     "text": [
      "time consumed: 6.96\n",
      "++++++++++++++++++++++++++++++++++++++++++++++++++++++++++++++++++++++++++++++++++++++++++++++++++++++++++++++++++++++++++++++++++++++++++++++++++++++ \n",
      "combination 2: (0.1, 3, 1, 2)\n"
     ]
    },
    {
     "data": {
      "application/vnd.jupyter.widget-view+json": {
       "model_id": "ed45dbb76630466bbc535c06bd36ec5d",
       "version_major": 2,
       "version_minor": 0
      },
      "text/plain": [
       "  0%|          | 0/5 [00:00<?, ?it/s]"
      ]
     },
     "metadata": {},
     "output_type": "display_data"
    },
    {
     "name": "stdout",
     "output_type": "stream",
     "text": [
      "time consumed: 6.82\n",
      "++++++++++++++++++++++++++++++++++++++++++++++++++++++++++++++++++++++++++++++++++++++++++++++++++++++++++++++++++++++++++++++++++++++++++++++++++++++ \n",
      "combination 3: (0.1, 3, 1, 5)\n"
     ]
    },
    {
     "data": {
      "application/vnd.jupyter.widget-view+json": {
       "model_id": "d0f90e377b814160965623c3c2929496",
       "version_major": 2,
       "version_minor": 0
      },
      "text/plain": [
       "  0%|          | 0/5 [00:00<?, ?it/s]"
      ]
     },
     "metadata": {},
     "output_type": "display_data"
    },
    {
     "name": "stdout",
     "output_type": "stream",
     "text": [
      "time consumed: 6.85\n",
      "++++++++++++++++++++++++++++++++++++++++++++++++++++++++++++++++++++++++++++++++++++++++++++++++++++++++++++++++++++++++++++++++++++++++++++++++++++++ \n",
      "combination 4: (0.1, 3, 2, 1)\n"
     ]
    },
    {
     "data": {
      "application/vnd.jupyter.widget-view+json": {
       "model_id": "a72d5d2937914b32aa535b7aef9b5203",
       "version_major": 2,
       "version_minor": 0
      },
      "text/plain": [
       "  0%|          | 0/5 [00:00<?, ?it/s]"
      ]
     },
     "metadata": {},
     "output_type": "display_data"
    },
    {
     "name": "stdout",
     "output_type": "stream",
     "text": [
      "time consumed: 6.84\n",
      "++++++++++++++++++++++++++++++++++++++++++++++++++++++++++++++++++++++++++++++++++++++++++++++++++++++++++++++++++++++++++++++++++++++++++++++++++++++ \n",
      "combination 5: (0.1, 3, 2, 2)\n"
     ]
    },
    {
     "data": {
      "application/vnd.jupyter.widget-view+json": {
       "model_id": "a3a5706c9c6848d7b1381ff01cc901c1",
       "version_major": 2,
       "version_minor": 0
      },
      "text/plain": [
       "  0%|          | 0/5 [00:00<?, ?it/s]"
      ]
     },
     "metadata": {},
     "output_type": "display_data"
    },
    {
     "name": "stdout",
     "output_type": "stream",
     "text": [
      "time consumed: 6.75\n",
      "++++++++++++++++++++++++++++++++++++++++++++++++++++++++++++++++++++++++++++++++++++++++++++++++++++++++++++++++++++++++++++++++++++++++++++++++++++++ \n",
      "combination 6: (0.1, 3, 2, 5)\n"
     ]
    },
    {
     "data": {
      "application/vnd.jupyter.widget-view+json": {
       "model_id": "e8ab790315344a01bea635233fe7a1f6",
       "version_major": 2,
       "version_minor": 0
      },
      "text/plain": [
       "  0%|          | 0/5 [00:00<?, ?it/s]"
      ]
     },
     "metadata": {},
     "output_type": "display_data"
    },
    {
     "name": "stdout",
     "output_type": "stream",
     "text": [
      "time consumed: 6.74\n",
      "++++++++++++++++++++++++++++++++++++++++++++++++++++++++++++++++++++++++++++++++++++++++++++++++++++++++++++++++++++++++++++++++++++++++++++++++++++++ \n",
      "combination 7: (0.1, 3, 5, 1)\n"
     ]
    },
    {
     "data": {
      "application/vnd.jupyter.widget-view+json": {
       "model_id": "58bcd759479c43538af26ae174aef625",
       "version_major": 2,
       "version_minor": 0
      },
      "text/plain": [
       "  0%|          | 0/5 [00:00<?, ?it/s]"
      ]
     },
     "metadata": {},
     "output_type": "display_data"
    },
    {
     "name": "stdout",
     "output_type": "stream",
     "text": [
      "time consumed: 6.79\n",
      "++++++++++++++++++++++++++++++++++++++++++++++++++++++++++++++++++++++++++++++++++++++++++++++++++++++++++++++++++++++++++++++++++++++++++++++++++++++ \n",
      "combination 8: (0.1, 3, 5, 2)\n"
     ]
    },
    {
     "data": {
      "application/vnd.jupyter.widget-view+json": {
       "model_id": "96faf55275de4e07a6ee0e289c58eb4f",
       "version_major": 2,
       "version_minor": 0
      },
      "text/plain": [
       "  0%|          | 0/5 [00:00<?, ?it/s]"
      ]
     },
     "metadata": {},
     "output_type": "display_data"
    },
    {
     "name": "stdout",
     "output_type": "stream",
     "text": [
      "time consumed: 6.69\n",
      "++++++++++++++++++++++++++++++++++++++++++++++++++++++++++++++++++++++++++++++++++++++++++++++++++++++++++++++++++++++++++++++++++++++++++++++++++++++ \n",
      "combination 9: (0.1, 3, 5, 5)\n"
     ]
    },
    {
     "data": {
      "application/vnd.jupyter.widget-view+json": {
       "model_id": "b10ec391ce284aff85d346644325c3e9",
       "version_major": 2,
       "version_minor": 0
      },
      "text/plain": [
       "  0%|          | 0/5 [00:00<?, ?it/s]"
      ]
     },
     "metadata": {},
     "output_type": "display_data"
    },
    {
     "name": "stdout",
     "output_type": "stream",
     "text": [
      "time consumed: 6.63\n",
      "++++++++++++++++++++++++++++++++++++++++++++++++++++++++++++++++++++++++++++++++++++++++++++++++++++++++++++++++++++++++++++++++++++++++++++++++++++++ \n",
      "combination 10: (0.1, 3, 10, 1)\n"
     ]
    },
    {
     "data": {
      "application/vnd.jupyter.widget-view+json": {
       "model_id": "e4ce32e9c1534107af5b6a7e0698d5f8",
       "version_major": 2,
       "version_minor": 0
      },
      "text/plain": [
       "  0%|          | 0/5 [00:00<?, ?it/s]"
      ]
     },
     "metadata": {},
     "output_type": "display_data"
    },
    {
     "name": "stdout",
     "output_type": "stream",
     "text": [
      "time consumed: 6.76\n",
      "++++++++++++++++++++++++++++++++++++++++++++++++++++++++++++++++++++++++++++++++++++++++++++++++++++++++++++++++++++++++++++++++++++++++++++++++++++++ \n",
      "combination 11: (0.1, 3, 10, 2)\n"
     ]
    },
    {
     "data": {
      "application/vnd.jupyter.widget-view+json": {
       "model_id": "84b838573bac45caaaef9d0318d4ba92",
       "version_major": 2,
       "version_minor": 0
      },
      "text/plain": [
       "  0%|          | 0/5 [00:00<?, ?it/s]"
      ]
     },
     "metadata": {},
     "output_type": "display_data"
    },
    {
     "name": "stdout",
     "output_type": "stream",
     "text": [
      "time consumed: 6.68\n",
      "++++++++++++++++++++++++++++++++++++++++++++++++++++++++++++++++++++++++++++++++++++++++++++++++++++++++++++++++++++++++++++++++++++++++++++++++++++++ \n",
      "combination 12: (0.1, 3, 10, 5)\n"
     ]
    },
    {
     "data": {
      "application/vnd.jupyter.widget-view+json": {
       "model_id": "ce6953a03e584a2fa38c03fb5ef34944",
       "version_major": 2,
       "version_minor": 0
      },
      "text/plain": [
       "  0%|          | 0/5 [00:00<?, ?it/s]"
      ]
     },
     "metadata": {},
     "output_type": "display_data"
    },
    {
     "name": "stdout",
     "output_type": "stream",
     "text": [
      "time consumed: 6.62\n",
      "++++++++++++++++++++++++++++++++++++++++++++++++++++++++++++++++++++++++++++++++++++++++++++++++++++++++++++++++++++++++++++++++++++++++++++++++++++++ \n",
      "combination 13: (0.1, 5, 1, 1)\n"
     ]
    },
    {
     "data": {
      "application/vnd.jupyter.widget-view+json": {
       "model_id": "8e9a4610099648d494d9a71a21b94d3e",
       "version_major": 2,
       "version_minor": 0
      },
      "text/plain": [
       "  0%|          | 0/5 [00:00<?, ?it/s]"
      ]
     },
     "metadata": {},
     "output_type": "display_data"
    },
    {
     "name": "stdout",
     "output_type": "stream",
     "text": [
      "time consumed: 6.99\n",
      "++++++++++++++++++++++++++++++++++++++++++++++++++++++++++++++++++++++++++++++++++++++++++++++++++++++++++++++++++++++++++++++++++++++++++++++++++++++ \n",
      "combination 14: (0.1, 5, 1, 2)\n"
     ]
    },
    {
     "data": {
      "application/vnd.jupyter.widget-view+json": {
       "model_id": "092f1c70fbe04a51b69f8057ed019d40",
       "version_major": 2,
       "version_minor": 0
      },
      "text/plain": [
       "  0%|          | 0/5 [00:00<?, ?it/s]"
      ]
     },
     "metadata": {},
     "output_type": "display_data"
    },
    {
     "name": "stdout",
     "output_type": "stream",
     "text": [
      "time consumed: 6.97\n",
      "++++++++++++++++++++++++++++++++++++++++++++++++++++++++++++++++++++++++++++++++++++++++++++++++++++++++++++++++++++++++++++++++++++++++++++++++++++++ \n",
      "combination 15: (0.1, 5, 1, 5)\n"
     ]
    },
    {
     "data": {
      "application/vnd.jupyter.widget-view+json": {
       "model_id": "ebf30063859347b5954d2da8af3fd3f9",
       "version_major": 2,
       "version_minor": 0
      },
      "text/plain": [
       "  0%|          | 0/5 [00:00<?, ?it/s]"
      ]
     },
     "metadata": {},
     "output_type": "display_data"
    },
    {
     "name": "stdout",
     "output_type": "stream",
     "text": [
      "time consumed: 6.86\n",
      "++++++++++++++++++++++++++++++++++++++++++++++++++++++++++++++++++++++++++++++++++++++++++++++++++++++++++++++++++++++++++++++++++++++++++++++++++++++ \n",
      "combination 16: (0.1, 5, 2, 1)\n"
     ]
    },
    {
     "data": {
      "application/vnd.jupyter.widget-view+json": {
       "model_id": "a14e698daa3c4af7afe3fcef800e5588",
       "version_major": 2,
       "version_minor": 0
      },
      "text/plain": [
       "  0%|          | 0/5 [00:00<?, ?it/s]"
      ]
     },
     "metadata": {},
     "output_type": "display_data"
    },
    {
     "name": "stdout",
     "output_type": "stream",
     "text": [
      "time consumed: 6.87\n",
      "++++++++++++++++++++++++++++++++++++++++++++++++++++++++++++++++++++++++++++++++++++++++++++++++++++++++++++++++++++++++++++++++++++++++++++++++++++++ \n",
      "combination 17: (0.1, 5, 2, 2)\n"
     ]
    },
    {
     "data": {
      "application/vnd.jupyter.widget-view+json": {
       "model_id": "79eb0744633b4ec7b68c7e1aeda8b4c5",
       "version_major": 2,
       "version_minor": 0
      },
      "text/plain": [
       "  0%|          | 0/5 [00:00<?, ?it/s]"
      ]
     },
     "metadata": {},
     "output_type": "display_data"
    },
    {
     "name": "stdout",
     "output_type": "stream",
     "text": [
      "time consumed: 6.83\n",
      "++++++++++++++++++++++++++++++++++++++++++++++++++++++++++++++++++++++++++++++++++++++++++++++++++++++++++++++++++++++++++++++++++++++++++++++++++++++ \n",
      "combination 18: (0.1, 5, 2, 5)\n"
     ]
    },
    {
     "data": {
      "application/vnd.jupyter.widget-view+json": {
       "model_id": "55d61aa0d2d84552b0a20e64c254a836",
       "version_major": 2,
       "version_minor": 0
      },
      "text/plain": [
       "  0%|          | 0/5 [00:00<?, ?it/s]"
      ]
     },
     "metadata": {},
     "output_type": "display_data"
    },
    {
     "name": "stdout",
     "output_type": "stream",
     "text": [
      "time consumed: 6.83\n",
      "++++++++++++++++++++++++++++++++++++++++++++++++++++++++++++++++++++++++++++++++++++++++++++++++++++++++++++++++++++++++++++++++++++++++++++++++++++++ \n",
      "combination 19: (0.1, 5, 5, 1)\n"
     ]
    },
    {
     "data": {
      "application/vnd.jupyter.widget-view+json": {
       "model_id": "aebfa65541d94062b870f0829e4f7a74",
       "version_major": 2,
       "version_minor": 0
      },
      "text/plain": [
       "  0%|          | 0/5 [00:00<?, ?it/s]"
      ]
     },
     "metadata": {},
     "output_type": "display_data"
    },
    {
     "name": "stdout",
     "output_type": "stream",
     "text": [
      "time consumed: 6.82\n",
      "++++++++++++++++++++++++++++++++++++++++++++++++++++++++++++++++++++++++++++++++++++++++++++++++++++++++++++++++++++++++++++++++++++++++++++++++++++++ \n",
      "combination 20: (0.1, 5, 5, 2)\n"
     ]
    },
    {
     "data": {
      "application/vnd.jupyter.widget-view+json": {
       "model_id": "986f6ad4fc5a4e678014d9ae661ad2a3",
       "version_major": 2,
       "version_minor": 0
      },
      "text/plain": [
       "  0%|          | 0/5 [00:00<?, ?it/s]"
      ]
     },
     "metadata": {},
     "output_type": "display_data"
    },
    {
     "name": "stdout",
     "output_type": "stream",
     "text": [
      "time consumed: 6.83\n",
      "++++++++++++++++++++++++++++++++++++++++++++++++++++++++++++++++++++++++++++++++++++++++++++++++++++++++++++++++++++++++++++++++++++++++++++++++++++++ \n",
      "combination 21: (0.1, 5, 5, 5)\n"
     ]
    },
    {
     "data": {
      "application/vnd.jupyter.widget-view+json": {
       "model_id": "5317e3336b9a4c50be0244511f1ca062",
       "version_major": 2,
       "version_minor": 0
      },
      "text/plain": [
       "  0%|          | 0/5 [00:00<?, ?it/s]"
      ]
     },
     "metadata": {},
     "output_type": "display_data"
    },
    {
     "name": "stdout",
     "output_type": "stream",
     "text": [
      "time consumed: 6.77\n",
      "++++++++++++++++++++++++++++++++++++++++++++++++++++++++++++++++++++++++++++++++++++++++++++++++++++++++++++++++++++++++++++++++++++++++++++++++++++++ \n",
      "combination 22: (0.1, 5, 10, 1)\n"
     ]
    },
    {
     "data": {
      "application/vnd.jupyter.widget-view+json": {
       "model_id": "61ad978651304e1082617c8e35690558",
       "version_major": 2,
       "version_minor": 0
      },
      "text/plain": [
       "  0%|          | 0/5 [00:00<?, ?it/s]"
      ]
     },
     "metadata": {},
     "output_type": "display_data"
    },
    {
     "name": "stdout",
     "output_type": "stream",
     "text": [
      "time consumed: 6.86\n",
      "++++++++++++++++++++++++++++++++++++++++++++++++++++++++++++++++++++++++++++++++++++++++++++++++++++++++++++++++++++++++++++++++++++++++++++++++++++++ \n",
      "combination 23: (0.1, 5, 10, 2)\n"
     ]
    },
    {
     "data": {
      "application/vnd.jupyter.widget-view+json": {
       "model_id": "c243be6d39334d08bb9940c913ba1959",
       "version_major": 2,
       "version_minor": 0
      },
      "text/plain": [
       "  0%|          | 0/5 [00:00<?, ?it/s]"
      ]
     },
     "metadata": {},
     "output_type": "display_data"
    },
    {
     "name": "stdout",
     "output_type": "stream",
     "text": [
      "time consumed: 6.78\n",
      "++++++++++++++++++++++++++++++++++++++++++++++++++++++++++++++++++++++++++++++++++++++++++++++++++++++++++++++++++++++++++++++++++++++++++++++++++++++ \n",
      "combination 24: (0.1, 5, 10, 5)\n"
     ]
    },
    {
     "data": {
      "application/vnd.jupyter.widget-view+json": {
       "model_id": "2c2c1f41b95c49f295e035c883566ff8",
       "version_major": 2,
       "version_minor": 0
      },
      "text/plain": [
       "  0%|          | 0/5 [00:00<?, ?it/s]"
      ]
     },
     "metadata": {},
     "output_type": "display_data"
    },
    {
     "name": "stdout",
     "output_type": "stream",
     "text": [
      "time consumed: 6.83\n",
      "++++++++++++++++++++++++++++++++++++++++++++++++++++++++++++++++++++++++++++++++++++++++++++++++++++++++++++++++++++++++++++++++++++++++++++++++++++++ \n",
      "combination 25: (0.1, 10, 1, 1)\n"
     ]
    },
    {
     "data": {
      "application/vnd.jupyter.widget-view+json": {
       "model_id": "3097f25cda7c4bb386dafae7b366ad83",
       "version_major": 2,
       "version_minor": 0
      },
      "text/plain": [
       "  0%|          | 0/5 [00:00<?, ?it/s]"
      ]
     },
     "metadata": {},
     "output_type": "display_data"
    },
    {
     "name": "stdout",
     "output_type": "stream",
     "text": [
      "time consumed: 7.02\n",
      "++++++++++++++++++++++++++++++++++++++++++++++++++++++++++++++++++++++++++++++++++++++++++++++++++++++++++++++++++++++++++++++++++++++++++++++++++++++ \n",
      "combination 26: (0.1, 10, 1, 2)\n"
     ]
    },
    {
     "data": {
      "application/vnd.jupyter.widget-view+json": {
       "model_id": "b3ef51197184482bb8a4dcfb552e3560",
       "version_major": 2,
       "version_minor": 0
      },
      "text/plain": [
       "  0%|          | 0/5 [00:00<?, ?it/s]"
      ]
     },
     "metadata": {},
     "output_type": "display_data"
    },
    {
     "name": "stdout",
     "output_type": "stream",
     "text": [
      "time consumed: 7.04\n",
      "++++++++++++++++++++++++++++++++++++++++++++++++++++++++++++++++++++++++++++++++++++++++++++++++++++++++++++++++++++++++++++++++++++++++++++++++++++++ \n",
      "combination 27: (0.1, 10, 1, 5)\n"
     ]
    },
    {
     "data": {
      "application/vnd.jupyter.widget-view+json": {
       "model_id": "14fc5675d3284fa2ba90572d449be260",
       "version_major": 2,
       "version_minor": 0
      },
      "text/plain": [
       "  0%|          | 0/5 [00:00<?, ?it/s]"
      ]
     },
     "metadata": {},
     "output_type": "display_data"
    },
    {
     "name": "stdout",
     "output_type": "stream",
     "text": [
      "time consumed: 7.05\n",
      "++++++++++++++++++++++++++++++++++++++++++++++++++++++++++++++++++++++++++++++++++++++++++++++++++++++++++++++++++++++++++++++++++++++++++++++++++++++ \n",
      "combination 28: (0.1, 10, 2, 1)\n"
     ]
    },
    {
     "data": {
      "application/vnd.jupyter.widget-view+json": {
       "model_id": "1875f0c347014745be8a9c22d71868bd",
       "version_major": 2,
       "version_minor": 0
      },
      "text/plain": [
       "  0%|          | 0/5 [00:00<?, ?it/s]"
      ]
     },
     "metadata": {},
     "output_type": "display_data"
    },
    {
     "name": "stdout",
     "output_type": "stream",
     "text": [
      "time consumed: 6.98\n",
      "++++++++++++++++++++++++++++++++++++++++++++++++++++++++++++++++++++++++++++++++++++++++++++++++++++++++++++++++++++++++++++++++++++++++++++++++++++++ \n",
      "combination 29: (0.1, 10, 2, 2)\n"
     ]
    },
    {
     "data": {
      "application/vnd.jupyter.widget-view+json": {
       "model_id": "966d4575af54497a8e4fa0d77e4c8b6c",
       "version_major": 2,
       "version_minor": 0
      },
      "text/plain": [
       "  0%|          | 0/5 [00:00<?, ?it/s]"
      ]
     },
     "metadata": {},
     "output_type": "display_data"
    },
    {
     "name": "stdout",
     "output_type": "stream",
     "text": [
      "time consumed: 6.98\n",
      "++++++++++++++++++++++++++++++++++++++++++++++++++++++++++++++++++++++++++++++++++++++++++++++++++++++++++++++++++++++++++++++++++++++++++++++++++++++ \n",
      "combination 30: (0.1, 10, 2, 5)\n"
     ]
    },
    {
     "data": {
      "application/vnd.jupyter.widget-view+json": {
       "model_id": "fdfa8e61238541f68994b62536afd93a",
       "version_major": 2,
       "version_minor": 0
      },
      "text/plain": [
       "  0%|          | 0/5 [00:00<?, ?it/s]"
      ]
     },
     "metadata": {},
     "output_type": "display_data"
    },
    {
     "name": "stdout",
     "output_type": "stream",
     "text": [
      "time consumed: 7.05\n",
      "++++++++++++++++++++++++++++++++++++++++++++++++++++++++++++++++++++++++++++++++++++++++++++++++++++++++++++++++++++++++++++++++++++++++++++++++++++++ \n",
      "combination 31: (0.1, 10, 5, 1)\n"
     ]
    },
    {
     "data": {
      "application/vnd.jupyter.widget-view+json": {
       "model_id": "a57f7730f64c41ed8108fcf91de84462",
       "version_major": 2,
       "version_minor": 0
      },
      "text/plain": [
       "  0%|          | 0/5 [00:00<?, ?it/s]"
      ]
     },
     "metadata": {},
     "output_type": "display_data"
    },
    {
     "name": "stdout",
     "output_type": "stream",
     "text": [
      "time consumed: 7.0\n",
      "++++++++++++++++++++++++++++++++++++++++++++++++++++++++++++++++++++++++++++++++++++++++++++++++++++++++++++++++++++++++++++++++++++++++++++++++++++++ \n",
      "combination 32: (0.1, 10, 5, 2)\n"
     ]
    },
    {
     "data": {
      "application/vnd.jupyter.widget-view+json": {
       "model_id": "776334b72cac44eda6367637d8a74b2e",
       "version_major": 2,
       "version_minor": 0
      },
      "text/plain": [
       "  0%|          | 0/5 [00:00<?, ?it/s]"
      ]
     },
     "metadata": {},
     "output_type": "display_data"
    },
    {
     "name": "stdout",
     "output_type": "stream",
     "text": [
      "time consumed: 6.97\n",
      "++++++++++++++++++++++++++++++++++++++++++++++++++++++++++++++++++++++++++++++++++++++++++++++++++++++++++++++++++++++++++++++++++++++++++++++++++++++ \n",
      "combination 33: (0.1, 10, 5, 5)\n"
     ]
    },
    {
     "data": {
      "application/vnd.jupyter.widget-view+json": {
       "model_id": "5e689c8f240547ceb5f011386370f56c",
       "version_major": 2,
       "version_minor": 0
      },
      "text/plain": [
       "  0%|          | 0/5 [00:00<?, ?it/s]"
      ]
     },
     "metadata": {},
     "output_type": "display_data"
    },
    {
     "name": "stdout",
     "output_type": "stream",
     "text": [
      "time consumed: 6.95\n",
      "++++++++++++++++++++++++++++++++++++++++++++++++++++++++++++++++++++++++++++++++++++++++++++++++++++++++++++++++++++++++++++++++++++++++++++++++++++++ \n",
      "combination 34: (0.1, 10, 10, 1)\n"
     ]
    },
    {
     "data": {
      "application/vnd.jupyter.widget-view+json": {
       "model_id": "3902a426bf6c470c94471720d942eabd",
       "version_major": 2,
       "version_minor": 0
      },
      "text/plain": [
       "  0%|          | 0/5 [00:00<?, ?it/s]"
      ]
     },
     "metadata": {},
     "output_type": "display_data"
    },
    {
     "name": "stdout",
     "output_type": "stream",
     "text": [
      "time consumed: 6.99\n",
      "++++++++++++++++++++++++++++++++++++++++++++++++++++++++++++++++++++++++++++++++++++++++++++++++++++++++++++++++++++++++++++++++++++++++++++++++++++++ \n",
      "combination 35: (0.1, 10, 10, 2)\n"
     ]
    },
    {
     "data": {
      "application/vnd.jupyter.widget-view+json": {
       "model_id": "6761c83a29804379a7b92616aa45c0e4",
       "version_major": 2,
       "version_minor": 0
      },
      "text/plain": [
       "  0%|          | 0/5 [00:00<?, ?it/s]"
      ]
     },
     "metadata": {},
     "output_type": "display_data"
    },
    {
     "name": "stdout",
     "output_type": "stream",
     "text": [
      "time consumed: 6.94\n",
      "++++++++++++++++++++++++++++++++++++++++++++++++++++++++++++++++++++++++++++++++++++++++++++++++++++++++++++++++++++++++++++++++++++++++++++++++++++++ \n",
      "combination 36: (0.1, 10, 10, 5)\n"
     ]
    },
    {
     "data": {
      "application/vnd.jupyter.widget-view+json": {
       "model_id": "08890209730f4517ab8410a418c832f3",
       "version_major": 2,
       "version_minor": 0
      },
      "text/plain": [
       "  0%|          | 0/5 [00:00<?, ?it/s]"
      ]
     },
     "metadata": {},
     "output_type": "display_data"
    },
    {
     "name": "stdout",
     "output_type": "stream",
     "text": [
      "time consumed: 6.93\n",
      "++++++++++++++++++++++++++++++++++++++++++++++++++++++++++++++++++++++++++++++++++++++++++++++++++++++++++++++++++++++++++++++++++++++++++++++++++++++ \n",
      "combination 37: (0.1, 20, 1, 1)\n"
     ]
    },
    {
     "data": {
      "application/vnd.jupyter.widget-view+json": {
       "model_id": "93325026e0984680a4008403d6770c51",
       "version_major": 2,
       "version_minor": 0
      },
      "text/plain": [
       "  0%|          | 0/5 [00:00<?, ?it/s]"
      ]
     },
     "metadata": {},
     "output_type": "display_data"
    },
    {
     "name": "stdout",
     "output_type": "stream",
     "text": [
      "time consumed: 7.14\n",
      "++++++++++++++++++++++++++++++++++++++++++++++++++++++++++++++++++++++++++++++++++++++++++++++++++++++++++++++++++++++++++++++++++++++++++++++++++++++ \n",
      "combination 38: (0.1, 20, 1, 2)\n"
     ]
    },
    {
     "data": {
      "application/vnd.jupyter.widget-view+json": {
       "model_id": "de36c2c89b3744199b60660f41f2f4d0",
       "version_major": 2,
       "version_minor": 0
      },
      "text/plain": [
       "  0%|          | 0/5 [00:00<?, ?it/s]"
      ]
     },
     "metadata": {},
     "output_type": "display_data"
    },
    {
     "name": "stdout",
     "output_type": "stream",
     "text": [
      "time consumed: 7.17\n",
      "++++++++++++++++++++++++++++++++++++++++++++++++++++++++++++++++++++++++++++++++++++++++++++++++++++++++++++++++++++++++++++++++++++++++++++++++++++++ \n",
      "combination 39: (0.1, 20, 1, 5)\n"
     ]
    },
    {
     "data": {
      "application/vnd.jupyter.widget-view+json": {
       "model_id": "e802800d97834c3da1a10bf7c8bc9b74",
       "version_major": 2,
       "version_minor": 0
      },
      "text/plain": [
       "  0%|          | 0/5 [00:00<?, ?it/s]"
      ]
     },
     "metadata": {},
     "output_type": "display_data"
    },
    {
     "name": "stdout",
     "output_type": "stream",
     "text": [
      "time consumed: 7.14\n",
      "++++++++++++++++++++++++++++++++++++++++++++++++++++++++++++++++++++++++++++++++++++++++++++++++++++++++++++++++++++++++++++++++++++++++++++++++++++++ \n",
      "combination 40: (0.1, 20, 2, 1)\n"
     ]
    },
    {
     "data": {
      "application/vnd.jupyter.widget-view+json": {
       "model_id": "c091e982f2e648b891c06662800065a8",
       "version_major": 2,
       "version_minor": 0
      },
      "text/plain": [
       "  0%|          | 0/5 [00:00<?, ?it/s]"
      ]
     },
     "metadata": {},
     "output_type": "display_data"
    },
    {
     "name": "stdout",
     "output_type": "stream",
     "text": [
      "time consumed: 7.12\n",
      "++++++++++++++++++++++++++++++++++++++++++++++++++++++++++++++++++++++++++++++++++++++++++++++++++++++++++++++++++++++++++++++++++++++++++++++++++++++ \n",
      "combination 41: (0.1, 20, 2, 2)\n"
     ]
    },
    {
     "data": {
      "application/vnd.jupyter.widget-view+json": {
       "model_id": "1271e9dee70c418fa8866bcd70ead9a9",
       "version_major": 2,
       "version_minor": 0
      },
      "text/plain": [
       "  0%|          | 0/5 [00:00<?, ?it/s]"
      ]
     },
     "metadata": {},
     "output_type": "display_data"
    },
    {
     "name": "stdout",
     "output_type": "stream",
     "text": [
      "time consumed: 7.08\n",
      "++++++++++++++++++++++++++++++++++++++++++++++++++++++++++++++++++++++++++++++++++++++++++++++++++++++++++++++++++++++++++++++++++++++++++++++++++++++ \n",
      "combination 42: (0.1, 20, 2, 5)\n"
     ]
    },
    {
     "data": {
      "application/vnd.jupyter.widget-view+json": {
       "model_id": "4b6ca0c990ce4d36ab90828b09b4a53a",
       "version_major": 2,
       "version_minor": 0
      },
      "text/plain": [
       "  0%|          | 0/5 [00:00<?, ?it/s]"
      ]
     },
     "metadata": {},
     "output_type": "display_data"
    },
    {
     "name": "stdout",
     "output_type": "stream",
     "text": [
      "time consumed: 7.09\n",
      "++++++++++++++++++++++++++++++++++++++++++++++++++++++++++++++++++++++++++++++++++++++++++++++++++++++++++++++++++++++++++++++++++++++++++++++++++++++ \n",
      "combination 43: (0.1, 20, 5, 1)\n"
     ]
    },
    {
     "data": {
      "application/vnd.jupyter.widget-view+json": {
       "model_id": "cd0ffa1b46d3403a9e4d898ad528398e",
       "version_major": 2,
       "version_minor": 0
      },
      "text/plain": [
       "  0%|          | 0/5 [00:00<?, ?it/s]"
      ]
     },
     "metadata": {},
     "output_type": "display_data"
    },
    {
     "name": "stdout",
     "output_type": "stream",
     "text": [
      "time consumed: 7.14\n",
      "++++++++++++++++++++++++++++++++++++++++++++++++++++++++++++++++++++++++++++++++++++++++++++++++++++++++++++++++++++++++++++++++++++++++++++++++++++++ \n",
      "combination 44: (0.1, 20, 5, 2)\n"
     ]
    },
    {
     "data": {
      "application/vnd.jupyter.widget-view+json": {
       "model_id": "ac20e5189c2649d48066c6563b1040e6",
       "version_major": 2,
       "version_minor": 0
      },
      "text/plain": [
       "  0%|          | 0/5 [00:00<?, ?it/s]"
      ]
     },
     "metadata": {},
     "output_type": "display_data"
    },
    {
     "name": "stdout",
     "output_type": "stream",
     "text": [
      "time consumed: 7.1\n",
      "++++++++++++++++++++++++++++++++++++++++++++++++++++++++++++++++++++++++++++++++++++++++++++++++++++++++++++++++++++++++++++++++++++++++++++++++++++++ \n",
      "combination 45: (0.1, 20, 5, 5)\n"
     ]
    },
    {
     "data": {
      "application/vnd.jupyter.widget-view+json": {
       "model_id": "3e00a44b8f9e4457bee3203530bfb4fc",
       "version_major": 2,
       "version_minor": 0
      },
      "text/plain": [
       "  0%|          | 0/5 [00:00<?, ?it/s]"
      ]
     },
     "metadata": {},
     "output_type": "display_data"
    },
    {
     "name": "stdout",
     "output_type": "stream",
     "text": [
      "time consumed: 7.05\n",
      "++++++++++++++++++++++++++++++++++++++++++++++++++++++++++++++++++++++++++++++++++++++++++++++++++++++++++++++++++++++++++++++++++++++++++++++++++++++ \n",
      "combination 46: (0.1, 20, 10, 1)\n"
     ]
    },
    {
     "data": {
      "application/vnd.jupyter.widget-view+json": {
       "model_id": "ab4014c781b44bb9b447b1e19bf783bc",
       "version_major": 2,
       "version_minor": 0
      },
      "text/plain": [
       "  0%|          | 0/5 [00:00<?, ?it/s]"
      ]
     },
     "metadata": {},
     "output_type": "display_data"
    },
    {
     "name": "stdout",
     "output_type": "stream",
     "text": [
      "time consumed: 7.1\n",
      "++++++++++++++++++++++++++++++++++++++++++++++++++++++++++++++++++++++++++++++++++++++++++++++++++++++++++++++++++++++++++++++++++++++++++++++++++++++ \n",
      "combination 47: (0.1, 20, 10, 2)\n"
     ]
    },
    {
     "data": {
      "application/vnd.jupyter.widget-view+json": {
       "model_id": "df1ec446c1ce4459b4362817eb426ece",
       "version_major": 2,
       "version_minor": 0
      },
      "text/plain": [
       "  0%|          | 0/5 [00:00<?, ?it/s]"
      ]
     },
     "metadata": {},
     "output_type": "display_data"
    },
    {
     "name": "stdout",
     "output_type": "stream",
     "text": [
      "time consumed: 7.09\n",
      "++++++++++++++++++++++++++++++++++++++++++++++++++++++++++++++++++++++++++++++++++++++++++++++++++++++++++++++++++++++++++++++++++++++++++++++++++++++ \n",
      "combination 48: (0.1, 20, 10, 5)\n"
     ]
    },
    {
     "data": {
      "application/vnd.jupyter.widget-view+json": {
       "model_id": "392ac01b6b9140209687510d67193fc8",
       "version_major": 2,
       "version_minor": 0
      },
      "text/plain": [
       "  0%|          | 0/5 [00:00<?, ?it/s]"
      ]
     },
     "metadata": {},
     "output_type": "display_data"
    },
    {
     "name": "stdout",
     "output_type": "stream",
     "text": [
      "time consumed: 7.07\n",
      "++++++++++++++++++++++++++++++++++++++++++++++++++++++++++++++++++++++++++++++++++++++++++++++++++++++++++++++++++++++++++++++++++++++++++++++++++++++ \n",
      "combination 49: (0.2, 3, 1, 1)\n"
     ]
    },
    {
     "data": {
      "application/vnd.jupyter.widget-view+json": {
       "model_id": "ed9f24b361bd41d6814de1b4f54c7c7b",
       "version_major": 2,
       "version_minor": 0
      },
      "text/plain": [
       "  0%|          | 0/5 [00:00<?, ?it/s]"
      ]
     },
     "metadata": {},
     "output_type": "display_data"
    },
    {
     "name": "stdout",
     "output_type": "stream",
     "text": [
      "time consumed: 6.89\n",
      "++++++++++++++++++++++++++++++++++++++++++++++++++++++++++++++++++++++++++++++++++++++++++++++++++++++++++++++++++++++++++++++++++++++++++++++++++++++ \n",
      "combination 50: (0.2, 3, 1, 2)\n"
     ]
    },
    {
     "data": {
      "application/vnd.jupyter.widget-view+json": {
       "model_id": "2883bba593dd4916ba77425c3b5f812a",
       "version_major": 2,
       "version_minor": 0
      },
      "text/plain": [
       "  0%|          | 0/5 [00:00<?, ?it/s]"
      ]
     },
     "metadata": {},
     "output_type": "display_data"
    },
    {
     "name": "stdout",
     "output_type": "stream",
     "text": [
      "time consumed: 6.87\n",
      "++++++++++++++++++++++++++++++++++++++++++++++++++++++++++++++++++++++++++++++++++++++++++++++++++++++++++++++++++++++++++++++++++++++++++++++++++++++ \n",
      "combination 51: (0.2, 3, 1, 5)\n"
     ]
    },
    {
     "data": {
      "application/vnd.jupyter.widget-view+json": {
       "model_id": "1780bab8d78e4fb3834a65af89ed77b2",
       "version_major": 2,
       "version_minor": 0
      },
      "text/plain": [
       "  0%|          | 0/5 [00:00<?, ?it/s]"
      ]
     },
     "metadata": {},
     "output_type": "display_data"
    },
    {
     "name": "stdout",
     "output_type": "stream",
     "text": [
      "time consumed: 6.9\n",
      "++++++++++++++++++++++++++++++++++++++++++++++++++++++++++++++++++++++++++++++++++++++++++++++++++++++++++++++++++++++++++++++++++++++++++++++++++++++ \n",
      "combination 52: (0.2, 3, 2, 1)\n"
     ]
    },
    {
     "data": {
      "application/vnd.jupyter.widget-view+json": {
       "model_id": "fc62421ed88d47cfb754af6c6859dcb7",
       "version_major": 2,
       "version_minor": 0
      },
      "text/plain": [
       "  0%|          | 0/5 [00:00<?, ?it/s]"
      ]
     },
     "metadata": {},
     "output_type": "display_data"
    },
    {
     "name": "stdout",
     "output_type": "stream",
     "text": [
      "time consumed: 6.78\n",
      "++++++++++++++++++++++++++++++++++++++++++++++++++++++++++++++++++++++++++++++++++++++++++++++++++++++++++++++++++++++++++++++++++++++++++++++++++++++ \n",
      "combination 53: (0.2, 3, 2, 2)\n"
     ]
    },
    {
     "data": {
      "application/vnd.jupyter.widget-view+json": {
       "model_id": "e763b18dced742bd967eff5566c4218c",
       "version_major": 2,
       "version_minor": 0
      },
      "text/plain": [
       "  0%|          | 0/5 [00:00<?, ?it/s]"
      ]
     },
     "metadata": {},
     "output_type": "display_data"
    },
    {
     "name": "stdout",
     "output_type": "stream",
     "text": [
      "time consumed: 6.76\n",
      "++++++++++++++++++++++++++++++++++++++++++++++++++++++++++++++++++++++++++++++++++++++++++++++++++++++++++++++++++++++++++++++++++++++++++++++++++++++ \n",
      "combination 54: (0.2, 3, 2, 5)\n"
     ]
    },
    {
     "data": {
      "application/vnd.jupyter.widget-view+json": {
       "model_id": "0997d044965147ada180b7e71aa2c8c6",
       "version_major": 2,
       "version_minor": 0
      },
      "text/plain": [
       "  0%|          | 0/5 [00:00<?, ?it/s]"
      ]
     },
     "metadata": {},
     "output_type": "display_data"
    },
    {
     "name": "stdout",
     "output_type": "stream",
     "text": [
      "time consumed: 6.79\n",
      "++++++++++++++++++++++++++++++++++++++++++++++++++++++++++++++++++++++++++++++++++++++++++++++++++++++++++++++++++++++++++++++++++++++++++++++++++++++ \n",
      "combination 55: (0.2, 3, 5, 1)\n"
     ]
    },
    {
     "data": {
      "application/vnd.jupyter.widget-view+json": {
       "model_id": "498e099cbdbd4fdc954420d7f58b04ae",
       "version_major": 2,
       "version_minor": 0
      },
      "text/plain": [
       "  0%|          | 0/5 [00:00<?, ?it/s]"
      ]
     },
     "metadata": {},
     "output_type": "display_data"
    },
    {
     "name": "stdout",
     "output_type": "stream",
     "text": [
      "time consumed: 6.75\n",
      "++++++++++++++++++++++++++++++++++++++++++++++++++++++++++++++++++++++++++++++++++++++++++++++++++++++++++++++++++++++++++++++++++++++++++++++++++++++ \n",
      "combination 56: (0.2, 3, 5, 2)\n"
     ]
    },
    {
     "data": {
      "application/vnd.jupyter.widget-view+json": {
       "model_id": "80989a2aefd3480a8640867618d3f05c",
       "version_major": 2,
       "version_minor": 0
      },
      "text/plain": [
       "  0%|          | 0/5 [00:00<?, ?it/s]"
      ]
     },
     "metadata": {},
     "output_type": "display_data"
    },
    {
     "name": "stdout",
     "output_type": "stream",
     "text": [
      "time consumed: 6.66\n",
      "++++++++++++++++++++++++++++++++++++++++++++++++++++++++++++++++++++++++++++++++++++++++++++++++++++++++++++++++++++++++++++++++++++++++++++++++++++++ \n",
      "combination 57: (0.2, 3, 5, 5)\n"
     ]
    },
    {
     "data": {
      "application/vnd.jupyter.widget-view+json": {
       "model_id": "b6734e6fad8348538900260daf06980b",
       "version_major": 2,
       "version_minor": 0
      },
      "text/plain": [
       "  0%|          | 0/5 [00:00<?, ?it/s]"
      ]
     },
     "metadata": {},
     "output_type": "display_data"
    },
    {
     "name": "stdout",
     "output_type": "stream",
     "text": [
      "time consumed: 6.66\n",
      "++++++++++++++++++++++++++++++++++++++++++++++++++++++++++++++++++++++++++++++++++++++++++++++++++++++++++++++++++++++++++++++++++++++++++++++++++++++ \n",
      "combination 58: (0.2, 3, 10, 1)\n"
     ]
    },
    {
     "data": {
      "application/vnd.jupyter.widget-view+json": {
       "model_id": "1aaebe58d8774f19855f053ee432ba1e",
       "version_major": 2,
       "version_minor": 0
      },
      "text/plain": [
       "  0%|          | 0/5 [00:00<?, ?it/s]"
      ]
     },
     "metadata": {},
     "output_type": "display_data"
    },
    {
     "name": "stdout",
     "output_type": "stream",
     "text": [
      "time consumed: 6.78\n",
      "++++++++++++++++++++++++++++++++++++++++++++++++++++++++++++++++++++++++++++++++++++++++++++++++++++++++++++++++++++++++++++++++++++++++++++++++++++++ \n",
      "combination 59: (0.2, 3, 10, 2)\n"
     ]
    },
    {
     "data": {
      "application/vnd.jupyter.widget-view+json": {
       "model_id": "2730684ad179439fbaa9e138e8e25fae",
       "version_major": 2,
       "version_minor": 0
      },
      "text/plain": [
       "  0%|          | 0/5 [00:00<?, ?it/s]"
      ]
     },
     "metadata": {},
     "output_type": "display_data"
    },
    {
     "name": "stdout",
     "output_type": "stream",
     "text": [
      "time consumed: 6.69\n",
      "++++++++++++++++++++++++++++++++++++++++++++++++++++++++++++++++++++++++++++++++++++++++++++++++++++++++++++++++++++++++++++++++++++++++++++++++++++++ \n",
      "combination 60: (0.2, 3, 10, 5)\n"
     ]
    },
    {
     "data": {
      "application/vnd.jupyter.widget-view+json": {
       "model_id": "c084a3fcab854247b66f74d4297cbe8f",
       "version_major": 2,
       "version_minor": 0
      },
      "text/plain": [
       "  0%|          | 0/5 [00:00<?, ?it/s]"
      ]
     },
     "metadata": {},
     "output_type": "display_data"
    },
    {
     "name": "stdout",
     "output_type": "stream",
     "text": [
      "time consumed: 6.67\n",
      "++++++++++++++++++++++++++++++++++++++++++++++++++++++++++++++++++++++++++++++++++++++++++++++++++++++++++++++++++++++++++++++++++++++++++++++++++++++ \n",
      "combination 61: (0.2, 5, 1, 1)\n"
     ]
    },
    {
     "data": {
      "application/vnd.jupyter.widget-view+json": {
       "model_id": "94c92c240b5a4cc2808e88e68b89d81f",
       "version_major": 2,
       "version_minor": 0
      },
      "text/plain": [
       "  0%|          | 0/5 [00:00<?, ?it/s]"
      ]
     },
     "metadata": {},
     "output_type": "display_data"
    },
    {
     "name": "stdout",
     "output_type": "stream",
     "text": [
      "time consumed: 6.93\n",
      "++++++++++++++++++++++++++++++++++++++++++++++++++++++++++++++++++++++++++++++++++++++++++++++++++++++++++++++++++++++++++++++++++++++++++++++++++++++ \n",
      "combination 62: (0.2, 5, 1, 2)\n"
     ]
    },
    {
     "data": {
      "application/vnd.jupyter.widget-view+json": {
       "model_id": "4319144c13c2461d8d089730f381665a",
       "version_major": 2,
       "version_minor": 0
      },
      "text/plain": [
       "  0%|          | 0/5 [00:00<?, ?it/s]"
      ]
     },
     "metadata": {},
     "output_type": "display_data"
    },
    {
     "name": "stdout",
     "output_type": "stream",
     "text": [
      "time consumed: 6.89\n",
      "++++++++++++++++++++++++++++++++++++++++++++++++++++++++++++++++++++++++++++++++++++++++++++++++++++++++++++++++++++++++++++++++++++++++++++++++++++++ \n",
      "combination 63: (0.2, 5, 1, 5)\n"
     ]
    },
    {
     "data": {
      "application/vnd.jupyter.widget-view+json": {
       "model_id": "31fb07c9e09f41fa881139035d573b27",
       "version_major": 2,
       "version_minor": 0
      },
      "text/plain": [
       "  0%|          | 0/5 [00:00<?, ?it/s]"
      ]
     },
     "metadata": {},
     "output_type": "display_data"
    },
    {
     "name": "stdout",
     "output_type": "stream",
     "text": [
      "time consumed: 6.94\n",
      "++++++++++++++++++++++++++++++++++++++++++++++++++++++++++++++++++++++++++++++++++++++++++++++++++++++++++++++++++++++++++++++++++++++++++++++++++++++ \n",
      "combination 64: (0.2, 5, 2, 1)\n"
     ]
    },
    {
     "data": {
      "application/vnd.jupyter.widget-view+json": {
       "model_id": "57e4d645da48443785afda8df8bff758",
       "version_major": 2,
       "version_minor": 0
      },
      "text/plain": [
       "  0%|          | 0/5 [00:00<?, ?it/s]"
      ]
     },
     "metadata": {},
     "output_type": "display_data"
    },
    {
     "name": "stdout",
     "output_type": "stream",
     "text": [
      "time consumed: 6.89\n",
      "++++++++++++++++++++++++++++++++++++++++++++++++++++++++++++++++++++++++++++++++++++++++++++++++++++++++++++++++++++++++++++++++++++++++++++++++++++++ \n",
      "combination 65: (0.2, 5, 2, 2)\n"
     ]
    },
    {
     "data": {
      "application/vnd.jupyter.widget-view+json": {
       "model_id": "61ebf52765ca4cb4ae0d5f4fdbffb84e",
       "version_major": 2,
       "version_minor": 0
      },
      "text/plain": [
       "  0%|          | 0/5 [00:00<?, ?it/s]"
      ]
     },
     "metadata": {},
     "output_type": "display_data"
    },
    {
     "name": "stdout",
     "output_type": "stream",
     "text": [
      "time consumed: 6.84\n",
      "++++++++++++++++++++++++++++++++++++++++++++++++++++++++++++++++++++++++++++++++++++++++++++++++++++++++++++++++++++++++++++++++++++++++++++++++++++++ \n",
      "combination 66: (0.2, 5, 2, 5)\n"
     ]
    },
    {
     "data": {
      "application/vnd.jupyter.widget-view+json": {
       "model_id": "8ec1ff71d29a424794a3c09bf851e0df",
       "version_major": 2,
       "version_minor": 0
      },
      "text/plain": [
       "  0%|          | 0/5 [00:00<?, ?it/s]"
      ]
     },
     "metadata": {},
     "output_type": "display_data"
    },
    {
     "name": "stdout",
     "output_type": "stream",
     "text": [
      "time consumed: 6.81\n",
      "++++++++++++++++++++++++++++++++++++++++++++++++++++++++++++++++++++++++++++++++++++++++++++++++++++++++++++++++++++++++++++++++++++++++++++++++++++++ \n",
      "combination 67: (0.2, 5, 5, 1)\n"
     ]
    },
    {
     "data": {
      "application/vnd.jupyter.widget-view+json": {
       "model_id": "c02f4775dec84250b1962abe6b65fc29",
       "version_major": 2,
       "version_minor": 0
      },
      "text/plain": [
       "  0%|          | 0/5 [00:00<?, ?it/s]"
      ]
     },
     "metadata": {},
     "output_type": "display_data"
    },
    {
     "name": "stdout",
     "output_type": "stream",
     "text": [
      "time consumed: 6.89\n",
      "++++++++++++++++++++++++++++++++++++++++++++++++++++++++++++++++++++++++++++++++++++++++++++++++++++++++++++++++++++++++++++++++++++++++++++++++++++++ \n",
      "combination 68: (0.2, 5, 5, 2)\n"
     ]
    },
    {
     "data": {
      "application/vnd.jupyter.widget-view+json": {
       "model_id": "88bc5ad6a7b944b7b1ca7dd9f615635d",
       "version_major": 2,
       "version_minor": 0
      },
      "text/plain": [
       "  0%|          | 0/5 [00:00<?, ?it/s]"
      ]
     },
     "metadata": {},
     "output_type": "display_data"
    },
    {
     "name": "stdout",
     "output_type": "stream",
     "text": [
      "time consumed: 6.8\n",
      "++++++++++++++++++++++++++++++++++++++++++++++++++++++++++++++++++++++++++++++++++++++++++++++++++++++++++++++++++++++++++++++++++++++++++++++++++++++ \n",
      "combination 69: (0.2, 5, 5, 5)\n"
     ]
    },
    {
     "data": {
      "application/vnd.jupyter.widget-view+json": {
       "model_id": "206569ef69c744c18f1f43c790bcd5b6",
       "version_major": 2,
       "version_minor": 0
      },
      "text/plain": [
       "  0%|          | 0/5 [00:00<?, ?it/s]"
      ]
     },
     "metadata": {},
     "output_type": "display_data"
    },
    {
     "name": "stdout",
     "output_type": "stream",
     "text": [
      "time consumed: 6.77\n",
      "++++++++++++++++++++++++++++++++++++++++++++++++++++++++++++++++++++++++++++++++++++++++++++++++++++++++++++++++++++++++++++++++++++++++++++++++++++++ \n",
      "combination 70: (0.2, 5, 10, 1)\n"
     ]
    },
    {
     "data": {
      "application/vnd.jupyter.widget-view+json": {
       "model_id": "dbfdadac6f39430fb2fa2871ff2b51cb",
       "version_major": 2,
       "version_minor": 0
      },
      "text/plain": [
       "  0%|          | 0/5 [00:00<?, ?it/s]"
      ]
     },
     "metadata": {},
     "output_type": "display_data"
    },
    {
     "name": "stdout",
     "output_type": "stream",
     "text": [
      "time consumed: 6.85\n",
      "++++++++++++++++++++++++++++++++++++++++++++++++++++++++++++++++++++++++++++++++++++++++++++++++++++++++++++++++++++++++++++++++++++++++++++++++++++++ \n",
      "combination 71: (0.2, 5, 10, 2)\n"
     ]
    },
    {
     "data": {
      "application/vnd.jupyter.widget-view+json": {
       "model_id": "d3fed59cf9854f94b752eba9ed73de18",
       "version_major": 2,
       "version_minor": 0
      },
      "text/plain": [
       "  0%|          | 0/5 [00:00<?, ?it/s]"
      ]
     },
     "metadata": {},
     "output_type": "display_data"
    },
    {
     "name": "stdout",
     "output_type": "stream",
     "text": [
      "time consumed: 6.79\n",
      "++++++++++++++++++++++++++++++++++++++++++++++++++++++++++++++++++++++++++++++++++++++++++++++++++++++++++++++++++++++++++++++++++++++++++++++++++++++ \n",
      "combination 72: (0.2, 5, 10, 5)\n"
     ]
    },
    {
     "data": {
      "application/vnd.jupyter.widget-view+json": {
       "model_id": "60aee25e8b354886a77a157ffbafb993",
       "version_major": 2,
       "version_minor": 0
      },
      "text/plain": [
       "  0%|          | 0/5 [00:00<?, ?it/s]"
      ]
     },
     "metadata": {},
     "output_type": "display_data"
    },
    {
     "name": "stdout",
     "output_type": "stream",
     "text": [
      "time consumed: 6.75\n",
      "++++++++++++++++++++++++++++++++++++++++++++++++++++++++++++++++++++++++++++++++++++++++++++++++++++++++++++++++++++++++++++++++++++++++++++++++++++++ \n",
      "combination 73: (0.2, 10, 1, 1)\n"
     ]
    },
    {
     "data": {
      "application/vnd.jupyter.widget-view+json": {
       "model_id": "dfefb57c6bf24e6fb2065fae622d61d7",
       "version_major": 2,
       "version_minor": 0
      },
      "text/plain": [
       "  0%|          | 0/5 [00:00<?, ?it/s]"
      ]
     },
     "metadata": {},
     "output_type": "display_data"
    },
    {
     "name": "stdout",
     "output_type": "stream",
     "text": [
      "time consumed: 7.06\n",
      "++++++++++++++++++++++++++++++++++++++++++++++++++++++++++++++++++++++++++++++++++++++++++++++++++++++++++++++++++++++++++++++++++++++++++++++++++++++ \n",
      "combination 74: (0.2, 10, 1, 2)\n"
     ]
    },
    {
     "data": {
      "application/vnd.jupyter.widget-view+json": {
       "model_id": "21377b6df242408297868a3c25d4e4d3",
       "version_major": 2,
       "version_minor": 0
      },
      "text/plain": [
       "  0%|          | 0/5 [00:00<?, ?it/s]"
      ]
     },
     "metadata": {},
     "output_type": "display_data"
    },
    {
     "name": "stdout",
     "output_type": "stream",
     "text": [
      "time consumed: 7.06\n",
      "++++++++++++++++++++++++++++++++++++++++++++++++++++++++++++++++++++++++++++++++++++++++++++++++++++++++++++++++++++++++++++++++++++++++++++++++++++++ \n",
      "combination 75: (0.2, 10, 1, 5)\n"
     ]
    },
    {
     "data": {
      "application/vnd.jupyter.widget-view+json": {
       "model_id": "92cb85c66b1d4d50a1b4cec004fc9355",
       "version_major": 2,
       "version_minor": 0
      },
      "text/plain": [
       "  0%|          | 0/5 [00:00<?, ?it/s]"
      ]
     },
     "metadata": {},
     "output_type": "display_data"
    },
    {
     "name": "stdout",
     "output_type": "stream",
     "text": [
      "time consumed: 7.05\n",
      "++++++++++++++++++++++++++++++++++++++++++++++++++++++++++++++++++++++++++++++++++++++++++++++++++++++++++++++++++++++++++++++++++++++++++++++++++++++ \n",
      "combination 76: (0.2, 10, 2, 1)\n"
     ]
    },
    {
     "data": {
      "application/vnd.jupyter.widget-view+json": {
       "model_id": "9a7bc132ed454a8ca2459b020a93e3b9",
       "version_major": 2,
       "version_minor": 0
      },
      "text/plain": [
       "  0%|          | 0/5 [00:00<?, ?it/s]"
      ]
     },
     "metadata": {},
     "output_type": "display_data"
    },
    {
     "name": "stdout",
     "output_type": "stream",
     "text": [
      "time consumed: 6.99\n",
      "++++++++++++++++++++++++++++++++++++++++++++++++++++++++++++++++++++++++++++++++++++++++++++++++++++++++++++++++++++++++++++++++++++++++++++++++++++++ \n",
      "combination 77: (0.2, 10, 2, 2)\n"
     ]
    },
    {
     "data": {
      "application/vnd.jupyter.widget-view+json": {
       "model_id": "281e6d0fbda94138b98c9cc13004b70a",
       "version_major": 2,
       "version_minor": 0
      },
      "text/plain": [
       "  0%|          | 0/5 [00:00<?, ?it/s]"
      ]
     },
     "metadata": {},
     "output_type": "display_data"
    },
    {
     "name": "stdout",
     "output_type": "stream",
     "text": [
      "time consumed: 7.02\n",
      "++++++++++++++++++++++++++++++++++++++++++++++++++++++++++++++++++++++++++++++++++++++++++++++++++++++++++++++++++++++++++++++++++++++++++++++++++++++ \n",
      "combination 78: (0.2, 10, 2, 5)\n"
     ]
    },
    {
     "data": {
      "application/vnd.jupyter.widget-view+json": {
       "model_id": "553fa4dd15a1423a99abf8012bf43730",
       "version_major": 2,
       "version_minor": 0
      },
      "text/plain": [
       "  0%|          | 0/5 [00:00<?, ?it/s]"
      ]
     },
     "metadata": {},
     "output_type": "display_data"
    },
    {
     "name": "stdout",
     "output_type": "stream",
     "text": [
      "time consumed: 6.99\n",
      "++++++++++++++++++++++++++++++++++++++++++++++++++++++++++++++++++++++++++++++++++++++++++++++++++++++++++++++++++++++++++++++++++++++++++++++++++++++ \n",
      "combination 79: (0.2, 10, 5, 1)\n"
     ]
    },
    {
     "data": {
      "application/vnd.jupyter.widget-view+json": {
       "model_id": "c2eebe8f068e466c982efb65e3a68ae8",
       "version_major": 2,
       "version_minor": 0
      },
      "text/plain": [
       "  0%|          | 0/5 [00:00<?, ?it/s]"
      ]
     },
     "metadata": {},
     "output_type": "display_data"
    },
    {
     "name": "stdout",
     "output_type": "stream",
     "text": [
      "time consumed: 6.96\n",
      "++++++++++++++++++++++++++++++++++++++++++++++++++++++++++++++++++++++++++++++++++++++++++++++++++++++++++++++++++++++++++++++++++++++++++++++++++++++ \n",
      "combination 80: (0.2, 10, 5, 2)\n"
     ]
    },
    {
     "data": {
      "application/vnd.jupyter.widget-view+json": {
       "model_id": "a76b186bffbb4299b4912c7c66e58b94",
       "version_major": 2,
       "version_minor": 0
      },
      "text/plain": [
       "  0%|          | 0/5 [00:00<?, ?it/s]"
      ]
     },
     "metadata": {},
     "output_type": "display_data"
    },
    {
     "name": "stdout",
     "output_type": "stream",
     "text": [
      "time consumed: 6.9\n",
      "++++++++++++++++++++++++++++++++++++++++++++++++++++++++++++++++++++++++++++++++++++++++++++++++++++++++++++++++++++++++++++++++++++++++++++++++++++++ \n",
      "combination 81: (0.2, 10, 5, 5)\n"
     ]
    },
    {
     "data": {
      "application/vnd.jupyter.widget-view+json": {
       "model_id": "81004065282c4c3693d4ff7aac5b4ca9",
       "version_major": 2,
       "version_minor": 0
      },
      "text/plain": [
       "  0%|          | 0/5 [00:00<?, ?it/s]"
      ]
     },
     "metadata": {},
     "output_type": "display_data"
    },
    {
     "name": "stdout",
     "output_type": "stream",
     "text": [
      "time consumed: 6.92\n",
      "++++++++++++++++++++++++++++++++++++++++++++++++++++++++++++++++++++++++++++++++++++++++++++++++++++++++++++++++++++++++++++++++++++++++++++++++++++++ \n",
      "combination 82: (0.2, 10, 10, 1)\n"
     ]
    },
    {
     "data": {
      "application/vnd.jupyter.widget-view+json": {
       "model_id": "9e08a9e5ecfe4b9bb9139cb72ae7af90",
       "version_major": 2,
       "version_minor": 0
      },
      "text/plain": [
       "  0%|          | 0/5 [00:00<?, ?it/s]"
      ]
     },
     "metadata": {},
     "output_type": "display_data"
    },
    {
     "name": "stdout",
     "output_type": "stream",
     "text": [
      "time consumed: 6.98\n",
      "++++++++++++++++++++++++++++++++++++++++++++++++++++++++++++++++++++++++++++++++++++++++++++++++++++++++++++++++++++++++++++++++++++++++++++++++++++++ \n",
      "combination 83: (0.2, 10, 10, 2)\n"
     ]
    },
    {
     "data": {
      "application/vnd.jupyter.widget-view+json": {
       "model_id": "ed785f5c8d494cb89ac19e4209732a63",
       "version_major": 2,
       "version_minor": 0
      },
      "text/plain": [
       "  0%|          | 0/5 [00:00<?, ?it/s]"
      ]
     },
     "metadata": {},
     "output_type": "display_data"
    },
    {
     "name": "stdout",
     "output_type": "stream",
     "text": [
      "time consumed: 6.94\n",
      "++++++++++++++++++++++++++++++++++++++++++++++++++++++++++++++++++++++++++++++++++++++++++++++++++++++++++++++++++++++++++++++++++++++++++++++++++++++ \n",
      "combination 84: (0.2, 10, 10, 5)\n"
     ]
    },
    {
     "data": {
      "application/vnd.jupyter.widget-view+json": {
       "model_id": "42e504e792a741789c15b31a2cfb13d8",
       "version_major": 2,
       "version_minor": 0
      },
      "text/plain": [
       "  0%|          | 0/5 [00:00<?, ?it/s]"
      ]
     },
     "metadata": {},
     "output_type": "display_data"
    },
    {
     "name": "stdout",
     "output_type": "stream",
     "text": [
      "time consumed: 95.84\n",
      "++++++++++++++++++++++++++++++++++++++++++++++++++++++++++++++++++++++++++++++++++++++++++++++++++++++++++++++++++++++++++++++++++++++++++++++++++++++ \n",
      "combination 85: (0.2, 20, 1, 1)\n"
     ]
    },
    {
     "data": {
      "application/vnd.jupyter.widget-view+json": {
       "model_id": "e699f7a9220e484e88ed4c770cd3d8e0",
       "version_major": 2,
       "version_minor": 0
      },
      "text/plain": [
       "  0%|          | 0/5 [00:00<?, ?it/s]"
      ]
     },
     "metadata": {},
     "output_type": "display_data"
    },
    {
     "name": "stdout",
     "output_type": "stream",
     "text": [
      "time consumed: 7.25\n",
      "++++++++++++++++++++++++++++++++++++++++++++++++++++++++++++++++++++++++++++++++++++++++++++++++++++++++++++++++++++++++++++++++++++++++++++++++++++++ \n",
      "combination 86: (0.2, 20, 1, 2)\n"
     ]
    },
    {
     "data": {
      "application/vnd.jupyter.widget-view+json": {
       "model_id": "6093f41cf3b34d07939c276e2b2aafe6",
       "version_major": 2,
       "version_minor": 0
      },
      "text/plain": [
       "  0%|          | 0/5 [00:00<?, ?it/s]"
      ]
     },
     "metadata": {},
     "output_type": "display_data"
    },
    {
     "name": "stdout",
     "output_type": "stream",
     "text": [
      "time consumed: 7.33\n",
      "++++++++++++++++++++++++++++++++++++++++++++++++++++++++++++++++++++++++++++++++++++++++++++++++++++++++++++++++++++++++++++++++++++++++++++++++++++++ \n",
      "combination 87: (0.2, 20, 1, 5)\n"
     ]
    },
    {
     "data": {
      "application/vnd.jupyter.widget-view+json": {
       "model_id": "3b83b6cbb01a442badd4b5cdde16071b",
       "version_major": 2,
       "version_minor": 0
      },
      "text/plain": [
       "  0%|          | 0/5 [00:00<?, ?it/s]"
      ]
     },
     "metadata": {},
     "output_type": "display_data"
    },
    {
     "name": "stdout",
     "output_type": "stream",
     "text": [
      "time consumed: 7.28\n",
      "++++++++++++++++++++++++++++++++++++++++++++++++++++++++++++++++++++++++++++++++++++++++++++++++++++++++++++++++++++++++++++++++++++++++++++++++++++++ \n",
      "combination 88: (0.2, 20, 2, 1)\n"
     ]
    },
    {
     "data": {
      "application/vnd.jupyter.widget-view+json": {
       "model_id": "0ed4047cca7640db90cc340fbd73cffa",
       "version_major": 2,
       "version_minor": 0
      },
      "text/plain": [
       "  0%|          | 0/5 [00:00<?, ?it/s]"
      ]
     },
     "metadata": {},
     "output_type": "display_data"
    },
    {
     "name": "stdout",
     "output_type": "stream",
     "text": [
      "time consumed: 7.16\n",
      "++++++++++++++++++++++++++++++++++++++++++++++++++++++++++++++++++++++++++++++++++++++++++++++++++++++++++++++++++++++++++++++++++++++++++++++++++++++ \n",
      "combination 89: (0.2, 20, 2, 2)\n"
     ]
    },
    {
     "data": {
      "application/vnd.jupyter.widget-view+json": {
       "model_id": "ed1eb76825ec461187e208e47a8892cb",
       "version_major": 2,
       "version_minor": 0
      },
      "text/plain": [
       "  0%|          | 0/5 [00:00<?, ?it/s]"
      ]
     },
     "metadata": {},
     "output_type": "display_data"
    },
    {
     "name": "stdout",
     "output_type": "stream",
     "text": [
      "time consumed: 7.23\n",
      "++++++++++++++++++++++++++++++++++++++++++++++++++++++++++++++++++++++++++++++++++++++++++++++++++++++++++++++++++++++++++++++++++++++++++++++++++++++ \n",
      "combination 90: (0.2, 20, 2, 5)\n"
     ]
    },
    {
     "data": {
      "application/vnd.jupyter.widget-view+json": {
       "model_id": "e4b76bedce3242169adb629dc6138f0a",
       "version_major": 2,
       "version_minor": 0
      },
      "text/plain": [
       "  0%|          | 0/5 [00:00<?, ?it/s]"
      ]
     },
     "metadata": {},
     "output_type": "display_data"
    },
    {
     "name": "stdout",
     "output_type": "stream",
     "text": [
      "time consumed: 7.25\n",
      "++++++++++++++++++++++++++++++++++++++++++++++++++++++++++++++++++++++++++++++++++++++++++++++++++++++++++++++++++++++++++++++++++++++++++++++++++++++ \n",
      "combination 91: (0.2, 20, 5, 1)\n"
     ]
    },
    {
     "data": {
      "application/vnd.jupyter.widget-view+json": {
       "model_id": "40df8ed436c74c67a2563774d5ea10b7",
       "version_major": 2,
       "version_minor": 0
      },
      "text/plain": [
       "  0%|          | 0/5 [00:00<?, ?it/s]"
      ]
     },
     "metadata": {},
     "output_type": "display_data"
    },
    {
     "name": "stdout",
     "output_type": "stream",
     "text": [
      "time consumed: 7.11\n",
      "++++++++++++++++++++++++++++++++++++++++++++++++++++++++++++++++++++++++++++++++++++++++++++++++++++++++++++++++++++++++++++++++++++++++++++++++++++++ \n",
      "combination 92: (0.2, 20, 5, 2)\n"
     ]
    },
    {
     "data": {
      "application/vnd.jupyter.widget-view+json": {
       "model_id": "dba9bf58a4fd4d91a04f2b69585e8b80",
       "version_major": 2,
       "version_minor": 0
      },
      "text/plain": [
       "  0%|          | 0/5 [00:00<?, ?it/s]"
      ]
     },
     "metadata": {},
     "output_type": "display_data"
    },
    {
     "name": "stdout",
     "output_type": "stream",
     "text": [
      "time consumed: 7.54\n",
      "++++++++++++++++++++++++++++++++++++++++++++++++++++++++++++++++++++++++++++++++++++++++++++++++++++++++++++++++++++++++++++++++++++++++++++++++++++++ \n",
      "combination 93: (0.2, 20, 5, 5)\n"
     ]
    },
    {
     "data": {
      "application/vnd.jupyter.widget-view+json": {
       "model_id": "763ed6863a6447a6b581dd9fdf42dfb8",
       "version_major": 2,
       "version_minor": 0
      },
      "text/plain": [
       "  0%|          | 0/5 [00:00<?, ?it/s]"
      ]
     },
     "metadata": {},
     "output_type": "display_data"
    },
    {
     "name": "stdout",
     "output_type": "stream",
     "text": [
      "time consumed: 7.22\n",
      "++++++++++++++++++++++++++++++++++++++++++++++++++++++++++++++++++++++++++++++++++++++++++++++++++++++++++++++++++++++++++++++++++++++++++++++++++++++ \n",
      "combination 94: (0.2, 20, 10, 1)\n"
     ]
    },
    {
     "data": {
      "application/vnd.jupyter.widget-view+json": {
       "model_id": "bbc94279fd3345afb7852cbd5bd7f049",
       "version_major": 2,
       "version_minor": 0
      },
      "text/plain": [
       "  0%|          | 0/5 [00:00<?, ?it/s]"
      ]
     },
     "metadata": {},
     "output_type": "display_data"
    },
    {
     "name": "stdout",
     "output_type": "stream",
     "text": [
      "time consumed: 7.36\n",
      "++++++++++++++++++++++++++++++++++++++++++++++++++++++++++++++++++++++++++++++++++++++++++++++++++++++++++++++++++++++++++++++++++++++++++++++++++++++ \n",
      "combination 95: (0.2, 20, 10, 2)\n"
     ]
    },
    {
     "data": {
      "application/vnd.jupyter.widget-view+json": {
       "model_id": "d5cf0d2f4160459fb40e4e71fc79524e",
       "version_major": 2,
       "version_minor": 0
      },
      "text/plain": [
       "  0%|          | 0/5 [00:00<?, ?it/s]"
      ]
     },
     "metadata": {},
     "output_type": "display_data"
    },
    {
     "name": "stdout",
     "output_type": "stream",
     "text": [
      "time consumed: 7.17\n",
      "++++++++++++++++++++++++++++++++++++++++++++++++++++++++++++++++++++++++++++++++++++++++++++++++++++++++++++++++++++++++++++++++++++++++++++++++++++++ \n",
      "combination 96: (0.2, 20, 10, 5)\n"
     ]
    },
    {
     "data": {
      "application/vnd.jupyter.widget-view+json": {
       "model_id": "56196811d2ba44bbbd9b04568b2af94f",
       "version_major": 2,
       "version_minor": 0
      },
      "text/plain": [
       "  0%|          | 0/5 [00:00<?, ?it/s]"
      ]
     },
     "metadata": {},
     "output_type": "display_data"
    },
    {
     "name": "stdout",
     "output_type": "stream",
     "text": [
      "time consumed: 7.18\n",
      "++++++++++++++++++++++++++++++++++++++++++++++++++++++++++++++++++++++++++++++++++++++++++++++++++++++++++++++++++++++++++++++++++++++++++++++++++++++ \n",
      "combination 97: (0.3, 3, 1, 1)\n"
     ]
    },
    {
     "data": {
      "application/vnd.jupyter.widget-view+json": {
       "model_id": "c211d4452a154a2f8053e2cc58475bc2",
       "version_major": 2,
       "version_minor": 0
      },
      "text/plain": [
       "  0%|          | 0/5 [00:00<?, ?it/s]"
      ]
     },
     "metadata": {},
     "output_type": "display_data"
    },
    {
     "name": "stdout",
     "output_type": "stream",
     "text": [
      "time consumed: 7.08\n",
      "++++++++++++++++++++++++++++++++++++++++++++++++++++++++++++++++++++++++++++++++++++++++++++++++++++++++++++++++++++++++++++++++++++++++++++++++++++++ \n",
      "combination 98: (0.3, 3, 1, 2)\n"
     ]
    },
    {
     "data": {
      "application/vnd.jupyter.widget-view+json": {
       "model_id": "dc41c552b1f74b77b535edd351b52f9f",
       "version_major": 2,
       "version_minor": 0
      },
      "text/plain": [
       "  0%|          | 0/5 [00:00<?, ?it/s]"
      ]
     },
     "metadata": {},
     "output_type": "display_data"
    },
    {
     "name": "stdout",
     "output_type": "stream",
     "text": [
      "time consumed: 6.97\n",
      "++++++++++++++++++++++++++++++++++++++++++++++++++++++++++++++++++++++++++++++++++++++++++++++++++++++++++++++++++++++++++++++++++++++++++++++++++++++ \n",
      "combination 99: (0.3, 3, 1, 5)\n"
     ]
    },
    {
     "data": {
      "application/vnd.jupyter.widget-view+json": {
       "model_id": "cf0b3902836a4b8aafc9e0cb8217ab8e",
       "version_major": 2,
       "version_minor": 0
      },
      "text/plain": [
       "  0%|          | 0/5 [00:00<?, ?it/s]"
      ]
     },
     "metadata": {},
     "output_type": "display_data"
    },
    {
     "name": "stdout",
     "output_type": "stream",
     "text": [
      "time consumed: 7.19\n",
      "++++++++++++++++++++++++++++++++++++++++++++++++++++++++++++++++++++++++++++++++++++++++++++++++++++++++++++++++++++++++++++++++++++++++++++++++++++++ \n",
      "combination 100: (0.3, 3, 2, 1)\n"
     ]
    },
    {
     "data": {
      "application/vnd.jupyter.widget-view+json": {
       "model_id": "3c2b1392232646c1aa98405d3d3bbfb4",
       "version_major": 2,
       "version_minor": 0
      },
      "text/plain": [
       "  0%|          | 0/5 [00:00<?, ?it/s]"
      ]
     },
     "metadata": {},
     "output_type": "display_data"
    },
    {
     "name": "stdout",
     "output_type": "stream",
     "text": [
      "time consumed: 7.06\n",
      "++++++++++++++++++++++++++++++++++++++++++++++++++++++++++++++++++++++++++++++++++++++++++++++++++++++++++++++++++++++++++++++++++++++++++++++++++++++ \n",
      "combination 101: (0.3, 3, 2, 2)\n"
     ]
    },
    {
     "data": {
      "application/vnd.jupyter.widget-view+json": {
       "model_id": "d2e43cadad614dcc90e2fd92d1d479c1",
       "version_major": 2,
       "version_minor": 0
      },
      "text/plain": [
       "  0%|          | 0/5 [00:00<?, ?it/s]"
      ]
     },
     "metadata": {},
     "output_type": "display_data"
    },
    {
     "name": "stdout",
     "output_type": "stream",
     "text": [
      "time consumed: 6.81\n",
      "++++++++++++++++++++++++++++++++++++++++++++++++++++++++++++++++++++++++++++++++++++++++++++++++++++++++++++++++++++++++++++++++++++++++++++++++++++++ \n",
      "combination 102: (0.3, 3, 2, 5)\n"
     ]
    },
    {
     "data": {
      "application/vnd.jupyter.widget-view+json": {
       "model_id": "f127df4aa4f94105849027b09b4559ac",
       "version_major": 2,
       "version_minor": 0
      },
      "text/plain": [
       "  0%|          | 0/5 [00:00<?, ?it/s]"
      ]
     },
     "metadata": {},
     "output_type": "display_data"
    },
    {
     "name": "stdout",
     "output_type": "stream",
     "text": [
      "time consumed: 6.87\n",
      "++++++++++++++++++++++++++++++++++++++++++++++++++++++++++++++++++++++++++++++++++++++++++++++++++++++++++++++++++++++++++++++++++++++++++++++++++++++ \n",
      "combination 103: (0.3, 3, 5, 1)\n"
     ]
    },
    {
     "data": {
      "application/vnd.jupyter.widget-view+json": {
       "model_id": "42bca8e190e74a00b97d38722dacf64a",
       "version_major": 2,
       "version_minor": 0
      },
      "text/plain": [
       "  0%|          | 0/5 [00:00<?, ?it/s]"
      ]
     },
     "metadata": {},
     "output_type": "display_data"
    },
    {
     "name": "stdout",
     "output_type": "stream",
     "text": [
      "time consumed: 6.92\n",
      "++++++++++++++++++++++++++++++++++++++++++++++++++++++++++++++++++++++++++++++++++++++++++++++++++++++++++++++++++++++++++++++++++++++++++++++++++++++ \n",
      "combination 104: (0.3, 3, 5, 2)\n"
     ]
    },
    {
     "data": {
      "application/vnd.jupyter.widget-view+json": {
       "model_id": "9e1c7c58e0ba41c49ad60568ee15b30d",
       "version_major": 2,
       "version_minor": 0
      },
      "text/plain": [
       "  0%|          | 0/5 [00:00<?, ?it/s]"
      ]
     },
     "metadata": {},
     "output_type": "display_data"
    },
    {
     "name": "stdout",
     "output_type": "stream",
     "text": [
      "time consumed: 6.86\n",
      "++++++++++++++++++++++++++++++++++++++++++++++++++++++++++++++++++++++++++++++++++++++++++++++++++++++++++++++++++++++++++++++++++++++++++++++++++++++ \n",
      "combination 105: (0.3, 3, 5, 5)\n"
     ]
    },
    {
     "data": {
      "application/vnd.jupyter.widget-view+json": {
       "model_id": "d65b61ca3cf549fe8be50e0f3bf4f8d9",
       "version_major": 2,
       "version_minor": 0
      },
      "text/plain": [
       "  0%|          | 0/5 [00:00<?, ?it/s]"
      ]
     },
     "metadata": {},
     "output_type": "display_data"
    },
    {
     "name": "stdout",
     "output_type": "stream",
     "text": [
      "time consumed: 6.8\n",
      "++++++++++++++++++++++++++++++++++++++++++++++++++++++++++++++++++++++++++++++++++++++++++++++++++++++++++++++++++++++++++++++++++++++++++++++++++++++ \n",
      "combination 106: (0.3, 3, 10, 1)\n"
     ]
    },
    {
     "data": {
      "application/vnd.jupyter.widget-view+json": {
       "model_id": "eab934461d704c4fbf8ff63e5aa63f87",
       "version_major": 2,
       "version_minor": 0
      },
      "text/plain": [
       "  0%|          | 0/5 [00:00<?, ?it/s]"
      ]
     },
     "metadata": {},
     "output_type": "display_data"
    },
    {
     "name": "stdout",
     "output_type": "stream",
     "text": [
      "time consumed: 6.99\n",
      "++++++++++++++++++++++++++++++++++++++++++++++++++++++++++++++++++++++++++++++++++++++++++++++++++++++++++++++++++++++++++++++++++++++++++++++++++++++ \n",
      "combination 107: (0.3, 3, 10, 2)\n"
     ]
    },
    {
     "data": {
      "application/vnd.jupyter.widget-view+json": {
       "model_id": "ca48a05d6bc84974a951324eead6aaab",
       "version_major": 2,
       "version_minor": 0
      },
      "text/plain": [
       "  0%|          | 0/5 [00:00<?, ?it/s]"
      ]
     },
     "metadata": {},
     "output_type": "display_data"
    },
    {
     "name": "stdout",
     "output_type": "stream",
     "text": [
      "time consumed: 6.84\n",
      "++++++++++++++++++++++++++++++++++++++++++++++++++++++++++++++++++++++++++++++++++++++++++++++++++++++++++++++++++++++++++++++++++++++++++++++++++++++ \n",
      "combination 108: (0.3, 3, 10, 5)\n"
     ]
    },
    {
     "data": {
      "application/vnd.jupyter.widget-view+json": {
       "model_id": "fa87a0e3907849a4b69700b1a54173bf",
       "version_major": 2,
       "version_minor": 0
      },
      "text/plain": [
       "  0%|          | 0/5 [00:00<?, ?it/s]"
      ]
     },
     "metadata": {},
     "output_type": "display_data"
    },
    {
     "name": "stdout",
     "output_type": "stream",
     "text": [
      "time consumed: 6.72\n",
      "++++++++++++++++++++++++++++++++++++++++++++++++++++++++++++++++++++++++++++++++++++++++++++++++++++++++++++++++++++++++++++++++++++++++++++++++++++++ \n",
      "combination 109: (0.3, 5, 1, 1)\n"
     ]
    },
    {
     "data": {
      "application/vnd.jupyter.widget-view+json": {
       "model_id": "503e2f43acf641809f0a20bd7b4db3e3",
       "version_major": 2,
       "version_minor": 0
      },
      "text/plain": [
       "  0%|          | 0/5 [00:00<?, ?it/s]"
      ]
     },
     "metadata": {},
     "output_type": "display_data"
    },
    {
     "name": "stdout",
     "output_type": "stream",
     "text": [
      "time consumed: 7.1\n",
      "++++++++++++++++++++++++++++++++++++++++++++++++++++++++++++++++++++++++++++++++++++++++++++++++++++++++++++++++++++++++++++++++++++++++++++++++++++++ \n",
      "combination 110: (0.3, 5, 1, 2)\n"
     ]
    },
    {
     "data": {
      "application/vnd.jupyter.widget-view+json": {
       "model_id": "881a86636ad842d788b3020742c292d1",
       "version_major": 2,
       "version_minor": 0
      },
      "text/plain": [
       "  0%|          | 0/5 [00:00<?, ?it/s]"
      ]
     },
     "metadata": {},
     "output_type": "display_data"
    },
    {
     "name": "stdout",
     "output_type": "stream",
     "text": [
      "time consumed: 7.08\n",
      "++++++++++++++++++++++++++++++++++++++++++++++++++++++++++++++++++++++++++++++++++++++++++++++++++++++++++++++++++++++++++++++++++++++++++++++++++++++ \n",
      "combination 111: (0.3, 5, 1, 5)\n"
     ]
    },
    {
     "data": {
      "application/vnd.jupyter.widget-view+json": {
       "model_id": "4879514c580e4654b8617cd0fca12aae",
       "version_major": 2,
       "version_minor": 0
      },
      "text/plain": [
       "  0%|          | 0/5 [00:00<?, ?it/s]"
      ]
     },
     "metadata": {},
     "output_type": "display_data"
    },
    {
     "name": "stdout",
     "output_type": "stream",
     "text": [
      "time consumed: 7.98\n",
      "++++++++++++++++++++++++++++++++++++++++++++++++++++++++++++++++++++++++++++++++++++++++++++++++++++++++++++++++++++++++++++++++++++++++++++++++++++++ \n",
      "combination 112: (0.3, 5, 2, 1)\n"
     ]
    },
    {
     "data": {
      "application/vnd.jupyter.widget-view+json": {
       "model_id": "6b2ed578858346789547eb85b609be92",
       "version_major": 2,
       "version_minor": 0
      },
      "text/plain": [
       "  0%|          | 0/5 [00:00<?, ?it/s]"
      ]
     },
     "metadata": {},
     "output_type": "display_data"
    },
    {
     "name": "stdout",
     "output_type": "stream",
     "text": [
      "time consumed: 9.02\n",
      "++++++++++++++++++++++++++++++++++++++++++++++++++++++++++++++++++++++++++++++++++++++++++++++++++++++++++++++++++++++++++++++++++++++++++++++++++++++ \n",
      "combination 113: (0.3, 5, 2, 2)\n"
     ]
    },
    {
     "data": {
      "application/vnd.jupyter.widget-view+json": {
       "model_id": "7b7d0e89d1c54ed4aa4f5908f33c4819",
       "version_major": 2,
       "version_minor": 0
      },
      "text/plain": [
       "  0%|          | 0/5 [00:00<?, ?it/s]"
      ]
     },
     "metadata": {},
     "output_type": "display_data"
    },
    {
     "name": "stdout",
     "output_type": "stream",
     "text": [
      "time consumed: 8.75\n",
      "++++++++++++++++++++++++++++++++++++++++++++++++++++++++++++++++++++++++++++++++++++++++++++++++++++++++++++++++++++++++++++++++++++++++++++++++++++++ \n",
      "combination 114: (0.3, 5, 2, 5)\n"
     ]
    },
    {
     "data": {
      "application/vnd.jupyter.widget-view+json": {
       "model_id": "c094564a97dc4738aff7479b393b8fbd",
       "version_major": 2,
       "version_minor": 0
      },
      "text/plain": [
       "  0%|          | 0/5 [00:00<?, ?it/s]"
      ]
     },
     "metadata": {},
     "output_type": "display_data"
    },
    {
     "name": "stdout",
     "output_type": "stream",
     "text": [
      "time consumed: 9.71\n",
      "++++++++++++++++++++++++++++++++++++++++++++++++++++++++++++++++++++++++++++++++++++++++++++++++++++++++++++++++++++++++++++++++++++++++++++++++++++++ \n",
      "combination 115: (0.3, 5, 5, 1)\n"
     ]
    },
    {
     "data": {
      "application/vnd.jupyter.widget-view+json": {
       "model_id": "ae7b71bfa859493bb93b862aefc7977c",
       "version_major": 2,
       "version_minor": 0
      },
      "text/plain": [
       "  0%|          | 0/5 [00:00<?, ?it/s]"
      ]
     },
     "metadata": {},
     "output_type": "display_data"
    },
    {
     "name": "stdout",
     "output_type": "stream",
     "text": [
      "time consumed: 13.73\n",
      "++++++++++++++++++++++++++++++++++++++++++++++++++++++++++++++++++++++++++++++++++++++++++++++++++++++++++++++++++++++++++++++++++++++++++++++++++++++ \n",
      "combination 116: (0.3, 5, 5, 2)\n"
     ]
    },
    {
     "data": {
      "application/vnd.jupyter.widget-view+json": {
       "model_id": "d4b0c10424c444be93dc5cb57702278f",
       "version_major": 2,
       "version_minor": 0
      },
      "text/plain": [
       "  0%|          | 0/5 [00:00<?, ?it/s]"
      ]
     },
     "metadata": {},
     "output_type": "display_data"
    },
    {
     "name": "stdout",
     "output_type": "stream",
     "text": [
      "time consumed: 13.05\n",
      "++++++++++++++++++++++++++++++++++++++++++++++++++++++++++++++++++++++++++++++++++++++++++++++++++++++++++++++++++++++++++++++++++++++++++++++++++++++ \n",
      "combination 117: (0.3, 5, 5, 5)\n"
     ]
    },
    {
     "data": {
      "application/vnd.jupyter.widget-view+json": {
       "model_id": "0ae6bbfd8b544cb2a3cc8e594ee870de",
       "version_major": 2,
       "version_minor": 0
      },
      "text/plain": [
       "  0%|          | 0/5 [00:00<?, ?it/s]"
      ]
     },
     "metadata": {},
     "output_type": "display_data"
    },
    {
     "name": "stdout",
     "output_type": "stream",
     "text": [
      "time consumed: 12.32\n",
      "++++++++++++++++++++++++++++++++++++++++++++++++++++++++++++++++++++++++++++++++++++++++++++++++++++++++++++++++++++++++++++++++++++++++++++++++++++++ \n",
      "combination 118: (0.3, 5, 10, 1)\n"
     ]
    },
    {
     "data": {
      "application/vnd.jupyter.widget-view+json": {
       "model_id": "80a917b2d2bc452d860aba739bbe7c60",
       "version_major": 2,
       "version_minor": 0
      },
      "text/plain": [
       "  0%|          | 0/5 [00:00<?, ?it/s]"
      ]
     },
     "metadata": {},
     "output_type": "display_data"
    },
    {
     "name": "stdout",
     "output_type": "stream",
     "text": [
      "time consumed: 11.22\n",
      "++++++++++++++++++++++++++++++++++++++++++++++++++++++++++++++++++++++++++++++++++++++++++++++++++++++++++++++++++++++++++++++++++++++++++++++++++++++ \n",
      "combination 119: (0.3, 5, 10, 2)\n"
     ]
    },
    {
     "data": {
      "application/vnd.jupyter.widget-view+json": {
       "model_id": "d7fb2f41e4124c19aaa284038c5ca49b",
       "version_major": 2,
       "version_minor": 0
      },
      "text/plain": [
       "  0%|          | 0/5 [00:00<?, ?it/s]"
      ]
     },
     "metadata": {},
     "output_type": "display_data"
    },
    {
     "name": "stdout",
     "output_type": "stream",
     "text": [
      "time consumed: 11.04\n",
      "++++++++++++++++++++++++++++++++++++++++++++++++++++++++++++++++++++++++++++++++++++++++++++++++++++++++++++++++++++++++++++++++++++++++++++++++++++++ \n",
      "combination 120: (0.3, 5, 10, 5)\n"
     ]
    },
    {
     "data": {
      "application/vnd.jupyter.widget-view+json": {
       "model_id": "99380bfd68b046509c7701660a822578",
       "version_major": 2,
       "version_minor": 0
      },
      "text/plain": [
       "  0%|          | 0/5 [00:00<?, ?it/s]"
      ]
     },
     "metadata": {},
     "output_type": "display_data"
    },
    {
     "name": "stdout",
     "output_type": "stream",
     "text": [
      "time consumed: 11.05\n",
      "++++++++++++++++++++++++++++++++++++++++++++++++++++++++++++++++++++++++++++++++++++++++++++++++++++++++++++++++++++++++++++++++++++++++++++++++++++++ \n",
      "combination 121: (0.3, 10, 1, 1)\n"
     ]
    },
    {
     "data": {
      "application/vnd.jupyter.widget-view+json": {
       "model_id": "ee5c22458f4f49bca4e16df4a656f85f",
       "version_major": 2,
       "version_minor": 0
      },
      "text/plain": [
       "  0%|          | 0/5 [00:00<?, ?it/s]"
      ]
     },
     "metadata": {},
     "output_type": "display_data"
    },
    {
     "name": "stdout",
     "output_type": "stream",
     "text": [
      "time consumed: 11.71\n",
      "++++++++++++++++++++++++++++++++++++++++++++++++++++++++++++++++++++++++++++++++++++++++++++++++++++++++++++++++++++++++++++++++++++++++++++++++++++++ \n",
      "combination 122: (0.3, 10, 1, 2)\n"
     ]
    },
    {
     "data": {
      "application/vnd.jupyter.widget-view+json": {
       "model_id": "cc337955833c42f4b6e51c18d997bb05",
       "version_major": 2,
       "version_minor": 0
      },
      "text/plain": [
       "  0%|          | 0/5 [00:00<?, ?it/s]"
      ]
     },
     "metadata": {},
     "output_type": "display_data"
    },
    {
     "name": "stdout",
     "output_type": "stream",
     "text": [
      "time consumed: 11.75\n",
      "++++++++++++++++++++++++++++++++++++++++++++++++++++++++++++++++++++++++++++++++++++++++++++++++++++++++++++++++++++++++++++++++++++++++++++++++++++++ \n",
      "combination 123: (0.3, 10, 1, 5)\n"
     ]
    },
    {
     "data": {
      "application/vnd.jupyter.widget-view+json": {
       "model_id": "8b778337d5ca4d0ea60c126fdf1cf5b6",
       "version_major": 2,
       "version_minor": 0
      },
      "text/plain": [
       "  0%|          | 0/5 [00:00<?, ?it/s]"
      ]
     },
     "metadata": {},
     "output_type": "display_data"
    },
    {
     "name": "stdout",
     "output_type": "stream",
     "text": [
      "time consumed: 11.83\n",
      "++++++++++++++++++++++++++++++++++++++++++++++++++++++++++++++++++++++++++++++++++++++++++++++++++++++++++++++++++++++++++++++++++++++++++++++++++++++ \n",
      "combination 124: (0.3, 10, 2, 1)\n"
     ]
    },
    {
     "data": {
      "application/vnd.jupyter.widget-view+json": {
       "model_id": "d81bdf18f2834a12853b78fb5bdf3893",
       "version_major": 2,
       "version_minor": 0
      },
      "text/plain": [
       "  0%|          | 0/5 [00:00<?, ?it/s]"
      ]
     },
     "metadata": {},
     "output_type": "display_data"
    },
    {
     "name": "stdout",
     "output_type": "stream",
     "text": [
      "time consumed: 11.3\n",
      "++++++++++++++++++++++++++++++++++++++++++++++++++++++++++++++++++++++++++++++++++++++++++++++++++++++++++++++++++++++++++++++++++++++++++++++++++++++ \n",
      "combination 125: (0.3, 10, 2, 2)\n"
     ]
    },
    {
     "data": {
      "application/vnd.jupyter.widget-view+json": {
       "model_id": "191a7834d7b64a10854bca5a4f001632",
       "version_major": 2,
       "version_minor": 0
      },
      "text/plain": [
       "  0%|          | 0/5 [00:00<?, ?it/s]"
      ]
     },
     "metadata": {},
     "output_type": "display_data"
    },
    {
     "name": "stdout",
     "output_type": "stream",
     "text": [
      "time consumed: 11.29\n",
      "++++++++++++++++++++++++++++++++++++++++++++++++++++++++++++++++++++++++++++++++++++++++++++++++++++++++++++++++++++++++++++++++++++++++++++++++++++++ \n",
      "combination 126: (0.3, 10, 2, 5)\n"
     ]
    },
    {
     "data": {
      "application/vnd.jupyter.widget-view+json": {
       "model_id": "e684e70f305a44ceb1b9324721825ae1",
       "version_major": 2,
       "version_minor": 0
      },
      "text/plain": [
       "  0%|          | 0/5 [00:00<?, ?it/s]"
      ]
     },
     "metadata": {},
     "output_type": "display_data"
    },
    {
     "name": "stdout",
     "output_type": "stream",
     "text": [
      "time consumed: 11.42\n",
      "++++++++++++++++++++++++++++++++++++++++++++++++++++++++++++++++++++++++++++++++++++++++++++++++++++++++++++++++++++++++++++++++++++++++++++++++++++++ \n",
      "combination 127: (0.3, 10, 5, 1)\n"
     ]
    },
    {
     "data": {
      "application/vnd.jupyter.widget-view+json": {
       "model_id": "f116c6cedba04d10ac5359acae0dd7a6",
       "version_major": 2,
       "version_minor": 0
      },
      "text/plain": [
       "  0%|          | 0/5 [00:00<?, ?it/s]"
      ]
     },
     "metadata": {},
     "output_type": "display_data"
    },
    {
     "name": "stdout",
     "output_type": "stream",
     "text": [
      "time consumed: 121.67\n",
      "++++++++++++++++++++++++++++++++++++++++++++++++++++++++++++++++++++++++++++++++++++++++++++++++++++++++++++++++++++++++++++++++++++++++++++++++++++++ \n",
      "combination 128: (0.3, 10, 5, 2)\n"
     ]
    },
    {
     "data": {
      "application/vnd.jupyter.widget-view+json": {
       "model_id": "cfe9996980074d0091b09b6b65874747",
       "version_major": 2,
       "version_minor": 0
      },
      "text/plain": [
       "  0%|          | 0/5 [00:00<?, ?it/s]"
      ]
     },
     "metadata": {},
     "output_type": "display_data"
    },
    {
     "name": "stdout",
     "output_type": "stream",
     "text": [
      "time consumed: 6.99\n",
      "++++++++++++++++++++++++++++++++++++++++++++++++++++++++++++++++++++++++++++++++++++++++++++++++++++++++++++++++++++++++++++++++++++++++++++++++++++++ \n",
      "combination 129: (0.3, 10, 5, 5)\n"
     ]
    },
    {
     "data": {
      "application/vnd.jupyter.widget-view+json": {
       "model_id": "4bbe59efa6a542a7a423af7ebdaeb8e8",
       "version_major": 2,
       "version_minor": 0
      },
      "text/plain": [
       "  0%|          | 0/5 [00:00<?, ?it/s]"
      ]
     },
     "metadata": {},
     "output_type": "display_data"
    },
    {
     "name": "stdout",
     "output_type": "stream",
     "text": [
      "time consumed: 7.0\n",
      "++++++++++++++++++++++++++++++++++++++++++++++++++++++++++++++++++++++++++++++++++++++++++++++++++++++++++++++++++++++++++++++++++++++++++++++++++++++ \n",
      "combination 130: (0.3, 10, 10, 1)\n"
     ]
    },
    {
     "data": {
      "application/vnd.jupyter.widget-view+json": {
       "model_id": "b6a0630221ca4cfca2dcd5e8f61a208f",
       "version_major": 2,
       "version_minor": 0
      },
      "text/plain": [
       "  0%|          | 0/5 [00:00<?, ?it/s]"
      ]
     },
     "metadata": {},
     "output_type": "display_data"
    },
    {
     "name": "stdout",
     "output_type": "stream",
     "text": [
      "time consumed: 6.98\n",
      "++++++++++++++++++++++++++++++++++++++++++++++++++++++++++++++++++++++++++++++++++++++++++++++++++++++++++++++++++++++++++++++++++++++++++++++++++++++ \n",
      "combination 131: (0.3, 10, 10, 2)\n"
     ]
    },
    {
     "data": {
      "application/vnd.jupyter.widget-view+json": {
       "model_id": "f7bce2a2f46c4fa4965c534a66ab6a79",
       "version_major": 2,
       "version_minor": 0
      },
      "text/plain": [
       "  0%|          | 0/5 [00:00<?, ?it/s]"
      ]
     },
     "metadata": {},
     "output_type": "display_data"
    },
    {
     "name": "stdout",
     "output_type": "stream",
     "text": [
      "time consumed: 6.94\n",
      "++++++++++++++++++++++++++++++++++++++++++++++++++++++++++++++++++++++++++++++++++++++++++++++++++++++++++++++++++++++++++++++++++++++++++++++++++++++ \n",
      "combination 132: (0.3, 10, 10, 5)\n"
     ]
    },
    {
     "data": {
      "application/vnd.jupyter.widget-view+json": {
       "model_id": "7af66836d5054816aee8360c3696f56f",
       "version_major": 2,
       "version_minor": 0
      },
      "text/plain": [
       "  0%|          | 0/5 [00:00<?, ?it/s]"
      ]
     },
     "metadata": {},
     "output_type": "display_data"
    },
    {
     "name": "stdout",
     "output_type": "stream",
     "text": [
      "time consumed: 6.88\n",
      "++++++++++++++++++++++++++++++++++++++++++++++++++++++++++++++++++++++++++++++++++++++++++++++++++++++++++++++++++++++++++++++++++++++++++++++++++++++ \n",
      "combination 133: (0.3, 20, 1, 1)\n"
     ]
    },
    {
     "data": {
      "application/vnd.jupyter.widget-view+json": {
       "model_id": "b9a38a9f56dc4ca8b62bb275e4c5b259",
       "version_major": 2,
       "version_minor": 0
      },
      "text/plain": [
       "  0%|          | 0/5 [00:00<?, ?it/s]"
      ]
     },
     "metadata": {},
     "output_type": "display_data"
    },
    {
     "name": "stdout",
     "output_type": "stream",
     "text": [
      "time consumed: 7.17\n",
      "++++++++++++++++++++++++++++++++++++++++++++++++++++++++++++++++++++++++++++++++++++++++++++++++++++++++++++++++++++++++++++++++++++++++++++++++++++++ \n",
      "combination 134: (0.3, 20, 1, 2)\n"
     ]
    },
    {
     "data": {
      "application/vnd.jupyter.widget-view+json": {
       "model_id": "b364fc58354a4cbdb2e6be5c9da214fe",
       "version_major": 2,
       "version_minor": 0
      },
      "text/plain": [
       "  0%|          | 0/5 [00:00<?, ?it/s]"
      ]
     },
     "metadata": {},
     "output_type": "display_data"
    },
    {
     "name": "stdout",
     "output_type": "stream",
     "text": [
      "time consumed: 7.1\n",
      "++++++++++++++++++++++++++++++++++++++++++++++++++++++++++++++++++++++++++++++++++++++++++++++++++++++++++++++++++++++++++++++++++++++++++++++++++++++ \n",
      "combination 135: (0.3, 20, 1, 5)\n"
     ]
    },
    {
     "data": {
      "application/vnd.jupyter.widget-view+json": {
       "model_id": "c6b093a12fba46e08c64da1e5a6ced4a",
       "version_major": 2,
       "version_minor": 0
      },
      "text/plain": [
       "  0%|          | 0/5 [00:00<?, ?it/s]"
      ]
     },
     "metadata": {},
     "output_type": "display_data"
    },
    {
     "name": "stdout",
     "output_type": "stream",
     "text": [
      "time consumed: 7.12\n",
      "++++++++++++++++++++++++++++++++++++++++++++++++++++++++++++++++++++++++++++++++++++++++++++++++++++++++++++++++++++++++++++++++++++++++++++++++++++++ \n",
      "combination 136: (0.3, 20, 2, 1)\n"
     ]
    },
    {
     "data": {
      "application/vnd.jupyter.widget-view+json": {
       "model_id": "151a790420524b068232eb763d5592ed",
       "version_major": 2,
       "version_minor": 0
      },
      "text/plain": [
       "  0%|          | 0/5 [00:00<?, ?it/s]"
      ]
     },
     "metadata": {},
     "output_type": "display_data"
    },
    {
     "name": "stdout",
     "output_type": "stream",
     "text": [
      "time consumed: 7.12\n",
      "++++++++++++++++++++++++++++++++++++++++++++++++++++++++++++++++++++++++++++++++++++++++++++++++++++++++++++++++++++++++++++++++++++++++++++++++++++++ \n",
      "combination 137: (0.3, 20, 2, 2)\n"
     ]
    },
    {
     "data": {
      "application/vnd.jupyter.widget-view+json": {
       "model_id": "463dd9c89f864737aaa3bc45f33fa910",
       "version_major": 2,
       "version_minor": 0
      },
      "text/plain": [
       "  0%|          | 0/5 [00:00<?, ?it/s]"
      ]
     },
     "metadata": {},
     "output_type": "display_data"
    },
    {
     "name": "stdout",
     "output_type": "stream",
     "text": [
      "time consumed: 7.16\n",
      "++++++++++++++++++++++++++++++++++++++++++++++++++++++++++++++++++++++++++++++++++++++++++++++++++++++++++++++++++++++++++++++++++++++++++++++++++++++ \n",
      "combination 138: (0.3, 20, 2, 5)\n"
     ]
    },
    {
     "data": {
      "application/vnd.jupyter.widget-view+json": {
       "model_id": "ed21a2e777284ecfa91c82db29bd983a",
       "version_major": 2,
       "version_minor": 0
      },
      "text/plain": [
       "  0%|          | 0/5 [00:00<?, ?it/s]"
      ]
     },
     "metadata": {},
     "output_type": "display_data"
    },
    {
     "name": "stdout",
     "output_type": "stream",
     "text": [
      "time consumed: 7.08\n",
      "++++++++++++++++++++++++++++++++++++++++++++++++++++++++++++++++++++++++++++++++++++++++++++++++++++++++++++++++++++++++++++++++++++++++++++++++++++++ \n",
      "combination 139: (0.3, 20, 5, 1)\n"
     ]
    },
    {
     "data": {
      "application/vnd.jupyter.widget-view+json": {
       "model_id": "f0a7e3b0c14c4efcacf0ca222a1a35fd",
       "version_major": 2,
       "version_minor": 0
      },
      "text/plain": [
       "  0%|          | 0/5 [00:00<?, ?it/s]"
      ]
     },
     "metadata": {},
     "output_type": "display_data"
    },
    {
     "name": "stdout",
     "output_type": "stream",
     "text": [
      "time consumed: 7.09\n",
      "++++++++++++++++++++++++++++++++++++++++++++++++++++++++++++++++++++++++++++++++++++++++++++++++++++++++++++++++++++++++++++++++++++++++++++++++++++++ \n",
      "combination 140: (0.3, 20, 5, 2)\n"
     ]
    },
    {
     "data": {
      "application/vnd.jupyter.widget-view+json": {
       "model_id": "0f73fb6f0d6e4feda2113f4a010d53f1",
       "version_major": 2,
       "version_minor": 0
      },
      "text/plain": [
       "  0%|          | 0/5 [00:00<?, ?it/s]"
      ]
     },
     "metadata": {},
     "output_type": "display_data"
    },
    {
     "name": "stdout",
     "output_type": "stream",
     "text": [
      "time consumed: 7.05\n",
      "++++++++++++++++++++++++++++++++++++++++++++++++++++++++++++++++++++++++++++++++++++++++++++++++++++++++++++++++++++++++++++++++++++++++++++++++++++++ \n",
      "combination 141: (0.3, 20, 5, 5)\n"
     ]
    },
    {
     "data": {
      "application/vnd.jupyter.widget-view+json": {
       "model_id": "d34ab9df8c554e2488a8a737c6e5d930",
       "version_major": 2,
       "version_minor": 0
      },
      "text/plain": [
       "  0%|          | 0/5 [00:00<?, ?it/s]"
      ]
     },
     "metadata": {},
     "output_type": "display_data"
    },
    {
     "name": "stdout",
     "output_type": "stream",
     "text": [
      "time consumed: 7.05\n",
      "++++++++++++++++++++++++++++++++++++++++++++++++++++++++++++++++++++++++++++++++++++++++++++++++++++++++++++++++++++++++++++++++++++++++++++++++++++++ \n",
      "combination 142: (0.3, 20, 10, 1)\n"
     ]
    },
    {
     "data": {
      "application/vnd.jupyter.widget-view+json": {
       "model_id": "0b2017fade3d4d8baa923c1700546119",
       "version_major": 2,
       "version_minor": 0
      },
      "text/plain": [
       "  0%|          | 0/5 [00:00<?, ?it/s]"
      ]
     },
     "metadata": {},
     "output_type": "display_data"
    },
    {
     "name": "stdout",
     "output_type": "stream",
     "text": [
      "time consumed: 7.1\n",
      "++++++++++++++++++++++++++++++++++++++++++++++++++++++++++++++++++++++++++++++++++++++++++++++++++++++++++++++++++++++++++++++++++++++++++++++++++++++ \n",
      "combination 143: (0.3, 20, 10, 2)\n"
     ]
    },
    {
     "data": {
      "application/vnd.jupyter.widget-view+json": {
       "model_id": "a70bf2bdf94643b7bb8e98f5c9ce67aa",
       "version_major": 2,
       "version_minor": 0
      },
      "text/plain": [
       "  0%|          | 0/5 [00:00<?, ?it/s]"
      ]
     },
     "metadata": {},
     "output_type": "display_data"
    },
    {
     "name": "stdout",
     "output_type": "stream",
     "text": [
      "time consumed: 7.47\n",
      "++++++++++++++++++++++++++++++++++++++++++++++++++++++++++++++++++++++++++++++++++++++++++++++++++++++++++++++++++++++++++++++++++++++++++++++++++++++ \n",
      "combination 144: (0.3, 20, 10, 5)\n"
     ]
    },
    {
     "data": {
      "application/vnd.jupyter.widget-view+json": {
       "model_id": "23d3f690b89442c08abb688fb98a3f16",
       "version_major": 2,
       "version_minor": 0
      },
      "text/plain": [
       "  0%|          | 0/5 [00:00<?, ?it/s]"
      ]
     },
     "metadata": {},
     "output_type": "display_data"
    },
    {
     "name": "stdout",
     "output_type": "stream",
     "text": [
      "time consumed: 12.05\n",
      "++++++++++++++++++++++++++++++++++++++++++++++++++++++++++++++++++++++++++++++++++++++++++++++++++++++++++++++++++++++++++++++++++++++++++++++++++++++ \n",
      "combination 145: (0.4, 3, 1, 1)\n"
     ]
    },
    {
     "data": {
      "application/vnd.jupyter.widget-view+json": {
       "model_id": "11193bf7515a48eaa503e07e257fcec7",
       "version_major": 2,
       "version_minor": 0
      },
      "text/plain": [
       "  0%|          | 0/5 [00:00<?, ?it/s]"
      ]
     },
     "metadata": {},
     "output_type": "display_data"
    },
    {
     "name": "stdout",
     "output_type": "stream",
     "text": [
      "time consumed: 11.37\n",
      "++++++++++++++++++++++++++++++++++++++++++++++++++++++++++++++++++++++++++++++++++++++++++++++++++++++++++++++++++++++++++++++++++++++++++++++++++++++ \n",
      "combination 146: (0.4, 3, 1, 2)\n"
     ]
    },
    {
     "data": {
      "application/vnd.jupyter.widget-view+json": {
       "model_id": "0436dfcc02bb403baa2ae0edfae56679",
       "version_major": 2,
       "version_minor": 0
      },
      "text/plain": [
       "  0%|          | 0/5 [00:00<?, ?it/s]"
      ]
     },
     "metadata": {},
     "output_type": "display_data"
    },
    {
     "name": "stdout",
     "output_type": "stream",
     "text": [
      "time consumed: 11.04\n",
      "++++++++++++++++++++++++++++++++++++++++++++++++++++++++++++++++++++++++++++++++++++++++++++++++++++++++++++++++++++++++++++++++++++++++++++++++++++++ \n",
      "combination 147: (0.4, 3, 1, 5)\n"
     ]
    },
    {
     "data": {
      "application/vnd.jupyter.widget-view+json": {
       "model_id": "af4fc0dde03d425c80c2e82c5e988379",
       "version_major": 2,
       "version_minor": 0
      },
      "text/plain": [
       "  0%|          | 0/5 [00:00<?, ?it/s]"
      ]
     },
     "metadata": {},
     "output_type": "display_data"
    },
    {
     "name": "stdout",
     "output_type": "stream",
     "text": [
      "time consumed: 10.92\n",
      "++++++++++++++++++++++++++++++++++++++++++++++++++++++++++++++++++++++++++++++++++++++++++++++++++++++++++++++++++++++++++++++++++++++++++++++++++++++ \n",
      "combination 148: (0.4, 3, 2, 1)\n"
     ]
    },
    {
     "data": {
      "application/vnd.jupyter.widget-view+json": {
       "model_id": "de344a82037f4c019c908e8ee56c380b",
       "version_major": 2,
       "version_minor": 0
      },
      "text/plain": [
       "  0%|          | 0/5 [00:00<?, ?it/s]"
      ]
     },
     "metadata": {},
     "output_type": "display_data"
    },
    {
     "name": "stdout",
     "output_type": "stream",
     "text": [
      "time consumed: 11.03\n",
      "++++++++++++++++++++++++++++++++++++++++++++++++++++++++++++++++++++++++++++++++++++++++++++++++++++++++++++++++++++++++++++++++++++++++++++++++++++++ \n",
      "combination 149: (0.4, 3, 2, 2)\n"
     ]
    },
    {
     "data": {
      "application/vnd.jupyter.widget-view+json": {
       "model_id": "744995c0b8494101b85e2d7dc2c71dcb",
       "version_major": 2,
       "version_minor": 0
      },
      "text/plain": [
       "  0%|          | 0/5 [00:00<?, ?it/s]"
      ]
     },
     "metadata": {},
     "output_type": "display_data"
    },
    {
     "name": "stdout",
     "output_type": "stream",
     "text": [
      "time consumed: 10.91\n",
      "++++++++++++++++++++++++++++++++++++++++++++++++++++++++++++++++++++++++++++++++++++++++++++++++++++++++++++++++++++++++++++++++++++++++++++++++++++++ \n",
      "combination 150: (0.4, 3, 2, 5)\n"
     ]
    },
    {
     "data": {
      "application/vnd.jupyter.widget-view+json": {
       "model_id": "03183e206f1644c596698695738e13ae",
       "version_major": 2,
       "version_minor": 0
      },
      "text/plain": [
       "  0%|          | 0/5 [00:00<?, ?it/s]"
      ]
     },
     "metadata": {},
     "output_type": "display_data"
    },
    {
     "name": "stdout",
     "output_type": "stream",
     "text": [
      "time consumed: 10.96\n",
      "++++++++++++++++++++++++++++++++++++++++++++++++++++++++++++++++++++++++++++++++++++++++++++++++++++++++++++++++++++++++++++++++++++++++++++++++++++++ \n",
      "combination 151: (0.4, 3, 5, 1)\n"
     ]
    },
    {
     "data": {
      "application/vnd.jupyter.widget-view+json": {
       "model_id": "6da71e7d9f704d4aa1eca8e5f2c1f2d7",
       "version_major": 2,
       "version_minor": 0
      },
      "text/plain": [
       "  0%|          | 0/5 [00:00<?, ?it/s]"
      ]
     },
     "metadata": {},
     "output_type": "display_data"
    },
    {
     "name": "stdout",
     "output_type": "stream",
     "text": [
      "time consumed: 11.23\n",
      "++++++++++++++++++++++++++++++++++++++++++++++++++++++++++++++++++++++++++++++++++++++++++++++++++++++++++++++++++++++++++++++++++++++++++++++++++++++ \n",
      "combination 152: (0.4, 3, 5, 2)\n"
     ]
    },
    {
     "data": {
      "application/vnd.jupyter.widget-view+json": {
       "model_id": "1bf14f46eab94f9983dc1e5f951a343f",
       "version_major": 2,
       "version_minor": 0
      },
      "text/plain": [
       "  0%|          | 0/5 [00:00<?, ?it/s]"
      ]
     },
     "metadata": {},
     "output_type": "display_data"
    },
    {
     "name": "stdout",
     "output_type": "stream",
     "text": [
      "time consumed: 10.98\n",
      "++++++++++++++++++++++++++++++++++++++++++++++++++++++++++++++++++++++++++++++++++++++++++++++++++++++++++++++++++++++++++++++++++++++++++++++++++++++ \n",
      "combination 153: (0.4, 3, 5, 5)\n"
     ]
    },
    {
     "data": {
      "application/vnd.jupyter.widget-view+json": {
       "model_id": "810c0a73c6344102864456a540777cad",
       "version_major": 2,
       "version_minor": 0
      },
      "text/plain": [
       "  0%|          | 0/5 [00:00<?, ?it/s]"
      ]
     },
     "metadata": {},
     "output_type": "display_data"
    },
    {
     "name": "stdout",
     "output_type": "stream",
     "text": [
      "time consumed: 11.13\n",
      "++++++++++++++++++++++++++++++++++++++++++++++++++++++++++++++++++++++++++++++++++++++++++++++++++++++++++++++++++++++++++++++++++++++++++++++++++++++ \n",
      "combination 154: (0.4, 3, 10, 1)\n"
     ]
    },
    {
     "data": {
      "application/vnd.jupyter.widget-view+json": {
       "model_id": "5e2e6fd072244bdbbcd73fca15aac432",
       "version_major": 2,
       "version_minor": 0
      },
      "text/plain": [
       "  0%|          | 0/5 [00:00<?, ?it/s]"
      ]
     },
     "metadata": {},
     "output_type": "display_data"
    },
    {
     "name": "stdout",
     "output_type": "stream",
     "text": [
      "time consumed: 11.27\n",
      "++++++++++++++++++++++++++++++++++++++++++++++++++++++++++++++++++++++++++++++++++++++++++++++++++++++++++++++++++++++++++++++++++++++++++++++++++++++ \n",
      "combination 155: (0.4, 3, 10, 2)\n"
     ]
    },
    {
     "data": {
      "application/vnd.jupyter.widget-view+json": {
       "model_id": "7438eb26eb614a0eafe101360d756fd1",
       "version_major": 2,
       "version_minor": 0
      },
      "text/plain": [
       "  0%|          | 0/5 [00:00<?, ?it/s]"
      ]
     },
     "metadata": {},
     "output_type": "display_data"
    },
    {
     "name": "stdout",
     "output_type": "stream",
     "text": [
      "time consumed: 11.03\n",
      "++++++++++++++++++++++++++++++++++++++++++++++++++++++++++++++++++++++++++++++++++++++++++++++++++++++++++++++++++++++++++++++++++++++++++++++++++++++ \n",
      "combination 156: (0.4, 3, 10, 5)\n"
     ]
    },
    {
     "data": {
      "application/vnd.jupyter.widget-view+json": {
       "model_id": "3230d3246c4340bc8573cefdf5907d5f",
       "version_major": 2,
       "version_minor": 0
      },
      "text/plain": [
       "  0%|          | 0/5 [00:00<?, ?it/s]"
      ]
     },
     "metadata": {},
     "output_type": "display_data"
    },
    {
     "name": "stdout",
     "output_type": "stream",
     "text": [
      "time consumed: 10.95\n",
      "++++++++++++++++++++++++++++++++++++++++++++++++++++++++++++++++++++++++++++++++++++++++++++++++++++++++++++++++++++++++++++++++++++++++++++++++++++++ \n",
      "combination 157: (0.4, 5, 1, 1)\n"
     ]
    },
    {
     "data": {
      "application/vnd.jupyter.widget-view+json": {
       "model_id": "46f75dace3de4937b7be7358cec25cb4",
       "version_major": 2,
       "version_minor": 0
      },
      "text/plain": [
       "  0%|          | 0/5 [00:00<?, ?it/s]"
      ]
     },
     "metadata": {},
     "output_type": "display_data"
    },
    {
     "name": "stdout",
     "output_type": "stream",
     "text": [
      "time consumed: 10.25\n",
      "++++++++++++++++++++++++++++++++++++++++++++++++++++++++++++++++++++++++++++++++++++++++++++++++++++++++++++++++++++++++++++++++++++++++++++++++++++++ \n",
      "combination 158: (0.4, 5, 1, 2)\n"
     ]
    },
    {
     "data": {
      "application/vnd.jupyter.widget-view+json": {
       "model_id": "b884a905221c4ac59467540f83695d4e",
       "version_major": 2,
       "version_minor": 0
      },
      "text/plain": [
       "  0%|          | 0/5 [00:00<?, ?it/s]"
      ]
     },
     "metadata": {},
     "output_type": "display_data"
    },
    {
     "name": "stdout",
     "output_type": "stream",
     "text": [
      "time consumed: 7.02\n",
      "++++++++++++++++++++++++++++++++++++++++++++++++++++++++++++++++++++++++++++++++++++++++++++++++++++++++++++++++++++++++++++++++++++++++++++++++++++++ \n",
      "combination 159: (0.4, 5, 1, 5)\n"
     ]
    },
    {
     "data": {
      "application/vnd.jupyter.widget-view+json": {
       "model_id": "37ef0f786dfe43e4a98438a1e06443bc",
       "version_major": 2,
       "version_minor": 0
      },
      "text/plain": [
       "  0%|          | 0/5 [00:00<?, ?it/s]"
      ]
     },
     "metadata": {},
     "output_type": "display_data"
    },
    {
     "name": "stdout",
     "output_type": "stream",
     "text": [
      "time consumed: 6.94\n",
      "++++++++++++++++++++++++++++++++++++++++++++++++++++++++++++++++++++++++++++++++++++++++++++++++++++++++++++++++++++++++++++++++++++++++++++++++++++++ \n",
      "combination 160: (0.4, 5, 2, 1)\n"
     ]
    },
    {
     "data": {
      "application/vnd.jupyter.widget-view+json": {
       "model_id": "e75918fc5bfa45bea6dc970e7434c82e",
       "version_major": 2,
       "version_minor": 0
      },
      "text/plain": [
       "  0%|          | 0/5 [00:00<?, ?it/s]"
      ]
     },
     "metadata": {},
     "output_type": "display_data"
    },
    {
     "name": "stdout",
     "output_type": "stream",
     "text": [
      "time consumed: 6.93\n",
      "++++++++++++++++++++++++++++++++++++++++++++++++++++++++++++++++++++++++++++++++++++++++++++++++++++++++++++++++++++++++++++++++++++++++++++++++++++++ \n",
      "combination 161: (0.4, 5, 2, 2)\n"
     ]
    },
    {
     "data": {
      "application/vnd.jupyter.widget-view+json": {
       "model_id": "7c740e95923d4fb5be220e7fb2b80256",
       "version_major": 2,
       "version_minor": 0
      },
      "text/plain": [
       "  0%|          | 0/5 [00:00<?, ?it/s]"
      ]
     },
     "metadata": {},
     "output_type": "display_data"
    },
    {
     "name": "stdout",
     "output_type": "stream",
     "text": [
      "time consumed: 6.83\n",
      "++++++++++++++++++++++++++++++++++++++++++++++++++++++++++++++++++++++++++++++++++++++++++++++++++++++++++++++++++++++++++++++++++++++++++++++++++++++ \n",
      "combination 162: (0.4, 5, 2, 5)\n"
     ]
    },
    {
     "data": {
      "application/vnd.jupyter.widget-view+json": {
       "model_id": "ef0a363c7a05465482b6dd1331945380",
       "version_major": 2,
       "version_minor": 0
      },
      "text/plain": [
       "  0%|          | 0/5 [00:00<?, ?it/s]"
      ]
     },
     "metadata": {},
     "output_type": "display_data"
    },
    {
     "name": "stdout",
     "output_type": "stream",
     "text": [
      "time consumed: 6.85\n",
      "++++++++++++++++++++++++++++++++++++++++++++++++++++++++++++++++++++++++++++++++++++++++++++++++++++++++++++++++++++++++++++++++++++++++++++++++++++++ \n",
      "combination 163: (0.4, 5, 5, 1)\n"
     ]
    },
    {
     "data": {
      "application/vnd.jupyter.widget-view+json": {
       "model_id": "78af8b3d055845b7a4df7fab55fcf0ac",
       "version_major": 2,
       "version_minor": 0
      },
      "text/plain": [
       "  0%|          | 0/5 [00:00<?, ?it/s]"
      ]
     },
     "metadata": {},
     "output_type": "display_data"
    },
    {
     "name": "stdout",
     "output_type": "stream",
     "text": [
      "time consumed: 6.84\n",
      "++++++++++++++++++++++++++++++++++++++++++++++++++++++++++++++++++++++++++++++++++++++++++++++++++++++++++++++++++++++++++++++++++++++++++++++++++++++ \n",
      "combination 164: (0.4, 5, 5, 2)\n"
     ]
    },
    {
     "data": {
      "application/vnd.jupyter.widget-view+json": {
       "model_id": "42455514463f4cfca8f435e2d93f1008",
       "version_major": 2,
       "version_minor": 0
      },
      "text/plain": [
       "  0%|          | 0/5 [00:00<?, ?it/s]"
      ]
     },
     "metadata": {},
     "output_type": "display_data"
    },
    {
     "name": "stdout",
     "output_type": "stream",
     "text": [
      "time consumed: 6.84\n",
      "++++++++++++++++++++++++++++++++++++++++++++++++++++++++++++++++++++++++++++++++++++++++++++++++++++++++++++++++++++++++++++++++++++++++++++++++++++++ \n",
      "combination 165: (0.4, 5, 5, 5)\n"
     ]
    },
    {
     "data": {
      "application/vnd.jupyter.widget-view+json": {
       "model_id": "4cc8362d17574b6dbb4572ca691d2ae4",
       "version_major": 2,
       "version_minor": 0
      },
      "text/plain": [
       "  0%|          | 0/5 [00:00<?, ?it/s]"
      ]
     },
     "metadata": {},
     "output_type": "display_data"
    },
    {
     "name": "stdout",
     "output_type": "stream",
     "text": [
      "time consumed: 6.79\n",
      "++++++++++++++++++++++++++++++++++++++++++++++++++++++++++++++++++++++++++++++++++++++++++++++++++++++++++++++++++++++++++++++++++++++++++++++++++++++ \n",
      "combination 166: (0.4, 5, 10, 1)\n"
     ]
    },
    {
     "data": {
      "application/vnd.jupyter.widget-view+json": {
       "model_id": "cd731e6fdd38446b9bd4049a3ec5496c",
       "version_major": 2,
       "version_minor": 0
      },
      "text/plain": [
       "  0%|          | 0/5 [00:00<?, ?it/s]"
      ]
     },
     "metadata": {},
     "output_type": "display_data"
    },
    {
     "name": "stdout",
     "output_type": "stream",
     "text": [
      "time consumed: 6.86\n",
      "++++++++++++++++++++++++++++++++++++++++++++++++++++++++++++++++++++++++++++++++++++++++++++++++++++++++++++++++++++++++++++++++++++++++++++++++++++++ \n",
      "combination 167: (0.4, 5, 10, 2)\n"
     ]
    },
    {
     "data": {
      "application/vnd.jupyter.widget-view+json": {
       "model_id": "56fc7f91d093465b9671243bbf87449e",
       "version_major": 2,
       "version_minor": 0
      },
      "text/plain": [
       "  0%|          | 0/5 [00:00<?, ?it/s]"
      ]
     },
     "metadata": {},
     "output_type": "display_data"
    },
    {
     "name": "stdout",
     "output_type": "stream",
     "text": [
      "time consumed: 6.82\n",
      "++++++++++++++++++++++++++++++++++++++++++++++++++++++++++++++++++++++++++++++++++++++++++++++++++++++++++++++++++++++++++++++++++++++++++++++++++++++ \n",
      "combination 168: (0.4, 5, 10, 5)\n"
     ]
    },
    {
     "data": {
      "application/vnd.jupyter.widget-view+json": {
       "model_id": "16114466088442498848bd8dc1dc1413",
       "version_major": 2,
       "version_minor": 0
      },
      "text/plain": [
       "  0%|          | 0/5 [00:00<?, ?it/s]"
      ]
     },
     "metadata": {},
     "output_type": "display_data"
    },
    {
     "name": "stdout",
     "output_type": "stream",
     "text": [
      "time consumed: 6.81\n",
      "++++++++++++++++++++++++++++++++++++++++++++++++++++++++++++++++++++++++++++++++++++++++++++++++++++++++++++++++++++++++++++++++++++++++++++++++++++++ \n",
      "combination 169: (0.4, 10, 1, 1)\n"
     ]
    },
    {
     "data": {
      "application/vnd.jupyter.widget-view+json": {
       "model_id": "0aa50d805bc642578fc37274443cfecb",
       "version_major": 2,
       "version_minor": 0
      },
      "text/plain": [
       "  0%|          | 0/5 [00:00<?, ?it/s]"
      ]
     },
     "metadata": {},
     "output_type": "display_data"
    },
    {
     "name": "stdout",
     "output_type": "stream",
     "text": [
      "time consumed: 7.03\n",
      "++++++++++++++++++++++++++++++++++++++++++++++++++++++++++++++++++++++++++++++++++++++++++++++++++++++++++++++++++++++++++++++++++++++++++++++++++++++ \n",
      "combination 170: (0.4, 10, 1, 2)\n"
     ]
    },
    {
     "data": {
      "application/vnd.jupyter.widget-view+json": {
       "model_id": "c6aee6870ff34e2f8a2cfc36c31583df",
       "version_major": 2,
       "version_minor": 0
      },
      "text/plain": [
       "  0%|          | 0/5 [00:00<?, ?it/s]"
      ]
     },
     "metadata": {},
     "output_type": "display_data"
    },
    {
     "name": "stdout",
     "output_type": "stream",
     "text": [
      "time consumed: 7.07\n",
      "++++++++++++++++++++++++++++++++++++++++++++++++++++++++++++++++++++++++++++++++++++++++++++++++++++++++++++++++++++++++++++++++++++++++++++++++++++++ \n",
      "combination 171: (0.4, 10, 1, 5)\n"
     ]
    },
    {
     "data": {
      "application/vnd.jupyter.widget-view+json": {
       "model_id": "3b7a2a0b2a8d43e5b47bbbbb8a229937",
       "version_major": 2,
       "version_minor": 0
      },
      "text/plain": [
       "  0%|          | 0/5 [00:00<?, ?it/s]"
      ]
     },
     "metadata": {},
     "output_type": "display_data"
    },
    {
     "name": "stdout",
     "output_type": "stream",
     "text": [
      "time consumed: 7.09\n",
      "++++++++++++++++++++++++++++++++++++++++++++++++++++++++++++++++++++++++++++++++++++++++++++++++++++++++++++++++++++++++++++++++++++++++++++++++++++++ \n",
      "combination 172: (0.4, 10, 2, 1)\n"
     ]
    },
    {
     "data": {
      "application/vnd.jupyter.widget-view+json": {
       "model_id": "159fea4361734749a5cb3e89a12845ad",
       "version_major": 2,
       "version_minor": 0
      },
      "text/plain": [
       "  0%|          | 0/5 [00:00<?, ?it/s]"
      ]
     },
     "metadata": {},
     "output_type": "display_data"
    },
    {
     "name": "stdout",
     "output_type": "stream",
     "text": [
      "time consumed: 7.03\n",
      "++++++++++++++++++++++++++++++++++++++++++++++++++++++++++++++++++++++++++++++++++++++++++++++++++++++++++++++++++++++++++++++++++++++++++++++++++++++ \n",
      "combination 173: (0.4, 10, 2, 2)\n"
     ]
    },
    {
     "data": {
      "application/vnd.jupyter.widget-view+json": {
       "model_id": "134a2c3e1f4147668c153c6a9b55821e",
       "version_major": 2,
       "version_minor": 0
      },
      "text/plain": [
       "  0%|          | 0/5 [00:00<?, ?it/s]"
      ]
     },
     "metadata": {},
     "output_type": "display_data"
    },
    {
     "name": "stdout",
     "output_type": "stream",
     "text": [
      "time consumed: 6.95\n",
      "++++++++++++++++++++++++++++++++++++++++++++++++++++++++++++++++++++++++++++++++++++++++++++++++++++++++++++++++++++++++++++++++++++++++++++++++++++++ \n",
      "combination 174: (0.4, 10, 2, 5)\n"
     ]
    },
    {
     "data": {
      "application/vnd.jupyter.widget-view+json": {
       "model_id": "afc6f25418ea4b9ba61f1346a9e5fc3e",
       "version_major": 2,
       "version_minor": 0
      },
      "text/plain": [
       "  0%|          | 0/5 [00:00<?, ?it/s]"
      ]
     },
     "metadata": {},
     "output_type": "display_data"
    },
    {
     "name": "stdout",
     "output_type": "stream",
     "text": [
      "time consumed: 6.94\n",
      "++++++++++++++++++++++++++++++++++++++++++++++++++++++++++++++++++++++++++++++++++++++++++++++++++++++++++++++++++++++++++++++++++++++++++++++++++++++ \n",
      "combination 175: (0.4, 10, 5, 1)\n"
     ]
    },
    {
     "data": {
      "application/vnd.jupyter.widget-view+json": {
       "model_id": "32f72b339f0041adb8dd2c2c4f5f3604",
       "version_major": 2,
       "version_minor": 0
      },
      "text/plain": [
       "  0%|          | 0/5 [00:00<?, ?it/s]"
      ]
     },
     "metadata": {},
     "output_type": "display_data"
    },
    {
     "name": "stdout",
     "output_type": "stream",
     "text": [
      "time consumed: 6.96\n",
      "++++++++++++++++++++++++++++++++++++++++++++++++++++++++++++++++++++++++++++++++++++++++++++++++++++++++++++++++++++++++++++++++++++++++++++++++++++++ \n",
      "combination 176: (0.4, 10, 5, 2)\n"
     ]
    },
    {
     "data": {
      "application/vnd.jupyter.widget-view+json": {
       "model_id": "e6712ffba34d4e019a41592259120013",
       "version_major": 2,
       "version_minor": 0
      },
      "text/plain": [
       "  0%|          | 0/5 [00:00<?, ?it/s]"
      ]
     },
     "metadata": {},
     "output_type": "display_data"
    },
    {
     "name": "stdout",
     "output_type": "stream",
     "text": [
      "time consumed: 6.92\n",
      "++++++++++++++++++++++++++++++++++++++++++++++++++++++++++++++++++++++++++++++++++++++++++++++++++++++++++++++++++++++++++++++++++++++++++++++++++++++ \n",
      "combination 177: (0.4, 10, 5, 5)\n"
     ]
    },
    {
     "data": {
      "application/vnd.jupyter.widget-view+json": {
       "model_id": "c24b9b8b1d2645a19bac9b90d560a9fe",
       "version_major": 2,
       "version_minor": 0
      },
      "text/plain": [
       "  0%|          | 0/5 [00:00<?, ?it/s]"
      ]
     },
     "metadata": {},
     "output_type": "display_data"
    },
    {
     "name": "stdout",
     "output_type": "stream",
     "text": [
      "time consumed: 6.92\n",
      "++++++++++++++++++++++++++++++++++++++++++++++++++++++++++++++++++++++++++++++++++++++++++++++++++++++++++++++++++++++++++++++++++++++++++++++++++++++ \n",
      "combination 178: (0.4, 10, 10, 1)\n"
     ]
    },
    {
     "data": {
      "application/vnd.jupyter.widget-view+json": {
       "model_id": "fb1c35ee84bc4f2184d2816affddd853",
       "version_major": 2,
       "version_minor": 0
      },
      "text/plain": [
       "  0%|          | 0/5 [00:00<?, ?it/s]"
      ]
     },
     "metadata": {},
     "output_type": "display_data"
    },
    {
     "name": "stdout",
     "output_type": "stream",
     "text": [
      "time consumed: 6.96\n",
      "++++++++++++++++++++++++++++++++++++++++++++++++++++++++++++++++++++++++++++++++++++++++++++++++++++++++++++++++++++++++++++++++++++++++++++++++++++++ \n",
      "combination 179: (0.4, 10, 10, 2)\n"
     ]
    },
    {
     "data": {
      "application/vnd.jupyter.widget-view+json": {
       "model_id": "43e71d6721d048399c8301cfe8650258",
       "version_major": 2,
       "version_minor": 0
      },
      "text/plain": [
       "  0%|          | 0/5 [00:00<?, ?it/s]"
      ]
     },
     "metadata": {},
     "output_type": "display_data"
    },
    {
     "name": "stdout",
     "output_type": "stream",
     "text": [
      "time consumed: 6.97\n",
      "++++++++++++++++++++++++++++++++++++++++++++++++++++++++++++++++++++++++++++++++++++++++++++++++++++++++++++++++++++++++++++++++++++++++++++++++++++++ \n",
      "combination 180: (0.4, 10, 10, 5)\n"
     ]
    },
    {
     "data": {
      "application/vnd.jupyter.widget-view+json": {
       "model_id": "bc169f358f024735a6ad4f084b5eeda7",
       "version_major": 2,
       "version_minor": 0
      },
      "text/plain": [
       "  0%|          | 0/5 [00:00<?, ?it/s]"
      ]
     },
     "metadata": {},
     "output_type": "display_data"
    },
    {
     "name": "stdout",
     "output_type": "stream",
     "text": [
      "time consumed: 6.88\n",
      "++++++++++++++++++++++++++++++++++++++++++++++++++++++++++++++++++++++++++++++++++++++++++++++++++++++++++++++++++++++++++++++++++++++++++++++++++++++ \n",
      "combination 181: (0.4, 20, 1, 1)\n"
     ]
    },
    {
     "data": {
      "application/vnd.jupyter.widget-view+json": {
       "model_id": "c9036f4f2b0f419385ebd5cdc285113b",
       "version_major": 2,
       "version_minor": 0
      },
      "text/plain": [
       "  0%|          | 0/5 [00:00<?, ?it/s]"
      ]
     },
     "metadata": {},
     "output_type": "display_data"
    },
    {
     "name": "stdout",
     "output_type": "stream",
     "text": [
      "time consumed: 7.14\n",
      "++++++++++++++++++++++++++++++++++++++++++++++++++++++++++++++++++++++++++++++++++++++++++++++++++++++++++++++++++++++++++++++++++++++++++++++++++++++ \n",
      "combination 182: (0.4, 20, 1, 2)\n"
     ]
    },
    {
     "data": {
      "application/vnd.jupyter.widget-view+json": {
       "model_id": "cd7b045c703b42ecab14c383ac55c113",
       "version_major": 2,
       "version_minor": 0
      },
      "text/plain": [
       "  0%|          | 0/5 [00:00<?, ?it/s]"
      ]
     },
     "metadata": {},
     "output_type": "display_data"
    },
    {
     "name": "stdout",
     "output_type": "stream",
     "text": [
      "time consumed: 7.19\n",
      "++++++++++++++++++++++++++++++++++++++++++++++++++++++++++++++++++++++++++++++++++++++++++++++++++++++++++++++++++++++++++++++++++++++++++++++++++++++ \n",
      "combination 183: (0.4, 20, 1, 5)\n"
     ]
    },
    {
     "data": {
      "application/vnd.jupyter.widget-view+json": {
       "model_id": "10eb8a5df3a94c27ae9cfca708802d71",
       "version_major": 2,
       "version_minor": 0
      },
      "text/plain": [
       "  0%|          | 0/5 [00:00<?, ?it/s]"
      ]
     },
     "metadata": {},
     "output_type": "display_data"
    },
    {
     "name": "stdout",
     "output_type": "stream",
     "text": [
      "time consumed: 7.1\n",
      "++++++++++++++++++++++++++++++++++++++++++++++++++++++++++++++++++++++++++++++++++++++++++++++++++++++++++++++++++++++++++++++++++++++++++++++++++++++ \n",
      "combination 184: (0.4, 20, 2, 1)\n"
     ]
    },
    {
     "data": {
      "application/vnd.jupyter.widget-view+json": {
       "model_id": "b47bf579f92744e58d31567f0f4b2f51",
       "version_major": 2,
       "version_minor": 0
      },
      "text/plain": [
       "  0%|          | 0/5 [00:00<?, ?it/s]"
      ]
     },
     "metadata": {},
     "output_type": "display_data"
    },
    {
     "name": "stdout",
     "output_type": "stream",
     "text": [
      "time consumed: 7.14\n",
      "++++++++++++++++++++++++++++++++++++++++++++++++++++++++++++++++++++++++++++++++++++++++++++++++++++++++++++++++++++++++++++++++++++++++++++++++++++++ \n",
      "combination 185: (0.4, 20, 2, 2)\n"
     ]
    },
    {
     "data": {
      "application/vnd.jupyter.widget-view+json": {
       "model_id": "75b11657b46a456bb6461a5ee5512ee4",
       "version_major": 2,
       "version_minor": 0
      },
      "text/plain": [
       "  0%|          | 0/5 [00:00<?, ?it/s]"
      ]
     },
     "metadata": {},
     "output_type": "display_data"
    },
    {
     "name": "stdout",
     "output_type": "stream",
     "text": [
      "time consumed: 7.13\n",
      "++++++++++++++++++++++++++++++++++++++++++++++++++++++++++++++++++++++++++++++++++++++++++++++++++++++++++++++++++++++++++++++++++++++++++++++++++++++ \n",
      "combination 186: (0.4, 20, 2, 5)\n"
     ]
    },
    {
     "data": {
      "application/vnd.jupyter.widget-view+json": {
       "model_id": "fd684256c4a04f749a0f99b40b77b62f",
       "version_major": 2,
       "version_minor": 0
      },
      "text/plain": [
       "  0%|          | 0/5 [00:00<?, ?it/s]"
      ]
     },
     "metadata": {},
     "output_type": "display_data"
    },
    {
     "name": "stdout",
     "output_type": "stream",
     "text": [
      "time consumed: 7.13\n",
      "++++++++++++++++++++++++++++++++++++++++++++++++++++++++++++++++++++++++++++++++++++++++++++++++++++++++++++++++++++++++++++++++++++++++++++++++++++++ \n",
      "combination 187: (0.4, 20, 5, 1)\n"
     ]
    },
    {
     "data": {
      "application/vnd.jupyter.widget-view+json": {
       "model_id": "f1d0f754cac94fddbdbf702b2753b12c",
       "version_major": 2,
       "version_minor": 0
      },
      "text/plain": [
       "  0%|          | 0/5 [00:00<?, ?it/s]"
      ]
     },
     "metadata": {},
     "output_type": "display_data"
    },
    {
     "name": "stdout",
     "output_type": "stream",
     "text": [
      "time consumed: 7.12\n",
      "++++++++++++++++++++++++++++++++++++++++++++++++++++++++++++++++++++++++++++++++++++++++++++++++++++++++++++++++++++++++++++++++++++++++++++++++++++++ \n",
      "combination 188: (0.4, 20, 5, 2)\n"
     ]
    },
    {
     "data": {
      "application/vnd.jupyter.widget-view+json": {
       "model_id": "96e213934e9c4c4fb01292d2bf23188b",
       "version_major": 2,
       "version_minor": 0
      },
      "text/plain": [
       "  0%|          | 0/5 [00:00<?, ?it/s]"
      ]
     },
     "metadata": {},
     "output_type": "display_data"
    },
    {
     "name": "stdout",
     "output_type": "stream",
     "text": [
      "time consumed: 7.12\n",
      "++++++++++++++++++++++++++++++++++++++++++++++++++++++++++++++++++++++++++++++++++++++++++++++++++++++++++++++++++++++++++++++++++++++++++++++++++++++ \n",
      "combination 189: (0.4, 20, 5, 5)\n"
     ]
    },
    {
     "data": {
      "application/vnd.jupyter.widget-view+json": {
       "model_id": "66614ac2c8064733b67ac2400cebe51a",
       "version_major": 2,
       "version_minor": 0
      },
      "text/plain": [
       "  0%|          | 0/5 [00:00<?, ?it/s]"
      ]
     },
     "metadata": {},
     "output_type": "display_data"
    },
    {
     "name": "stdout",
     "output_type": "stream",
     "text": [
      "time consumed: 7.09\n",
      "++++++++++++++++++++++++++++++++++++++++++++++++++++++++++++++++++++++++++++++++++++++++++++++++++++++++++++++++++++++++++++++++++++++++++++++++++++++ \n",
      "combination 190: (0.4, 20, 10, 1)\n"
     ]
    },
    {
     "data": {
      "application/vnd.jupyter.widget-view+json": {
       "model_id": "38620ba7a59a4f2982d96d8461b4eee2",
       "version_major": 2,
       "version_minor": 0
      },
      "text/plain": [
       "  0%|          | 0/5 [00:00<?, ?it/s]"
      ]
     },
     "metadata": {},
     "output_type": "display_data"
    },
    {
     "name": "stdout",
     "output_type": "stream",
     "text": [
      "time consumed: 7.08\n",
      "++++++++++++++++++++++++++++++++++++++++++++++++++++++++++++++++++++++++++++++++++++++++++++++++++++++++++++++++++++++++++++++++++++++++++++++++++++++ \n",
      "combination 191: (0.4, 20, 10, 2)\n"
     ]
    },
    {
     "data": {
      "application/vnd.jupyter.widget-view+json": {
       "model_id": "d4a8dce01ac34dc5a9ae366feae21302",
       "version_major": 2,
       "version_minor": 0
      },
      "text/plain": [
       "  0%|          | 0/5 [00:00<?, ?it/s]"
      ]
     },
     "metadata": {},
     "output_type": "display_data"
    },
    {
     "name": "stdout",
     "output_type": "stream",
     "text": [
      "time consumed: 7.07\n",
      "++++++++++++++++++++++++++++++++++++++++++++++++++++++++++++++++++++++++++++++++++++++++++++++++++++++++++++++++++++++++++++++++++++++++++++++++++++++ \n",
      "combination 192: (0.4, 20, 10, 5)\n"
     ]
    },
    {
     "data": {
      "application/vnd.jupyter.widget-view+json": {
       "model_id": "ca703f97670843a7aee8ed97c79de799",
       "version_major": 2,
       "version_minor": 0
      },
      "text/plain": [
       "  0%|          | 0/5 [00:00<?, ?it/s]"
      ]
     },
     "metadata": {},
     "output_type": "display_data"
    },
    {
     "name": "stdout",
     "output_type": "stream",
     "text": [
      "time consumed: 7.08\n"
     ]
    },
    {
     "data": {
      "image/png": "[encoded data removed]",
      "text/plain": [
       "<Figure size 432x288 with 1 Axes>"
      ]
     },
     "metadata": {
      "needs_background": "light"
     },
     "output_type": "display_data"
    }
   ],
   "source": [
    "lsts = [prob_produce_space, base_response_space, half_life_price_infl_space, half_life_price_ma_space]\n",
    "score_lst = []\n",
    "score_dic = {}\n",
    "\n",
    "var_comb_cnt = 0 \n",
    "for i in itertools.product(*lsts):\n",
    "#     init vars\n",
    "    start = time.time()\n",
    "    var_comb_cnt += 1\n",
    "    print('+++'*50, '\\ncombination %d: %s'%(var_comb_cnt, i))\n",
    "\n",
    "    prob_produce = i[0] # probability of developing deposits reaching operating stage \n",
    "    base_response = i[1] # smaller the smalaler ds effect\n",
    "    half_life_price_infl = i[2] # larger the smaller ds effect\n",
    "    half_life_price_ma = i[3]\n",
    "\n",
    "    half_life_price_ma *= TIME_STEP_PER_YEAR\n",
    "    half_life_price_infl *= TIME_STEP_PER_YEAR\n",
    "    a_ppf = 1 - np.exp(np.log(0.5) / (half_life_price_ma))\n",
    "    r_pfr = -np.log(2) / half_life_price_infl\n",
    "    \n",
    "    supply_simulation_resList, price_simulation_resList = batch_multi_simulation()\n",
    "    supply_yearly = [[np.sum(lst[i*TIME_STEP_PER_YEAR:(i+1)*TIME_STEP_PER_YEAR]) for i in range(NUM_YEAR)]\n",
    "                                                                 for lst in supply_simulation_resList]\n",
    "    supply_yearly = np.array(supply_yearly)\n",
    "    demand_yearly_mean = [preset_demand_ori[int(i*TIME_STEP_PER_YEAR+1)] for i in range(NUM_YEAR)]\n",
    "    demand_yearly = [demand_yearly_mean for i in range(SIMULATION_STEP)]\n",
    "    demand_yearly = np.array(demand_yearly)\n",
    "\n",
    "    diff = evaluate(demand_yearly, supply_yearly)\n",
    "    score = np.mean(diff)    \n",
    "    score_dic.update({i:score})\n",
    "    \n",
    "    end = time.time()\n",
    "    print('time consumed:', np.round((end-start)/60, 2))\n"
   ]
  },
  {
   "cell_type": "code",
   "execution_count": 107,
   "id": "d573930e",
   "metadata": {
    "ExecuteTime": {
     "end_time": "2022-05-26T02:39:22.464309Z",
     "start_time": "2022-05-26T02:39:22.417713Z"
    }
   },
   "outputs": [
    {
     "data": {
      "text/plain": [
       "{(0.2, 10, 2, 1): 51.457537854266306,\n",
       " (0.1, 10, 1, 2): 53.7501280144307,\n",
       " (0.3, 10, 1, 5): 55.346806274664026,\n",
       " (0.2, 20, 10, 5): 56.67662404214777,\n",
       " (0.2, 10, 1, 2): 57.12918840486759,\n",
       " (0.1, 10, 1, 1): 58.58011687277839,\n",
       " (0.4, 10, 1, 5): 58.66756666312862,\n",
       " (0.3, 10, 5, 1): 58.84304877351133,\n",
       " (0.1, 10, 5, 2): 59.44784166381079,\n",
       " (0.3, 10, 1, 1): 59.63589376352293,\n",
       " (0.4, 20, 10, 5): 60.55324466419445,\n",
       " (0.3, 10, 1, 2): 60.60055650518753,\n",
       " (0.1, 10, 2, 1): 60.7358471486119,\n",
       " (0.3, 20, 2, 5): 60.85946535141757,\n",
       " (0.2, 10, 1, 1): 61.33271773387612,\n",
       " (0.4, 10, 2, 5): 61.42998795136018,\n",
       " (0.1, 20, 10, 1): 61.757635647096286,\n",
       " (0.4, 10, 2, 2): 62.66995539377204,\n",
       " (0.2, 20, 10, 1): 62.77727776212093,\n",
       " (0.1, 20, 10, 5): 62.92806117045004,\n",
       " (0.1, 20, 5, 2): 63.48406642063262,\n",
       " (0.1, 10, 1, 5): 63.61637624243777,\n",
       " (0.1, 20, 10, 2): 63.82252949061093,\n",
       " (0.3, 20, 2, 1): 63.97951499522462,\n",
       " (0.3, 10, 2, 5): 64.35248572917354,\n",
       " (0.1, 10, 2, 5): 64.47033483356203,\n",
       " (0.4, 20, 2, 1): 64.63341189537559,\n",
       " (0.3, 10, 10, 1): 64.8488228986693,\n",
       " (0.2, 20, 10, 2): 65.02819896724651,\n",
       " (0.3, 10, 5, 5): 65.040776391262,\n",
       " (0.2, 10, 10, 1): 65.36807897364443,\n",
       " (0.2, 20, 5, 2): 65.67253583579864,\n",
       " (0.2, 10, 1, 5): 66.77109112620153,\n",
       " (0.2, 10, 2, 2): 67.54762168958231,\n",
       " (0.4, 20, 5, 5): 67.96385162495552,\n",
       " (0.4, 10, 1, 2): 68.63352371433561,\n",
       " (0.4, 20, 10, 1): 68.74149654582007,\n",
       " (0.3, 10, 2, 2): 69.47365726517339,\n",
       " (0.4, 20, 2, 5): 70.10825622022173,\n",
       " (0.3, 20, 5, 5): 70.13293330554748,\n",
       " (0.1, 20, 2, 2): 70.19688543563781,\n",
       " (0.1, 10, 5, 1): 70.37311882793519,\n",
       " (0.2, 20, 5, 5): 70.39043921390204,\n",
       " (0.1, 20, 5, 1): 71.35138541298713,\n",
       " (0.1, 10, 10, 5): 71.42309244162188,\n",
       " (0.4, 10, 2, 1): 71.42926692181705,\n",
       " (0.4, 10, 5, 2): 71.43339254535756,\n",
       " (0.2, 10, 5, 2): 71.6148471533703,\n",
       " (0.4, 20, 5, 2): 71.9991891154833,\n",
       " (0.2, 10, 5, 1): 72.27450335213551,\n",
       " (0.1, 20, 5, 5): 72.8827316596398,\n",
       " (0.3, 20, 5, 2): 72.90749194661345,\n",
       " (0.1, 10, 10, 2): 72.91902367167192,\n",
       " (0.4, 10, 5, 5): 73.83428701883732,\n",
       " (0.2, 20, 5, 1): 74.0806225047996,\n",
       " (0.1, 10, 5, 5): 74.17088740837382,\n",
       " (0.3, 10, 10, 2): 74.75987326716202,\n",
       " (0.2, 10, 5, 5): 74.848379746975,\n",
       " (0.3, 20, 10, 5): 74.97162180901972,\n",
       " (0.2, 10, 10, 5): 75.38286212257124,\n",
       " (0.1, 10, 10, 1): 75.44724161273155,\n",
       " (0.1, 10, 2, 2): 75.6323716231847,\n",
       " (0.2, 20, 2, 5): 75.67367939042698,\n",
       " (0.4, 10, 10, 2): 75.6914753942431,\n",
       " (0.3, 10, 2, 1): 75.89795138225429,\n",
       " (0.4, 10, 10, 1): 75.95831478971482,\n",
       " (0.3, 10, 5, 2): 76.35488042952137,\n",
       " (0.3, 20, 10, 2): 76.64921020438,\n",
       " (0.3, 10, 10, 5): 76.88405571736521,\n",
       " (0.2, 10, 10, 2): 77.99933586871856,\n",
       " (0.3, 20, 10, 1): 78.1888207848863,\n",
       " (0.3, 5, 1, 1): 78.94231446568877,\n",
       " (0.4, 20, 10, 2): 78.97405734208682,\n",
       " (0.4, 10, 5, 1): 78.99884741015504,\n",
       " (0.4, 20, 1, 5): 79.99814173859342,\n",
       " (0.2, 10, 2, 5): 80.5091119300528,\n",
       " (0.2, 20, 2, 1): 81.82363551995239,\n",
       " (0.4, 10, 10, 5): 82.18173428015203,\n",
       " (0.4, 5, 1, 1): 82.29393268181771,\n",
       " (0.1, 20, 2, 1): 82.29883689692531,\n",
       " (0.4, 20, 5, 1): 82.69406975739261,\n",
       " (0.4, 10, 1, 1): 83.0268177504015,\n",
       " (0.3, 20, 1, 5): 83.43724970412919,\n",
       " (0.2, 20, 2, 2): 83.47168112978517,\n",
       " (0.1, 20, 1, 1): 83.71768386260212,\n",
       " (0.3, 20, 2, 2): 84.9142401349689,\n",
       " (0.1, 5, 1, 1): 85.04665379522945,\n",
       " (0.4, 20, 2, 2): 85.17403640809064,\n",
       " (0.1, 20, 2, 5): 85.2334446234437,\n",
       " (0.1, 5, 1, 5): 86.71896763939735,\n",
       " (0.4, 5, 1, 2): 86.7653891561269,\n",
       " (0.1, 20, 1, 5): 88.06965431364775,\n",
       " (0.4, 20, 1, 2): 88.12180433103393,\n",
       " (0.4, 5, 1, 5): 88.63401880911125,\n",
       " (0.3, 20, 5, 1): 88.75685609630497,\n",
       " (0.2, 5, 1, 2): 89.04419974200047,\n",
       " (0.1, 20, 1, 2): 89.75440006886714,\n",
       " (0.3, 5, 1, 5): 89.94998874601825,\n",
       " (0.3, 20, 1, 1): 90.36258122398758,\n",
       " (0.1, 5, 1, 2): 90.80938219337364,\n",
       " (0.2, 20, 1, 2): 91.30185739111997,\n",
       " (0.3, 20, 1, 2): 92.46812938395483,\n",
       " (0.4, 20, 1, 1): 93.12996483516119,\n",
       " (0.3, 5, 1, 2): 93.42843096587748,\n",
       " (0.2, 20, 1, 1): 95.439469509536,\n",
       " (0.2, 5, 1, 5): 95.76493053745344,\n",
       " (0.2, 5, 1, 1): 100.02244822638977,\n",
       " (0.2, 20, 1, 5): 103.40534794766727,\n",
       " (0.3, 5, 2, 2): 107.90064089214988,\n",
       " (0.4, 5, 2, 5): 109.4530364931355,\n",
       " (0.3, 5, 2, 1): 109.97607007918619,\n",
       " (0.2, 5, 2, 2): 110.52609290799792,\n",
       " (0.2, 5, 2, 1): 111.65941724004817,\n",
       " (0.4, 5, 2, 1): 112.30492603094385,\n",
       " (0.1, 5, 2, 1): 112.79162836740332,\n",
       " (0.4, 5, 2, 2): 114.63888997104729,\n",
       " (0.3, 5, 5, 2): 116.70389862066554,\n",
       " (0.1, 5, 2, 2): 117.76887181832483,\n",
       " (0.2, 5, 5, 1): 117.99368387526916,\n",
       " (0.1, 5, 5, 5): 118.17709357352604,\n",
       " (0.3, 5, 2, 5): 118.18372429542065,\n",
       " (0.1, 5, 2, 5): 118.30184738594255,\n",
       " (0.1, 5, 5, 2): 118.44213702986117,\n",
       " (0.3, 5, 5, 1): 119.26123186463278,\n",
       " (0.3, 5, 10, 2): 120.29400014604172,\n",
       " (0.1, 5, 5, 1): 121.74471705858703,\n",
       " (0.2, 5, 2, 5): 122.745567530452,\n",
       " (0.3, 3, 1, 2): 123.10140940085232,\n",
       " (0.3, 5, 10, 1): 123.37520281926395,\n",
       " (0.2, 5, 5, 2): 123.68470501331717,\n",
       " (0.4, 5, 5, 2): 123.71762835144735,\n",
       " (0.2, 5, 5, 5): 125.10108887552387,\n",
       " (0.2, 5, 10, 2): 125.63696501732868,\n",
       " (0.2, 3, 1, 1): 125.91092069929766,\n",
       " (0.4, 5, 5, 5): 126.58550194115051,\n",
       " (0.2, 3, 1, 2): 127.07593310863808,\n",
       " (0.4, 5, 5, 1): 127.13389496364171,\n",
       " (0.1, 5, 10, 2): 127.20293578073174,\n",
       " (0.4, 3, 1, 5): 127.39431212052645,\n",
       " (0.1, 3, 1, 2): 127.96559656873742,\n",
       " (0.4, 5, 10, 5): 128.35567568321767,\n",
       " (0.4, 3, 1, 2): 129.1836604360013,\n",
       " (0.3, 5, 5, 5): 129.27994306289736,\n",
       " (0.4, 5, 10, 1): 129.3725253217811,\n",
       " (0.2, 5, 10, 1): 129.9114363559025,\n",
       " (0.1, 5, 10, 1): 130.02733062595266,\n",
       " (0.3, 5, 10, 5): 130.06059099248847,\n",
       " (0.3, 3, 1, 5): 130.7891060095231,\n",
       " (0.1, 5, 10, 5): 130.92432236554296,\n",
       " (0.4, 5, 10, 2): 131.17449583036023,\n",
       " (0.2, 3, 1, 5): 131.19942191773907,\n",
       " (0.1, 3, 1, 5): 132.28007260808857,\n",
       " (0.1, 3, 1, 1): 132.88279054453778,\n",
       " (0.3, 3, 1, 1): 134.16238535259626,\n",
       " (0.2, 5, 10, 5): 134.60190199846917,\n",
       " (0.2, 3, 2, 5): 140.60596712680513,\n",
       " (0.4, 3, 2, 5): 143.38989513471296,\n",
       " (0.4, 3, 1, 1): 143.44186875375763,\n",
       " (0.4, 3, 2, 2): 146.01102612931263,\n",
       " (0.2, 3, 2, 1): 147.1850790256161,\n",
       " (0.3, 3, 2, 1): 149.72178567913843,\n",
       " (0.3, 3, 2, 2): 149.78630876273158,\n",
       " (0.1, 3, 2, 2): 151.11744075870357,\n",
       " (0.1, 3, 2, 5): 152.2929778512119,\n",
       " (0.1, 3, 2, 1): 153.50404140175075,\n",
       " (0.3, 3, 2, 5): 154.68610732706026,\n",
       " (0.2, 3, 2, 2): 156.20779570639434,\n",
       " (0.4, 3, 2, 1): 156.93615537552367,\n",
       " (0.3, 3, 5, 2): 165.28133825565345,\n",
       " (0.4, 3, 5, 1): 165.94110172555048,\n",
       " (0.1, 3, 5, 1): 166.83169222512305,\n",
       " (0.1, 3, 5, 5): 167.7928692909346,\n",
       " (0.4, 3, 5, 2): 168.85681464463084,\n",
       " (0.3, 3, 5, 5): 169.1282041650074,\n",
       " (0.3, 3, 5, 1): 169.6488394338224,\n",
       " (0.1, 3, 10, 2): 170.74209753967608,\n",
       " (0.4, 3, 10, 2): 170.89629705162807,\n",
       " (0.3, 3, 10, 1): 171.93299887920796,\n",
       " (0.2, 3, 5, 1): 173.00102580426204,\n",
       " (0.3, 3, 10, 5): 173.02145864979255,\n",
       " (0.1, 3, 10, 5): 173.11799773332376,\n",
       " (0.4, 3, 10, 5): 173.12223313942854,\n",
       " (0.2, 3, 5, 5): 173.32620304517096,\n",
       " (0.1, 3, 10, 1): 173.69396923868004,\n",
       " (0.1, 3, 5, 2): 174.08214078830042,\n",
       " (0.4, 3, 5, 5): 174.41172691370522,\n",
       " (0.3, 3, 10, 2): 174.52031766322233,\n",
       " (0.2, 3, 10, 2): 174.59852498926554,\n",
       " (0.2, 3, 5, 2): 174.84130048352793,\n",
       " (0.4, 3, 10, 1): 175.42763598922676,\n",
       " (0.2, 3, 10, 1): 176.8916644504613,\n",
       " (0.2, 3, 10, 5): 182.33869833905152}"
      ]
     },
     "execution_count": 107,
     "metadata": {},
     "output_type": "execute_result"
    }
   ],
   "source": [
    "dict(sorted(score_dic.items(), key=lambda item: item[1]))"
   ]
  },
  {
   "cell_type": "markdown",
   "id": "17bc7aed",
   "metadata": {},
   "source": [
    "# Visualization"
   ]
  },
  {
   "cell_type": "code",
   "execution_count": null,
   "id": "b1812713",
   "metadata": {
    "ExecuteTime": {
     "end_time": "2022-05-24T16:53:33.101730Z",
     "start_time": "2022-05-24T16:53:33.101721Z"
    }
   },
   "outputs": [],
   "source": [
    "import plotly.express as px\n",
    "import plotly.graph_objs as go"
   ]
  },
  {
   "cell_type": "code",
   "execution_count": null,
   "id": "df5cb983",
   "metadata": {
    "ExecuteTime": {
     "end_time": "2022-05-24T16:53:33.102538Z",
     "start_time": "2022-05-24T16:53:33.102530Z"
    }
   },
   "outputs": [],
   "source": [
    "labels = df['country_name'].value_counts().index.tolist()[:19]\n"
   ]
  },
  {
   "cell_type": "code",
   "execution_count": null,
   "id": "d3450d71",
   "metadata": {
    "ExecuteTime": {
     "end_time": "2022-05-24T16:53:33.103225Z",
     "start_time": "2022-05-24T16:53:33.103217Z"
    },
    "scrolled": false
   },
   "outputs": [],
   "source": [
    "data = tp[11].copy()\n",
    "data = data[data['production (mt)']>0]\n",
    "data = data.sort_values(by='production (mt)', ascending=False).head(70)\n",
    "data['production (mt)_bin'] = pd.cut(data['production (mt)'], bins=[-np.inf, 1000, 2000, 5000, 10000, 20000, 50000, 100000, np.inf], labels=range(1, 9)).astype(float)\n",
    "data = data.rename(columns={'production (mt)_bin':'productivity level'})\n",
    "\n",
    "data.loc[:, 'country_name_new'] = data.loc[:, 'country_name']\n",
    "data.loc[~df['country_name'].isin(labels), 'country_name_new'] = 'others'\n",
    "\n",
    "data = data.sort_values(by='country_name_new', ascending=False)\n",
    "\n",
    "token = 'pk.eyJ1IjoiemlwcGVlIiwiYSI6ImNreGluZW5iMzAwNTUyb256aGxiYzJhNm8ifQ.MbI3pSI-pcwr2QA070dtew'\n",
    "fig = px.scatter_mapbox(data,\n",
    "                        lon = 'longitude',\n",
    "                        lat = 'latitude',\n",
    "#                         color = 'country_name_new',\n",
    "                        title = 'nickel mine distribution',\n",
    "                        zoom = 1,\n",
    "                        category_orders=dict(zip(labels+['others'], range(20))),\n",
    "                        size = 'production (mt)',\n",
    "                        size_max = data['production (mt)'].max()/5000,\n",
    "                        width=1000,\n",
    "                        height=600,\n",
    "                        color_continuous_scale = px.colors.carto.Sunsetdark)\n",
    "fig.update_layout(mapbox = {'accesstoken':token, 'style':\"light\" },\n",
    "                 title = dict(x=0.5,xref='paper'),\n",
    "                 margin={'l':10,\"r\":0,'t':50,'b':10})\n"
   ]
  },
  {
   "cell_type": "code",
   "execution_count": 331,
   "id": "0dce0979",
   "metadata": {
    "ExecuteTime": {
     "end_time": "2022-05-30T06:17:56.206161Z",
     "start_time": "2022-05-30T06:17:56.102849Z"
    }
   },
   "outputs": [
    {
     "data": {
      "text/plain": [
       "219106138"
      ]
     },
     "execution_count": 331,
     "metadata": {},
     "output_type": "execute_result"
    }
   ],
   "source": [
    "2968289 + 10113337 + 4279599 + 28534442 + 951732 + 11191 + 11040 + 527704 + 3128723 + 524345 + 44897522 + 734927 + 25631 + 11 + 28835 + 1774 + 5219 + 3121 + 5737 + 934 + 3 + 130 + 8931 + 24 + 24473 + 15644 + 7 + 26 + 26 + 605 + 7740438 + 666635 + 5424267 + 679442 + 23564337 + 11676880 + 112224 + 15440 + 141883 + 202456 + 25062 + 4782 + 19353 + 624 + 123236 + 26 + 1 + 25317065 + 46587817 + 188"
   ]
  },
  {
   "cell_type": "code",
   "execution_count": null,
   "id": "bcc6effe",
   "metadata": {},
   "outputs": [],
   "source": []
  },
  {
   "cell_type": "code",
   "execution_count": null,
   "id": "54221d73",
   "metadata": {},
   "outputs": [],
   "source": []
  }
 ],
 "metadata": {
  "hide_input": false,
  "kernelspec": {
   "display_name": "Python 3 (ipykernel)",
   "language": "python",
   "name": "python3"
  },
  "language_info": {
   "codemirror_mode": {
    "name": "ipython",
    "version": 3
   },
   "file_extension": ".py",
   "mimetype": "text/x-python",
   "name": "python",
   "nbconvert_exporter": "python",
   "pygments_lexer": "ipython3",
   "version": "3.9.12"
  },
  "toc": {
   "base_numbering": 1,
   "nav_menu": {},
   "number_sections": true,
   "sideBar": true,
   "skip_h1_title": false,
   "title_cell": "Table of Contents",
   "title_sidebar": "Contents",
   "toc_cell": false,
   "toc_position": {
    "height": "calc(100% - 180px)",
    "left": "10px",
    "top": "150px",
    "width": "199px"
   },
   "toc_section_display": true,
   "toc_window_display": true
  },
  "varInspector": {
   "cols": {
    "lenName": 16,
    "lenType": 16,
    "lenVar": 40
   },
   "kernels_config": {
    "python": {
     "delete_cmd_postfix": "",
     "delete_cmd_prefix": "del ",
     "library": "var_list.py",
     "varRefreshCmd": "print(var_dic_list())"
    },
    "r": {
     "delete_cmd_postfix": ") ",
     "delete_cmd_prefix": "rm(",
     "library": "var_list.r",
     "varRefreshCmd": "cat(var_dic_list()) "
    }
   },
   "types_to_exclude": [
    "module",
    "function",
    "builtin_function_or_method",
    "instance",
    "_Feature"
   ],
   "window_display": false
  }
 },
 "nbformat": 4,
 "nbformat_minor": 5
}

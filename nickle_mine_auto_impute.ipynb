{
 "cells": [
  {
   "cell_type": "code",
   "execution_count": 106,
   "id": "84c869ef",
   "metadata": {
    "ExecuteTime": {
     "end_time": "2022-05-22T19:18:45.023365Z",
     "start_time": "2022-05-22T19:18:45.013013Z"
    }
   },
   "outputs": [],
   "source": [
    "import pandas as pd\n",
    "import math\n",
    "from fuzzywuzzy import fuzz\n",
    "import numpy as np\n",
    "import matplotlib.pyplot as plt\n",
    "import seaborn as sns\n",
    "\n",
    "pd.options.display.max_rows = 999\n",
    "pd.options.display.max_columns = 200\n",
    "\n",
    "from IPython.core.interactiveshell import InteractiveShell\n",
    "InteractiveShell.ast_node_interactivity='all'\n",
    "\n",
    "import glob\n",
    "\n",
    "import warnings\n",
    "warnings.filterwarnings(\"ignore\")\n",
    "\n"
   ]
  },
  {
   "cell_type": "markdown",
   "id": "5cd1c53c",
   "metadata": {},
   "source": [
    "# Data Perparation"
   ]
  },
  {
   "cell_type": "markdown",
   "id": "5dc7f94e",
   "metadata": {},
   "source": [
    "## S&P"
   ]
  },
  {
   "cell_type": "code",
   "execution_count": 107,
   "id": "67ab5efd",
   "metadata": {
    "ExecuteTime": {
     "end_time": "2022-05-22T19:19:35.530870Z",
     "start_time": "2022-05-22T19:18:45.027316Z"
    },
    "scrolled": true
   },
   "outputs": [
    {
     "name": "stdout",
     "output_type": "stream",
     "text": [
      "------------------------------------------------------------ \n",
      " Loading data\n"
     ]
    }
   ],
   "source": [
    "path = '/Users/linzipeng/Documents/IUE/2_Mineral_mining/data/SP/cleaned_data/'\n",
    "files = ['SPGlobal_capital_cost.xlsx','SPGlobal_grade_and_contained.xlsx',\n",
    "'SPGlobal_claim.xlsx','SPGlobal_loc_risk.xlsx','SPGlobal_operator_1.xlsx',\n",
    "'SPGlobal_coal_details.xlsx','SPGlobal_operator_2.xlsx','SPGlobal_ore_capacity_1.xlsx',\n",
    "'SPGlobal_comment.xlsx','SPGlobal_ore_capacity_2.xlsx',\n",
    "'SPGlobal_commodity_capacity_1.xlsx','SPGlobal_ore_production_and_costs.xlsx',\n",
    "'SPGlobal_commodity_capacity_2.xlsx','SPGlobal_ownership_info.xlsx',\n",
    "'SPGlobal_production_rank.xlsx',\n",
    "'SPGlobal_contractor.xlsx','SPGlobal_royalty_detail.xlsx',\n",
    "'SPGlobal_cur_ownership_detail.xlsx','SPGlobal_technology_geology.xlsx',\n",
    "'SPGlobal_drill_hole.xlsx','SPGlobal_tonnage_and_volume.xlsx',\n",
    "'SPGlobal_drill_interval_grade.xlsx','SPGlobal_transaction_details_1.xlsx',\n",
    "'SPGlobal_transaction_details_2.xlsx']\n",
    "files = [path+i for i in files]\n",
    "\n",
    "print('------------'*5, '\\n Loading data')\n",
    "main = pd.read_excel(path+'SPGlobal_general_info.xlsx')\n",
    "for f in files:\n",
    "    temp = pd.read_excel(f)\n",
    "    main = pd.merge(main, temp, how='left')\n"
   ]
  },
  {
   "cell_type": "code",
   "execution_count": 108,
   "id": "0b117a37",
   "metadata": {
    "ExecuteTime": {
     "end_time": "2022-05-22T19:19:35.608202Z",
     "start_time": "2022-05-22T19:19:35.531856Z"
    }
   },
   "outputs": [],
   "source": [
    "main = main[['prop_id', 'owner_country', 'primary_commodity', 'commodities_list', 'geologic_ore_body_type', 'production_forms', 'capital_cost_type', 'amt_capital_invested', 'proj_closure_yr', 'country/region_op_risk', 'country/region_ter_risk', 'country/region_pol_risk', 'country/region_sec_risk']]\n"
   ]
  },
  {
   "cell_type": "markdown",
   "id": "de268926",
   "metadata": {},
   "source": [
    "## manually_imputed_data"
   ]
  },
  {
   "cell_type": "code",
   "execution_count": 109,
   "id": "667b83c8",
   "metadata": {
    "ExecuteTime": {
     "end_time": "2022-05-22T19:19:35.788434Z",
     "start_time": "2022-05-22T19:19:35.609858Z"
    }
   },
   "outputs": [],
   "source": [
    "nickel_mine_ma_proccessed = pd.read_excel('nickel_mine_ma_imputed2.xlsx')\n"
   ]
  },
  {
   "cell_type": "markdown",
   "id": "d2ce2431",
   "metadata": {},
   "source": [
    "## merge"
   ]
  },
  {
   "cell_type": "code",
   "execution_count": 110,
   "id": "ee211641",
   "metadata": {
    "ExecuteTime": {
     "end_time": "2022-05-22T19:19:35.799338Z",
     "start_time": "2022-05-22T19:19:35.789319Z"
    }
   },
   "outputs": [
    {
     "data": {
      "text/plain": [
       "(1459, 40)"
      ]
     },
     "execution_count": 110,
     "metadata": {},
     "output_type": "execute_result"
    }
   ],
   "source": [
    "main = main[main['prop_id'].isin(nickel_mine_ma_proccessed['prop_id'].tolist())]\n",
    "df = pd.merge(nickel_mine_ma_proccessed, main, how='outer')\n",
    "df.shape\n"
   ]
  },
  {
   "cell_type": "code",
   "execution_count": 111,
   "id": "f3af2ba2",
   "metadata": {
    "ExecuteTime": {
     "end_time": "2022-05-22T19:19:35.816806Z",
     "start_time": "2022-05-22T19:19:35.800323Z"
    }
   },
   "outputs": [],
   "source": [
    "df['mine_life'] = df.apply(lambda x:x['proj_closure_yr'] if not pd.isna(x['proj_closure_yr']) else x['mine_life'], axis=1)\n",
    "del df['proj_closure_yr']\n"
   ]
  },
  {
   "cell_type": "code",
   "execution_count": 112,
   "id": "1b43bd7e",
   "metadata": {
    "ExecuteTime": {
     "end_time": "2022-05-22T19:19:35.823720Z",
     "start_time": "2022-05-22T19:19:35.817928Z"
    }
   },
   "outputs": [],
   "source": [
    "df = df[['prop_id', 'prop_name', 'also_known_as', 'owner_name', 'owner_country', 'country_name', 'actv_status', 'dev_stage', 'mine_type1', 'longitude', 'latitude', 'yr_source_date', 'reserve_ore (mt)', 'grade (%)', 'reserve_metal (mt)', 'resource_ore (million mt)', 'resource_metal (mt)', 'primary_commodity', 'commodities_list', 'deposit_type', 'geologic_ore_body_type', 'production_ROM_Ni_tpa', 'production_PROD_Ni_tpa', 'production_forms', 'metall_process', 'recovery_Ni_perc', 'production_capacity', 'start_year', 'mine_life', 'cash_cost (nickel USC/lb)', 'cash_cost (nickel USD/t)', 'cash_cost (ore USD/t)', 'capital_cost_type', 'amt_capital_invested', 'country/region_op_risk', 'country/region_ter_risk', 'country/region_pol_risk', 'country/region_sec_risk', 'remark']]\n"
   ]
  },
  {
   "cell_type": "markdown",
   "id": "8d964f65",
   "metadata": {},
   "source": [
    "## Heijlen"
   ]
  },
  {
   "cell_type": "code",
   "execution_count": 113,
   "id": "c08b48a5",
   "metadata": {
    "ExecuteTime": {
     "end_time": "2022-05-22T19:19:35.826829Z",
     "start_time": "2022-05-22T19:19:35.824757Z"
    }
   },
   "outputs": [],
   "source": [
    "# df2 = pd.read_excel(\"/Users/linzipeng/Desktop/ScienceDirect_files_26Apr2022_08-37-31.905/1-s2.0-S0301420721002166-mmc2.xlsx\",\n",
    "#                     skiprows=2)\n",
    "# df2.head()\n"
   ]
  },
  {
   "cell_type": "markdown",
   "id": "46792fdd",
   "metadata": {},
   "source": [
    "# Data Processing"
   ]
  },
  {
   "cell_type": "markdown",
   "id": "6ae60cfd",
   "metadata": {},
   "source": [
    "## grade"
   ]
  },
  {
   "cell_type": "code",
   "execution_count": 114,
   "id": "f8b807f9",
   "metadata": {
    "ExecuteTime": {
     "end_time": "2022-05-22T19:19:35.837493Z",
     "start_time": "2022-05-22T19:19:35.828194Z"
    },
    "scrolled": true
   },
   "outputs": [
    {
     "data": {
      "text/html": [
       "<div>\n",
       "<style scoped>\n",
       "    .dataframe tbody tr th:only-of-type {\n",
       "        vertical-align: middle;\n",
       "    }\n",
       "\n",
       "    .dataframe tbody tr th {\n",
       "        vertical-align: top;\n",
       "    }\n",
       "\n",
       "    .dataframe thead th {\n",
       "        text-align: right;\n",
       "    }\n",
       "</style>\n",
       "<table border=\"1\" class=\"dataframe\">\n",
       "  <thead>\n",
       "    <tr style=\"text-align: right;\">\n",
       "      <th></th>\n",
       "      <th>mean</th>\n",
       "      <th>median</th>\n",
       "    </tr>\n",
       "    <tr>\n",
       "      <th>country_name</th>\n",
       "      <th></th>\n",
       "      <th></th>\n",
       "    </tr>\n",
       "  </thead>\n",
       "  <tbody>\n",
       "    <tr>\n",
       "      <th>Albania</th>\n",
       "      <td>1.025000</td>\n",
       "      <td>1.000000</td>\n",
       "    </tr>\n",
       "    <tr>\n",
       "      <th>Argentina</th>\n",
       "      <td>NaN</td>\n",
       "      <td>NaN</td>\n",
       "    </tr>\n",
       "    <tr>\n",
       "      <th>Australia</th>\n",
       "      <td>1.335294</td>\n",
       "      <td>0.960000</td>\n",
       "    </tr>\n",
       "    <tr>\n",
       "      <th>Austria</th>\n",
       "      <td>NaN</td>\n",
       "      <td>NaN</td>\n",
       "    </tr>\n",
       "    <tr>\n",
       "      <th>Botswana</th>\n",
       "      <td>0.369000</td>\n",
       "      <td>0.325000</td>\n",
       "    </tr>\n",
       "    <tr>\n",
       "      <th>Brazil</th>\n",
       "      <td>1.172250</td>\n",
       "      <td>1.295000</td>\n",
       "    </tr>\n",
       "    <tr>\n",
       "      <th>Burkina Faso</th>\n",
       "      <td>NaN</td>\n",
       "      <td>NaN</td>\n",
       "    </tr>\n",
       "    <tr>\n",
       "      <th>Burundi</th>\n",
       "      <td>1.310000</td>\n",
       "      <td>1.310000</td>\n",
       "    </tr>\n",
       "    <tr>\n",
       "      <th>Cameroon</th>\n",
       "      <td>0.660000</td>\n",
       "      <td>0.660000</td>\n",
       "    </tr>\n",
       "    <tr>\n",
       "      <th>Canada</th>\n",
       "      <td>1.087382</td>\n",
       "      <td>0.880000</td>\n",
       "    </tr>\n",
       "    <tr>\n",
       "      <th>China</th>\n",
       "      <td>0.892381</td>\n",
       "      <td>0.680000</td>\n",
       "    </tr>\n",
       "    <tr>\n",
       "      <th>Colombia</th>\n",
       "      <td>1.200000</td>\n",
       "      <td>1.200000</td>\n",
       "    </tr>\n",
       "    <tr>\n",
       "      <th>Cote d'Ivoire</th>\n",
       "      <td>1.116500</td>\n",
       "      <td>1.116500</td>\n",
       "    </tr>\n",
       "    <tr>\n",
       "      <th>Cuba</th>\n",
       "      <td>1.150000</td>\n",
       "      <td>1.150000</td>\n",
       "    </tr>\n",
       "    <tr>\n",
       "      <th>Dem. Rep. Congo</th>\n",
       "      <td>NaN</td>\n",
       "      <td>NaN</td>\n",
       "    </tr>\n",
       "    <tr>\n",
       "      <th>Dominican Republic</th>\n",
       "      <td>1.405000</td>\n",
       "      <td>1.405000</td>\n",
       "    </tr>\n",
       "    <tr>\n",
       "      <th>Ethiopia</th>\n",
       "      <td>NaN</td>\n",
       "      <td>NaN</td>\n",
       "    </tr>\n",
       "    <tr>\n",
       "      <th>Finland</th>\n",
       "      <td>0.402304</td>\n",
       "      <td>0.240000</td>\n",
       "    </tr>\n",
       "    <tr>\n",
       "      <th>France</th>\n",
       "      <td>NaN</td>\n",
       "      <td>NaN</td>\n",
       "    </tr>\n",
       "    <tr>\n",
       "      <th>Gabon</th>\n",
       "      <td>NaN</td>\n",
       "      <td>NaN</td>\n",
       "    </tr>\n",
       "    <tr>\n",
       "      <th>Germany</th>\n",
       "      <td>NaN</td>\n",
       "      <td>NaN</td>\n",
       "    </tr>\n",
       "    <tr>\n",
       "      <th>Greece</th>\n",
       "      <td>0.810000</td>\n",
       "      <td>0.810000</td>\n",
       "    </tr>\n",
       "    <tr>\n",
       "      <th>Greenland</th>\n",
       "      <td>NaN</td>\n",
       "      <td>NaN</td>\n",
       "    </tr>\n",
       "    <tr>\n",
       "      <th>Guatemala</th>\n",
       "      <td>1.788000</td>\n",
       "      <td>1.860000</td>\n",
       "    </tr>\n",
       "    <tr>\n",
       "      <th>Guinea</th>\n",
       "      <td>1.280000</td>\n",
       "      <td>1.280000</td>\n",
       "    </tr>\n",
       "    <tr>\n",
       "      <th>Guyana</th>\n",
       "      <td>NaN</td>\n",
       "      <td>NaN</td>\n",
       "    </tr>\n",
       "    <tr>\n",
       "      <th>India</th>\n",
       "      <td>NaN</td>\n",
       "      <td>NaN</td>\n",
       "    </tr>\n",
       "    <tr>\n",
       "      <th>Indonesia</th>\n",
       "      <td>1.610773</td>\n",
       "      <td>1.730000</td>\n",
       "    </tr>\n",
       "    <tr>\n",
       "      <th>Italy</th>\n",
       "      <td>NaN</td>\n",
       "      <td>NaN</td>\n",
       "    </tr>\n",
       "    <tr>\n",
       "      <th>Japan</th>\n",
       "      <td>NaN</td>\n",
       "      <td>NaN</td>\n",
       "    </tr>\n",
       "    <tr>\n",
       "      <th>Kazakhstan</th>\n",
       "      <td>0.790000</td>\n",
       "      <td>0.790000</td>\n",
       "    </tr>\n",
       "    <tr>\n",
       "      <th>Laos</th>\n",
       "      <td>NaN</td>\n",
       "      <td>NaN</td>\n",
       "    </tr>\n",
       "    <tr>\n",
       "      <th>Madagascar</th>\n",
       "      <td>1.270000</td>\n",
       "      <td>1.270000</td>\n",
       "    </tr>\n",
       "    <tr>\n",
       "      <th>Malaysia</th>\n",
       "      <td>0.750000</td>\n",
       "      <td>0.750000</td>\n",
       "    </tr>\n",
       "    <tr>\n",
       "      <th>Mauritania</th>\n",
       "      <td>NaN</td>\n",
       "      <td>NaN</td>\n",
       "    </tr>\n",
       "    <tr>\n",
       "      <th>Mexico</th>\n",
       "      <td>NaN</td>\n",
       "      <td>NaN</td>\n",
       "    </tr>\n",
       "    <tr>\n",
       "      <th>Mozambique</th>\n",
       "      <td>NaN</td>\n",
       "      <td>NaN</td>\n",
       "    </tr>\n",
       "    <tr>\n",
       "      <th>Myanmar</th>\n",
       "      <td>1.455000</td>\n",
       "      <td>1.455000</td>\n",
       "    </tr>\n",
       "    <tr>\n",
       "      <th>New Caledonia</th>\n",
       "      <td>2.087040</td>\n",
       "      <td>2.230000</td>\n",
       "    </tr>\n",
       "    <tr>\n",
       "      <th>New Zealand</th>\n",
       "      <td>NaN</td>\n",
       "      <td>NaN</td>\n",
       "    </tr>\n",
       "    <tr>\n",
       "      <th>North Korea</th>\n",
       "      <td>NaN</td>\n",
       "      <td>NaN</td>\n",
       "    </tr>\n",
       "    <tr>\n",
       "      <th>North Macedonia</th>\n",
       "      <td>1.100000</td>\n",
       "      <td>1.100000</td>\n",
       "    </tr>\n",
       "    <tr>\n",
       "      <th>Norway</th>\n",
       "      <td>0.520000</td>\n",
       "      <td>0.445000</td>\n",
       "    </tr>\n",
       "    <tr>\n",
       "      <th>Papua New Guinea</th>\n",
       "      <td>1.033333</td>\n",
       "      <td>1.060000</td>\n",
       "    </tr>\n",
       "    <tr>\n",
       "      <th>Paraguay</th>\n",
       "      <td>NaN</td>\n",
       "      <td>NaN</td>\n",
       "    </tr>\n",
       "    <tr>\n",
       "      <th>Peru</th>\n",
       "      <td>NaN</td>\n",
       "      <td>NaN</td>\n",
       "    </tr>\n",
       "    <tr>\n",
       "      <th>Philippines</th>\n",
       "      <td>1.339355</td>\n",
       "      <td>1.300000</td>\n",
       "    </tr>\n",
       "    <tr>\n",
       "      <th>Poland</th>\n",
       "      <td>NaN</td>\n",
       "      <td>NaN</td>\n",
       "    </tr>\n",
       "    <tr>\n",
       "      <th>Portugal</th>\n",
       "      <td>NaN</td>\n",
       "      <td>NaN</td>\n",
       "    </tr>\n",
       "    <tr>\n",
       "      <th>Russia</th>\n",
       "      <td>0.710182</td>\n",
       "      <td>0.793494</td>\n",
       "    </tr>\n",
       "    <tr>\n",
       "      <th>Saudi Arabia</th>\n",
       "      <td>NaN</td>\n",
       "      <td>NaN</td>\n",
       "    </tr>\n",
       "    <tr>\n",
       "      <th>Serbia</th>\n",
       "      <td>0.900000</td>\n",
       "      <td>0.900000</td>\n",
       "    </tr>\n",
       "    <tr>\n",
       "      <th>Sierra Leone</th>\n",
       "      <td>NaN</td>\n",
       "      <td>NaN</td>\n",
       "    </tr>\n",
       "    <tr>\n",
       "      <th>Slovakia</th>\n",
       "      <td>NaN</td>\n",
       "      <td>NaN</td>\n",
       "    </tr>\n",
       "    <tr>\n",
       "      <th>Solomon Islands</th>\n",
       "      <td>1.550000</td>\n",
       "      <td>1.550000</td>\n",
       "    </tr>\n",
       "    <tr>\n",
       "      <th>South Africa</th>\n",
       "      <td>0.215488</td>\n",
       "      <td>0.170000</td>\n",
       "    </tr>\n",
       "    <tr>\n",
       "      <th>South Korea</th>\n",
       "      <td>NaN</td>\n",
       "      <td>NaN</td>\n",
       "    </tr>\n",
       "    <tr>\n",
       "      <th>Spain</th>\n",
       "      <td>0.652174</td>\n",
       "      <td>0.652174</td>\n",
       "    </tr>\n",
       "    <tr>\n",
       "      <th>Sweden</th>\n",
       "      <td>0.864667</td>\n",
       "      <td>0.214000</td>\n",
       "    </tr>\n",
       "    <tr>\n",
       "      <th>Taiwan, China</th>\n",
       "      <td>NaN</td>\n",
       "      <td>NaN</td>\n",
       "    </tr>\n",
       "    <tr>\n",
       "      <th>Tanzania</th>\n",
       "      <td>1.110000</td>\n",
       "      <td>0.815000</td>\n",
       "    </tr>\n",
       "    <tr>\n",
       "      <th>Togo</th>\n",
       "      <td>0.990000</td>\n",
       "      <td>0.990000</td>\n",
       "    </tr>\n",
       "    <tr>\n",
       "      <th>Tonga</th>\n",
       "      <td>1.295000</td>\n",
       "      <td>1.300000</td>\n",
       "    </tr>\n",
       "    <tr>\n",
       "      <th>Turkey</th>\n",
       "      <td>0.915000</td>\n",
       "      <td>0.915000</td>\n",
       "    </tr>\n",
       "    <tr>\n",
       "      <th>USA</th>\n",
       "      <td>0.515876</td>\n",
       "      <td>0.165000</td>\n",
       "    </tr>\n",
       "    <tr>\n",
       "      <th>Uganda</th>\n",
       "      <td>NaN</td>\n",
       "      <td>NaN</td>\n",
       "    </tr>\n",
       "    <tr>\n",
       "      <th>Ukraine</th>\n",
       "      <td>NaN</td>\n",
       "      <td>NaN</td>\n",
       "    </tr>\n",
       "    <tr>\n",
       "      <th>United Kingdom</th>\n",
       "      <td>NaN</td>\n",
       "      <td>NaN</td>\n",
       "    </tr>\n",
       "    <tr>\n",
       "      <th>Venezuela</th>\n",
       "      <td>1.480000</td>\n",
       "      <td>1.480000</td>\n",
       "    </tr>\n",
       "    <tr>\n",
       "      <th>Vietnam</th>\n",
       "      <td>2.200000</td>\n",
       "      <td>2.200000</td>\n",
       "    </tr>\n",
       "    <tr>\n",
       "      <th>Yemen</th>\n",
       "      <td>NaN</td>\n",
       "      <td>NaN</td>\n",
       "    </tr>\n",
       "    <tr>\n",
       "      <th>Zambia</th>\n",
       "      <td>0.995000</td>\n",
       "      <td>0.995000</td>\n",
       "    </tr>\n",
       "    <tr>\n",
       "      <th>Zimbabwe</th>\n",
       "      <td>0.475000</td>\n",
       "      <td>0.540000</td>\n",
       "    </tr>\n",
       "  </tbody>\n",
       "</table>\n",
       "</div>"
      ],
      "text/plain": [
       "                        mean    median\n",
       "country_name                          \n",
       "Albania             1.025000  1.000000\n",
       "Argentina                NaN       NaN\n",
       "Australia           1.335294  0.960000\n",
       "Austria                  NaN       NaN\n",
       "Botswana            0.369000  0.325000\n",
       "Brazil              1.172250  1.295000\n",
       "Burkina Faso             NaN       NaN\n",
       "Burundi             1.310000  1.310000\n",
       "Cameroon            0.660000  0.660000\n",
       "Canada              1.087382  0.880000\n",
       "China               0.892381  0.680000\n",
       "Colombia            1.200000  1.200000\n",
       "Cote d'Ivoire       1.116500  1.116500\n",
       "Cuba                1.150000  1.150000\n",
       "Dem. Rep. Congo          NaN       NaN\n",
       "Dominican Republic  1.405000  1.405000\n",
       "Ethiopia                 NaN       NaN\n",
       "Finland             0.402304  0.240000\n",
       "France                   NaN       NaN\n",
       "Gabon                    NaN       NaN\n",
       "Germany                  NaN       NaN\n",
       "Greece              0.810000  0.810000\n",
       "Greenland                NaN       NaN\n",
       "Guatemala           1.788000  1.860000\n",
       "Guinea              1.280000  1.280000\n",
       "Guyana                   NaN       NaN\n",
       "India                    NaN       NaN\n",
       "Indonesia           1.610773  1.730000\n",
       "Italy                    NaN       NaN\n",
       "Japan                    NaN       NaN\n",
       "Kazakhstan          0.790000  0.790000\n",
       "Laos                     NaN       NaN\n",
       "Madagascar          1.270000  1.270000\n",
       "Malaysia            0.750000  0.750000\n",
       "Mauritania               NaN       NaN\n",
       "Mexico                   NaN       NaN\n",
       "Mozambique               NaN       NaN\n",
       "Myanmar             1.455000  1.455000\n",
       "New Caledonia       2.087040  2.230000\n",
       "New Zealand              NaN       NaN\n",
       "North Korea              NaN       NaN\n",
       "North Macedonia     1.100000  1.100000\n",
       "Norway              0.520000  0.445000\n",
       "Papua New Guinea    1.033333  1.060000\n",
       "Paraguay                 NaN       NaN\n",
       "Peru                     NaN       NaN\n",
       "Philippines         1.339355  1.300000\n",
       "Poland                   NaN       NaN\n",
       "Portugal                 NaN       NaN\n",
       "Russia              0.710182  0.793494\n",
       "Saudi Arabia             NaN       NaN\n",
       "Serbia              0.900000  0.900000\n",
       "Sierra Leone             NaN       NaN\n",
       "Slovakia                 NaN       NaN\n",
       "Solomon Islands     1.550000  1.550000\n",
       "South Africa        0.215488  0.170000\n",
       "South Korea              NaN       NaN\n",
       "Spain               0.652174  0.652174\n",
       "Sweden              0.864667  0.214000\n",
       "Taiwan, China            NaN       NaN\n",
       "Tanzania            1.110000  0.815000\n",
       "Togo                0.990000  0.990000\n",
       "Tonga               1.295000  1.300000\n",
       "Turkey              0.915000  0.915000\n",
       "USA                 0.515876  0.165000\n",
       "Uganda                   NaN       NaN\n",
       "Ukraine                  NaN       NaN\n",
       "United Kingdom           NaN       NaN\n",
       "Venezuela           1.480000  1.480000\n",
       "Vietnam             2.200000  2.200000\n",
       "Yemen                    NaN       NaN\n",
       "Zambia              0.995000  0.995000\n",
       "Zimbabwe            0.475000  0.540000"
      ]
     },
     "execution_count": 114,
     "metadata": {},
     "output_type": "execute_result"
    }
   ],
   "source": [
    "df.groupby('country_name')['grade (%)'].agg([np.mean, np.median])\n"
   ]
  },
  {
   "cell_type": "code",
   "execution_count": 115,
   "id": "79b0380a",
   "metadata": {
    "ExecuteTime": {
     "end_time": "2022-05-22T19:19:35.908798Z",
     "start_time": "2022-05-22T19:19:35.840140Z"
    }
   },
   "outputs": [
    {
     "data": {
      "text/plain": [
       "<AxesSubplot:>"
      ]
     },
     "execution_count": 115,
     "metadata": {},
     "output_type": "execute_result"
    },
    {
     "data": {
      "image/png": "[encoded data removed]",
      "text/plain": [
       "<Figure size 432x288 with 1 Axes>"
      ]
     },
     "metadata": {
      "needs_background": "light"
     },
     "output_type": "display_data"
    }
   ],
   "source": [
    "df['grade (%)'].hist()\n"
   ]
  },
  {
   "cell_type": "code",
   "execution_count": 116,
   "id": "756a0724",
   "metadata": {
    "ExecuteTime": {
     "end_time": "2022-05-22T19:19:35.916055Z",
     "start_time": "2022-05-22T19:19:35.910013Z"
    },
    "scrolled": true
   },
   "outputs": [
    {
     "data": {
      "text/plain": [
       "{'Albania': 1.0,\n",
       " 'Australia': 0.96,\n",
       " 'Botswana': 0.325,\n",
       " 'Brazil': 1.295,\n",
       " 'Burundi': 1.31,\n",
       " 'Cameroon': 0.66,\n",
       " 'Canada': 0.88,\n",
       " 'China': 0.68,\n",
       " 'Colombia': 1.2,\n",
       " \"Cote d'Ivoire\": 1.1165,\n",
       " 'Cuba': 1.15,\n",
       " 'Dominican Republic': 1.405,\n",
       " 'Finland': 0.24,\n",
       " 'Greece': 0.81,\n",
       " 'Guatemala': 1.86,\n",
       " 'Guinea': 1.28,\n",
       " 'Indonesia': 1.73,\n",
       " 'Kazakhstan': 0.79,\n",
       " 'Madagascar': 1.27,\n",
       " 'Malaysia': 0.75,\n",
       " 'Myanmar': 1.455,\n",
       " 'New Caledonia': 2.23,\n",
       " 'North Macedonia': 1.1,\n",
       " 'Norway': 0.445,\n",
       " 'Papua New Guinea': 1.06,\n",
       " 'Philippines': 1.3,\n",
       " 'Russia': 0.7934943820224719,\n",
       " 'Serbia': 0.9,\n",
       " 'Solomon Islands': 1.55,\n",
       " 'South Africa': 0.16999999999999998,\n",
       " 'Spain': 0.6521739130434783,\n",
       " 'Sweden': 0.214,\n",
       " 'Tanzania': 0.815,\n",
       " 'Togo': 0.99,\n",
       " 'Tonga': 1.3,\n",
       " 'Turkey': 0.9149999999999999,\n",
       " 'USA': 0.165,\n",
       " 'Venezuela': 1.48,\n",
       " 'Vietnam': 2.2,\n",
       " 'Zambia': 0.995,\n",
       " 'Zimbabwe': 0.54,\n",
       " 'Burkina Faso': 1.0,\n",
       " 'Mozambique': 1.0,\n",
       " 'Greenland': 1.0,\n",
       " 'Argentina': 1.0,\n",
       " 'Japan': 1.0,\n",
       " 'Italy': 1.0,\n",
       " 'Laos': 1.0,\n",
       " 'Slovakia': 1.0,\n",
       " 'Austria': 1.0,\n",
       " 'North Korea': 1.0,\n",
       " 'India': 1.0,\n",
       " 'United Kingdom': 1.0,\n",
       " 'Dem. Rep. Congo': 1.0,\n",
       " 'Germany': 1.0,\n",
       " 'Ukraine': 1.0,\n",
       " 'Yemen': 1.0,\n",
       " 'Poland': 1.0,\n",
       " 'Saudi Arabia': 1.0,\n",
       " 'Gabon': 1.0,\n",
       " 'Mexico': 1.0,\n",
       " 'Portugal': 1.0,\n",
       " 'New Zealand': 1.0,\n",
       " 'Peru': 1.0,\n",
       " 'Paraguay': 1.0,\n",
       " 'Taiwan, China': 1.0,\n",
       " 'South Korea': 1.0,\n",
       " 'Uganda': 1.0,\n",
       " 'Ethiopia': 1.0,\n",
       " 'Sierra Leone': 1.0,\n",
       " 'France': 1.0,\n",
       " 'Guyana': 1.0,\n",
       " 'Mauritania': 1.0}"
      ]
     },
     "execution_count": 116,
     "metadata": {},
     "output_type": "execute_result"
    }
   ],
   "source": [
    "grade_dic = df.groupby('country_name')['grade (%)'].median().dropna().to_dict()\n",
    "world_median = df['grade (%)'].median()\n",
    "for i in set(df.country_name) - set(grade_dic.keys()):\n",
    "    grade_dic.update({i:world_median})\n",
    "grade_dic\n"
   ]
  },
  {
   "cell_type": "code",
   "execution_count": 117,
   "id": "04801f34",
   "metadata": {
    "ExecuteTime": {
     "end_time": "2022-05-22T19:19:35.925840Z",
     "start_time": "2022-05-22T19:19:35.917117Z"
    }
   },
   "outputs": [],
   "source": [
    "# use country median\n",
    "impute_grade_index = df['grade (%)'].isnull()\n",
    "df.loc[impute_grade_index, 'grade (%)'] =\\\n",
    "df.loc[impute_grade_index, 'country_name'].replace(grade_dic)\n"
   ]
  },
  {
   "cell_type": "markdown",
   "id": "09ae07ad",
   "metadata": {},
   "source": [
    "## recovery_Ni_perc"
   ]
  },
  {
   "cell_type": "markdown",
   "id": "87cbcac1",
   "metadata": {},
   "source": [
    "use metall_process and country_name"
   ]
  },
  {
   "cell_type": "markdown",
   "id": "dd1b6cf3",
   "metadata": {},
   "source": [
    "https://qspace.library.queensu.ca/bitstream/handle/1974/8538/Rodrigues_Filipe_M_201312_MASc.pdf;sequence=3"
   ]
  },
  {
   "cell_type": "code",
   "execution_count": 118,
   "id": "8b5cc235",
   "metadata": {
    "ExecuteTime": {
     "end_time": "2022-05-22T19:19:35.931156Z",
     "start_time": "2022-05-22T19:19:35.926815Z"
    }
   },
   "outputs": [
    {
     "data": {
      "text/plain": [
       "{'CARON': 75.0,\n",
       " 'F': 74.15,\n",
       " 'HL': 85.0,\n",
       " 'HPAL': 85.8,\n",
       " 'HPAL + DSO': 74.3,\n",
       " 'RKEF': 85.0,\n",
       " 'RKEF + HPAL': 53.0,\n",
       " 'beneficiation': 50.72,\n",
       " 'hydrometallurgy': 19.365000000000002,\n",
       " 'pyrometallurgy': 85.0,\n",
       " 'pyrometallurgy + hydrometallurgy': 61.86}"
      ]
     },
     "execution_count": 118,
     "metadata": {},
     "output_type": "execute_result"
    }
   ],
   "source": [
    "world_median = df['recovery_Ni_perc'].median()\n",
    "\n",
    "recovery_Ni_perc_dic = df.groupby('metall_process')['recovery_Ni_perc'].median().dropna().to_dict()\n",
    "recovery_Ni_perc_dic\n"
   ]
  },
  {
   "cell_type": "code",
   "execution_count": 119,
   "id": "b4c15a96",
   "metadata": {
    "ExecuteTime": {
     "end_time": "2022-05-22T19:19:35.934202Z",
     "start_time": "2022-05-22T19:19:35.932193Z"
    }
   },
   "outputs": [],
   "source": [
    "for i in set(df.metall_process) - set(recovery_Ni_perc_dic.keys()):\n",
    "    recovery_Ni_perc_dic.update({i:np.nan})\n"
   ]
  },
  {
   "cell_type": "code",
   "execution_count": 120,
   "id": "23e9d672",
   "metadata": {
    "ExecuteTime": {
     "end_time": "2022-05-22T19:19:35.939168Z",
     "start_time": "2022-05-22T19:19:35.935312Z"
    }
   },
   "outputs": [],
   "source": [
    "# use metall_process\n",
    "impute_recovery_Ni_perc_index1 = df['recovery_Ni_perc'].isnull() & df['metall_process']\n",
    "df.loc[impute_recovery_Ni_perc_index1, 'recovery_Ni_perc'] = df.loc[impute_recovery_Ni_perc_index1, 'metall_process'].replace(recovery_Ni_perc_dic)\n"
   ]
  },
  {
   "cell_type": "code",
   "execution_count": 121,
   "id": "3a648000",
   "metadata": {
    "ExecuteTime": {
     "end_time": "2022-05-22T19:19:35.945933Z",
     "start_time": "2022-05-22T19:19:35.940278Z"
    },
    "scrolled": true
   },
   "outputs": [
    {
     "data": {
      "text/plain": [
       "{'Australia': 85.0,\n",
       " 'Brazil': 86.4,\n",
       " 'Cameroon': 16.43,\n",
       " 'Canada': 74.80000000000001,\n",
       " 'China': 73.7,\n",
       " 'Colombia': 90.4,\n",
       " 'Cuba': 79.0,\n",
       " 'Dominican Republic': 85.0,\n",
       " 'Finland': 62.435,\n",
       " 'Greece': 85.0,\n",
       " 'Guatemala': 85.0,\n",
       " 'Indonesia': 85.0,\n",
       " 'Kazakhstan': 89.5,\n",
       " 'Madagascar': 86.0,\n",
       " 'Myanmar': 85.0,\n",
       " 'New Caledonia': 85.4,\n",
       " 'Papua New Guinea': 86.3,\n",
       " 'Philippines': 85.8,\n",
       " 'Russia': 71.15,\n",
       " 'Serbia': 85.0,\n",
       " 'South Africa': 50.72,\n",
       " 'Tonga': 50.72,\n",
       " 'Turkey': 84.5,\n",
       " 'USA': 72.8,\n",
       " 'Venezuela': 85.0,\n",
       " 'Vietnam': 78.1,\n",
       " 'Zambia': 76.35,\n",
       " 'Zimbabwe': 81.6,\n",
       " 'Burkina Faso': 76.4,\n",
       " 'Mozambique': 76.4,\n",
       " 'Solomon Islands': 76.4,\n",
       " 'Greenland': 76.4,\n",
       " 'Argentina': 76.4,\n",
       " 'Norway': 76.4,\n",
       " 'Japan': 76.4,\n",
       " 'Italy': 76.4,\n",
       " 'Spain': 76.4,\n",
       " 'Laos': 76.4,\n",
       " 'Albania': 76.4,\n",
       " 'Slovakia': 76.4,\n",
       " 'Austria': 76.4,\n",
       " 'North Korea': 76.4,\n",
       " 'India': 76.4,\n",
       " \"Cote d'Ivoire\": 76.4,\n",
       " 'United Kingdom': 76.4,\n",
       " 'Dem. Rep. Congo': 76.4,\n",
       " 'Germany': 76.4,\n",
       " 'Ukraine': 76.4,\n",
       " 'Yemen': 76.4,\n",
       " 'Poland': 76.4,\n",
       " 'Sweden': 76.4,\n",
       " 'Saudi Arabia': 76.4,\n",
       " 'Gabon': 76.4,\n",
       " 'Togo': 76.4,\n",
       " 'Guinea': 76.4,\n",
       " 'Mexico': 76.4,\n",
       " 'Portugal': 76.4,\n",
       " 'New Zealand': 76.4,\n",
       " 'Peru': 76.4,\n",
       " 'Paraguay': 76.4,\n",
       " 'Taiwan, China': 76.4,\n",
       " 'South Korea': 76.4,\n",
       " 'Burundi': 76.4,\n",
       " 'Uganda': 76.4,\n",
       " 'Ethiopia': 76.4,\n",
       " 'Sierra Leone': 76.4,\n",
       " 'France': 76.4,\n",
       " 'North Macedonia': 76.4,\n",
       " 'Malaysia': 76.4,\n",
       " 'Guyana': 76.4,\n",
       " 'Tanzania': 76.4,\n",
       " 'Botswana': 76.4,\n",
       " 'Mauritania': 76.4}"
      ]
     },
     "execution_count": 121,
     "metadata": {},
     "output_type": "execute_result"
    }
   ],
   "source": [
    "# use country median\n",
    "recovery_Ni_perc_dic = df.groupby('country_name')['recovery_Ni_perc'].median().dropna().to_dict()\n",
    "for i in set(df.country_name) - set(recovery_Ni_perc_dic.keys()):\n",
    "    recovery_Ni_perc_dic.update({i:world_median})\n",
    "recovery_Ni_perc_dic\n"
   ]
  },
  {
   "cell_type": "code",
   "execution_count": 122,
   "id": "7ce8f16d",
   "metadata": {
    "ExecuteTime": {
     "end_time": "2022-05-22T19:19:35.956684Z",
     "start_time": "2022-05-22T19:19:35.947366Z"
    }
   },
   "outputs": [],
   "source": [
    "impute_recovery_Ni_perc_index2 = df['recovery_Ni_perc'].isnull()\n",
    "df.loc[impute_recovery_Ni_perc_index2, 'recovery_Ni_perc'] = df.loc[impute_recovery_Ni_perc_index2, 'country_name'].replace(recovery_Ni_perc_dic)\n"
   ]
  },
  {
   "cell_type": "markdown",
   "id": "d638a98c",
   "metadata": {},
   "source": [
    "## production"
   ]
  },
  {
   "cell_type": "markdown",
   "id": "0bd7b192",
   "metadata": {},
   "source": [
    "use recovery_Ni_perc"
   ]
  },
  {
   "cell_type": "code",
   "execution_count": 123,
   "id": "11e8d6d6",
   "metadata": {
    "ExecuteTime": {
     "end_time": "2022-05-22T19:19:35.961703Z",
     "start_time": "2022-05-22T19:19:35.957670Z"
    }
   },
   "outputs": [],
   "source": [
    "# impute Production_ROM_Ni_tpa\n",
    "# use recovery_Ni_perc\n",
    "impute_production_index1 = df['production_ROM_Ni_tpa'].isnull() & \\\n",
    "                           df['production_PROD_Ni_tpa'].notnull()\n",
    "df.loc[impute_production_index1, 'production_ROM_Ni_tpa'] = df.loc[impute_production_index1, 'production_PROD_Ni_tpa'] / df.loc[impute_production_index1, 'recovery_Ni_perc'] * 100 \n",
    "impute_production_index1 = impute_production_index1 & (impute_recovery_Ni_perc_index1 | impute_recovery_Ni_perc_index2)\n"
   ]
  },
  {
   "cell_type": "code",
   "execution_count": 124,
   "id": "294cd5a5",
   "metadata": {
    "ExecuteTime": {
     "end_time": "2022-05-22T19:19:35.966367Z",
     "start_time": "2022-05-22T19:19:35.962777Z"
    }
   },
   "outputs": [],
   "source": [
    "# impute production_PROD_Ni_tpa\n",
    "# use recovery_Ni_perc\n",
    "impute_production_index2 = df['production_PROD_Ni_tpa'].isnull() & \\\n",
    "                           df['production_ROM_Ni_tpa'].notnull()\n",
    "df.loc[impute_production_index2, 'production_PROD_Ni_tpa'] = df.loc[impute_production_index2, 'production_ROM_Ni_tpa'] * df.loc[impute_production_index2, 'recovery_Ni_perc'] / 100\n",
    "impute_production_index2 = impute_production_index2 & (impute_recovery_Ni_perc_index1 | impute_recovery_Ni_perc_index2)\n"
   ]
  },
  {
   "cell_type": "markdown",
   "id": "9a4e6406",
   "metadata": {},
   "source": [
    "## Resource & reserve"
   ]
  },
  {
   "cell_type": "markdown",
   "id": "06d13a48",
   "metadata": {},
   "source": [
    "### production_resv_ratio"
   ]
  },
  {
   "cell_type": "markdown",
   "id": "ca9ab3d8",
   "metadata": {},
   "source": [
    "use country_name"
   ]
  },
  {
   "cell_type": "code",
   "execution_count": 125,
   "id": "19a34664",
   "metadata": {
    "ExecuteTime": {
     "end_time": "2022-05-22T19:19:35.969758Z",
     "start_time": "2022-05-22T19:19:35.967270Z"
    }
   },
   "outputs": [],
   "source": [
    "df['production_resv_ratio'] = df['production_PROD_Ni_tpa'] / df['reserve_metal (mt)']\n"
   ]
  },
  {
   "cell_type": "code",
   "execution_count": 126,
   "id": "1d90e48e",
   "metadata": {
    "ExecuteTime": {
     "end_time": "2022-05-22T19:19:35.977805Z",
     "start_time": "2022-05-22T19:19:35.970952Z"
    },
    "scrolled": true
   },
   "outputs": [
    {
     "data": {
      "text/plain": [
       "{'Albania': 0.04600329861420655,\n",
       " 'Australia': 0.06325937241446444,\n",
       " 'Brazil': 0.018910742477621457,\n",
       " 'Cameroon': 0.014990960057464234,\n",
       " 'Canada': 0.07709224996714707,\n",
       " 'China': 0.04313671583611312,\n",
       " 'Colombia': 0.1439617117117117,\n",
       " \"Cote d'Ivoire\": 0.0061861194029850745,\n",
       " 'Cuba': 0.031203139330169858,\n",
       " 'Dominican Republic': 0.032163993481430654,\n",
       " 'Finland': 0.0925863121481381,\n",
       " 'Greece': 0.05216572890934058,\n",
       " 'Guatemala': 0.05179211469534051,\n",
       " 'Indonesia': 0.03818212392656936,\n",
       " 'Kazakhstan': 0.019120482177153095,\n",
       " 'Madagascar': 0.030778284671532846,\n",
       " 'Myanmar': 0.024285714285714285,\n",
       " 'New Caledonia': 0.013601586851799376,\n",
       " 'Papua New Guinea': 0.05873015873015873,\n",
       " 'Philippines': 0.07029,\n",
       " 'Russia': 0.05815489401478386,\n",
       " 'Serbia': 0.05118595390437492,\n",
       " 'South Africa': 0.022571819425444596,\n",
       " 'Turkey': 0.007354411764705883,\n",
       " 'USA': 0.07559869290929003,\n",
       " 'Venezuela': 0.15254237288135594,\n",
       " 'Zambia': 0.07300948912913549,\n",
       " 'Zimbabwe': 0.03911639762107052,\n",
       " 'Burkina Faso': 0.04600329861420656,\n",
       " 'Mozambique': 0.04600329861420656,\n",
       " 'Solomon Islands': 0.04600329861420656,\n",
       " 'Greenland': 0.04600329861420656,\n",
       " 'Argentina': 0.04600329861420656,\n",
       " 'Norway': 0.04600329861420656,\n",
       " 'Japan': 0.04600329861420656,\n",
       " 'Italy': 0.04600329861420656,\n",
       " 'Spain': 0.04600329861420656,\n",
       " 'Laos': 0.04600329861420656,\n",
       " 'Tonga': 0.04600329861420656,\n",
       " 'Slovakia': 0.04600329861420656,\n",
       " 'Austria': 0.04600329861420656,\n",
       " 'North Korea': 0.04600329861420656,\n",
       " 'India': 0.04600329861420656,\n",
       " 'United Kingdom': 0.04600329861420656,\n",
       " 'Dem. Rep. Congo': 0.04600329861420656,\n",
       " 'Germany': 0.04600329861420656,\n",
       " 'Ukraine': 0.04600329861420656,\n",
       " 'Yemen': 0.04600329861420656,\n",
       " 'Poland': 0.04600329861420656,\n",
       " 'Sweden': 0.04600329861420656,\n",
       " 'Saudi Arabia': 0.04600329861420656,\n",
       " 'Gabon': 0.04600329861420656,\n",
       " 'Togo': 0.04600329861420656,\n",
       " 'Guinea': 0.04600329861420656,\n",
       " 'Mexico': 0.04600329861420656,\n",
       " 'Portugal': 0.04600329861420656,\n",
       " 'New Zealand': 0.04600329861420656,\n",
       " 'Peru': 0.04600329861420656,\n",
       " 'Paraguay': 0.04600329861420656,\n",
       " 'Taiwan, China': 0.04600329861420656,\n",
       " 'Vietnam': 0.04600329861420656,\n",
       " 'South Korea': 0.04600329861420656,\n",
       " 'Burundi': 0.04600329861420656,\n",
       " 'Uganda': 0.04600329861420656,\n",
       " 'Ethiopia': 0.04600329861420656,\n",
       " 'Sierra Leone': 0.04600329861420656,\n",
       " 'France': 0.04600329861420656,\n",
       " 'North Macedonia': 0.04600329861420656,\n",
       " 'Malaysia': 0.04600329861420656,\n",
       " 'Guyana': 0.04600329861420656,\n",
       " 'Tanzania': 0.04600329861420656,\n",
       " 'Botswana': 0.04600329861420656,\n",
       " 'Mauritania': 0.04600329861420656}"
      ]
     },
     "execution_count": 126,
     "metadata": {},
     "output_type": "execute_result"
    }
   ],
   "source": [
    "p_r_ratio_dic = df.groupby('country_name')['production_resv_ratio'].median().dropna().to_dict()\n",
    "world_median = df['production_resv_ratio'].median()\n",
    "for i in set(df.country_name) - set(p_r_ratio_dic.keys()):\n",
    "    p_r_ratio_dic.update({i:world_median})\n",
    "p_r_ratio_dic\n"
   ]
  },
  {
   "cell_type": "code",
   "execution_count": 127,
   "id": "370d6984",
   "metadata": {
    "ExecuteTime": {
     "end_time": "2022-05-22T19:19:35.987890Z",
     "start_time": "2022-05-22T19:19:35.978809Z"
    }
   },
   "outputs": [],
   "source": [
    "impute_production_resv_ratio_index = df['production_resv_ratio'].isnull()\n",
    "df.loc[impute_production_resv_ratio_index, 'production_resv_ratio'] = df.loc[impute_production_resv_ratio_index, 'country_name'].replace(p_r_ratio_dic)\n"
   ]
  },
  {
   "cell_type": "markdown",
   "id": "ad133177",
   "metadata": {},
   "source": [
    "### reserve"
   ]
  },
  {
   "cell_type": "markdown",
   "id": "35127ad5",
   "metadata": {
    "ExecuteTime": {
     "end_time": "2022-05-22T17:18:27.694176Z",
     "start_time": "2022-05-22T17:18:27.672410Z"
    }
   },
   "source": [
    "use grade and production_resv_ratio"
   ]
  },
  {
   "cell_type": "code",
   "execution_count": 128,
   "id": "aedab780",
   "metadata": {
    "ExecuteTime": {
     "end_time": "2022-05-22T19:19:35.994495Z",
     "start_time": "2022-05-22T19:19:35.989049Z"
    }
   },
   "outputs": [],
   "source": [
    "# impute reserve_metal (mt)\n",
    "# use grade\n",
    "impute_reserve_index1 = df['reserve_metal (mt)'].isnull() & \\\n",
    "                        df['reserve_ore (mt)'].notnull()\n",
    "df.loc[impute_reserve_index1, 'reserve_metal (mt)'] = df.loc[impute_reserve_index1, 'reserve_ore (mt)'] * df.loc[impute_reserve_index1, 'grade (%)'] / 100 \n",
    "impute_reserve_index1 = impute_reserve_index1 & impute_grade_index\n",
    "\n",
    "# use production_resv_ratio\n",
    "impute_reserve_index2 = df['reserve_metal (mt)'].isnull() & \\\n",
    "                        df['reserve_ore (mt)'].isnull() & \\\n",
    "                        df['production_PROD_Ni_tpa'].notnull()\n",
    "df.loc[impute_reserve_index2, 'reserve_metal (mt)'] = df.loc[impute_reserve_index2, 'production_PROD_Ni_tpa'] / df.loc[impute_reserve_index2, 'production_resv_ratio'] \n",
    "\n",
    "impute_reserve_index2 = impute_reserve_index2 & impute_grade_index\n"
   ]
  },
  {
   "cell_type": "code",
   "execution_count": 129,
   "id": "16dbe6ce",
   "metadata": {
    "ExecuteTime": {
     "end_time": "2022-05-22T19:19:35.998944Z",
     "start_time": "2022-05-22T19:19:35.995606Z"
    }
   },
   "outputs": [],
   "source": [
    "# impute resv_ore_tonnage (mt)\n",
    "# use grade\n",
    "impute_reserve_index3 = df['reserve_ore (mt)'].isnull() & \\\n",
    "                        df['reserve_metal (mt)'].notnull()\n",
    "df.loc[impute_reserve_index3, 'reserve_ore (mt)'] = df.loc[impute_reserve_index3, 'reserve_metal (mt)'] / df.loc[impute_reserve_index3, 'grade (%)'] * 100  \n",
    "impute_reserve_index3 = impute_reserve_index3 & impute_grade_index\n"
   ]
  },
  {
   "cell_type": "markdown",
   "id": "3c97e174",
   "metadata": {},
   "source": [
    "### resource"
   ]
  },
  {
   "cell_type": "markdown",
   "id": "46eeae7e",
   "metadata": {},
   "source": [
    "use grade"
   ]
  },
  {
   "cell_type": "code",
   "execution_count": 130,
   "id": "537345c5",
   "metadata": {
    "ExecuteTime": {
     "end_time": "2022-05-22T19:19:36.004311Z",
     "start_time": "2022-05-22T19:19:35.999966Z"
    }
   },
   "outputs": [],
   "source": [
    "# impute resource_metal (mt)\n",
    "# use grade\n",
    "impute_resource_index1 = df['resource_ore (million mt)'].notnull() & \\\n",
    "                         df['resource_metal (mt)'].isnull()\n",
    "df.loc[impute_resource_index1, 'resource_metal (mt)'] = df.loc[impute_resource_index1, 'resource_ore (million mt)'] * df.loc[impute_resource_index1, 'grade (%)'] / 100 * 10**6  \n",
    "impute_resource_index1 = impute_resource_index1 & impute_grade_index\n"
   ]
  },
  {
   "cell_type": "code",
   "execution_count": 131,
   "id": "12444e1b",
   "metadata": {
    "ExecuteTime": {
     "end_time": "2022-05-22T19:19:36.010930Z",
     "start_time": "2022-05-22T19:19:36.006099Z"
    }
   },
   "outputs": [],
   "source": [
    "# impute resource_ore (million mt)\n",
    "# use grade\n",
    "impute_resource_index2 = df['resource_ore (million mt)'].isnull() & \\\n",
    "                         df['resource_metal (mt)'].notnull()\n",
    "df.loc[impute_resource_index2, 'resource_ore (million mt)'] = df.loc[impute_resource_index2, 'resource_metal (mt)'] / df.loc[impute_resource_index2, 'grade (%)'] * 100 / 10**6  \n",
    "impute_resource_index2 = impute_resource_index2 & impute_grade_index\n"
   ]
  },
  {
   "cell_type": "markdown",
   "id": "c03b0ef2",
   "metadata": {},
   "source": [
    "## deposit type"
   ]
  },
  {
   "cell_type": "code",
   "execution_count": 132,
   "id": "27a00892",
   "metadata": {
    "ExecuteTime": {
     "end_time": "2022-05-22T19:19:36.015613Z",
     "start_time": "2022-05-22T19:19:36.011986Z"
    }
   },
   "outputs": [
    {
     "data": {
      "text/plain": [
       "Laterite                        103\n",
       "Magmatic Sulphide               100\n",
       "Hydrothermal Ni                  11\n",
       "Laterite & Magmatic Sulphide      1\n",
       "Name: deposit_type, dtype: int64"
      ]
     },
     "execution_count": 132,
     "metadata": {},
     "output_type": "execute_result"
    }
   ],
   "source": [
    "df['deposit_type'].value_counts()\n"
   ]
  },
  {
   "cell_type": "code",
   "execution_count": 133,
   "id": "d6f64ff8",
   "metadata": {
    "ExecuteTime": {
     "end_time": "2022-05-22T19:19:36.023775Z",
     "start_time": "2022-05-22T19:19:36.019672Z"
    },
    "scrolled": true
   },
   "outputs": [
    {
     "data": {
      "text/plain": [
       "Laterite (Generic)                                                                                              128\n",
       "Layered Mafic-Ultramafic Intrusion                                                                               54\n",
       "Komatiitic Magmatic                                                                                              33\n",
       "Laterite (Ni-Co - Limonite), Laterite (Ni-Saprolite)                                                             15\n",
       "Laterite (Generic), Laterite (Ni-Saprolite)                                                                      10\n",
       "Volcanogenic Massive Sulfide (VMS)                                                                                7\n",
       "Laterite (Ni-Co - Limonite)                                                                                       7\n",
       "Flood Basalt (Dyke-Sill Complexes)                                                                                6\n",
       "Laterite (Ni-Saprolite)                                                                                           6\n",
       "Astrobleme                                                                                                        5\n",
       "Intrusive Related                                                                                                 5\n",
       "Black Shale                                                                                                       2\n",
       "Sediment Hosted (Reduced Facies)                                                                                  2\n",
       "Breccia Pipes                                                                                                     2\n",
       "Porphyry Deposit                                                                                                  2\n",
       "Komatiitic Magmatic, Layered Mafic-Ultramafic Intrusion                                                           2\n",
       "Layered Mafic-Ultramafic Intrusion, Volcanogenic Massive Sulfide (VMS)                                            2\n",
       "Iron Oxide Copper Gold (IOCG)                                                                                     2\n",
       "Laterite (Generic), Layered Mafic-Ultramafic Intrusion                                                            2\n",
       "Carbonatite Hosted, Layered Mafic-Ultramafic Intrusion                                                            2\n",
       "Podiform (Ophiolite-Peridotite)                                                                                   1\n",
       "Flood Basalt (Dyke-Sill Complexes), Komatiitic Magmatic, Mesothermal Lode Gold                                    1\n",
       "Vein Hosted                                                                                                       1\n",
       "Diamond-Kimberlitic-Diatreme, Volcanogenic Massive Sulfide (VMS)                                                  1\n",
       "Carbonate Replacement (incl Manto)                                                                                1\n",
       "Layered Mafic-Ultramafic Intrusion, Vein Hosted                                                                   1\n",
       "Accretionary Sea Floor Nodules                                                                                    1\n",
       "Flood Basalt (Dyke-Sill Complexes), Layered Mafic-Ultramafic Intrusion                                            1\n",
       "Komatiitic Magmatic, Laterite (Generic)                                                                           1\n",
       "Shale Hosted                                                                                                      1\n",
       "Iron Oxide Copper Gold (IOCG), Sedimentary Exhalative (SEDEX), Supergene, Volcanogenic Massive Sulfide (VMS)      1\n",
       "Magmatic Magnetite                                                                                                1\n",
       "Laterite (Ni-Co - Limonite), Layered Mafic-Ultramafic Intrusion                                                   1\n",
       "Intrusive Related, Komatiitic Magmatic                                                                            1\n",
       "Komatiitic Magmatic, Volcanogenic Massive Sulfide (VMS)                                                           1\n",
       "Komatiitic Magmatic, Laterite (Ni-Co - Limonite)                                                                  1\n",
       "Graphite (Disseminated Flake)                                                                                     1\n",
       "Flood Basalt (Dyke-Sill Complexes), Volcanogenic Massive Sulfide (VMS)                                            1\n",
       "Name: geologic_ore_body_type, dtype: int64"
      ]
     },
     "execution_count": 133,
     "metadata": {},
     "output_type": "execute_result"
    }
   ],
   "source": [
    "df['geologic_ore_body_type'].value_counts()\n"
   ]
  },
  {
   "cell_type": "code",
   "execution_count": 134,
   "id": "25d2d040",
   "metadata": {
    "ExecuteTime": {
     "end_time": "2022-05-22T19:19:36.068517Z",
     "start_time": "2022-05-22T19:19:36.024862Z"
    }
   },
   "outputs": [],
   "source": [
    "# merge ore_body_type & deposit_type\n",
    "df['is_laterite'] = df['geologic_ore_body_type'].str.contains('Laterite').astype(float)\n",
    "df['is_sulfide'] = (df['geologic_ore_body_type'].str.contains('Mafic-Ultramafic') + df['geologic_ore_body_type'].str.contains('Sulfide') + \\\n",
    "                    df['geologic_ore_body_type'].str.contains('Komatiitic Magmatic') + df['geologic_ore_body_type'].str.contains('Basalt')).map(lambda x: 1 if x>0 else x)\n",
    "\n",
    "df['ore_body_type'] = df.apply(lambda x: 'Laterite & Magmatic Sulphide' if (x['is_laterite']==1) & (x['is_sulfide']==1)\n",
    "                               else 'Laterite' if (x['is_laterite']==1)\n",
    "                               else 'Magmatic Sulphide' if (x['is_sulfide']==1)\n",
    "                               else 'Other' if pd.notna(x['geologic_ore_body_type'])\n",
    "                               else np.nan, axis=1)\n",
    "\n",
    "df['deposit_type'] = df.apply(lambda x:x['deposit_type'] if not pd.isna(x['deposit_type']) else x['ore_body_type'], axis=1)\n"
   ]
  },
  {
   "cell_type": "code",
   "execution_count": 135,
   "id": "42175549",
   "metadata": {
    "ExecuteTime": {
     "end_time": "2022-05-22T19:19:36.073235Z",
     "start_time": "2022-05-22T19:19:36.069522Z"
    }
   },
   "outputs": [],
   "source": [
    "df['is_laterite'] = df['deposit_type'].str.contains('Laterite').astype(float)\n",
    "df['is_sulfide'] = df['deposit_type'].str.contains('Magmatic Sulphide').astype(float)\n"
   ]
  },
  {
   "cell_type": "code",
   "execution_count": 136,
   "id": "2e9ed0b1",
   "metadata": {
    "ExecuteTime": {
     "end_time": "2022-05-22T19:19:36.122268Z",
     "start_time": "2022-05-22T19:19:36.074263Z"
    }
   },
   "outputs": [],
   "source": [
    "from sklearn.impute import KNNImputer\n",
    "\n",
    "impute_deposit_type_index = df['is_laterite'].isnull()\n",
    "imp = KNNImputer(n_neighbors=3, weights='distance', add_indicator=False)\n",
    "df[['is_laterite', 'is_sulfide']] = imp.fit_transform(df[['latitude', 'longitude', 'is_laterite', 'is_sulfide']])[:,2:]\n",
    "df.loc[impute_deposit_type_index, ['is_laterite', 'is_sulfide']] = df.loc[impute_deposit_type_index, ['is_laterite', 'is_sulfide']].applymap(lambda x: 1 if x>0.5 else 0) \n"
   ]
  },
  {
   "cell_type": "code",
   "execution_count": 137,
   "id": "bc47c2ef",
   "metadata": {
    "ExecuteTime": {
     "end_time": "2022-05-22T19:19:36.143144Z",
     "start_time": "2022-05-22T19:19:36.124780Z"
    }
   },
   "outputs": [],
   "source": [
    "df.loc[impute_deposit_type_index, 'deposit_type'] = df.loc[impute_deposit_type_index, ].apply(\n",
    "    lambda x: 'Laterite & Magmatic Sulphide' if x['is_laterite']+x['is_sulfide']==2 else\n",
    "    'Laterite' if x['is_laterite']==1 else\n",
    "    'Magmatic Sulphide' if x['is_sulfide']==1 else np.nan,\n",
    "    axis=1)\n"
   ]
  },
  {
   "cell_type": "code",
   "execution_count": 138,
   "id": "fd52d01a",
   "metadata": {
    "ExecuteTime": {
     "end_time": "2022-05-22T19:19:36.147933Z",
     "start_time": "2022-05-22T19:19:36.144414Z"
    }
   },
   "outputs": [],
   "source": [
    "df['is_hydrothermal'] = df['deposit_type'].fillna('').str.contains('Hydrothermal').astype(int)\n"
   ]
  },
  {
   "cell_type": "code",
   "execution_count": 139,
   "id": "86bc0ef6",
   "metadata": {
    "ExecuteTime": {
     "end_time": "2022-05-22T19:19:36.155314Z",
     "start_time": "2022-05-22T19:19:36.150006Z"
    }
   },
   "outputs": [
    {
     "data": {
      "text/plain": [
       "Magmatic Sulphide               859\n",
       "Laterite                        487\n",
       "Other                            19\n",
       "Laterite & Magmatic Sulphide     14\n",
       "Hydrothermal Ni                  11\n",
       "Name: deposit_type, dtype: int64"
      ]
     },
     "execution_count": 139,
     "metadata": {},
     "output_type": "execute_result"
    }
   ],
   "source": [
    "df['deposit_type'].value_counts()\n"
   ]
  },
  {
   "cell_type": "code",
   "execution_count": 140,
   "id": "e5743316",
   "metadata": {
    "ExecuteTime": {
     "end_time": "2022-05-22T19:19:36.164791Z",
     "start_time": "2022-05-22T19:19:36.156605Z"
    }
   },
   "outputs": [],
   "source": [
    "df[['reserve_ore (mt)', 'grade (%)', 'reserve_metal (mt)', 'resource_ore (million mt)', 'resource_metal (mt)', 'production_ROM_Ni_tpa', 'production_PROD_Ni_tpa', 'recovery_Ni_perc', 'production_capacity', 'cash_cost (nickel USC/lb)', 'cash_cost (nickel USD/t)', 'cash_cost (ore USD/t)']] = \\\n",
    "df[['reserve_ore (mt)', 'grade (%)', 'reserve_metal (mt)', 'resource_ore (million mt)', 'resource_metal (mt)', 'production_ROM_Ni_tpa', 'production_PROD_Ni_tpa', 'recovery_Ni_perc', 'production_capacity', 'cash_cost (nickel USC/lb)', 'cash_cost (nickel USD/t)', 'cash_cost (ore USD/t)']].round(2) \n"
   ]
  },
  {
   "cell_type": "markdown",
   "id": "661c4f7b",
   "metadata": {},
   "source": [
    "## production_capacity"
   ]
  },
  {
   "cell_type": "markdown",
   "id": "a035b40e",
   "metadata": {},
   "source": [
    "### outlier"
   ]
  },
  {
   "cell_type": "code",
   "execution_count": 144,
   "id": "bdf4bb05",
   "metadata": {
    "ExecuteTime": {
     "end_time": "2022-05-22T19:22:02.962748Z",
     "start_time": "2022-05-22T19:22:02.955211Z"
    }
   },
   "outputs": [
    {
     "data": {
      "text/plain": [
       "<AxesSubplot:>"
      ]
     },
     "execution_count": 144,
     "metadata": {},
     "output_type": "execute_result"
    },
    {
     "data": {
      "text/plain": [
       "550000.0"
      ]
     },
     "execution_count": 144,
     "metadata": {},
     "output_type": "execute_result"
    },
    {
     "data": {
      "image/png": "[encoded data removed]",
      "text/plain": [
       "<Figure size 432x288 with 1 Axes>"
      ]
     },
     "metadata": {
      "needs_background": "light"
     },
     "output_type": "display_data"
    }
   ],
   "source": [
    "df['production_capacity'].hist()\n",
    "df['production_capacity'].max()"
   ]
  },
  {
   "cell_type": "code",
   "execution_count": 141,
   "id": "f4e709c1",
   "metadata": {
    "ExecuteTime": {
     "end_time": "2022-05-22T19:19:36.180015Z",
     "start_time": "2022-05-22T19:19:36.166180Z"
    }
   },
   "outputs": [
    {
     "data": {
      "text/html": [
       "<div>\n",
       "<style scoped>\n",
       "    .dataframe tbody tr th:only-of-type {\n",
       "        vertical-align: middle;\n",
       "    }\n",
       "\n",
       "    .dataframe tbody tr th {\n",
       "        vertical-align: top;\n",
       "    }\n",
       "\n",
       "    .dataframe thead th {\n",
       "        text-align: right;\n",
       "    }\n",
       "</style>\n",
       "<table border=\"1\" class=\"dataframe\">\n",
       "  <thead>\n",
       "    <tr style=\"text-align: right;\">\n",
       "      <th></th>\n",
       "      <th>prop_name</th>\n",
       "      <th>production_capatiy_ratio</th>\n",
       "      <th>production_PROD_Ni_tpa</th>\n",
       "      <th>production_capacity</th>\n",
       "    </tr>\n",
       "  </thead>\n",
       "  <tbody>\n",
       "    <tr>\n",
       "      <th>0</th>\n",
       "      <td>Codemin</td>\n",
       "      <td>0.900000</td>\n",
       "      <td>8100.0</td>\n",
       "      <td>9000.0</td>\n",
       "    </tr>\n",
       "    <tr>\n",
       "      <th>10</th>\n",
       "      <td>Ramu</td>\n",
       "      <td>0.896970</td>\n",
       "      <td>29600.0</td>\n",
       "      <td>33000.0</td>\n",
       "    </tr>\n",
       "    <tr>\n",
       "      <th>12</th>\n",
       "      <td>Jinchuan</td>\n",
       "      <td>0.625000</td>\n",
       "      <td>100000.0</td>\n",
       "      <td>160000.0</td>\n",
       "    </tr>\n",
       "    <tr>\n",
       "      <th>18</th>\n",
       "      <td>Punta Gorda</td>\n",
       "      <td>0.709677</td>\n",
       "      <td>22000.0</td>\n",
       "      <td>31000.0</td>\n",
       "    </tr>\n",
       "    <tr>\n",
       "      <th>19</th>\n",
       "      <td>Moa Bay</td>\n",
       "      <td>0.945943</td>\n",
       "      <td>33108.0</td>\n",
       "      <td>35000.0</td>\n",
       "    </tr>\n",
       "    <tr>\n",
       "      <th>21</th>\n",
       "      <td>Barro Alto</td>\n",
       "      <td>0.753333</td>\n",
       "      <td>33900.0</td>\n",
       "      <td>45000.0</td>\n",
       "    </tr>\n",
       "    <tr>\n",
       "      <th>29</th>\n",
       "      <td>Santa Rita</td>\n",
       "      <td>0.830303</td>\n",
       "      <td>13700.0</td>\n",
       "      <td>16500.0</td>\n",
       "    </tr>\n",
       "    <tr>\n",
       "      <th>35</th>\n",
       "      <td>Ambatovy</td>\n",
       "      <td>0.562217</td>\n",
       "      <td>33733.0</td>\n",
       "      <td>60000.0</td>\n",
       "    </tr>\n",
       "    <tr>\n",
       "      <th>37</th>\n",
       "      <td>Falcondo</td>\n",
       "      <td>0.937500</td>\n",
       "      <td>30000.0</td>\n",
       "      <td>32000.0</td>\n",
       "    </tr>\n",
       "    <tr>\n",
       "      <th>38</th>\n",
       "      <td>Diggers</td>\n",
       "      <td>0.007000</td>\n",
       "      <td>3850.0</td>\n",
       "      <td>550000.0</td>\n",
       "    </tr>\n",
       "    <tr>\n",
       "      <th>40</th>\n",
       "      <td>Cerro Matoso</td>\n",
       "      <td>1.162164</td>\n",
       "      <td>63919.0</td>\n",
       "      <td>55000.0</td>\n",
       "    </tr>\n",
       "    <tr>\n",
       "      <th>42</th>\n",
       "      <td>Taganito</td>\n",
       "      <td>1.076667</td>\n",
       "      <td>32300.0</td>\n",
       "      <td>30000.0</td>\n",
       "    </tr>\n",
       "    <tr>\n",
       "      <th>44</th>\n",
       "      <td>Sudbury Operations</td>\n",
       "      <td>0.634737</td>\n",
       "      <td>60300.0</td>\n",
       "      <td>95000.0</td>\n",
       "    </tr>\n",
       "    <tr>\n",
       "      <th>47</th>\n",
       "      <td>Sorowako</td>\n",
       "      <td>0.740000</td>\n",
       "      <td>59200.0</td>\n",
       "      <td>80000.0</td>\n",
       "    </tr>\n",
       "    <tr>\n",
       "      <th>48</th>\n",
       "      <td>Weda Bay</td>\n",
       "      <td>0.837500</td>\n",
       "      <td>40200.0</td>\n",
       "      <td>48000.0</td>\n",
       "    </tr>\n",
       "    <tr>\n",
       "      <th>52</th>\n",
       "      <td>Voisey's Bay</td>\n",
       "      <td>0.686000</td>\n",
       "      <td>34300.0</td>\n",
       "      <td>50000.0</td>\n",
       "    </tr>\n",
       "    <tr>\n",
       "      <th>53</th>\n",
       "      <td>Rio Tuba</td>\n",
       "      <td>2.791667</td>\n",
       "      <td>67000.0</td>\n",
       "      <td>24000.0</td>\n",
       "    </tr>\n",
       "    <tr>\n",
       "      <th>56</th>\n",
       "      <td>Ontario Division</td>\n",
       "      <td>0.884848</td>\n",
       "      <td>58400.0</td>\n",
       "      <td>66000.0</td>\n",
       "    </tr>\n",
       "    <tr>\n",
       "      <th>57</th>\n",
       "      <td>Terrafame</td>\n",
       "      <td>0.780000</td>\n",
       "      <td>27300.0</td>\n",
       "      <td>35000.0</td>\n",
       "    </tr>\n",
       "    <tr>\n",
       "      <th>58</th>\n",
       "      <td>Koniambo</td>\n",
       "      <td>0.395000</td>\n",
       "      <td>23700.0</td>\n",
       "      <td>60000.0</td>\n",
       "    </tr>\n",
       "    <tr>\n",
       "      <th>59</th>\n",
       "      <td>Onca Puma</td>\n",
       "      <td>0.403774</td>\n",
       "      <td>21400.0</td>\n",
       "      <td>53000.0</td>\n",
       "    </tr>\n",
       "    <tr>\n",
       "      <th>62</th>\n",
       "      <td>Larco</td>\n",
       "      <td>0.782609</td>\n",
       "      <td>18000.0</td>\n",
       "      <td>23000.0</td>\n",
       "    </tr>\n",
       "    <tr>\n",
       "      <th>64</th>\n",
       "      <td>Murrin Murrin</td>\n",
       "      <td>0.913333</td>\n",
       "      <td>41100.0</td>\n",
       "      <td>45000.0</td>\n",
       "    </tr>\n",
       "    <tr>\n",
       "      <th>65</th>\n",
       "      <td>Leinster</td>\n",
       "      <td>0.593333</td>\n",
       "      <td>26700.0</td>\n",
       "      <td>45000.0</td>\n",
       "    </tr>\n",
       "    <tr>\n",
       "      <th>67</th>\n",
       "      <td>Savannah</td>\n",
       "      <td>0.603500</td>\n",
       "      <td>4828.0</td>\n",
       "      <td>8000.0</td>\n",
       "    </tr>\n",
       "    <tr>\n",
       "      <th>68</th>\n",
       "      <td>SNL</td>\n",
       "      <td>0.632000</td>\n",
       "      <td>47400.0</td>\n",
       "      <td>75000.0</td>\n",
       "    </tr>\n",
       "    <tr>\n",
       "      <th>70</th>\n",
       "      <td>Goro</td>\n",
       "      <td>0.425455</td>\n",
       "      <td>23400.0</td>\n",
       "      <td>55000.0</td>\n",
       "    </tr>\n",
       "    <tr>\n",
       "      <th>75</th>\n",
       "      <td>Loma de Niquel</td>\n",
       "      <td>0.476471</td>\n",
       "      <td>8100.0</td>\n",
       "      <td>17000.0</td>\n",
       "    </tr>\n",
       "    <tr>\n",
       "      <th>124</th>\n",
       "      <td>Clean TeQ Sunrise</td>\n",
       "      <td>1.028889</td>\n",
       "      <td>18520.0</td>\n",
       "      <td>18000.0</td>\n",
       "    </tr>\n",
       "    <tr>\n",
       "      <th>332</th>\n",
       "      <td>Cosmos</td>\n",
       "      <td>1.301000</td>\n",
       "      <td>13010.0</td>\n",
       "      <td>10000.0</td>\n",
       "    </tr>\n",
       "    <tr>\n",
       "      <th>346</th>\n",
       "      <td>Honeymoon Well</td>\n",
       "      <td>0.029882</td>\n",
       "      <td>1344.7</td>\n",
       "      <td>45000.0</td>\n",
       "    </tr>\n",
       "    <tr>\n",
       "      <th>369</th>\n",
       "      <td>Central Musgrave</td>\n",
       "      <td>0.955000</td>\n",
       "      <td>38200.0</td>\n",
       "      <td>40000.0</td>\n",
       "    </tr>\n",
       "    <tr>\n",
       "      <th>523</th>\n",
       "      <td>Trident - Enterprise</td>\n",
       "      <td>0.824158</td>\n",
       "      <td>31318.0</td>\n",
       "      <td>38000.0</td>\n",
       "    </tr>\n",
       "    <tr>\n",
       "      <th>551</th>\n",
       "      <td>Vermelho</td>\n",
       "      <td>0.540356</td>\n",
       "      <td>24316.0</td>\n",
       "      <td>45000.0</td>\n",
       "    </tr>\n",
       "    <tr>\n",
       "      <th>557</th>\n",
       "      <td>Jacare</td>\n",
       "      <td>0.102666</td>\n",
       "      <td>3593.3</td>\n",
       "      <td>35000.0</td>\n",
       "    </tr>\n",
       "    <tr>\n",
       "      <th>579</th>\n",
       "      <td>Morowali</td>\n",
       "      <td>0.800000</td>\n",
       "      <td>240000.0</td>\n",
       "      <td>300000.0</td>\n",
       "    </tr>\n",
       "    <tr>\n",
       "      <th>581</th>\n",
       "      <td>Huake Smelter</td>\n",
       "      <td>1.000000</td>\n",
       "      <td>45000.0</td>\n",
       "      <td>45000.0</td>\n",
       "    </tr>\n",
       "    <tr>\n",
       "      <th>632</th>\n",
       "      <td>Gag Island</td>\n",
       "      <td>0.900667</td>\n",
       "      <td>27020.0</td>\n",
       "      <td>30000.0</td>\n",
       "    </tr>\n",
       "    <tr>\n",
       "      <th>730</th>\n",
       "      <td>Fenix</td>\n",
       "      <td>1.156000</td>\n",
       "      <td>28900.0</td>\n",
       "      <td>25000.0</td>\n",
       "    </tr>\n",
       "    <tr>\n",
       "      <th>858</th>\n",
       "      <td>Feni</td>\n",
       "      <td>0.750000</td>\n",
       "      <td>15000.0</td>\n",
       "      <td>20000.0</td>\n",
       "    </tr>\n",
       "    <tr>\n",
       "      <th>1018</th>\n",
       "      <td>Pobugsky Smelter</td>\n",
       "      <td>0.750000</td>\n",
       "      <td>15000.0</td>\n",
       "      <td>20000.0</td>\n",
       "    </tr>\n",
       "    <tr>\n",
       "      <th>1340</th>\n",
       "      <td>Harjavalta Refinery</td>\n",
       "      <td>0.577778</td>\n",
       "      <td>26000.0</td>\n",
       "      <td>45000.0</td>\n",
       "    </tr>\n",
       "  </tbody>\n",
       "</table>\n",
       "</div>"
      ],
      "text/plain": [
       "                 prop_name  production_capatiy_ratio  production_PROD_Ni_tpa  \\\n",
       "0                  Codemin                  0.900000                  8100.0   \n",
       "10                    Ramu                  0.896970                 29600.0   \n",
       "12                Jinchuan                  0.625000                100000.0   \n",
       "18             Punta Gorda                  0.709677                 22000.0   \n",
       "19                 Moa Bay                  0.945943                 33108.0   \n",
       "21              Barro Alto                  0.753333                 33900.0   \n",
       "29              Santa Rita                  0.830303                 13700.0   \n",
       "35                Ambatovy                  0.562217                 33733.0   \n",
       "37                Falcondo                  0.937500                 30000.0   \n",
       "38                 Diggers                  0.007000                  3850.0   \n",
       "40            Cerro Matoso                  1.162164                 63919.0   \n",
       "42                Taganito                  1.076667                 32300.0   \n",
       "44      Sudbury Operations                  0.634737                 60300.0   \n",
       "47                Sorowako                  0.740000                 59200.0   \n",
       "48                Weda Bay                  0.837500                 40200.0   \n",
       "52            Voisey's Bay                  0.686000                 34300.0   \n",
       "53                Rio Tuba                  2.791667                 67000.0   \n",
       "56        Ontario Division                  0.884848                 58400.0   \n",
       "57               Terrafame                  0.780000                 27300.0   \n",
       "58                Koniambo                  0.395000                 23700.0   \n",
       "59               Onca Puma                  0.403774                 21400.0   \n",
       "62                   Larco                  0.782609                 18000.0   \n",
       "64           Murrin Murrin                  0.913333                 41100.0   \n",
       "65                Leinster                  0.593333                 26700.0   \n",
       "67                Savannah                  0.603500                  4828.0   \n",
       "68                     SNL                  0.632000                 47400.0   \n",
       "70                    Goro                  0.425455                 23400.0   \n",
       "75          Loma de Niquel                  0.476471                  8100.0   \n",
       "124      Clean TeQ Sunrise                  1.028889                 18520.0   \n",
       "332                 Cosmos                  1.301000                 13010.0   \n",
       "346         Honeymoon Well                  0.029882                  1344.7   \n",
       "369       Central Musgrave                  0.955000                 38200.0   \n",
       "523   Trident - Enterprise                  0.824158                 31318.0   \n",
       "551               Vermelho                  0.540356                 24316.0   \n",
       "557                 Jacare                  0.102666                  3593.3   \n",
       "579               Morowali                  0.800000                240000.0   \n",
       "581          Huake Smelter                  1.000000                 45000.0   \n",
       "632             Gag Island                  0.900667                 27020.0   \n",
       "730                  Fenix                  1.156000                 28900.0   \n",
       "858                   Feni                  0.750000                 15000.0   \n",
       "1018      Pobugsky Smelter                  0.750000                 15000.0   \n",
       "1340   Harjavalta Refinery                  0.577778                 26000.0   \n",
       "\n",
       "      production_capacity  \n",
       "0                  9000.0  \n",
       "10                33000.0  \n",
       "12               160000.0  \n",
       "18                31000.0  \n",
       "19                35000.0  \n",
       "21                45000.0  \n",
       "29                16500.0  \n",
       "35                60000.0  \n",
       "37                32000.0  \n",
       "38               550000.0  \n",
       "40                55000.0  \n",
       "42                30000.0  \n",
       "44                95000.0  \n",
       "47                80000.0  \n",
       "48                48000.0  \n",
       "52                50000.0  \n",
       "53                24000.0  \n",
       "56                66000.0  \n",
       "57                35000.0  \n",
       "58                60000.0  \n",
       "59                53000.0  \n",
       "62                23000.0  \n",
       "64                45000.0  \n",
       "65                45000.0  \n",
       "67                 8000.0  \n",
       "68                75000.0  \n",
       "70                55000.0  \n",
       "75                17000.0  \n",
       "124               18000.0  \n",
       "332               10000.0  \n",
       "346               45000.0  \n",
       "369               40000.0  \n",
       "523               38000.0  \n",
       "551               45000.0  \n",
       "557               35000.0  \n",
       "579              300000.0  \n",
       "581               45000.0  \n",
       "632               30000.0  \n",
       "730               25000.0  \n",
       "858               20000.0  \n",
       "1018              20000.0  \n",
       "1340              45000.0  "
      ]
     },
     "execution_count": 141,
     "metadata": {},
     "output_type": "execute_result"
    }
   ],
   "source": [
    "df['production_capatiy_ratio'] = df['production_PROD_Ni_tpa'] / df['production_capacity']\n",
    "df[['prop_name', 'production_capatiy_ratio', 'production_PROD_Ni_tpa', 'production_capacity']].dropna()\n"
   ]
  },
  {
   "cell_type": "code",
   "execution_count": 38,
   "id": "d588bf69",
   "metadata": {
    "ExecuteTime": {
     "end_time": "2022-05-22T17:28:29.611022Z",
     "start_time": "2022-05-22T17:28:29.606309Z"
    }
   },
   "outputs": [],
   "source": [
    "idx = df['production_PROD_Ni_tpa'].notnull() & df['production_capacity'].notnull()\n",
    "df.loc[idx, 'production_capacity'] = df.loc[idx].apply(lambda x: x['production_capacity'] if x['production_PROD_Ni_tpa']/x['production_capacity']<=1.2 else x['production_PROD_Ni_tpa']*1.2, axis=1)\n"
   ]
  },
  {
   "cell_type": "code",
   "execution_count": 39,
   "id": "ad96feae",
   "metadata": {
    "ExecuteTime": {
     "end_time": "2022-05-22T17:28:29.624591Z",
     "start_time": "2022-05-22T17:28:29.612242Z"
    }
   },
   "outputs": [
    {
     "data": {
      "text/html": [
       "<div>\n",
       "<style scoped>\n",
       "    .dataframe tbody tr th:only-of-type {\n",
       "        vertical-align: middle;\n",
       "    }\n",
       "\n",
       "    .dataframe tbody tr th {\n",
       "        vertical-align: top;\n",
       "    }\n",
       "\n",
       "    .dataframe thead th {\n",
       "        text-align: right;\n",
       "    }\n",
       "</style>\n",
       "<table border=\"1\" class=\"dataframe\">\n",
       "  <thead>\n",
       "    <tr style=\"text-align: right;\">\n",
       "      <th></th>\n",
       "      <th>prop_name</th>\n",
       "      <th>production_capatiy_ratio</th>\n",
       "      <th>production_PROD_Ni_tpa</th>\n",
       "      <th>production_capacity</th>\n",
       "    </tr>\n",
       "  </thead>\n",
       "  <tbody>\n",
       "    <tr>\n",
       "      <th>0</th>\n",
       "      <td>Codemin</td>\n",
       "      <td>0.900000</td>\n",
       "      <td>8100.0</td>\n",
       "      <td>9000.0</td>\n",
       "    </tr>\n",
       "    <tr>\n",
       "      <th>10</th>\n",
       "      <td>Ramu</td>\n",
       "      <td>0.896970</td>\n",
       "      <td>29600.0</td>\n",
       "      <td>33000.0</td>\n",
       "    </tr>\n",
       "    <tr>\n",
       "      <th>12</th>\n",
       "      <td>Jinchuan</td>\n",
       "      <td>0.625000</td>\n",
       "      <td>100000.0</td>\n",
       "      <td>160000.0</td>\n",
       "    </tr>\n",
       "    <tr>\n",
       "      <th>18</th>\n",
       "      <td>Punta Gorda</td>\n",
       "      <td>0.709677</td>\n",
       "      <td>22000.0</td>\n",
       "      <td>31000.0</td>\n",
       "    </tr>\n",
       "    <tr>\n",
       "      <th>19</th>\n",
       "      <td>Moa Bay</td>\n",
       "      <td>0.945943</td>\n",
       "      <td>33108.0</td>\n",
       "      <td>35000.0</td>\n",
       "    </tr>\n",
       "    <tr>\n",
       "      <th>21</th>\n",
       "      <td>Barro Alto</td>\n",
       "      <td>0.753333</td>\n",
       "      <td>33900.0</td>\n",
       "      <td>45000.0</td>\n",
       "    </tr>\n",
       "    <tr>\n",
       "      <th>29</th>\n",
       "      <td>Santa Rita</td>\n",
       "      <td>0.830303</td>\n",
       "      <td>13700.0</td>\n",
       "      <td>16500.0</td>\n",
       "    </tr>\n",
       "    <tr>\n",
       "      <th>35</th>\n",
       "      <td>Ambatovy</td>\n",
       "      <td>0.562217</td>\n",
       "      <td>33733.0</td>\n",
       "      <td>60000.0</td>\n",
       "    </tr>\n",
       "    <tr>\n",
       "      <th>37</th>\n",
       "      <td>Falcondo</td>\n",
       "      <td>0.937500</td>\n",
       "      <td>30000.0</td>\n",
       "      <td>32000.0</td>\n",
       "    </tr>\n",
       "    <tr>\n",
       "      <th>38</th>\n",
       "      <td>Diggers</td>\n",
       "      <td>0.007000</td>\n",
       "      <td>3850.0</td>\n",
       "      <td>550000.0</td>\n",
       "    </tr>\n",
       "    <tr>\n",
       "      <th>40</th>\n",
       "      <td>Cerro Matoso</td>\n",
       "      <td>1.162164</td>\n",
       "      <td>63919.0</td>\n",
       "      <td>55000.0</td>\n",
       "    </tr>\n",
       "    <tr>\n",
       "      <th>42</th>\n",
       "      <td>Taganito</td>\n",
       "      <td>1.076667</td>\n",
       "      <td>32300.0</td>\n",
       "      <td>30000.0</td>\n",
       "    </tr>\n",
       "    <tr>\n",
       "      <th>44</th>\n",
       "      <td>Sudbury Operations</td>\n",
       "      <td>0.634737</td>\n",
       "      <td>60300.0</td>\n",
       "      <td>95000.0</td>\n",
       "    </tr>\n",
       "    <tr>\n",
       "      <th>47</th>\n",
       "      <td>Sorowako</td>\n",
       "      <td>0.740000</td>\n",
       "      <td>59200.0</td>\n",
       "      <td>80000.0</td>\n",
       "    </tr>\n",
       "    <tr>\n",
       "      <th>48</th>\n",
       "      <td>Weda Bay</td>\n",
       "      <td>0.837500</td>\n",
       "      <td>40200.0</td>\n",
       "      <td>48000.0</td>\n",
       "    </tr>\n",
       "    <tr>\n",
       "      <th>52</th>\n",
       "      <td>Voisey's Bay</td>\n",
       "      <td>0.686000</td>\n",
       "      <td>34300.0</td>\n",
       "      <td>50000.0</td>\n",
       "    </tr>\n",
       "    <tr>\n",
       "      <th>53</th>\n",
       "      <td>Rio Tuba</td>\n",
       "      <td>0.833333</td>\n",
       "      <td>67000.0</td>\n",
       "      <td>80400.0</td>\n",
       "    </tr>\n",
       "    <tr>\n",
       "      <th>56</th>\n",
       "      <td>Ontario Division</td>\n",
       "      <td>0.884848</td>\n",
       "      <td>58400.0</td>\n",
       "      <td>66000.0</td>\n",
       "    </tr>\n",
       "    <tr>\n",
       "      <th>57</th>\n",
       "      <td>Terrafame</td>\n",
       "      <td>0.780000</td>\n",
       "      <td>27300.0</td>\n",
       "      <td>35000.0</td>\n",
       "    </tr>\n",
       "    <tr>\n",
       "      <th>58</th>\n",
       "      <td>Koniambo</td>\n",
       "      <td>0.395000</td>\n",
       "      <td>23700.0</td>\n",
       "      <td>60000.0</td>\n",
       "    </tr>\n",
       "    <tr>\n",
       "      <th>59</th>\n",
       "      <td>Onca Puma</td>\n",
       "      <td>0.403774</td>\n",
       "      <td>21400.0</td>\n",
       "      <td>53000.0</td>\n",
       "    </tr>\n",
       "    <tr>\n",
       "      <th>62</th>\n",
       "      <td>Larco</td>\n",
       "      <td>0.782609</td>\n",
       "      <td>18000.0</td>\n",
       "      <td>23000.0</td>\n",
       "    </tr>\n",
       "    <tr>\n",
       "      <th>64</th>\n",
       "      <td>Murrin Murrin</td>\n",
       "      <td>0.913333</td>\n",
       "      <td>41100.0</td>\n",
       "      <td>45000.0</td>\n",
       "    </tr>\n",
       "    <tr>\n",
       "      <th>65</th>\n",
       "      <td>Leinster</td>\n",
       "      <td>0.593333</td>\n",
       "      <td>26700.0</td>\n",
       "      <td>45000.0</td>\n",
       "    </tr>\n",
       "    <tr>\n",
       "      <th>67</th>\n",
       "      <td>Savannah</td>\n",
       "      <td>0.603500</td>\n",
       "      <td>4828.0</td>\n",
       "      <td>8000.0</td>\n",
       "    </tr>\n",
       "    <tr>\n",
       "      <th>68</th>\n",
       "      <td>SNL</td>\n",
       "      <td>0.632000</td>\n",
       "      <td>47400.0</td>\n",
       "      <td>75000.0</td>\n",
       "    </tr>\n",
       "    <tr>\n",
       "      <th>70</th>\n",
       "      <td>Goro</td>\n",
       "      <td>0.425455</td>\n",
       "      <td>23400.0</td>\n",
       "      <td>55000.0</td>\n",
       "    </tr>\n",
       "    <tr>\n",
       "      <th>75</th>\n",
       "      <td>Loma de Niquel</td>\n",
       "      <td>0.476471</td>\n",
       "      <td>8100.0</td>\n",
       "      <td>17000.0</td>\n",
       "    </tr>\n",
       "    <tr>\n",
       "      <th>124</th>\n",
       "      <td>Clean TeQ Sunrise</td>\n",
       "      <td>1.028889</td>\n",
       "      <td>18520.0</td>\n",
       "      <td>18000.0</td>\n",
       "    </tr>\n",
       "    <tr>\n",
       "      <th>332</th>\n",
       "      <td>Cosmos</td>\n",
       "      <td>0.833333</td>\n",
       "      <td>13010.0</td>\n",
       "      <td>15612.0</td>\n",
       "    </tr>\n",
       "    <tr>\n",
       "      <th>346</th>\n",
       "      <td>Honeymoon Well</td>\n",
       "      <td>0.029882</td>\n",
       "      <td>1344.7</td>\n",
       "      <td>45000.0</td>\n",
       "    </tr>\n",
       "    <tr>\n",
       "      <th>369</th>\n",
       "      <td>Central Musgrave</td>\n",
       "      <td>0.955000</td>\n",
       "      <td>38200.0</td>\n",
       "      <td>40000.0</td>\n",
       "    </tr>\n",
       "    <tr>\n",
       "      <th>523</th>\n",
       "      <td>Trident - Enterprise</td>\n",
       "      <td>0.824158</td>\n",
       "      <td>31318.0</td>\n",
       "      <td>38000.0</td>\n",
       "    </tr>\n",
       "    <tr>\n",
       "      <th>551</th>\n",
       "      <td>Vermelho</td>\n",
       "      <td>0.540356</td>\n",
       "      <td>24316.0</td>\n",
       "      <td>45000.0</td>\n",
       "    </tr>\n",
       "    <tr>\n",
       "      <th>557</th>\n",
       "      <td>Jacare</td>\n",
       "      <td>0.102666</td>\n",
       "      <td>3593.3</td>\n",
       "      <td>35000.0</td>\n",
       "    </tr>\n",
       "    <tr>\n",
       "      <th>579</th>\n",
       "      <td>Morowali</td>\n",
       "      <td>0.800000</td>\n",
       "      <td>240000.0</td>\n",
       "      <td>300000.0</td>\n",
       "    </tr>\n",
       "    <tr>\n",
       "      <th>581</th>\n",
       "      <td>Huake Smelter</td>\n",
       "      <td>1.000000</td>\n",
       "      <td>45000.0</td>\n",
       "      <td>45000.0</td>\n",
       "    </tr>\n",
       "    <tr>\n",
       "      <th>632</th>\n",
       "      <td>Gag Island</td>\n",
       "      <td>0.900667</td>\n",
       "      <td>27020.0</td>\n",
       "      <td>30000.0</td>\n",
       "    </tr>\n",
       "    <tr>\n",
       "      <th>730</th>\n",
       "      <td>Fenix</td>\n",
       "      <td>1.156000</td>\n",
       "      <td>28900.0</td>\n",
       "      <td>25000.0</td>\n",
       "    </tr>\n",
       "    <tr>\n",
       "      <th>858</th>\n",
       "      <td>Feni</td>\n",
       "      <td>0.750000</td>\n",
       "      <td>15000.0</td>\n",
       "      <td>20000.0</td>\n",
       "    </tr>\n",
       "    <tr>\n",
       "      <th>1018</th>\n",
       "      <td>Pobugsky Smelter</td>\n",
       "      <td>0.750000</td>\n",
       "      <td>15000.0</td>\n",
       "      <td>20000.0</td>\n",
       "    </tr>\n",
       "    <tr>\n",
       "      <th>1340</th>\n",
       "      <td>Harjavalta Refinery</td>\n",
       "      <td>0.577778</td>\n",
       "      <td>26000.0</td>\n",
       "      <td>45000.0</td>\n",
       "    </tr>\n",
       "  </tbody>\n",
       "</table>\n",
       "</div>"
      ],
      "text/plain": [
       "                 prop_name  production_capatiy_ratio  production_PROD_Ni_tpa  \\\n",
       "0                  Codemin                  0.900000                  8100.0   \n",
       "10                    Ramu                  0.896970                 29600.0   \n",
       "12                Jinchuan                  0.625000                100000.0   \n",
       "18             Punta Gorda                  0.709677                 22000.0   \n",
       "19                 Moa Bay                  0.945943                 33108.0   \n",
       "21              Barro Alto                  0.753333                 33900.0   \n",
       "29              Santa Rita                  0.830303                 13700.0   \n",
       "35                Ambatovy                  0.562217                 33733.0   \n",
       "37                Falcondo                  0.937500                 30000.0   \n",
       "38                 Diggers                  0.007000                  3850.0   \n",
       "40            Cerro Matoso                  1.162164                 63919.0   \n",
       "42                Taganito                  1.076667                 32300.0   \n",
       "44      Sudbury Operations                  0.634737                 60300.0   \n",
       "47                Sorowako                  0.740000                 59200.0   \n",
       "48                Weda Bay                  0.837500                 40200.0   \n",
       "52            Voisey's Bay                  0.686000                 34300.0   \n",
       "53                Rio Tuba                  0.833333                 67000.0   \n",
       "56        Ontario Division                  0.884848                 58400.0   \n",
       "57               Terrafame                  0.780000                 27300.0   \n",
       "58                Koniambo                  0.395000                 23700.0   \n",
       "59               Onca Puma                  0.403774                 21400.0   \n",
       "62                   Larco                  0.782609                 18000.0   \n",
       "64           Murrin Murrin                  0.913333                 41100.0   \n",
       "65                Leinster                  0.593333                 26700.0   \n",
       "67                Savannah                  0.603500                  4828.0   \n",
       "68                     SNL                  0.632000                 47400.0   \n",
       "70                    Goro                  0.425455                 23400.0   \n",
       "75          Loma de Niquel                  0.476471                  8100.0   \n",
       "124      Clean TeQ Sunrise                  1.028889                 18520.0   \n",
       "332                 Cosmos                  0.833333                 13010.0   \n",
       "346         Honeymoon Well                  0.029882                  1344.7   \n",
       "369       Central Musgrave                  0.955000                 38200.0   \n",
       "523   Trident - Enterprise                  0.824158                 31318.0   \n",
       "551               Vermelho                  0.540356                 24316.0   \n",
       "557                 Jacare                  0.102666                  3593.3   \n",
       "579               Morowali                  0.800000                240000.0   \n",
       "581          Huake Smelter                  1.000000                 45000.0   \n",
       "632             Gag Island                  0.900667                 27020.0   \n",
       "730                  Fenix                  1.156000                 28900.0   \n",
       "858                   Feni                  0.750000                 15000.0   \n",
       "1018      Pobugsky Smelter                  0.750000                 15000.0   \n",
       "1340   Harjavalta Refinery                  0.577778                 26000.0   \n",
       "\n",
       "      production_capacity  \n",
       "0                  9000.0  \n",
       "10                33000.0  \n",
       "12               160000.0  \n",
       "18                31000.0  \n",
       "19                35000.0  \n",
       "21                45000.0  \n",
       "29                16500.0  \n",
       "35                60000.0  \n",
       "37                32000.0  \n",
       "38               550000.0  \n",
       "40                55000.0  \n",
       "42                30000.0  \n",
       "44                95000.0  \n",
       "47                80000.0  \n",
       "48                48000.0  \n",
       "52                50000.0  \n",
       "53                80400.0  \n",
       "56                66000.0  \n",
       "57                35000.0  \n",
       "58                60000.0  \n",
       "59                53000.0  \n",
       "62                23000.0  \n",
       "64                45000.0  \n",
       "65                45000.0  \n",
       "67                 8000.0  \n",
       "68                75000.0  \n",
       "70                55000.0  \n",
       "75                17000.0  \n",
       "124               18000.0  \n",
       "332               15612.0  \n",
       "346               45000.0  \n",
       "369               40000.0  \n",
       "523               38000.0  \n",
       "551               45000.0  \n",
       "557               35000.0  \n",
       "579              300000.0  \n",
       "581               45000.0  \n",
       "632               30000.0  \n",
       "730               25000.0  \n",
       "858               20000.0  \n",
       "1018              20000.0  \n",
       "1340              45000.0  "
      ]
     },
     "execution_count": 39,
     "metadata": {},
     "output_type": "execute_result"
    }
   ],
   "source": [
    "df['production_capatiy_ratio'] = df['production_PROD_Ni_tpa'] / df['production_capacity']\n",
    "df[['prop_name', 'production_capatiy_ratio', 'production_PROD_Ni_tpa', 'production_capacity']].dropna()\n"
   ]
  },
  {
   "cell_type": "markdown",
   "id": "212736d7",
   "metadata": {},
   "source": [
    "### production capacity ratio"
   ]
  },
  {
   "cell_type": "code",
   "execution_count": 40,
   "id": "06b35c0a",
   "metadata": {
    "ExecuteTime": {
     "end_time": "2022-05-22T17:28:29.633948Z",
     "start_time": "2022-05-22T17:28:29.626076Z"
    }
   },
   "outputs": [
    {
     "data": {
      "text/html": [
       "<div>\n",
       "<style scoped>\n",
       "    .dataframe tbody tr th:only-of-type {\n",
       "        vertical-align: middle;\n",
       "    }\n",
       "\n",
       "    .dataframe tbody tr th {\n",
       "        vertical-align: top;\n",
       "    }\n",
       "\n",
       "    .dataframe thead th {\n",
       "        text-align: right;\n",
       "    }\n",
       "</style>\n",
       "<table border=\"1\" class=\"dataframe\">\n",
       "  <thead>\n",
       "    <tr style=\"text-align: right;\">\n",
       "      <th></th>\n",
       "      <th>mean</th>\n",
       "      <th>std</th>\n",
       "      <th>count_nonzero</th>\n",
       "    </tr>\n",
       "    <tr>\n",
       "      <th>country_name</th>\n",
       "      <th></th>\n",
       "      <th></th>\n",
       "      <th></th>\n",
       "    </tr>\n",
       "  </thead>\n",
       "  <tbody>\n",
       "    <tr>\n",
       "      <th>Australia</th>\n",
       "      <td>0.620534</td>\n",
       "      <td>0.402840</td>\n",
       "      <td>8</td>\n",
       "    </tr>\n",
       "    <tr>\n",
       "      <th>Brazil</th>\n",
       "      <td>0.588405</td>\n",
       "      <td>0.301711</td>\n",
       "      <td>6</td>\n",
       "    </tr>\n",
       "    <tr>\n",
       "      <th>Canada</th>\n",
       "      <td>0.735195</td>\n",
       "      <td>0.132114</td>\n",
       "      <td>3</td>\n",
       "    </tr>\n",
       "    <tr>\n",
       "      <th>Cuba</th>\n",
       "      <td>0.827810</td>\n",
       "      <td>0.167065</td>\n",
       "      <td>2</td>\n",
       "    </tr>\n",
       "    <tr>\n",
       "      <th>Finland</th>\n",
       "      <td>0.678889</td>\n",
       "      <td>0.142993</td>\n",
       "      <td>2</td>\n",
       "    </tr>\n",
       "    <tr>\n",
       "      <th>Indonesia</th>\n",
       "      <td>0.855633</td>\n",
       "      <td>0.099580</td>\n",
       "      <td>5</td>\n",
       "    </tr>\n",
       "    <tr>\n",
       "      <th>New Caledonia</th>\n",
       "      <td>0.484152</td>\n",
       "      <td>0.128943</td>\n",
       "      <td>3</td>\n",
       "    </tr>\n",
       "    <tr>\n",
       "      <th>Philippines</th>\n",
       "      <td>0.955000</td>\n",
       "      <td>0.172063</td>\n",
       "      <td>2</td>\n",
       "    </tr>\n",
       "  </tbody>\n",
       "</table>\n",
       "</div>"
      ],
      "text/plain": [
       "                   mean       std  count_nonzero\n",
       "country_name                                    \n",
       "Australia      0.620534  0.402840              8\n",
       "Brazil         0.588405  0.301711              6\n",
       "Canada         0.735195  0.132114              3\n",
       "Cuba           0.827810  0.167065              2\n",
       "Finland        0.678889  0.142993              2\n",
       "Indonesia      0.855633  0.099580              5\n",
       "New Caledonia  0.484152  0.128943              3\n",
       "Philippines    0.955000  0.172063              2"
      ]
     },
     "execution_count": 40,
     "metadata": {},
     "output_type": "execute_result"
    }
   ],
   "source": [
    "df.dropna(subset=['production_capatiy_ratio']).groupby('country_name')['production_capatiy_ratio'].agg([np.mean, np.std, np.count_nonzero]).dropna()"
   ]
  },
  {
   "cell_type": "code",
   "execution_count": 41,
   "id": "c0efc6b3",
   "metadata": {
    "ExecuteTime": {
     "end_time": "2022-05-22T17:28:29.642275Z",
     "start_time": "2022-05-22T17:28:29.635337Z"
    }
   },
   "outputs": [
    {
     "data": {
      "text/html": [
       "<div>\n",
       "<style scoped>\n",
       "    .dataframe tbody tr th:only-of-type {\n",
       "        vertical-align: middle;\n",
       "    }\n",
       "\n",
       "    .dataframe tbody tr th {\n",
       "        vertical-align: top;\n",
       "    }\n",
       "\n",
       "    .dataframe thead th {\n",
       "        text-align: right;\n",
       "    }\n",
       "</style>\n",
       "<table border=\"1\" class=\"dataframe\">\n",
       "  <thead>\n",
       "    <tr style=\"text-align: right;\">\n",
       "      <th></th>\n",
       "      <th>mean</th>\n",
       "      <th>std</th>\n",
       "      <th>count_nonzero</th>\n",
       "    </tr>\n",
       "    <tr>\n",
       "      <th>mine_type1</th>\n",
       "      <th></th>\n",
       "      <th></th>\n",
       "      <th></th>\n",
       "    </tr>\n",
       "  </thead>\n",
       "  <tbody>\n",
       "    <tr>\n",
       "      <th>Open Pit</th>\n",
       "      <td>0.738218</td>\n",
       "      <td>0.264685</td>\n",
       "      <td>33</td>\n",
       "    </tr>\n",
       "    <tr>\n",
       "      <th>Underground</th>\n",
       "      <td>0.598070</td>\n",
       "      <td>0.312747</td>\n",
       "      <td>6</td>\n",
       "    </tr>\n",
       "  </tbody>\n",
       "</table>\n",
       "</div>"
      ],
      "text/plain": [
       "                 mean       std  count_nonzero\n",
       "mine_type1                                    \n",
       "Open Pit     0.738218  0.264685             33\n",
       "Underground  0.598070  0.312747              6"
      ]
     },
     "execution_count": 41,
     "metadata": {},
     "output_type": "execute_result"
    }
   ],
   "source": [
    "df.dropna(subset=['production_capatiy_ratio']).groupby('mine_type1')['production_capatiy_ratio'].agg([np.mean, np.std, np.count_nonzero]).dropna()"
   ]
  },
  {
   "cell_type": "code",
   "execution_count": 42,
   "id": "c4850257",
   "metadata": {
    "ExecuteTime": {
     "end_time": "2022-05-22T17:28:29.650772Z",
     "start_time": "2022-05-22T17:28:29.643677Z"
    }
   },
   "outputs": [
    {
     "data": {
      "text/html": [
       "<div>\n",
       "<style scoped>\n",
       "    .dataframe tbody tr th:only-of-type {\n",
       "        vertical-align: middle;\n",
       "    }\n",
       "\n",
       "    .dataframe tbody tr th {\n",
       "        vertical-align: top;\n",
       "    }\n",
       "\n",
       "    .dataframe thead th {\n",
       "        text-align: right;\n",
       "    }\n",
       "</style>\n",
       "<table border=\"1\" class=\"dataframe\">\n",
       "  <thead>\n",
       "    <tr style=\"text-align: right;\">\n",
       "      <th></th>\n",
       "      <th>mean</th>\n",
       "      <th>std</th>\n",
       "      <th>count_nonzero</th>\n",
       "    </tr>\n",
       "    <tr>\n",
       "      <th>deposit_type</th>\n",
       "      <th></th>\n",
       "      <th></th>\n",
       "      <th></th>\n",
       "    </tr>\n",
       "  </thead>\n",
       "  <tbody>\n",
       "    <tr>\n",
       "      <th>Hydrothermal Ni</th>\n",
       "      <td>0.802079</td>\n",
       "      <td>0.031224</td>\n",
       "      <td>2</td>\n",
       "    </tr>\n",
       "    <tr>\n",
       "      <th>Laterite</th>\n",
       "      <td>0.763126</td>\n",
       "      <td>0.249560</td>\n",
       "      <td>28</td>\n",
       "    </tr>\n",
       "    <tr>\n",
       "      <th>Magmatic Sulphide</th>\n",
       "      <td>0.661439</td>\n",
       "      <td>0.258559</td>\n",
       "      <td>11</td>\n",
       "    </tr>\n",
       "  </tbody>\n",
       "</table>\n",
       "</div>"
      ],
      "text/plain": [
       "                       mean       std  count_nonzero\n",
       "deposit_type                                        \n",
       "Hydrothermal Ni    0.802079  0.031224              2\n",
       "Laterite           0.763126  0.249560             28\n",
       "Magmatic Sulphide  0.661439  0.258559             11"
      ]
     },
     "execution_count": 42,
     "metadata": {},
     "output_type": "execute_result"
    }
   ],
   "source": [
    "df.dropna(subset=['production_capatiy_ratio']).groupby('deposit_type')['production_capatiy_ratio'].agg([np.mean, np.std, np.count_nonzero]).dropna()"
   ]
  },
  {
   "cell_type": "code",
   "execution_count": 43,
   "id": "72950201",
   "metadata": {
    "ExecuteTime": {
     "end_time": "2022-05-22T17:28:29.656701Z",
     "start_time": "2022-05-22T17:28:29.652401Z"
    }
   },
   "outputs": [
    {
     "data": {
      "text/plain": [
       "{'Hydrothermal Ni': 0.8020789473684211,\n",
       " 'Laterite': 0.7631257565288879,\n",
       " 'Laterite & Magmatic Sulphide': 0.029882222222222223,\n",
       " 'Magmatic Sulphide': 0.6614393456092021,\n",
       " 'Other': nan}"
      ]
     },
     "execution_count": 43,
     "metadata": {},
     "output_type": "execute_result"
    }
   ],
   "source": [
    "# use deposit_type\n",
    "production_capatiy_ratio_dic = df.groupby('deposit_type')['production_capatiy_ratio'].mean().to_dict()\n",
    "production_capatiy_ratio_dic\n"
   ]
  },
  {
   "cell_type": "code",
   "execution_count": 44,
   "id": "ff5273a5",
   "metadata": {
    "ExecuteTime": {
     "end_time": "2022-05-22T17:28:29.662662Z",
     "start_time": "2022-05-22T17:28:29.657820Z"
    }
   },
   "outputs": [],
   "source": [
    "# use deposit_type\n",
    "impute_production_capacity_index1 = df['production_PROD_Ni_tpa'].notnull() & df['production_capacity'].isnull() & df['deposit_type'].notnull()\n",
    "df.loc[impute_production_capacity_index1, 'production_capacity'] = df.loc[impute_production_capacity_index1, 'production_PROD_Ni_tpa'] /\\\n",
    "                                                                   df.loc[impute_production_capacity_index1, 'deposit_type'].replace(production_capatiy_ratio_dic)\n"
   ]
  },
  {
   "cell_type": "markdown",
   "id": "8ece62bf",
   "metadata": {},
   "source": [
    "### long"
   ]
  },
  {
   "attachments": {
    "image.png": {
     "image/png": "[encoded data removed]"
    }
   },
   "cell_type": "markdown",
   "id": "7dcf0030",
   "metadata": {},
   "source": [
    "![image.png](attachment:image.png)"
   ]
  },
  {
   "cell_type": "code",
   "execution_count": 45,
   "id": "9ffba103",
   "metadata": {
    "ExecuteTime": {
     "end_time": "2022-05-22T17:28:29.666348Z",
     "start_time": "2022-05-22T17:28:29.664175Z"
    }
   },
   "outputs": [],
   "source": [
    "from scipy.optimize import curve_fit\n",
    "from sklearn.metrics import mean_squared_error\n",
    "\n",
    "def func(x,a,b):\n",
    "      return a*np.power(x, b)\n",
    "    "
   ]
  },
  {
   "cell_type": "code",
   "execution_count": 46,
   "id": "7b97d76b",
   "metadata": {
    "ExecuteTime": {
     "end_time": "2022-05-22T17:28:29.753639Z",
     "start_time": "2022-05-22T17:28:29.667517Z"
    }
   },
   "outputs": [
    {
     "data": {
      "text/plain": [
       "797.3358698705657"
      ]
     },
     "execution_count": 46,
     "metadata": {},
     "output_type": "execute_result"
    },
    {
     "data": {
      "text/plain": [
       "Text(0.5, 0, 'xaxis')"
      ]
     },
     "execution_count": 46,
     "metadata": {},
     "output_type": "execute_result"
    },
    {
     "data": {
      "text/plain": [
       "Text(0, 0.5, 'yaxis')"
      ]
     },
     "execution_count": 46,
     "metadata": {},
     "output_type": "execute_result"
    },
    {
     "data": {
      "text/plain": [
       "<matplotlib.legend.Legend at 0x7ff24bf2f100>"
      ]
     },
     "execution_count": 46,
     "metadata": {},
     "output_type": "execute_result"
    },
    {
     "data": {
      "text/plain": [
       "Text(0.5, 1.0, 'curve_fit')"
      ]
     },
     "execution_count": 46,
     "metadata": {},
     "output_type": "execute_result"
    },
    {
     "data": {
      "image/png": "[encoded data removed]",
      "text/plain": [
       "<Figure size 432x288 with 1 Axes>"
      ]
     },
     "metadata": {
      "needs_background": "light"
     },
     "output_type": "display_data"
    }
   ],
   "source": [
    "x = df[df['mine_type1']=='Open Pit'][['reserve_metal (mt)', 'production_capacity']].dropna().values[:,0]\n",
    "y = df[df['mine_type1']=='Open Pit'][['reserve_metal (mt)', 'production_capacity']].dropna().values[:,1]/350\n",
    "yvals=func(x,0.123,0.65)\n",
    "mean_squared_error(y, yvals, squared=False)\n",
    "\n",
    "plot1=plt.plot(x,y,'*',label='original values')\n",
    "plot2=plt.plot(x,yvals,'r',label='curve_fit values')\n",
    "plt.xlabel('xaxis')\n",
    "plt.ylabel('yaxis')\n",
    "plt.legend(loc=4)  #指定legend的位置,读者可以自己help它的用法\n",
    "plt.title('curve_fit')\n",
    "plt.show()\n"
   ]
  },
  {
   "cell_type": "code",
   "execution_count": 47,
   "id": "b263c542",
   "metadata": {
    "ExecuteTime": {
     "end_time": "2022-05-22T17:28:29.837139Z",
     "start_time": "2022-05-22T17:28:29.754639Z"
    }
   },
   "outputs": [
    {
     "data": {
      "text/plain": [
       "341.6484566197601"
      ]
     },
     "execution_count": 47,
     "metadata": {},
     "output_type": "execute_result"
    },
    {
     "data": {
      "text/plain": [
       "Text(0.5, 0, 'xaxis')"
      ]
     },
     "execution_count": 47,
     "metadata": {},
     "output_type": "execute_result"
    },
    {
     "data": {
      "text/plain": [
       "Text(0, 0.5, 'yaxis')"
      ]
     },
     "execution_count": 47,
     "metadata": {},
     "output_type": "execute_result"
    },
    {
     "data": {
      "text/plain": [
       "<matplotlib.legend.Legend at 0x7ff24d5ac580>"
      ]
     },
     "execution_count": 47,
     "metadata": {},
     "output_type": "execute_result"
    },
    {
     "data": {
      "text/plain": [
       "Text(0.5, 1.0, 'curve_fit')"
      ]
     },
     "execution_count": 47,
     "metadata": {},
     "output_type": "execute_result"
    },
    {
     "data": {
      "image/png": "[encoded data removed]",
      "text/plain": [
       "<Figure size 432x288 with 1 Axes>"
      ]
     },
     "metadata": {
      "needs_background": "light"
     },
     "output_type": "display_data"
    }
   ],
   "source": [
    "x = df[df['mine_type1']=='Underground'][['reserve_metal (mt)', 'production_capacity']].dropna().values[:,0]\n",
    "y = df[df['mine_type1']=='Underground'][['reserve_metal (mt)', 'production_capacity']].dropna().values[:,1]/350\n",
    "yvals=func(x,0.297,0.56)\n",
    "mean_squared_error(y, yvals, squared=False)\n",
    "\n",
    "plot1=plt.plot(x,y,'*',label='original values')\n",
    "plot2=plt.plot(x,yvals,'r',label='curve_fit values')\n",
    "plt.xlabel('xaxis')\n",
    "plt.ylabel('yaxis')\n",
    "plt.legend(loc=4)  #指定legend的位置,读者可以自己help它的用法\n",
    "plt.title('curve_fit')\n",
    "plt.show()\n"
   ]
  },
  {
   "cell_type": "markdown",
   "id": "9aeff330",
   "metadata": {},
   "source": [
    "### my fit all"
   ]
  },
  {
   "cell_type": "code",
   "execution_count": 48,
   "id": "10010d68",
   "metadata": {
    "ExecuteTime": {
     "end_time": "2022-05-22T17:28:29.927186Z",
     "start_time": "2022-05-22T17:28:29.838296Z"
    }
   },
   "outputs": [
    {
     "data": {
      "text/plain": [
       "0.03232624263152484"
      ]
     },
     "execution_count": 48,
     "metadata": {},
     "output_type": "execute_result"
    },
    {
     "data": {
      "text/plain": [
       "0.6070779761312942"
      ]
     },
     "execution_count": 48,
     "metadata": {},
     "output_type": "execute_result"
    },
    {
     "data": {
      "text/plain": [
       "164.33257059940865"
      ]
     },
     "execution_count": 48,
     "metadata": {},
     "output_type": "execute_result"
    },
    {
     "data": {
      "text/plain": [
       "Text(0.5, 0, 'xaxis')"
      ]
     },
     "execution_count": 48,
     "metadata": {},
     "output_type": "execute_result"
    },
    {
     "data": {
      "text/plain": [
       "Text(0, 0.5, 'yaxis')"
      ]
     },
     "execution_count": 48,
     "metadata": {},
     "output_type": "execute_result"
    },
    {
     "data": {
      "text/plain": [
       "<matplotlib.legend.Legend at 0x7ff279bb0760>"
      ]
     },
     "execution_count": 48,
     "metadata": {},
     "output_type": "execute_result"
    },
    {
     "data": {
      "text/plain": [
       "Text(0.5, 1.0, 'curve_fit')"
      ]
     },
     "execution_count": 48,
     "metadata": {},
     "output_type": "execute_result"
    },
    {
     "data": {
      "image/png": "[encoded data removed]",
      "text/plain": [
       "<Figure size 432x288 with 1 Axes>"
      ]
     },
     "metadata": {
      "needs_background": "light"
     },
     "output_type": "display_data"
    }
   ],
   "source": [
    "x = df[['reserve_metal (mt)', 'production_capacity']].dropna().values[:,0]\n",
    "y = df[['reserve_metal (mt)', 'production_capacity']].dropna().values[:,1]/350\n",
    "popt,pcov=curve_fit(func,x,y)\n",
    "a=popt[0] #popt里面是拟合系数，读者可以自己help其用法\n",
    "b=popt[1]\n",
    "yvals=func(x,a,b)\n",
    "a\n",
    "b\n",
    "mean_squared_error(y, yvals, squared=False)\n",
    "\n",
    "plot1=plt.plot(x,y,'*',label='original values')\n",
    "plot2=plt.plot(x,yvals,'r',label='curve_fit values')\n",
    "plt.xlabel('xaxis')\n",
    "plt.ylabel('yaxis')\n",
    "plt.legend(loc=4)  #指定legend的位置,读者可以自己help它的用法\n",
    "plt.title('curve_fit')\n",
    "plt.show()\n"
   ]
  },
  {
   "cell_type": "markdown",
   "id": "d2d97cbe",
   "metadata": {},
   "source": [
    "### my fit by mine type"
   ]
  },
  {
   "cell_type": "code",
   "execution_count": 49,
   "id": "b1b67e05",
   "metadata": {
    "ExecuteTime": {
     "end_time": "2022-05-22T17:28:30.010400Z",
     "start_time": "2022-05-22T17:28:29.928335Z"
    }
   },
   "outputs": [
    {
     "data": {
      "text/plain": [
       "1.811928681964911"
      ]
     },
     "execution_count": 49,
     "metadata": {},
     "output_type": "execute_result"
    },
    {
     "data": {
      "text/plain": [
       "0.3044563407767532"
      ]
     },
     "execution_count": 49,
     "metadata": {},
     "output_type": "execute_result"
    },
    {
     "data": {
      "text/plain": [
       "94.3507921661604"
      ]
     },
     "execution_count": 49,
     "metadata": {},
     "output_type": "execute_result"
    },
    {
     "data": {
      "text/plain": [
       "Text(0.5, 0, 'xaxis')"
      ]
     },
     "execution_count": 49,
     "metadata": {},
     "output_type": "execute_result"
    },
    {
     "data": {
      "text/plain": [
       "Text(0, 0.5, 'yaxis')"
      ]
     },
     "execution_count": 49,
     "metadata": {},
     "output_type": "execute_result"
    },
    {
     "data": {
      "text/plain": [
       "<matplotlib.legend.Legend at 0x7ff279abf6d0>"
      ]
     },
     "execution_count": 49,
     "metadata": {},
     "output_type": "execute_result"
    },
    {
     "data": {
      "text/plain": [
       "Text(0.5, 1.0, 'curve_fit')"
      ]
     },
     "execution_count": 49,
     "metadata": {},
     "output_type": "execute_result"
    },
    {
     "data": {
      "image/png": "[encoded data removed]",
      "text/plain": [
       "<Figure size 432x288 with 1 Axes>"
      ]
     },
     "metadata": {
      "needs_background": "light"
     },
     "output_type": "display_data"
    }
   ],
   "source": [
    "x = df[df['mine_type1']=='Open Pit'][['reserve_metal (mt)', 'production_capacity']].dropna().values[:,0]\n",
    "y = df[df['mine_type1']=='Open Pit'][['reserve_metal (mt)', 'production_capacity']].dropna().values[:,1]/350\n",
    "popt,pcov=curve_fit(func,x,y)\n",
    "a=popt[0] #popt里面是拟合系数，读者可以自己help其用法\n",
    "b=popt[1]\n",
    "yvals=func(x,a,b)\n",
    "a\n",
    "b\n",
    "mean_squared_error(y, yvals, squared=False)\n",
    "\n",
    "plot1=plt.plot(x,y,'*',label='original values')\n",
    "plot2=plt.plot(x,yvals,'r',label='curve_fit values')\n",
    "plt.xlabel('xaxis')\n",
    "plt.ylabel('yaxis')\n",
    "plt.legend(loc=4)  #指定legend的位置,读者可以自己help它的用法\n",
    "plt.title('curve_fit')\n",
    "plt.show()\n"
   ]
  },
  {
   "cell_type": "code",
   "execution_count": 50,
   "id": "0a895da8",
   "metadata": {
    "ExecuteTime": {
     "end_time": "2022-05-22T17:28:30.147187Z",
     "start_time": "2022-05-22T17:28:30.011622Z"
    }
   },
   "outputs": [
    {
     "data": {
      "text/plain": [
       "0.01378576095418885"
      ]
     },
     "execution_count": 50,
     "metadata": {},
     "output_type": "execute_result"
    },
    {
     "data": {
      "text/plain": [
       "0.7188137408084588"
      ]
     },
     "execution_count": 50,
     "metadata": {},
     "output_type": "execute_result"
    },
    {
     "data": {
      "text/plain": [
       "259.9243624058804"
      ]
     },
     "execution_count": 50,
     "metadata": {},
     "output_type": "execute_result"
    },
    {
     "data": {
      "text/plain": [
       "Text(0.5, 0, 'xaxis')"
      ]
     },
     "execution_count": 50,
     "metadata": {},
     "output_type": "execute_result"
    },
    {
     "data": {
      "text/plain": [
       "Text(0, 0.5, 'yaxis')"
      ]
     },
     "execution_count": 50,
     "metadata": {},
     "output_type": "execute_result"
    },
    {
     "data": {
      "text/plain": [
       "<matplotlib.legend.Legend at 0x7ff2581d03a0>"
      ]
     },
     "execution_count": 50,
     "metadata": {},
     "output_type": "execute_result"
    },
    {
     "data": {
      "text/plain": [
       "Text(0.5, 1.0, 'curve_fit')"
      ]
     },
     "execution_count": 50,
     "metadata": {},
     "output_type": "execute_result"
    },
    {
     "data": {
      "image/png": "[encoded data removed]",
      "text/plain": [
       "<Figure size 432x288 with 1 Axes>"
      ]
     },
     "metadata": {
      "needs_background": "light"
     },
     "output_type": "display_data"
    }
   ],
   "source": [
    "x = df[df['mine_type1']=='Underground'][['reserve_metal (mt)', 'production_capacity']].dropna().values[:,0]\n",
    "y = df[df['mine_type1']=='Underground'][['reserve_metal (mt)', 'production_capacity']].dropna().values[:,1]/350\n",
    "popt,pcov=curve_fit(func,x,y)\n",
    "a=popt[0] #popt里面是拟合系数，读者可以自己help其用法\n",
    "b=popt[1]\n",
    "yvals=func(x,a,b)\n",
    "a\n",
    "b\n",
    "mean_squared_error(y, yvals, squared=False)\n",
    "\n",
    "plot1=plt.plot(x,y,'*',label='original values')\n",
    "plot2=plt.plot(x,yvals,'r',label='curve_fit values')\n",
    "plt.xlabel('xaxis')\n",
    "plt.ylabel('yaxis')\n",
    "plt.legend(loc=4)  #指定legend的位置,读者可以自己help它的用法\n",
    "plt.title('curve_fit')\n",
    "plt.show()\n"
   ]
  },
  {
   "cell_type": "markdown",
   "id": "fafcdaff",
   "metadata": {},
   "source": [
    "### my fit by deposit type"
   ]
  },
  {
   "cell_type": "code",
   "execution_count": 51,
   "id": "5c2e3a06",
   "metadata": {
    "ExecuteTime": {
     "end_time": "2022-05-22T17:28:30.234319Z",
     "start_time": "2022-05-22T17:28:30.148333Z"
    }
   },
   "outputs": [
    {
     "data": {
      "text/plain": [
       "0.6473507193846356"
      ]
     },
     "execution_count": 51,
     "metadata": {},
     "output_type": "execute_result"
    },
    {
     "data": {
      "text/plain": [
       "0.3766229930683918"
      ]
     },
     "execution_count": 51,
     "metadata": {},
     "output_type": "execute_result"
    },
    {
     "data": {
      "text/plain": [
       "93.80654530497229"
      ]
     },
     "execution_count": 51,
     "metadata": {},
     "output_type": "execute_result"
    },
    {
     "data": {
      "text/plain": [
       "Text(0.5, 0, 'xaxis')"
      ]
     },
     "execution_count": 51,
     "metadata": {},
     "output_type": "execute_result"
    },
    {
     "data": {
      "text/plain": [
       "Text(0, 0.5, 'yaxis')"
      ]
     },
     "execution_count": 51,
     "metadata": {},
     "output_type": "execute_result"
    },
    {
     "data": {
      "text/plain": [
       "<matplotlib.legend.Legend at 0x7ff2582f6670>"
      ]
     },
     "execution_count": 51,
     "metadata": {},
     "output_type": "execute_result"
    },
    {
     "data": {
      "text/plain": [
       "Text(0.5, 1.0, 'curve_fit')"
      ]
     },
     "execution_count": 51,
     "metadata": {},
     "output_type": "execute_result"
    },
    {
     "data": {
      "image/png": "[encoded data removed]",
      "text/plain": [
       "<Figure size 432x288 with 1 Axes>"
      ]
     },
     "metadata": {
      "needs_background": "light"
     },
     "output_type": "display_data"
    }
   ],
   "source": [
    "x = df[df['deposit_type']=='Laterite'][['reserve_metal (mt)', 'production_capacity']].dropna().values[:,0]\n",
    "y = df[df['deposit_type']=='Laterite'][['reserve_metal (mt)', 'production_capacity']].dropna().values[:,1]/350\n",
    "popt,pcov=curve_fit(func,x,y)\n",
    "a=popt[0] #popt里面是拟合系数，读者可以自己help其用法\n",
    "b=popt[1]\n",
    "yvals=func(x,a,b)\n",
    "a\n",
    "b\n",
    "mean_squared_error(y, yvals, squared=False)\n",
    "\n",
    "plot1=plt.plot(x,y,'*',label='original values')\n",
    "plot2=plt.plot(x,yvals,'r',label='curve_fit values')\n",
    "plt.xlabel('xaxis')\n",
    "plt.ylabel('yaxis')\n",
    "plt.legend(loc=4)  #指定legend的位置,读者可以自己help它的用法\n",
    "plt.title('curve_fit')\n",
    "plt.show()\n"
   ]
  },
  {
   "cell_type": "code",
   "execution_count": 52,
   "id": "55d7738b",
   "metadata": {
    "ExecuteTime": {
     "end_time": "2022-05-22T17:28:30.326703Z",
     "start_time": "2022-05-22T17:28:30.235680Z"
    }
   },
   "outputs": [
    {
     "data": {
      "text/plain": [
       "0.00031683703368013105"
      ]
     },
     "execution_count": 52,
     "metadata": {},
     "output_type": "execute_result"
    },
    {
     "data": {
      "text/plain": [
       "0.9509524748449353"
      ]
     },
     "execution_count": 52,
     "metadata": {},
     "output_type": "execute_result"
    },
    {
     "data": {
      "text/plain": [
       "214.99319944298716"
      ]
     },
     "execution_count": 52,
     "metadata": {},
     "output_type": "execute_result"
    },
    {
     "data": {
      "text/plain": [
       "Text(0.5, 0, 'xaxis')"
      ]
     },
     "execution_count": 52,
     "metadata": {},
     "output_type": "execute_result"
    },
    {
     "data": {
      "text/plain": [
       "Text(0, 0.5, 'yaxis')"
      ]
     },
     "execution_count": 52,
     "metadata": {},
     "output_type": "execute_result"
    },
    {
     "data": {
      "text/plain": [
       "<matplotlib.legend.Legend at 0x7ff268ab4940>"
      ]
     },
     "execution_count": 52,
     "metadata": {},
     "output_type": "execute_result"
    },
    {
     "data": {
      "text/plain": [
       "Text(0.5, 1.0, 'curve_fit')"
      ]
     },
     "execution_count": 52,
     "metadata": {},
     "output_type": "execute_result"
    },
    {
     "data": {
      "image/png": "[encoded data removed]",
      "text/plain": [
       "<Figure size 432x288 with 1 Axes>"
      ]
     },
     "metadata": {
      "needs_background": "light"
     },
     "output_type": "display_data"
    }
   ],
   "source": [
    "x = df[df['deposit_type']=='Magmatic Sulphide'][['reserve_metal (mt)', 'production_capacity']].dropna().values[:,0]\n",
    "y = df[df['deposit_type']=='Magmatic Sulphide'][['reserve_metal (mt)', 'production_capacity']].dropna().values[:,1]/350\n",
    "popt,pcov=curve_fit(func,x,y)\n",
    "a=popt[0] #popt里面是拟合系数，读者可以自己help其用法\n",
    "b=popt[1]\n",
    "yvals=func(x,a,b)\n",
    "a\n",
    "b\n",
    "mean_squared_error(y, yvals, squared=False)\n",
    "\n",
    "plot1=plt.plot(x,y,'*',label='original values')\n",
    "plot2=plt.plot(x,yvals,'r',label='curve_fit values')\n",
    "plt.xlabel('xaxis')\n",
    "plt.ylabel('yaxis')\n",
    "plt.legend(loc=4)  #指定legend的位置,读者可以自己help它的用法\n",
    "plt.title('curve_fit')\n",
    "plt.show()\n"
   ]
  },
  {
   "cell_type": "markdown",
   "id": "152cb467",
   "metadata": {},
   "source": [
    "### fit using deposit type"
   ]
  },
  {
   "cell_type": "code",
   "execution_count": 53,
   "id": "15e236ef",
   "metadata": {
    "ExecuteTime": {
     "end_time": "2022-05-22T17:28:30.331398Z",
     "start_time": "2022-05-22T17:28:30.327833Z"
    }
   },
   "outputs": [],
   "source": [
    "a = 0.01692391768667905\n",
    "b = 0.7078073223232975\n",
    "impute_production_capacity_index2 = (df['deposit_type']=='Laterite') & df['reserve_metal (mt)'].notnull() & df['production_capacity'].isnull()\n",
    "df.loc[impute_production_capacity_index2, 'production_capacity'] = df.loc[impute_production_capacity_index2, 'reserve_metal (mt)'].map(lambda x: func(x,a,b)) * 350\n"
   ]
  },
  {
   "cell_type": "code",
   "execution_count": 54,
   "id": "ddd68eaa",
   "metadata": {
    "ExecuteTime": {
     "end_time": "2022-05-22T17:28:30.336338Z",
     "start_time": "2022-05-22T17:28:30.332629Z"
    }
   },
   "outputs": [],
   "source": [
    "a = 7.500699276531266e-06\n",
    "b = 1.1996374863757813\n",
    "impute_production_capacity_index3 = (df['deposit_type']=='Magmatic Sulphide') & df['reserve_metal (mt)'].notnull() & df['production_capacity'].isnull()\n",
    "df.loc[impute_production_capacity_index3, 'production_capacity'] = df.loc[impute_production_capacity_index3, 'reserve_metal (mt)'].map(lambda x: func(x,a,b)) * 350\n"
   ]
  },
  {
   "cell_type": "code",
   "execution_count": 145,
   "id": "f9242a8c",
   "metadata": {
    "ExecuteTime": {
     "end_time": "2022-05-22T19:22:02.962748Z",
     "start_time": "2022-05-22T19:22:02.955211Z"
    }
   },
   "outputs": [
    {
     "data": {
      "text/plain": [
       "550000.0"
      ]
     },
     "execution_count": 145,
     "metadata": {},
     "output_type": "execute_result"
    }
   ],
   "source": [
    "df['production_capacity'].max()"
   ]
  },
  {
   "cell_type": "code",
   "execution_count": null,
   "id": "66b27622",
   "metadata": {},
   "outputs": [],
   "source": [
    "df['production_capacity'].map(lambda x: min(x, 30000))"
   ]
  },
  {
   "cell_type": "markdown",
   "id": "a174007f",
   "metadata": {},
   "source": [
    "## check world reserve and production"
   ]
  },
  {
   "cell_type": "code",
   "execution_count": 55,
   "id": "a3349938",
   "metadata": {
    "ExecuteTime": {
     "end_time": "2022-05-22T17:28:30.471092Z",
     "start_time": "2022-05-22T17:28:30.337348Z"
    },
    "scrolled": true
   },
   "outputs": [],
   "source": [
    "labels = ['USA', 'Australia', 'Brazil', 'Canada', 'China', 'Cuba',\n",
    "       'Dominican Republic', 'Indonesia', 'New Caledonia', 'Philippines',\n",
    "       'Russia']\n",
    "df.loc[:, 'country_name_new'] = df.loc[:, 'country_name']\n",
    "df.loc[~df['country_name'].isin(labels), 'country_name_new'] = 'others'\n",
    "\n",
    "stat = df.groupby('country_name_new')['reserve_metal (mt)', 'production_PROD_Ni_tpa'].sum().astype(int)\n"
   ]
  },
  {
   "cell_type": "code",
   "execution_count": 56,
   "id": "8ebbfc5e",
   "metadata": {
    "ExecuteTime": {
     "end_time": "2022-05-22T17:28:30.479416Z",
     "start_time": "2022-05-22T17:28:30.472158Z"
    }
   },
   "outputs": [
    {
     "data": {
      "text/html": [
       "<div>\n",
       "<style scoped>\n",
       "    .dataframe tbody tr th:only-of-type {\n",
       "        vertical-align: middle;\n",
       "    }\n",
       "\n",
       "    .dataframe tbody tr th {\n",
       "        vertical-align: top;\n",
       "    }\n",
       "\n",
       "    .dataframe thead th {\n",
       "        text-align: right;\n",
       "    }\n",
       "</style>\n",
       "<table border=\"1\" class=\"dataframe\">\n",
       "  <thead>\n",
       "    <tr style=\"text-align: right;\">\n",
       "      <th></th>\n",
       "      <th>reserve_metal (mt)</th>\n",
       "      <th>production_PROD_Ni_tpa</th>\n",
       "      <th>resv_ratio</th>\n",
       "      <th>production_ratio</th>\n",
       "    </tr>\n",
       "    <tr>\n",
       "      <th>country_name_new</th>\n",
       "      <th></th>\n",
       "      <th></th>\n",
       "      <th></th>\n",
       "      <th></th>\n",
       "    </tr>\n",
       "  </thead>\n",
       "  <tbody>\n",
       "    <tr>\n",
       "      <th>Australia</th>\n",
       "      <td>10599752</td>\n",
       "      <td>401030</td>\n",
       "      <td>9.24%</td>\n",
       "      <td>12.97%</td>\n",
       "    </tr>\n",
       "    <tr>\n",
       "      <th>Brazil</th>\n",
       "      <td>10634626</td>\n",
       "      <td>118749</td>\n",
       "      <td>9.27%</td>\n",
       "      <td>3.84%</td>\n",
       "    </tr>\n",
       "    <tr>\n",
       "      <th>Canada</th>\n",
       "      <td>6477985</td>\n",
       "      <td>335202</td>\n",
       "      <td>5.64%</td>\n",
       "      <td>10.84%</td>\n",
       "    </tr>\n",
       "    <tr>\n",
       "      <th>China</th>\n",
       "      <td>5640432</td>\n",
       "      <td>117270</td>\n",
       "      <td>4.91%</td>\n",
       "      <td>3.79%</td>\n",
       "    </tr>\n",
       "    <tr>\n",
       "      <th>Cuba</th>\n",
       "      <td>3009060</td>\n",
       "      <td>55108</td>\n",
       "      <td>2.62%</td>\n",
       "      <td>1.78%</td>\n",
       "    </tr>\n",
       "    <tr>\n",
       "      <th>Dominican Republic</th>\n",
       "      <td>1025120</td>\n",
       "      <td>30000</td>\n",
       "      <td>0.89%</td>\n",
       "      <td>0.97%</td>\n",
       "    </tr>\n",
       "    <tr>\n",
       "      <th>Indonesia</th>\n",
       "      <td>22590132</td>\n",
       "      <td>635790</td>\n",
       "      <td>19.68%</td>\n",
       "      <td>20.56%</td>\n",
       "    </tr>\n",
       "    <tr>\n",
       "      <th>New Caledonia</th>\n",
       "      <td>13309952</td>\n",
       "      <td>211828</td>\n",
       "      <td>11.6%</td>\n",
       "      <td>6.85%</td>\n",
       "    </tr>\n",
       "    <tr>\n",
       "      <th>Philippines</th>\n",
       "      <td>7475635</td>\n",
       "      <td>348381</td>\n",
       "      <td>6.51%</td>\n",
       "      <td>11.27%</td>\n",
       "    </tr>\n",
       "    <tr>\n",
       "      <th>Russia</th>\n",
       "      <td>8565140</td>\n",
       "      <td>286330</td>\n",
       "      <td>7.46%</td>\n",
       "      <td>9.26%</td>\n",
       "    </tr>\n",
       "    <tr>\n",
       "      <th>USA</th>\n",
       "      <td>394979</td>\n",
       "      <td>19567</td>\n",
       "      <td>0.34%</td>\n",
       "      <td>0.63%</td>\n",
       "    </tr>\n",
       "    <tr>\n",
       "      <th>others</th>\n",
       "      <td>25049870</td>\n",
       "      <td>533275</td>\n",
       "      <td>21.83%</td>\n",
       "      <td>17.24%</td>\n",
       "    </tr>\n",
       "  </tbody>\n",
       "</table>\n",
       "</div>"
      ],
      "text/plain": [
       "                    reserve_metal (mt)  production_PROD_Ni_tpa resv_ratio  \\\n",
       "country_name_new                                                            \n",
       "Australia                     10599752                  401030      9.24%   \n",
       "Brazil                        10634626                  118749      9.27%   \n",
       "Canada                         6477985                  335202      5.64%   \n",
       "China                          5640432                  117270      4.91%   \n",
       "Cuba                           3009060                   55108      2.62%   \n",
       "Dominican Republic             1025120                   30000      0.89%   \n",
       "Indonesia                     22590132                  635790     19.68%   \n",
       "New Caledonia                 13309952                  211828      11.6%   \n",
       "Philippines                    7475635                  348381      6.51%   \n",
       "Russia                         8565140                  286330      7.46%   \n",
       "USA                             394979                   19567      0.34%   \n",
       "others                        25049870                  533275     21.83%   \n",
       "\n",
       "                   production_ratio  \n",
       "country_name_new                     \n",
       "Australia                    12.97%  \n",
       "Brazil                        3.84%  \n",
       "Canada                       10.84%  \n",
       "China                         3.79%  \n",
       "Cuba                          1.78%  \n",
       "Dominican Republic            0.97%  \n",
       "Indonesia                    20.56%  \n",
       "New Caledonia                 6.85%  \n",
       "Philippines                  11.27%  \n",
       "Russia                        9.26%  \n",
       "USA                           0.63%  \n",
       "others                       17.24%  "
      ]
     },
     "execution_count": 56,
     "metadata": {},
     "output_type": "execute_result"
    }
   ],
   "source": [
    "stat['resv_ratio'] = (stat['reserve_metal (mt)'] / stat['reserve_metal (mt)'].sum()).map(lambda x: str(np.round(x*100, 2))+'%') \n",
    "stat['production_ratio'] = (stat['production_PROD_Ni_tpa'] / stat['production_PROD_Ni_tpa'].sum()).map(lambda x: str(np.round(x*100, 2))+'%')\n",
    "stat\n"
   ]
  },
  {
   "cell_type": "code",
   "execution_count": 57,
   "id": "821e4e5e",
   "metadata": {
    "ExecuteTime": {
     "end_time": "2022-05-22T17:28:30.494680Z",
     "start_time": "2022-05-22T17:28:30.480508Z"
    },
    "scrolled": true
   },
   "outputs": [
    {
     "data": {
      "text/html": [
       "<div>\n",
       "<style scoped>\n",
       "    .dataframe tbody tr th:only-of-type {\n",
       "        vertical-align: middle;\n",
       "    }\n",
       "\n",
       "    .dataframe tbody tr th {\n",
       "        vertical-align: top;\n",
       "    }\n",
       "\n",
       "    .dataframe thead th {\n",
       "        text-align: right;\n",
       "    }\n",
       "</style>\n",
       "<table border=\"1\" class=\"dataframe\">\n",
       "  <thead>\n",
       "    <tr style=\"text-align: right;\">\n",
       "      <th></th>\n",
       "      <th>Production_2019</th>\n",
       "      <th>Production_2020e</th>\n",
       "      <th>Production_2019_ratio</th>\n",
       "      <th>Production_2020e_ratio</th>\n",
       "      <th>Reserves</th>\n",
       "      <th>Reserves_ratio</th>\n",
       "    </tr>\n",
       "  </thead>\n",
       "  <tbody>\n",
       "    <tr>\n",
       "      <th>USA</th>\n",
       "      <td>13500</td>\n",
       "      <td>16000</td>\n",
       "      <td>0.005172</td>\n",
       "      <td>0.0064</td>\n",
       "      <td>100000</td>\n",
       "      <td>0.001064</td>\n",
       "    </tr>\n",
       "    <tr>\n",
       "      <th>Australia</th>\n",
       "      <td>159000</td>\n",
       "      <td>170000</td>\n",
       "      <td>0.060920</td>\n",
       "      <td>0.0680</td>\n",
       "      <td>20000000</td>\n",
       "      <td>0.212766</td>\n",
       "    </tr>\n",
       "    <tr>\n",
       "      <th>Brazil</th>\n",
       "      <td>60600</td>\n",
       "      <td>73000</td>\n",
       "      <td>0.023218</td>\n",
       "      <td>0.0292</td>\n",
       "      <td>16000000</td>\n",
       "      <td>0.170213</td>\n",
       "    </tr>\n",
       "    <tr>\n",
       "      <th>Canada</th>\n",
       "      <td>181000</td>\n",
       "      <td>150000</td>\n",
       "      <td>0.069349</td>\n",
       "      <td>0.0600</td>\n",
       "      <td>2800000</td>\n",
       "      <td>0.029787</td>\n",
       "    </tr>\n",
       "    <tr>\n",
       "      <th>China</th>\n",
       "      <td>120000</td>\n",
       "      <td>120000</td>\n",
       "      <td>0.045977</td>\n",
       "      <td>0.0480</td>\n",
       "      <td>2800000</td>\n",
       "      <td>0.029787</td>\n",
       "    </tr>\n",
       "    <tr>\n",
       "      <th>Cuba</th>\n",
       "      <td>49200</td>\n",
       "      <td>49000</td>\n",
       "      <td>0.018851</td>\n",
       "      <td>0.0196</td>\n",
       "      <td>5500000</td>\n",
       "      <td>0.058511</td>\n",
       "    </tr>\n",
       "    <tr>\n",
       "      <th>Dominican Republic</th>\n",
       "      <td>56900</td>\n",
       "      <td>47000</td>\n",
       "      <td>0.021801</td>\n",
       "      <td>0.0188</td>\n",
       "      <td>930000</td>\n",
       "      <td>0.009894</td>\n",
       "    </tr>\n",
       "    <tr>\n",
       "      <th>Indonesia</th>\n",
       "      <td>853000</td>\n",
       "      <td>760000</td>\n",
       "      <td>0.326820</td>\n",
       "      <td>0.3040</td>\n",
       "      <td>21000000</td>\n",
       "      <td>0.223404</td>\n",
       "    </tr>\n",
       "    <tr>\n",
       "      <th>New Caledonia</th>\n",
       "      <td>208000</td>\n",
       "      <td>200000</td>\n",
       "      <td>0.079693</td>\n",
       "      <td>0.0800</td>\n",
       "      <td>12000000</td>\n",
       "      <td>0.127660</td>\n",
       "    </tr>\n",
       "    <tr>\n",
       "      <th>Philippines</th>\n",
       "      <td>323000</td>\n",
       "      <td>320000</td>\n",
       "      <td>0.123755</td>\n",
       "      <td>0.1280</td>\n",
       "      <td>4800000</td>\n",
       "      <td>0.051064</td>\n",
       "    </tr>\n",
       "    <tr>\n",
       "      <th>Russia</th>\n",
       "      <td>279000</td>\n",
       "      <td>280000</td>\n",
       "      <td>0.106897</td>\n",
       "      <td>0.1120</td>\n",
       "      <td>6900000</td>\n",
       "      <td>0.073404</td>\n",
       "    </tr>\n",
       "    <tr>\n",
       "      <th>Others</th>\n",
       "      <td>310000</td>\n",
       "      <td>290000</td>\n",
       "      <td>0.118774</td>\n",
       "      <td>0.1160</td>\n",
       "      <td>14000000</td>\n",
       "      <td>0.148936</td>\n",
       "    </tr>\n",
       "    <tr>\n",
       "      <th>World</th>\n",
       "      <td>2610000</td>\n",
       "      <td>2500000</td>\n",
       "      <td>1.000000</td>\n",
       "      <td>1.0000</td>\n",
       "      <td>94000000</td>\n",
       "      <td>1.000000</td>\n",
       "    </tr>\n",
       "  </tbody>\n",
       "</table>\n",
       "</div>"
      ],
      "text/plain": [
       "                    Production_2019  Production_2020e  Production_2019_ratio  \\\n",
       "USA                           13500             16000               0.005172   \n",
       "Australia                    159000            170000               0.060920   \n",
       "Brazil                        60600             73000               0.023218   \n",
       "Canada                       181000            150000               0.069349   \n",
       "China                        120000            120000               0.045977   \n",
       "Cuba                          49200             49000               0.018851   \n",
       "Dominican Republic            56900             47000               0.021801   \n",
       "Indonesia                    853000            760000               0.326820   \n",
       "New Caledonia                208000            200000               0.079693   \n",
       "Philippines                  323000            320000               0.123755   \n",
       "Russia                       279000            280000               0.106897   \n",
       "Others                       310000            290000               0.118774   \n",
       "World                       2610000           2500000               1.000000   \n",
       "\n",
       "                    Production_2020e_ratio  Reserves  Reserves_ratio  \n",
       "USA                                 0.0064    100000        0.001064  \n",
       "Australia                           0.0680  20000000        0.212766  \n",
       "Brazil                              0.0292  16000000        0.170213  \n",
       "Canada                              0.0600   2800000        0.029787  \n",
       "China                               0.0480   2800000        0.029787  \n",
       "Cuba                                0.0196   5500000        0.058511  \n",
       "Dominican Republic                  0.0188    930000        0.009894  \n",
       "Indonesia                           0.3040  21000000        0.223404  \n",
       "New Caledonia                       0.0800  12000000        0.127660  \n",
       "Philippines                         0.1280   4800000        0.051064  \n",
       "Russia                              0.1120   6900000        0.073404  \n",
       "Others                              0.1160  14000000        0.148936  \n",
       "World                               1.0000  94000000        1.000000  "
      ]
     },
     "execution_count": 57,
     "metadata": {},
     "output_type": "execute_result"
    }
   ],
   "source": [
    "# usgs_stat\n",
    "usgs_stat = pd.read_excel('USGS_nickel_by_country.xlsx', index_col='Unnamed: 0')\n",
    "usgs_stat['Reserves_ratio'] = usgs_stat['Reserves'] / 94000000\n",
    "usgs_stat\n"
   ]
  },
  {
   "cell_type": "code",
   "execution_count": 58,
   "id": "aaa73546",
   "metadata": {
    "ExecuteTime": {
     "end_time": "2022-05-22T17:28:30.500553Z",
     "start_time": "2022-05-22T17:28:30.495839Z"
    }
   },
   "outputs": [],
   "source": [
    "stat = pd.concat([stat, usgs_stat], axis=1).dropna()\n"
   ]
  },
  {
   "cell_type": "code",
   "execution_count": 59,
   "id": "e956be85",
   "metadata": {
    "ExecuteTime": {
     "end_time": "2022-05-22T17:28:30.503433Z",
     "start_time": "2022-05-22T17:28:30.501534Z"
    }
   },
   "outputs": [],
   "source": [
    "# usgs_stat = usgs_stat.iloc[:-1]\n",
    "# colors = ['#55efc4','#81ecec','#74b9ff','#a29bfe','#dfe6e9','#00b894','#00cec9','#0984e3','#6c5ce7','#b2bec3','#ffeaa7','#fab1a0','#ff7675','#fd79a8','#636e72','#fdcb6e','#e17055','#d63031','#e84393','#2d3436'] \n",
    "# t = plt.figure(figsize=(8, 8))\n",
    "# patches,l_text,p_text = plt.pie(x=usgs_stat['Production_2020e'], labels=usgs_stat.index, autopct = '%.1f%%', labeldistance=1.1,\n",
    "#             colors = colors, startangle = 90, counterclock = False, rotatelabels=None, textprops={'fontsize': 20})\n",
    "# plt.yticks(rotation=45)\n",
    "# plt.title('Nickel: production share worldwide by country')\n",
    "# for t in l_text:\n",
    "#     t.set_size(12)#图外的标注，如图中的华东等，可以修改字体大小\n",
    "# for l in p_text:\n",
    "#     l.set_size(12)#图内的标注，如图中的30.80%，可以修改字体大小\n",
    "    "
   ]
  },
  {
   "cell_type": "code",
   "execution_count": 60,
   "id": "dc0b7bd0",
   "metadata": {
    "ExecuteTime": {
     "end_time": "2022-05-22T17:28:30.506675Z",
     "start_time": "2022-05-22T17:28:30.504410Z"
    }
   },
   "outputs": [],
   "source": [
    "# colors = ['#55efc4','#81ecec','#74b9ff','#a29bfe','#dfe6e9','#00b894','#00cec9','#0984e3','#6c5ce7','#b2bec3','#ffeaa7','#fab1a0','#ff7675','#fd79a8','#636e72','#fdcb6e','#e17055','#d63031','#e84393','#2d3436'] \n",
    "# t = plt.figure(figsize=(8, 8))\n",
    "# patches,l_text,p_text = plt.pie(x=usgs_stat['Reserves'], labels=usgs_stat.index, autopct = '%.1f%%', labeldistance=1.1,\n",
    "#             colors = colors, startangle = 90, counterclock = False, rotatelabels=None, textprops={'fontsize': 20})\n",
    "# plt.yticks(rotation=45)\n",
    "# plt.title('Nickel: reserve share worldwide by country')\n",
    "# for t in l_text:\n",
    "#     t.set_size(12)#图外的标注，如图中的华东等，可以修改字体大小\n",
    "# for l in p_text:\n",
    "#     l.set_size(12)#图内的标注，如图中的30.80%，可以修改字体大小\n",
    "    "
   ]
  },
  {
   "cell_type": "code",
   "execution_count": 61,
   "id": "972dc007",
   "metadata": {
    "ExecuteTime": {
     "end_time": "2022-05-22T17:28:30.511360Z",
     "start_time": "2022-05-22T17:28:30.507770Z"
    },
    "scrolled": true
   },
   "outputs": [
    {
     "data": {
      "text/plain": [
       "Australia             0.529988\n",
       "Brazil                0.664664\n",
       "Canada                2.313566\n",
       "China                 2.014440\n",
       "Cuba                  0.547102\n",
       "Dominican Republic    1.102280\n",
       "Indonesia             1.075721\n",
       "New Caledonia         1.109163\n",
       "Philippines           1.557424\n",
       "Russia                1.241325\n",
       "USA                   3.949790\n",
       "dtype: float64"
      ]
     },
     "execution_count": 61,
     "metadata": {},
     "output_type": "execute_result"
    }
   ],
   "source": [
    "stat['reserve_metal (mt)'] / stat['Reserves']\n"
   ]
  },
  {
   "cell_type": "code",
   "execution_count": 62,
   "id": "0ea8d36d",
   "metadata": {
    "ExecuteTime": {
     "end_time": "2022-05-22T17:28:30.516439Z",
     "start_time": "2022-05-22T17:28:30.512354Z"
    },
    "scrolled": true
   },
   "outputs": [
    {
     "data": {
      "text/plain": [
       "Australia             2.522201\n",
       "Brazil                1.959554\n",
       "Canada                1.851945\n",
       "China                 0.977250\n",
       "Cuba                  1.120081\n",
       "Dominican Republic    0.527241\n",
       "Indonesia             0.745358\n",
       "New Caledonia         1.018404\n",
       "Philippines           1.078579\n",
       "Russia                1.026272\n",
       "USA                   1.449407\n",
       "dtype: float64"
      ]
     },
     "execution_count": 62,
     "metadata": {},
     "output_type": "execute_result"
    }
   ],
   "source": [
    "(stat['production_PROD_Ni_tpa'] / stat['Production_2019']).dropna()\n"
   ]
  },
  {
   "cell_type": "code",
   "execution_count": 63,
   "id": "a73bacc7",
   "metadata": {
    "ExecuteTime": {
     "end_time": "2022-05-22T17:28:30.521899Z",
     "start_time": "2022-05-22T17:28:30.518026Z"
    }
   },
   "outputs": [
    {
     "data": {
      "text/plain": [
       "0.9544980106382979"
      ]
     },
     "execution_count": 63,
     "metadata": {},
     "output_type": "execute_result"
    },
    {
     "data": {
      "text/plain": [
       "89722813.0"
      ]
     },
     "execution_count": 63,
     "metadata": {},
     "output_type": "execute_result"
    }
   ],
   "source": [
    "stat['reserve_metal (mt)'].sum() / 94000000\n",
    "stat['reserve_metal (mt)'].sum()\n",
    "# 储量多了\n"
   ]
  },
  {
   "cell_type": "code",
   "execution_count": 64,
   "id": "66e26298",
   "metadata": {
    "ExecuteTime": {
     "end_time": "2022-05-22T17:28:30.527205Z",
     "start_time": "2022-05-22T17:28:30.523086Z"
    }
   },
   "outputs": [
    {
     "data": {
      "text/plain": [
       "2559255.0"
      ]
     },
     "execution_count": 64,
     "metadata": {},
     "output_type": "execute_result"
    },
    {
     "data": {
      "text/plain": [
       "0.9843288461538462"
      ]
     },
     "execution_count": 64,
     "metadata": {},
     "output_type": "execute_result"
    }
   ],
   "source": [
    "stat['production_PROD_Ni_tpa'].sum()\n",
    "stat['production_PROD_Ni_tpa'].sum() / 2600000\n"
   ]
  },
  {
   "cell_type": "markdown",
   "id": "65889105",
   "metadata": {},
   "source": [
    "## other"
   ]
  },
  {
   "cell_type": "markdown",
   "id": "f386822b",
   "metadata": {},
   "source": [
    "### status & stage"
   ]
  },
  {
   "cell_type": "code",
   "execution_count": 65,
   "id": "84112071",
   "metadata": {
    "ExecuteTime": {
     "end_time": "2022-05-22T17:28:30.530883Z",
     "start_time": "2022-05-22T17:28:30.528173Z"
    }
   },
   "outputs": [],
   "source": [
    "df.loc[df['production_PROD_Ni_tpa'].notnull(), 'dev_stage'] = 'Operating'\n",
    "df.loc[df['production_PROD_Ni_tpa'].notnull(), 'actv_status'] = 'Active'\n"
   ]
  },
  {
   "cell_type": "code",
   "execution_count": 66,
   "id": "39e5426e",
   "metadata": {
    "ExecuteTime": {
     "end_time": "2022-05-22T17:28:30.534462Z",
     "start_time": "2022-05-22T17:28:30.531854Z"
    }
   },
   "outputs": [],
   "source": [
    "df.loc[df['reserve_metal (mt)'].notnull() & \\\n",
    "       df['dev_stage'].isin(['Grassroots', 'Exploration', 'Target Outline', 'Advanced Exploration', 'Prefeas/Scoping']), 'dev_stage'] = 'Feasibility'\n"
   ]
  },
  {
   "cell_type": "code",
   "execution_count": 67,
   "id": "59b9f25a",
   "metadata": {
    "ExecuteTime": {
     "end_time": "2022-05-22T17:28:30.538733Z",
     "start_time": "2022-05-22T17:28:30.535500Z"
    }
   },
   "outputs": [],
   "source": [
    "df.loc[df['resource_metal (mt)'].notnull() & \\\n",
    "       df['dev_stage'].isin(['Grassroots', 'Exploration', 'Target Outline']), 'dev_stage'] = 'Prefeas/Scoping'\n"
   ]
  },
  {
   "cell_type": "markdown",
   "id": "a92309bc",
   "metadata": {},
   "source": [
    "### other features (for fitting)"
   ]
  },
  {
   "cell_type": "code",
   "execution_count": 68,
   "id": "ea1d98a3",
   "metadata": {
    "ExecuteTime": {
     "end_time": "2022-05-22T17:28:30.558877Z",
     "start_time": "2022-05-22T17:28:30.539811Z"
    }
   },
   "outputs": [],
   "source": [
    "from sklearn.feature_extraction.text import CountVectorizer\n",
    "v = CountVectorizer()\n",
    "x = v.fit_transform(df['commodities_list'].fillna(''))\n",
    "temp = pd.DataFrame(x.toarray(), columns=['contain_'+i for i in v.get_feature_names()])\n",
    "temp = temp[temp.mean()[temp.mean()>0.01].index]\n",
    "df = pd.concat([df, temp], axis=1)\n"
   ]
  },
  {
   "cell_type": "code",
   "execution_count": 69,
   "id": "9d6985b7",
   "metadata": {
    "ExecuteTime": {
     "end_time": "2022-05-22T17:28:30.569014Z",
     "start_time": "2022-05-22T17:28:30.560111Z"
    }
   },
   "outputs": [],
   "source": [
    "from sklearn.feature_extraction.text import CountVectorizer\n",
    "v = CountVectorizer()\n",
    "x = v.fit_transform(df['production_forms'].fillna(''))\n",
    "temp = pd.DataFrame(x.toarray(), columns=['produce_'+i for i in v.get_feature_names()])\n",
    "temp = temp[temp.mean()[temp.mean()>0.01].index]\n",
    "df = pd.concat([df, temp], axis=1)\n"
   ]
  },
  {
   "cell_type": "code",
   "execution_count": 70,
   "id": "6e58bcfa",
   "metadata": {
    "ExecuteTime": {
     "end_time": "2022-05-22T17:28:30.571758Z",
     "start_time": "2022-05-22T17:28:30.570125Z"
    }
   },
   "outputs": [],
   "source": [
    "# from sklearn.feature_extraction.text import CountVectorizer\n",
    "# v = CountVectorizer()\n",
    "# x = v.fit_transform(df['geologic_ore_body_type'].fillna(''))\n",
    "# temp = pd.DataFrame(x.toarray(), columns=['orebody_'+i for i in v.get_feature_names()])\n",
    "# temp = temp[temp.mean()[temp.mean()>0.01].index]\n",
    "# df = pd.concat([df, temp], axis=1)\n"
   ]
  },
  {
   "cell_type": "code",
   "execution_count": 71,
   "id": "dd833c5d",
   "metadata": {
    "ExecuteTime": {
     "end_time": "2022-05-22T17:28:30.574860Z",
     "start_time": "2022-05-22T17:28:30.572840Z"
    }
   },
   "outputs": [],
   "source": [
    "# labels = df['country_name'].value_counts().head(20).index\n",
    "# df.loc[:, 'country_name_new'] = df.loc[:, 'country_name']\n",
    "# df.loc[~df['country_name'].isin(labels), 'country_name_new'] = 'others'\n",
    "\n",
    "# temp = pd.get_dummies(df['country_name_new'], 'country')\n",
    "# df = pd.concat([df, temp], axis=1)\n"
   ]
  },
  {
   "cell_type": "code",
   "execution_count": 72,
   "id": "14d58ec8",
   "metadata": {
    "ExecuteTime": {
     "end_time": "2022-05-22T17:28:30.577637Z",
     "start_time": "2022-05-22T17:28:30.575977Z"
    }
   },
   "outputs": [],
   "source": [
    "# labels = df['owner_country'].value_counts().head(20).index\n",
    "# df.loc[:, 'owner_country_new'] = df.loc[:, 'owner_country']\n",
    "# df.loc[~df['owner_country'].isin(labels), 'owner_country_new'] = 'others'\n",
    "\n",
    "# temp = pd.get_dummies(df['owner_country_new'], prefix='owner_country')\n",
    "# df = pd.concat([df, temp], axis=1)\n"
   ]
  },
  {
   "cell_type": "code",
   "execution_count": 73,
   "id": "ad440efb",
   "metadata": {
    "ExecuteTime": {
     "end_time": "2022-05-22T17:28:30.580552Z",
     "start_time": "2022-05-22T17:28:30.578886Z"
    }
   },
   "outputs": [],
   "source": [
    "# labels = df['owner_name'].value_counts().head(40).index\n",
    "# df.loc[:, 'owner_name_new'] = df.loc[:, 'owner_name']\n",
    "# df.loc[~df['owner_name'].isin(labels), 'owner_name_new'] = 'others'\n",
    "\n",
    "# temp = pd.get_dummies(df['owner_name_new'], prefix='owner')\n",
    "# df = pd.concat([df, temp], axis=1)\n"
   ]
  },
  {
   "cell_type": "code",
   "execution_count": 74,
   "id": "c345f15e",
   "metadata": {
    "ExecuteTime": {
     "end_time": "2022-05-22T17:28:30.585873Z",
     "start_time": "2022-05-22T17:28:30.581729Z"
    }
   },
   "outputs": [],
   "source": [
    "temp = pd.get_dummies(df['metall_process'], prefix='metall_process')\n",
    "df = pd.concat([df, temp], axis=1)\n"
   ]
  },
  {
   "cell_type": "code",
   "execution_count": 75,
   "id": "e309ba97",
   "metadata": {
    "ExecuteTime": {
     "end_time": "2022-05-22T17:28:30.590344Z",
     "start_time": "2022-05-22T17:28:30.586923Z"
    }
   },
   "outputs": [],
   "source": [
    "temp = pd.get_dummies(df['mine_type1'], prefix='mine_type')\n",
    "df = pd.concat([df, temp], axis=1)\n"
   ]
  },
  {
   "cell_type": "code",
   "execution_count": 76,
   "id": "0b3e7300",
   "metadata": {
    "ExecuteTime": {
     "end_time": "2022-05-22T17:28:30.595069Z",
     "start_time": "2022-05-22T17:28:30.591307Z"
    }
   },
   "outputs": [],
   "source": [
    "temp = pd.get_dummies(df['dev_stage'], prefix='dev_stage')\n",
    "df = pd.concat([df, temp], axis=1)\n"
   ]
  },
  {
   "cell_type": "code",
   "execution_count": 77,
   "id": "ac5b2559",
   "metadata": {
    "ExecuteTime": {
     "end_time": "2022-05-22T17:28:30.599881Z",
     "start_time": "2022-05-22T17:28:30.596025Z"
    }
   },
   "outputs": [],
   "source": [
    "temp = pd.get_dummies(df['actv_status'], prefix='actv_status')\n",
    "df = pd.concat([df, temp], axis=1)\n"
   ]
  },
  {
   "cell_type": "code",
   "execution_count": 78,
   "id": "8b9afbb3",
   "metadata": {
    "ExecuteTime": {
     "end_time": "2022-05-22T17:28:30.603480Z",
     "start_time": "2022-05-22T17:28:30.600963Z"
    }
   },
   "outputs": [],
   "source": [
    "df['is_nickel_primary'] = (df['primary_commodity']=='Nickel').astype(int)\n"
   ]
  },
  {
   "cell_type": "code",
   "execution_count": 79,
   "id": "f634d8f4",
   "metadata": {
    "ExecuteTime": {
     "end_time": "2022-05-22T17:28:30.610820Z",
     "start_time": "2022-05-22T17:28:30.604469Z"
    }
   },
   "outputs": [],
   "source": [
    "df['country/region_ter_risk_num'] = df['country/region_ter_risk'].map({'Medium':2, 'High':3, 'Low':1, 'Insignificant':0}).fillna(2)\n",
    "df['country/region_sec_risk_num'] = df['country/region_sec_risk'].map({'Medium':2, 'High':3, 'Low':1, 'Insignificant':0}).fillna(2)\n",
    "df['country/region_pol_risk_num'] = df['country/region_pol_risk'].map({'Medium':2, 'High':3, 'Low':1, 'Insignificant':0}).fillna(2)\n",
    "df['country/region_op_risk_num'] = df['country/region_op_risk'].map({'Medium':2, 'High':3, 'Low':1, }).fillna(2)\n"
   ]
  },
  {
   "cell_type": "markdown",
   "id": "5bdf924f",
   "metadata": {},
   "source": [
    "### cash cost"
   ]
  },
  {
   "cell_type": "code",
   "execution_count": 80,
   "id": "d5a7fc6b",
   "metadata": {
    "ExecuteTime": {
     "end_time": "2022-05-22T17:28:30.618170Z",
     "start_time": "2022-05-22T17:28:30.612027Z"
    }
   },
   "outputs": [
    {
     "data": {
      "text/plain": [
       "87"
      ]
     },
     "execution_count": 80,
     "metadata": {},
     "output_type": "execute_result"
    },
    {
     "data": {
      "text/plain": [
       "Index(['reserve_ore (mt)', 'grade (%)', 'reserve_metal (mt)',\n",
       "       'resource_ore (million mt)', 'resource_metal (mt)',\n",
       "       'production_ROM_Ni_tpa', 'recovery_Ni_perc', 'production_capacity',\n",
       "       'start_year', 'mine_life', 'amt_capital_invested',\n",
       "       'production_resv_ratio', 'is_laterite', 'is_sulfide', 'is_hydrothermal',\n",
       "       'production_capatiy_ratio', 'contain_chromite', 'contain_cobalt',\n",
       "       'contain_copper', 'contain_gold', 'contain_iridium', 'contain_iron',\n",
       "       'contain_lead', 'contain_magnesium', 'contain_palladium',\n",
       "       'contain_platinum', 'contain_rhodium', 'contain_ruthenium',\n",
       "       'contain_silver', 'contain_zinc', 'produce_cathodes',\n",
       "       'produce_concentrate', 'produce_matte', 'produce_ore',\n",
       "       'metall_process_ATL?', 'metall_process_CARON', 'metall_process_Caron',\n",
       "       'metall_process_DNI', 'metall_process_DSO', 'metall_process_F',\n",
       "       'metall_process_HL', 'metall_process_HPAL', 'metall_process_HPAL + DSO',\n",
       "       'metall_process_HPAL+F', 'metall_process_HPAL?', 'metall_process_RKEF',\n",
       "       'metall_process_RKEF + HPAL', 'metall_process_beneficiation',\n",
       "       'metall_process_hydrometallurgy', 'metall_process_pyrometallurgy',\n",
       "       'metall_process_pyrometallurgy + hydrometallurgy', 'mine_type_Ocean',\n",
       "       'mine_type_Open Pit', 'mine_type_Placer', 'mine_type_Tailings',\n",
       "       'mine_type_Underground', 'dev_stage_Advanced Exploration',\n",
       "       'dev_stage_Closed', 'dev_stage_Commissioning',\n",
       "       'dev_stage_Construction Planned', 'dev_stage_Construction Started',\n",
       "       'dev_stage_Expansion', 'dev_stage_Exploration', 'dev_stage_Feasibility',\n",
       "       'dev_stage_Feasibility Complete', 'dev_stage_Feasibility Started',\n",
       "       'dev_stage_Grassroots', 'dev_stage_Limited Production',\n",
       "       'dev_stage_Operating', 'dev_stage_Prefeas/Scoping',\n",
       "       'dev_stage_Preproduction', 'dev_stage_Reserves Development',\n",
       "       'dev_stage_Satellite', 'dev_stage_Target Outline', 'actv_status_Active',\n",
       "       'actv_status_Care And Maintenance', 'actv_status_Inactive',\n",
       "       'actv_status_On Hold Awaiting Financing',\n",
       "       'actv_status_On Hold Awaiting Higher Prices',\n",
       "       'actv_status_Rehabilitation', 'actv_status_Temporarily On Hold',\n",
       "       'actv_status_Under Litigation', 'is_nickel_primary',\n",
       "       'country/region_ter_risk_num', 'country/region_sec_risk_num',\n",
       "       'country/region_pol_risk_num', 'country/region_op_risk_num'],\n",
       "      dtype='object')"
      ]
     },
     "execution_count": 80,
     "metadata": {},
     "output_type": "execute_result"
    }
   ],
   "source": [
    "col = df.select_dtypes(exclude='O').drop(['cash_cost (nickel USD/t)', 'cash_cost (nickel USC/lb)', 'cash_cost (ore USD/t)', 'contain_nickel',\n",
    "                                          'prop_id', 'longitude','latitude', 'yr_source_date', 'contain_ore', 'production_PROD_Ni_tpa'],axis=1).columns\n",
    "len(col)\n",
    "col\n"
   ]
  },
  {
   "cell_type": "code",
   "execution_count": 81,
   "id": "9834dd84",
   "metadata": {
    "ExecuteTime": {
     "end_time": "2022-05-22T17:28:32.893436Z",
     "start_time": "2022-05-22T17:28:30.619242Z"
    }
   },
   "outputs": [
    {
     "name": "stdout",
     "output_type": "stream",
     "text": [
      "                                            feature        VIF\n",
      "0                                  reserve_ore (mt)   3.841394\n",
      "1                                         grade (%)   8.776484\n",
      "2                                reserve_metal (mt)   4.644791\n",
      "3                         resource_ore (million mt)   3.749002\n",
      "4                               resource_metal (mt)   3.587961\n",
      "5                             production_ROM_Ni_tpa   3.082038\n",
      "6                                  recovery_Ni_perc  98.833800\n",
      "7                               production_capacity   2.334563\n",
      "8                                        start_year   1.466042\n",
      "9                                         mine_life   2.643555\n",
      "10                             amt_capital_invested   1.638760\n",
      "11                            production_resv_ratio   3.380738\n",
      "12                                      is_laterite   7.332876\n",
      "13                                       is_sulfide   9.971704\n",
      "14                                  is_hydrothermal   2.122056\n",
      "15                         production_capatiy_ratio   2.016249\n",
      "16                                 contain_chromite   1.295170\n",
      "17                                   contain_cobalt   2.490964\n",
      "18                                   contain_copper   3.952151\n",
      "19                                     contain_gold   2.042699\n",
      "20                                  contain_iridium   5.247540\n",
      "21                                     contain_iron   1.555000\n",
      "22                                     contain_lead   1.793340\n",
      "23                                contain_magnesium   1.449920\n",
      "24                                contain_palladium  11.437294\n",
      "25                                 contain_platinum  11.007036\n",
      "26                                  contain_rhodium   2.604097\n",
      "27                                contain_ruthenium   4.808543\n",
      "28                                   contain_silver   1.626768\n",
      "29                                     contain_zinc   1.864111\n",
      "30                                 produce_cathodes   1.214316\n",
      "31                              produce_concentrate   2.317195\n",
      "32                                    produce_matte   1.253898\n",
      "33                                      produce_ore   1.404712\n",
      "34                              metall_process_ATL?   1.155586\n",
      "35                             metall_process_CARON   1.749765\n",
      "36                             metall_process_Caron   1.071722\n",
      "37                               metall_process_DNI   1.130872\n",
      "38                               metall_process_DSO   1.322924\n",
      "39                                 metall_process_F   1.647267\n",
      "40                                metall_process_HL   1.202878\n",
      "41                              metall_process_HPAL   1.447517\n",
      "42                        metall_process_HPAL + DSO   1.112515\n",
      "43                            metall_process_HPAL+F   1.057149\n",
      "44                             metall_process_HPAL?   1.076489\n",
      "45                              metall_process_RKEF   1.248753\n",
      "46                       metall_process_RKEF + HPAL   1.280465\n",
      "47                     metall_process_beneficiation   6.073004\n",
      "48                   metall_process_hydrometallurgy   1.098284\n",
      "49                    metall_process_pyrometallurgy   1.377099\n",
      "50  metall_process_pyrometallurgy + hydrometallurgy   1.452446\n",
      "51                                  mine_type_Ocean   5.342667\n",
      "52                               mine_type_Open Pit   2.457199\n",
      "53                                 mine_type_Placer   1.042341\n",
      "54                               mine_type_Tailings   1.144699\n",
      "55                            mine_type_Underground   2.204613\n",
      "56                   dev_stage_Advanced Exploration   1.597808\n",
      "57                                 dev_stage_Closed   2.060472\n",
      "58                          dev_stage_Commissioning   1.152752\n",
      "59                   dev_stage_Construction Planned   1.262670\n",
      "60                   dev_stage_Construction Started   1.107470\n",
      "61                              dev_stage_Expansion   1.282186\n",
      "62                            dev_stage_Exploration   5.887001\n",
      "63                            dev_stage_Feasibility   2.127263\n",
      "64                   dev_stage_Feasibility Complete   1.186944\n",
      "65                    dev_stage_Feasibility Started   1.321614\n",
      "66                             dev_stage_Grassroots   4.018457\n",
      "67                     dev_stage_Limited Production   1.094843\n",
      "68                              dev_stage_Operating   8.180592\n",
      "69                        dev_stage_Prefeas/Scoping   2.254809\n",
      "70                          dev_stage_Preproduction   1.188678\n",
      "71                   dev_stage_Reserves Development   4.269052\n",
      "72                              dev_stage_Satellite   1.426455\n",
      "73                         dev_stage_Target Outline   5.807404\n",
      "74                               actv_status_Active  18.916006\n",
      "75                 actv_status_Care And Maintenance   1.661035\n",
      "76                             actv_status_Inactive  20.582097\n",
      "77           actv_status_On Hold Awaiting Financing   1.208043\n",
      "78       actv_status_On Hold Awaiting Higher Prices   1.191059\n",
      "79                       actv_status_Rehabilitation   1.151346\n",
      "80                  actv_status_Temporarily On Hold   1.473186\n",
      "81                     actv_status_Under Litigation   1.106545\n",
      "82                                is_nickel_primary  39.634130\n",
      "83                      country/region_ter_risk_num  10.978854\n",
      "84                      country/region_sec_risk_num  33.746944\n",
      "85                      country/region_pol_risk_num  38.729909\n",
      "86                       country/region_op_risk_num  21.189694\n"
     ]
    }
   ],
   "source": [
    "from statsmodels.stats.outliers_influence import variance_inflation_factor\n",
    "  \n",
    "# creating dummies for gender\n",
    "  \n",
    "# the independent variables set\n",
    "X = df[col]\n",
    "X = X.apply(lambda x: x.fillna(x.median()), axis=1)\n",
    "\n",
    "# VIF dataframe\n",
    "vif_data = pd.DataFrame()\n",
    "vif_data[\"feature\"] = X.columns\n",
    "  \n",
    "# calculating VIF for each feature\n",
    "vif_data[\"VIF\"] = [variance_inflation_factor(X.values, i)\n",
    "                          for i in range(len(X.columns))]\n",
    "\n",
    "print(vif_data)\n"
   ]
  },
  {
   "cell_type": "code",
   "execution_count": 82,
   "id": "da3aa67b",
   "metadata": {
    "ExecuteTime": {
     "end_time": "2022-05-22T17:28:32.929229Z",
     "start_time": "2022-05-22T17:28:32.904904Z"
    },
    "scrolled": true
   },
   "outputs": [
    {
     "data": {
      "text/plain": [
       "40"
      ]
     },
     "execution_count": 82,
     "metadata": {},
     "output_type": "execute_result"
    },
    {
     "data": {
      "text/plain": [
       "['reserve_ore (mt)',\n",
       " 'grade (%)',\n",
       " 'reserve_metal (mt)',\n",
       " 'resource_ore (million mt)',\n",
       " 'resource_metal (mt)',\n",
       " 'production_ROM_Ni_tpa',\n",
       " 'recovery_Ni_perc',\n",
       " 'production_capacity',\n",
       " 'start_year',\n",
       " 'mine_life',\n",
       " 'amt_capital_invested',\n",
       " 'production_resv_ratio',\n",
       " 'is_laterite',\n",
       " 'is_sulfide',\n",
       " 'production_capatiy_ratio',\n",
       " 'contain_chromite',\n",
       " 'contain_cobalt',\n",
       " 'contain_copper',\n",
       " 'contain_gold',\n",
       " 'contain_iridium',\n",
       " 'contain_iron',\n",
       " 'contain_palladium',\n",
       " 'contain_platinum',\n",
       " 'contain_rhodium',\n",
       " 'contain_ruthenium',\n",
       " 'contain_silver',\n",
       " 'produce_concentrate',\n",
       " 'produce_matte',\n",
       " 'metall_process_F',\n",
       " 'metall_process_HPAL',\n",
       " 'metall_process_pyrometallurgy',\n",
       " 'metall_process_pyrometallurgy + hydrometallurgy',\n",
       " 'mine_type_Open Pit',\n",
       " 'mine_type_Underground',\n",
       " 'dev_stage_Operating',\n",
       " 'is_nickel_primary',\n",
       " 'country/region_ter_risk_num',\n",
       " 'country/region_sec_risk_num',\n",
       " 'country/region_pol_risk_num',\n",
       " 'country/region_op_risk_num']"
      ]
     },
     "execution_count": 82,
     "metadata": {},
     "output_type": "execute_result"
    }
   ],
   "source": [
    "stat = df.dropna(subset=['cash_cost (nickel USD/t)'])[col].apply(lambda x: x.value_counts(normalize=True).iloc[0])\n",
    "col = stat[stat<0.9].index.tolist()\n",
    "len(col)\n",
    "col\n"
   ]
  },
  {
   "cell_type": "code",
   "execution_count": 83,
   "id": "a0aea034",
   "metadata": {
    "ExecuteTime": {
     "end_time": "2022-05-22T17:28:32.933026Z",
     "start_time": "2022-05-22T17:28:32.930369Z"
    }
   },
   "outputs": [],
   "source": [
    "df['production_capatiy_ratio'] = df['production_PROD_Ni_tpa'] / df['production_capacity']"
   ]
  },
  {
   "cell_type": "code",
   "execution_count": 84,
   "id": "3c99590b",
   "metadata": {
    "ExecuteTime": {
     "end_time": "2022-05-22T17:28:32.941237Z",
     "start_time": "2022-05-22T17:28:32.934221Z"
    }
   },
   "outputs": [
    {
     "data": {
      "text/html": [
       "<div>\n",
       "<style scoped>\n",
       "    .dataframe tbody tr th:only-of-type {\n",
       "        vertical-align: middle;\n",
       "    }\n",
       "\n",
       "    .dataframe tbody tr th {\n",
       "        vertical-align: top;\n",
       "    }\n",
       "\n",
       "    .dataframe thead th {\n",
       "        text-align: right;\n",
       "    }\n",
       "</style>\n",
       "<table border=\"1\" class=\"dataframe\">\n",
       "  <thead>\n",
       "    <tr style=\"text-align: right;\">\n",
       "      <th></th>\n",
       "      <th>production_capatiy_ratio</th>\n",
       "      <th>production_PROD_Ni_tpa</th>\n",
       "      <th>production_capacity</th>\n",
       "    </tr>\n",
       "  </thead>\n",
       "  <tbody>\n",
       "    <tr>\n",
       "      <th>0</th>\n",
       "      <td>0.900000</td>\n",
       "      <td>8100.0</td>\n",
       "      <td>9000.000000</td>\n",
       "    </tr>\n",
       "    <tr>\n",
       "      <th>1</th>\n",
       "      <td>NaN</td>\n",
       "      <td>NaN</td>\n",
       "      <td>26987.864342</td>\n",
       "    </tr>\n",
       "    <tr>\n",
       "      <th>2</th>\n",
       "      <td>0.661439</td>\n",
       "      <td>242880.0</td>\n",
       "      <td>367199.202183</td>\n",
       "    </tr>\n",
       "    <tr>\n",
       "      <th>3</th>\n",
       "      <td>0.661439</td>\n",
       "      <td>43450.0</td>\n",
       "      <td>65690.074666</td>\n",
       "    </tr>\n",
       "    <tr>\n",
       "      <th>4</th>\n",
       "      <td>NaN</td>\n",
       "      <td>NaN</td>\n",
       "      <td>5.584668</td>\n",
       "    </tr>\n",
       "    <tr>\n",
       "      <th>...</th>\n",
       "      <td>...</td>\n",
       "      <td>...</td>\n",
       "      <td>...</td>\n",
       "    </tr>\n",
       "    <tr>\n",
       "      <th>1454</th>\n",
       "      <td>NaN</td>\n",
       "      <td>NaN</td>\n",
       "      <td>NaN</td>\n",
       "    </tr>\n",
       "    <tr>\n",
       "      <th>1455</th>\n",
       "      <td>NaN</td>\n",
       "      <td>NaN</td>\n",
       "      <td>NaN</td>\n",
       "    </tr>\n",
       "    <tr>\n",
       "      <th>1456</th>\n",
       "      <td>NaN</td>\n",
       "      <td>NaN</td>\n",
       "      <td>NaN</td>\n",
       "    </tr>\n",
       "    <tr>\n",
       "      <th>1457</th>\n",
       "      <td>NaN</td>\n",
       "      <td>NaN</td>\n",
       "      <td>NaN</td>\n",
       "    </tr>\n",
       "    <tr>\n",
       "      <th>1458</th>\n",
       "      <td>NaN</td>\n",
       "      <td>NaN</td>\n",
       "      <td>NaN</td>\n",
       "    </tr>\n",
       "  </tbody>\n",
       "</table>\n",
       "<p>1459 rows × 3 columns</p>\n",
       "</div>"
      ],
      "text/plain": [
       "      production_capatiy_ratio  production_PROD_Ni_tpa  production_capacity\n",
       "0                     0.900000                  8100.0          9000.000000\n",
       "1                          NaN                     NaN         26987.864342\n",
       "2                     0.661439                242880.0        367199.202183\n",
       "3                     0.661439                 43450.0         65690.074666\n",
       "4                          NaN                     NaN             5.584668\n",
       "...                        ...                     ...                  ...\n",
       "1454                       NaN                     NaN                  NaN\n",
       "1455                       NaN                     NaN                  NaN\n",
       "1456                       NaN                     NaN                  NaN\n",
       "1457                       NaN                     NaN                  NaN\n",
       "1458                       NaN                     NaN                  NaN\n",
       "\n",
       "[1459 rows x 3 columns]"
      ]
     },
     "execution_count": 84,
     "metadata": {},
     "output_type": "execute_result"
    }
   ],
   "source": [
    "df[['production_capatiy_ratio', 'production_PROD_Ni_tpa', 'production_capacity']]"
   ]
  },
  {
   "cell_type": "code",
   "execution_count": 85,
   "id": "873a8982",
   "metadata": {
    "ExecuteTime": {
     "end_time": "2022-05-22T17:28:33.274815Z",
     "start_time": "2022-05-22T17:28:32.942541Z"
    }
   },
   "outputs": [
    {
     "name": "stdout",
     "output_type": "stream",
     "text": [
      "                                            feature        VIF\n",
      "0                                  reserve_ore (mt)   2.455696\n",
      "1                                         grade (%)   7.707841\n",
      "2                                reserve_metal (mt)   4.261948\n",
      "3                         resource_ore (million mt)   3.397660\n",
      "4                               resource_metal (mt)   3.380460\n",
      "5                             production_ROM_Ni_tpa   2.526074\n",
      "6                                  recovery_Ni_perc  57.882075\n",
      "7                               production_capacity   2.186366\n",
      "8                                        start_year   1.317421\n",
      "9                                         mine_life   2.281506\n",
      "10                             amt_capital_invested   1.492240\n",
      "11                            production_resv_ratio   3.268788\n",
      "12                                      is_laterite   6.675200\n",
      "13                                       is_sulfide   8.836243\n",
      "14                         production_capatiy_ratio   3.039073\n",
      "15                                 contain_chromite   1.245430\n",
      "16                                   contain_cobalt   2.258339\n",
      "17                                   contain_copper   3.699123\n",
      "18                                     contain_gold   1.983112\n",
      "19                                  contain_iridium   4.813361\n",
      "20                                     contain_iron   1.233299\n",
      "21                                contain_palladium  11.072569\n",
      "22                                 contain_platinum  10.740714\n",
      "23                                  contain_rhodium   2.340439\n",
      "24                                contain_ruthenium   4.425036\n",
      "25                                   contain_silver   1.377745\n",
      "26                              produce_concentrate   2.143541\n",
      "27                                    produce_matte   1.207079\n",
      "28                                 metall_process_F   1.463870\n",
      "29                              metall_process_HPAL   1.301601\n",
      "30                    metall_process_pyrometallurgy   1.253429\n",
      "31  metall_process_pyrometallurgy + hydrometallurgy   1.375287\n",
      "32                               mine_type_Open Pit   2.092189\n",
      "33                            mine_type_Underground   1.866950\n",
      "34                              dev_stage_Operating   2.176923\n",
      "35                                is_nickel_primary  35.041433\n",
      "36                      country/region_ter_risk_num   9.971645\n",
      "37                      country/region_sec_risk_num  31.881054\n",
      "38                      country/region_pol_risk_num  36.905465\n",
      "39                       country/region_op_risk_num  19.746186\n"
     ]
    }
   ],
   "source": [
    "from statsmodels.stats.outliers_influence import variance_inflation_factor\n",
    "  \n",
    "# creating dummies for gender\n",
    "  \n",
    "# the independent variables set\n",
    "X = df[col]\n",
    "X = X.apply(lambda x: x.fillna(x.median()), axis=1)\n",
    "\n",
    "# VIF dataframe\n",
    "vif_data = pd.DataFrame()\n",
    "vif_data[\"feature\"] = X.columns\n",
    "  \n",
    "# calculating VIF for each feature\n",
    "vif_data[\"VIF\"] = [variance_inflation_factor(X.values, i)\n",
    "                          for i in range(len(X.columns))]\n",
    "\n",
    "print(vif_data)\n"
   ]
  },
  {
   "cell_type": "code",
   "execution_count": 86,
   "id": "826c518e",
   "metadata": {
    "ExecuteTime": {
     "end_time": "2022-05-22T17:28:33.566069Z",
     "start_time": "2022-05-22T17:28:33.275969Z"
    }
   },
   "outputs": [],
   "source": [
    "X = df[col+['cash_cost (nickel USD/t)']]\n",
    "X[col] = X[col].apply(lambda x: x.fillna(x.median()), axis=1)\n"
   ]
  },
  {
   "cell_type": "code",
   "execution_count": 87,
   "id": "24bd2ae0",
   "metadata": {
    "ExecuteTime": {
     "end_time": "2022-05-22T17:28:33.808143Z",
     "start_time": "2022-05-22T17:28:33.567047Z"
    },
    "scrolled": true
   },
   "outputs": [
    {
     "name": "stdout",
     "output_type": "stream",
     "text": [
      "                               OLS Regression Results                               \n",
      "====================================================================================\n",
      "Dep. Variable:     cash_cost (nickel USD/t)   R-squared:                       0.748\n",
      "Model:                                  OLS   Adj. R-squared:                  0.460\n",
      "Method:                       Least Squares   F-statistic:                     2.595\n",
      "Date:                      Mon, 23 May 2022   Prob (F-statistic):            0.00250\n",
      "Time:                              01:28:33   Log-Likelihood:                -683.57\n",
      "No. Observations:                        76   AIC:                             1449.\n",
      "Df Residuals:                            35   BIC:                             1545.\n",
      "Df Model:                                40                                         \n",
      "Covariance Type:                  nonrobust                                         \n",
      "===================================================================================================================\n",
      "                                                      coef    std err          t      P>|t|      [0.025      0.975]\n",
      "-------------------------------------------------------------------------------------------------------------------\n",
      "const                                            1.646e+04   3826.234      4.301      0.000    8689.945    2.42e+04\n",
      "reserve_ore (mt)                                -2.175e-05   8.97e-06     -2.424      0.021      -4e-05   -3.53e-06\n",
      "grade (%)                                       -2521.9978   1102.862     -2.287      0.028   -4760.926    -283.069\n",
      "reserve_metal (mt)                                  0.0028      0.001      2.215      0.033       0.000       0.005\n",
      "resource_ore (million mt)                           5.9548      3.187      1.869      0.070      -0.514      12.424\n",
      "resource_metal (mt)                              6.953e-05      0.000      0.251      0.803      -0.000       0.001\n",
      "production_ROM_Ni_tpa                              -0.0241      0.024     -1.002      0.323      -0.073       0.025\n",
      "recovery_Ni_perc                                    0.0184     44.480      0.000      1.000     -90.281      90.318\n",
      "production_capacity                                -0.0202      0.007     -2.818      0.008      -0.035      -0.006\n",
      "start_year                                          0.4245      0.554      0.766      0.449      -0.700       1.549\n",
      "mine_life                                          -0.0296      0.600     -0.049      0.961      -1.247       1.188\n",
      "amt_capital_invested                               -0.0006      0.000     -1.250      0.219      -0.002       0.000\n",
      "production_resv_ratio                            1961.1041   2567.469      0.764      0.450   -3251.134    7173.342\n",
      "is_laterite                                      4697.6558   3583.444      1.311      0.198   -2577.121     1.2e+04\n",
      "is_sulfide                                       1.081e+04   3280.059      3.296      0.002    4152.972    1.75e+04\n",
      "production_capatiy_ratio                        -4063.3066   2439.611     -1.666      0.105   -9015.979     889.366\n",
      "contain_chromite                                  213.1986   1526.317      0.140      0.890   -2885.389    3311.786\n",
      "contain_cobalt                                   1849.0335   1599.998      1.156      0.256   -1399.135    5097.202\n",
      "contain_copper                                  -5086.3814   2008.270     -2.533      0.016   -9163.387   -1009.376\n",
      "contain_gold                                      174.2000   2465.716      0.071      0.944   -4831.470    5179.870\n",
      "contain_iridium                                 -2522.8987   3530.917     -0.715      0.480   -9691.042    4645.244\n",
      "contain_iron                                     2766.9981   1450.730      1.907      0.065    -178.141    5712.138\n",
      "contain_palladium                                 902.8755   4299.699      0.210      0.835   -7825.977    9631.728\n",
      "contain_platinum                                -6678.2613   3750.831     -1.780      0.084   -1.43e+04     936.330\n",
      "contain_rhodium                                  4310.3397   1918.608      2.247      0.031     415.359    8205.320\n",
      "contain_ruthenium                                -407.9271   2682.137     -0.152      0.880   -5852.954    5037.100\n",
      "contain_silver                                   1816.9282   2174.768      0.835      0.409   -2598.086    6231.942\n",
      "produce_concentrate                             -2305.7634   1468.998     -1.570      0.126   -5287.988     676.462\n",
      "produce_matte                                    -416.3768   1479.903     -0.281      0.780   -3420.739    2587.985\n",
      "metall_process_F                                 -934.6124   1702.518     -0.549      0.587   -4390.908    2521.683\n",
      "metall_process_HPAL                             -1995.2721   2086.333     -0.956      0.345   -6230.753    2240.209\n",
      "metall_process_pyrometallurgy                    -839.1074   2085.195     -0.402      0.690   -5072.277    3394.063\n",
      "metall_process_pyrometallurgy + hydrometallurgy  -844.5350   1490.639     -0.567      0.575   -3870.693    2181.623\n",
      "mine_type_Open Pit                               8032.3802   2757.254      2.913      0.006    2434.858    1.36e+04\n",
      "mine_type_Underground                            7380.1197   1997.676      3.694      0.001    3324.621    1.14e+04\n",
      "dev_stage_Operating                              -862.0242   1694.736     -0.509      0.614   -4302.522    2578.474\n",
      "is_nickel_primary                               -1958.2535   2085.130     -0.939      0.354   -6191.293    2274.786\n",
      "country/region_ter_risk_num                     -2864.6293   1166.714     -2.455      0.019   -5233.184    -496.074\n",
      "country/region_sec_risk_num                      3442.3568   1811.726      1.900      0.066    -235.643    7120.356\n",
      "country/region_pol_risk_num                     -2078.2260   1653.784     -1.257      0.217   -5435.586    1279.134\n",
      "country/region_op_risk_num                      -3220.6932   1114.917     -2.889      0.007   -5484.095    -957.292\n",
      "==============================================================================\n",
      "Omnibus:                        1.082   Durbin-Watson:                   1.326\n",
      "Prob(Omnibus):                  0.582   Jarque-Bera (JB):                0.680\n",
      "Skew:                           0.222   Prob(JB):                        0.712\n",
      "Kurtosis:                       3.131   Cond. No.                     4.22e+09\n",
      "==============================================================================\n",
      "\n",
      "Notes:\n",
      "[1] Standard Errors assume that the covariance matrix of the errors is correctly specified.\n",
      "[2] The condition number is large, 4.22e+09. This might indicate that there are\n",
      "strong multicollinearity or other numerical problems.\n"
     ]
    }
   ],
   "source": [
    "import statsmodels.api as sm\n",
    "\n",
    "Xs = X.dropna(subset=['cash_cost (nickel USD/t)'])[col]\n",
    "Xs = sm.add_constant(Xs) # 添加常数项\n",
    "ys = X.dropna(subset=['cash_cost (nickel USD/t)'])['cash_cost (nickel USD/t)']\n",
    "\n",
    "est1 = sm.OLS(ys, Xs)\n",
    "est2 = est1.fit()\n",
    "print(est2.summary()) #输出OLS回归结果\n",
    "# est2 = est1.fit_regularized()\n",
    "# est2.params\n"
   ]
  },
  {
   "cell_type": "code",
   "execution_count": 88,
   "id": "c86ccfad",
   "metadata": {
    "ExecuteTime": {
     "end_time": "2022-05-22T17:28:33.887570Z",
     "start_time": "2022-05-22T17:28:33.809319Z"
    }
   },
   "outputs": [
    {
     "data": {
      "text/plain": [
       "<AxesSubplot:>"
      ]
     },
     "execution_count": 88,
     "metadata": {},
     "output_type": "execute_result"
    },
    {
     "data": {
      "image/png": "[encoded data removed]",
      "text/plain": [
       "<Figure size 432x288 with 1 Axes>"
      ]
     },
     "metadata": {
      "needs_background": "light"
     },
     "output_type": "display_data"
    }
   ],
   "source": [
    "est2.predict(Xs).hist()\n"
   ]
  },
  {
   "cell_type": "code",
   "execution_count": 89,
   "id": "62df870a",
   "metadata": {
    "ExecuteTime": {
     "end_time": "2022-05-22T17:28:33.893574Z",
     "start_time": "2022-05-22T17:28:33.888714Z"
    }
   },
   "outputs": [
    {
     "data": {
      "text/plain": [
       "5006.36"
      ]
     },
     "execution_count": 89,
     "metadata": {},
     "output_type": "execute_result"
    },
    {
     "data": {
      "text/plain": [
       "22435.66"
      ]
     },
     "execution_count": 89,
     "metadata": {},
     "output_type": "execute_result"
    }
   ],
   "source": [
    "df['cash_cost (nickel USD/t)'].min()\n",
    "df['cash_cost (nickel USD/t)'].max()\n"
   ]
  },
  {
   "cell_type": "code",
   "execution_count": 90,
   "id": "d1a072ef",
   "metadata": {
    "ExecuteTime": {
     "end_time": "2022-05-22T17:28:33.976566Z",
     "start_time": "2022-05-22T17:28:33.894491Z"
    }
   },
   "outputs": [
    {
     "data": {
      "text/plain": [
       "76      11640.622266\n",
       "77       7482.669202\n",
       "78       7482.669202\n",
       "79      23401.655468\n",
       "80       8358.647990\n",
       "            ...     \n",
       "1454    21059.749769\n",
       "1455     6612.328114\n",
       "1456    11830.596576\n",
       "1457    11140.522152\n",
       "1458     6758.572413\n",
       "Length: 1383, dtype: float64"
      ]
     },
     "execution_count": 90,
     "metadata": {},
     "output_type": "execute_result"
    },
    {
     "data": {
      "text/plain": [
       "<AxesSubplot:>"
      ]
     },
     "execution_count": 90,
     "metadata": {},
     "output_type": "execute_result"
    },
    {
     "data": {
      "image/png": "[encoded data removed]",
      "text/plain": [
       "<Figure size 432x288 with 1 Axes>"
      ]
     },
     "metadata": {
      "needs_background": "light"
     },
     "output_type": "display_data"
    }
   ],
   "source": [
    "impute_cash_cost_index = X['cash_cost (nickel USD/t)'].isnull()\n",
    "Xt = X[impute_cash_cost_index][col]\n",
    "Xt = sm.add_constant(Xt) # 添加常数项\n",
    "est2.predict(Xt)\n",
    "est2.predict(Xt).hist()\n"
   ]
  },
  {
   "cell_type": "code",
   "execution_count": 91,
   "id": "d134bd5c",
   "metadata": {
    "ExecuteTime": {
     "end_time": "2022-05-22T17:28:33.982414Z",
     "start_time": "2022-05-22T17:28:33.977957Z"
    }
   },
   "outputs": [],
   "source": [
    "df.loc[impute_cash_cost_index, 'cash_cost (nickel USD/t)'] = est2.predict(Xt)\n",
    "df.loc[df['cash_cost (nickel USD/t)']<=2000, 'cash_cost (nickel USD/t)'] = 2000\n",
    "df.loc[df['cash_cost (nickel USD/t)']>=25000, 'cash_cost (nickel USD/t)'] = 25000\n"
   ]
  },
  {
   "cell_type": "code",
   "execution_count": 92,
   "id": "dd1a4ac1",
   "metadata": {
    "ExecuteTime": {
     "end_time": "2022-05-22T17:28:34.047149Z",
     "start_time": "2022-05-22T17:28:33.983839Z"
    }
   },
   "outputs": [
    {
     "data": {
      "text/plain": [
       "<AxesSubplot:>"
      ]
     },
     "execution_count": 92,
     "metadata": {},
     "output_type": "execute_result"
    },
    {
     "data": {
      "image/png": "[encoded data removed]",
      "text/plain": [
       "<Figure size 432x288 with 1 Axes>"
      ]
     },
     "metadata": {
      "needs_background": "light"
     },
     "output_type": "display_data"
    }
   ],
   "source": [
    "df['cash_cost (nickel USD/t)'].hist()\n"
   ]
  },
  {
   "cell_type": "code",
   "execution_count": 93,
   "id": "c3766919",
   "metadata": {
    "ExecuteTime": {
     "end_time": "2022-05-22T17:28:34.114150Z",
     "start_time": "2022-05-22T17:28:34.048390Z"
    }
   },
   "outputs": [
    {
     "data": {
      "text/plain": [
       "<AxesSubplot:>"
      ]
     },
     "execution_count": 93,
     "metadata": {},
     "output_type": "execute_result"
    },
    {
     "data": {
      "image/png": "[encoded data removed]",
      "text/plain": [
       "<Figure size 432x288 with 1 Axes>"
      ]
     },
     "metadata": {
      "needs_background": "light"
     },
     "output_type": "display_data"
    }
   ],
   "source": [
    "df[df['production_PROD_Ni_tpa'].notnull()]['cash_cost (nickel USD/t)'].hist()\n"
   ]
  },
  {
   "cell_type": "code",
   "execution_count": 94,
   "id": "a36ef47a",
   "metadata": {
    "ExecuteTime": {
     "end_time": "2022-05-22T17:28:34.118447Z",
     "start_time": "2022-05-22T17:28:34.115464Z"
    }
   },
   "outputs": [],
   "source": [
    "df['cash_cost (nickel USC/lb)'] = df['cash_cost (nickel USD/t)'] / 28.652\n"
   ]
  },
  {
   "cell_type": "code",
   "execution_count": 95,
   "id": "df5d1d08",
   "metadata": {
    "ExecuteTime": {
     "end_time": "2022-05-22T17:28:34.123188Z",
     "start_time": "2022-05-22T17:28:34.120005Z"
    }
   },
   "outputs": [],
   "source": [
    "df['cash_cost (nickel USD/t)'] = df['cash_cost (nickel USD/t)'] / 1.2\n"
   ]
  },
  {
   "cell_type": "markdown",
   "id": "2ade7bdc",
   "metadata": {},
   "source": [
    "# Output"
   ]
  },
  {
   "cell_type": "code",
   "execution_count": 96,
   "id": "d4a31bb7",
   "metadata": {
    "ExecuteTime": {
     "end_time": "2022-05-22T17:28:34.131293Z",
     "start_time": "2022-05-22T17:28:34.124482Z"
    }
   },
   "outputs": [],
   "source": [
    "df[['reserve_ore (mt)', 'grade (%)', 'reserve_metal (mt)', 'resource_ore (million mt)', 'resource_metal (mt)', 'production_ROM_Ni_tpa', 'production_PROD_Ni_tpa', 'recovery_Ni_perc', 'production_capacity', 'cash_cost (nickel USC/lb)', 'cash_cost (nickel USD/t)', 'cash_cost (ore USD/t)']] = \\\n",
    "df[['reserve_ore (mt)', 'grade (%)', 'reserve_metal (mt)', 'resource_ore (million mt)', 'resource_metal (mt)', 'production_ROM_Ni_tpa', 'production_PROD_Ni_tpa', 'recovery_Ni_perc', 'production_capacity', 'cash_cost (nickel USC/lb)', 'cash_cost (nickel USD/t)', 'cash_cost (ore USD/t)']].round(2) \n"
   ]
  },
  {
   "cell_type": "code",
   "execution_count": 97,
   "id": "46248b8d",
   "metadata": {
    "ExecuteTime": {
     "end_time": "2022-05-22T17:28:34.153259Z",
     "start_time": "2022-05-22T17:28:34.132875Z"
    }
   },
   "outputs": [],
   "source": [
    "df.loc[impute_grade_index, 'grade (%)'] = df.loc[impute_grade_index, 'grade (%)'].map(lambda x: str(x)+'*')\n",
    "\n",
    "df.loc[impute_production_resv_ratio_index, 'production_resv_ratio'] = df.loc[impute_production_resv_ratio_index, 'production_resv_ratio'].map(lambda x: str(x)+'*')\n",
    "\n",
    "df.loc[impute_reserve_index1, 'reserve_metal (mt)'] = df.loc[impute_reserve_index1, 'reserve_metal (mt)'].map(lambda x: str(x)+'*')\n",
    "df.loc[impute_reserve_index2, 'reserve_metal (mt)'] = df.loc[impute_reserve_index2, 'reserve_metal (mt)'].map(lambda x: str(x)+'*')\n",
    "df.loc[impute_reserve_index3, 'reserve_ore (mt)'] = df.loc[impute_reserve_index3, 'reserve_ore (mt)'].map(lambda x: str(x)+'*')\n",
    "\n",
    "df.loc[impute_resource_index1, 'resource_metal (mt)'] = df.loc[impute_resource_index1, 'resource_metal (mt)'].map(lambda x: str(x)+'*')\n",
    "df.loc[impute_resource_index2, 'resource_ore (million mt)'] = df.loc[impute_resource_index2, 'resource_ore (million mt)'].map(lambda x: str(x)+'*')\n",
    "\n",
    "df.loc[impute_recovery_Ni_perc_index1, 'recovery_Ni_perc'] = df.loc[impute_recovery_Ni_perc_index1, 'recovery_Ni_perc'].map(lambda x: str(x)+'*')\n",
    "df.loc[impute_recovery_Ni_perc_index2, 'recovery_Ni_perc'] = df.loc[impute_recovery_Ni_perc_index2, 'recovery_Ni_perc'].map(lambda x: str(x)+'*')\n",
    "\n",
    "df.loc[impute_production_capacity_index1, 'production_capacity'] = df.loc[impute_production_capacity_index1, 'production_capacity'].map(lambda x: str(x)+'*')\n",
    "df.loc[impute_production_capacity_index2, 'production_capacity'] = df.loc[impute_production_capacity_index2, 'production_capacity'].map(lambda x: str(x)+'*')\n",
    "df.loc[impute_production_capacity_index3, 'production_capacity'] = df.loc[impute_production_capacity_index3, 'production_capacity'].map(lambda x: str(x)+'*')\n",
    "\n",
    "df.loc[impute_production_index1, 'production_ROM_Ni_tpa'] = df.loc[impute_production_index1, 'production_ROM_Ni_tpa'].map(lambda x: str(x)+'*')\n",
    "df.loc[impute_production_index2, 'production_PROD_Ni_tpa'] = df.loc[impute_production_index2, 'production_PROD_Ni_tpa'].map(lambda x: str(x)+'*')\n",
    "\n",
    "df.loc[impute_deposit_type_index, 'deposit_type'] = df.loc[impute_deposit_type_index, 'deposit_type'].map(lambda x: str(x)+'*')\n",
    "\n",
    "df.loc[impute_cash_cost_index, 'cash_cost (nickel USD/t)'] = df.loc[impute_cash_cost_index, 'cash_cost (nickel USD/t)'].map(lambda x: str(x)+'*')\n",
    "df.loc[impute_cash_cost_index, 'cash_cost (nickel USC/lb)'] = df.loc[impute_cash_cost_index, 'cash_cost (nickel USC/lb)'].map(lambda x: str(x)+'*')\n",
    "\n"
   ]
  },
  {
   "cell_type": "code",
   "execution_count": 98,
   "id": "e540f4b1",
   "metadata": {
    "ExecuteTime": {
     "end_time": "2022-05-22T17:28:34.160084Z",
     "start_time": "2022-05-22T17:28:34.154563Z"
    }
   },
   "outputs": [],
   "source": [
    "df = df.replace('nan*', np.nan)\n"
   ]
  },
  {
   "cell_type": "code",
   "execution_count": 99,
   "id": "c86bbc04",
   "metadata": {
    "ExecuteTime": {
     "end_time": "2022-05-22T17:28:34.171485Z",
     "start_time": "2022-05-22T17:28:34.161379Z"
    }
   },
   "outputs": [],
   "source": [
    "df = df[['prop_id', 'prop_name', 'also_known_as', 'owner_name', 'owner_country', 'country_name', 'actv_status', 'dev_stage', 'mine_type1', 'longitude', 'latitude', 'yr_source_date', 'reserve_ore (mt)', 'grade (%)', 'reserve_metal (mt)', 'resource_ore (million mt)', 'resource_metal (mt)', 'primary_commodity', 'commodities_list', 'deposit_type', 'geologic_ore_body_type', 'production_ROM_Ni_tpa', 'production_PROD_Ni_tpa', 'production_forms', 'metall_process', 'recovery_Ni_perc', 'production_capacity', 'start_year', 'mine_life', 'cash_cost (nickel USC/lb)', 'cash_cost (nickel USD/t)', 'cash_cost (ore USD/t)', 'capital_cost_type', 'amt_capital_invested', 'country/region_op_risk', 'country/region_ter_risk', 'country/region_pol_risk', 'country/region_sec_risk', 'remark']] \n",
    "df[['reserve_ore (mt)', 'grade (%)', 'reserve_metal (mt)', 'resource_ore (million mt)', 'resource_metal (mt)', 'production_ROM_Ni_tpa', 'production_PROD_Ni_tpa', 'recovery_Ni_perc', 'production_capacity', 'cash_cost (nickel USC/lb)', 'cash_cost (nickel USD/t)', 'cash_cost (ore USD/t)']] = \\\n",
    "np.round(df[['reserve_ore (mt)', 'grade (%)', 'reserve_metal (mt)', 'resource_ore (million mt)', 'resource_metal (mt)', 'production_ROM_Ni_tpa', 'production_PROD_Ni_tpa', 'recovery_Ni_perc', 'production_capacity', 'cash_cost (nickel USC/lb)', 'cash_cost (nickel USD/t)', 'cash_cost (ore USD/t)']], 2)\n"
   ]
  },
  {
   "cell_type": "code",
   "execution_count": 100,
   "id": "e5ec6ae8",
   "metadata": {
    "ExecuteTime": {
     "end_time": "2022-05-22T17:28:34.647700Z",
     "start_time": "2022-05-22T17:28:34.172487Z"
    }
   },
   "outputs": [],
   "source": [
    "df.to_excel('nickel_mine_final.xlsx', index=None)\n"
   ]
  },
  {
   "cell_type": "code",
   "execution_count": 101,
   "id": "1214e7a8",
   "metadata": {
    "ExecuteTime": {
     "end_time": "2022-05-22T17:28:34.668010Z",
     "start_time": "2022-05-22T17:28:34.648720Z"
    }
   },
   "outputs": [
    {
     "data": {
      "text/html": [
       "<div>\n",
       "<style scoped>\n",
       "    .dataframe tbody tr th:only-of-type {\n",
       "        vertical-align: middle;\n",
       "    }\n",
       "\n",
       "    .dataframe tbody tr th {\n",
       "        vertical-align: top;\n",
       "    }\n",
       "\n",
       "    .dataframe thead th {\n",
       "        text-align: right;\n",
       "    }\n",
       "</style>\n",
       "<table border=\"1\" class=\"dataframe\">\n",
       "  <thead>\n",
       "    <tr style=\"text-align: right;\">\n",
       "      <th></th>\n",
       "      <th>prop_id</th>\n",
       "      <th>prop_name</th>\n",
       "      <th>also_known_as</th>\n",
       "      <th>owner_name</th>\n",
       "      <th>owner_country</th>\n",
       "      <th>country_name</th>\n",
       "      <th>actv_status</th>\n",
       "      <th>dev_stage</th>\n",
       "      <th>mine_type1</th>\n",
       "      <th>longitude</th>\n",
       "      <th>latitude</th>\n",
       "      <th>yr_source_date</th>\n",
       "      <th>reserve_ore (mt)</th>\n",
       "      <th>grade (%)</th>\n",
       "      <th>reserve_metal (mt)</th>\n",
       "      <th>resource_ore (million mt)</th>\n",
       "      <th>resource_metal (mt)</th>\n",
       "      <th>primary_commodity</th>\n",
       "      <th>commodities_list</th>\n",
       "      <th>deposit_type</th>\n",
       "      <th>geologic_ore_body_type</th>\n",
       "      <th>production_ROM_Ni_tpa</th>\n",
       "      <th>production_PROD_Ni_tpa</th>\n",
       "      <th>production_forms</th>\n",
       "      <th>metall_process</th>\n",
       "      <th>recovery_Ni_perc</th>\n",
       "      <th>production_capacity</th>\n",
       "      <th>start_year</th>\n",
       "      <th>mine_life</th>\n",
       "      <th>cash_cost (nickel USC/lb)</th>\n",
       "      <th>cash_cost (nickel USD/t)</th>\n",
       "      <th>cash_cost (ore USD/t)</th>\n",
       "      <th>capital_cost_type</th>\n",
       "      <th>amt_capital_invested</th>\n",
       "      <th>country/region_op_risk</th>\n",
       "      <th>country/region_ter_risk</th>\n",
       "      <th>country/region_pol_risk</th>\n",
       "      <th>country/region_sec_risk</th>\n",
       "      <th>remark</th>\n",
       "    </tr>\n",
       "  </thead>\n",
       "  <tbody>\n",
       "    <tr>\n",
       "      <th>0</th>\n",
       "      <td>28021.0</td>\n",
       "      <td>Codemin</td>\n",
       "      <td>Angiquinho, Coriola, Corrego da Fazenda, Jacub...</td>\n",
       "      <td>Anglo American plc</td>\n",
       "      <td>United Kingdom</td>\n",
       "      <td>Brazil</td>\n",
       "      <td>Active</td>\n",
       "      <td>Operating</td>\n",
       "      <td>Open Pit</td>\n",
       "      <td>-48.33885</td>\n",
       "      <td>-14.15678</td>\n",
       "      <td>2021.0</td>\n",
       "      <td>8300000.0</td>\n",
       "      <td>1.25</td>\n",
       "      <td>104000.0</td>\n",
       "      <td>10.6</td>\n",
       "      <td>134000.0</td>\n",
       "      <td>Nickel</td>\n",
       "      <td>Nickel</td>\n",
       "      <td>Laterite</td>\n",
       "      <td>Laterite (Ni-Saprolite)</td>\n",
       "      <td>8766.23</td>\n",
       "      <td>8100.0</td>\n",
       "      <td>Concentrate</td>\n",
       "      <td>pyrometallurgy</td>\n",
       "      <td>92.4</td>\n",
       "      <td>9000.0</td>\n",
       "      <td>NaN</td>\n",
       "      <td>2037.0</td>\n",
       "      <td>174.73</td>\n",
       "      <td>4171.97</td>\n",
       "      <td>55.07</td>\n",
       "      <td>NaN</td>\n",
       "      <td>6.000000e+04</td>\n",
       "      <td>Medium</td>\n",
       "      <td>Low</td>\n",
       "      <td>Medium</td>\n",
       "      <td>Medium</td>\n",
       "      <td>Mota e Silva et al., 2013</td>\n",
       "    </tr>\n",
       "    <tr>\n",
       "      <th>1</th>\n",
       "      <td>36331.0</td>\n",
       "      <td>Maslovskoe</td>\n",
       "      <td>Chernogorskoe, Chernogorskoye, Maslovskoye, Ma...</td>\n",
       "      <td>Public Joint Stock Company Mining and Metallur...</td>\n",
       "      <td>Russia</td>\n",
       "      <td>Russia</td>\n",
       "      <td>Active</td>\n",
       "      <td>Reserves Development</td>\n",
       "      <td>Underground</td>\n",
       "      <td>88.07600</td>\n",
       "      <td>69.23700</td>\n",
       "      <td>2018.0</td>\n",
       "      <td>189189189.19</td>\n",
       "      <td>0.37</td>\n",
       "      <td>700000.0</td>\n",
       "      <td>206.8</td>\n",
       "      <td>765160.0</td>\n",
       "      <td>Nickel</td>\n",
       "      <td>Nickel,Copper,Palladium,Platinum,Cobalt,Gold,S...</td>\n",
       "      <td>Magmatic Sulphide</td>\n",
       "      <td>NaN</td>\n",
       "      <td>NaN</td>\n",
       "      <td>NaN</td>\n",
       "      <td>NaN</td>\n",
       "      <td>NaN</td>\n",
       "      <td>71.15*</td>\n",
       "      <td>26987.86*</td>\n",
       "      <td>NaN</td>\n",
       "      <td>2037.0</td>\n",
       "      <td>181.88</td>\n",
       "      <td>4342.69</td>\n",
       "      <td>NaN</td>\n",
       "      <td>Initial Capital Cost</td>\n",
       "      <td>2.000000e+06</td>\n",
       "      <td>High</td>\n",
       "      <td>Medium</td>\n",
       "      <td>Medium</td>\n",
       "      <td>Medium</td>\n",
       "      <td>Norilsk Nickel AnnRpt 2018</td>\n",
       "    </tr>\n",
       "    <tr>\n",
       "      <th>2</th>\n",
       "      <td>27169.0</td>\n",
       "      <td>Polar Division</td>\n",
       "      <td>Glubokij, Khalilskaya, Khalilsky, Komsomol, Ko...</td>\n",
       "      <td>Public Joint Stock Company Mining and Metallur...</td>\n",
       "      <td>Russia</td>\n",
       "      <td>Russia</td>\n",
       "      <td>Active</td>\n",
       "      <td>Operating</td>\n",
       "      <td>Underground</td>\n",
       "      <td>88.16999</td>\n",
       "      <td>69.28199</td>\n",
       "      <td>2021.0</td>\n",
       "      <td>663128000.0</td>\n",
       "      <td>0.92</td>\n",
       "      <td>5872000.0</td>\n",
       "      <td>2137.33</td>\n",
       "      <td>15440000.0</td>\n",
       "      <td>Nickel</td>\n",
       "      <td>Nickel,Copper,Palladium,Rhodium,Platinum,Cobal...</td>\n",
       "      <td>Magmatic Sulphide</td>\n",
       "      <td>Flood Basalt (Dyke-Sill Complexes)</td>\n",
       "      <td>309007.63</td>\n",
       "      <td>242880.0</td>\n",
       "      <td>Cathodes, Concentrate, Granules, Matte, Powder</td>\n",
       "      <td>pyrometallurgy</td>\n",
       "      <td>78.6</td>\n",
       "      <td>367199.2*</td>\n",
       "      <td>NaN</td>\n",
       "      <td>2037.0</td>\n",
       "      <td>181.88</td>\n",
       "      <td>4342.69</td>\n",
       "      <td>NaN</td>\n",
       "      <td>Initial Capital Cost</td>\n",
       "      <td>2.000000e+06</td>\n",
       "      <td>High</td>\n",
       "      <td>Medium</td>\n",
       "      <td>Medium</td>\n",
       "      <td>Medium</td>\n",
       "      <td>Mechel Steel AnnRpt 2011Norilsk Nickel Product...</td>\n",
       "    </tr>\n",
       "    <tr>\n",
       "      <th>3</th>\n",
       "      <td>27378.0</td>\n",
       "      <td>Kola Division</td>\n",
       "      <td>Bistrinskoe, Bystrinskoe, Bystrinskoye, Flango...</td>\n",
       "      <td>Public Joint Stock Company Mining and Metallur...</td>\n",
       "      <td>Russia</td>\n",
       "      <td>Russia</td>\n",
       "      <td>Active</td>\n",
       "      <td>Operating</td>\n",
       "      <td>Open Pit</td>\n",
       "      <td>30.73034</td>\n",
       "      <td>69.39995</td>\n",
       "      <td>2021.0</td>\n",
       "      <td>100918000.0</td>\n",
       "      <td>0.57</td>\n",
       "      <td>579740.0</td>\n",
       "      <td>471.5</td>\n",
       "      <td>3167000.0</td>\n",
       "      <td>Nickel</td>\n",
       "      <td>Nickel,Copper,Palladium,Platinum,Gold,Cobalt,R...</td>\n",
       "      <td>Magmatic Sulphide</td>\n",
       "      <td>NaN</td>\n",
       "      <td>68210.36</td>\n",
       "      <td>43450.0</td>\n",
       "      <td>Briquettes, Cathodes, Concentrate, Matte</td>\n",
       "      <td>pyrometallurgy</td>\n",
       "      <td>63.7</td>\n",
       "      <td>65690.07*</td>\n",
       "      <td>NaN</td>\n",
       "      <td>NaN</td>\n",
       "      <td>181.88</td>\n",
       "      <td>4342.69</td>\n",
       "      <td>NaN</td>\n",
       "      <td>Initial Capital Cost</td>\n",
       "      <td>3.342877e+04</td>\n",
       "      <td>High</td>\n",
       "      <td>Medium</td>\n",
       "      <td>Medium</td>\n",
       "      <td>Medium</td>\n",
       "      <td>NaN</td>\n",
       "    </tr>\n",
       "    <tr>\n",
       "      <th>4</th>\n",
       "      <td>30487.0</td>\n",
       "      <td>Oktyabrsky</td>\n",
       "      <td>Buribay, Oktabrsky, Oktyabrskoe, Oktyabrskoye,...</td>\n",
       "      <td>Public Joint Stock Company Mining and Metallur...</td>\n",
       "      <td>Russia</td>\n",
       "      <td>Russia</td>\n",
       "      <td>Active</td>\n",
       "      <td>Satellite</td>\n",
       "      <td>Underground</td>\n",
       "      <td>88.34008</td>\n",
       "      <td>69.52435</td>\n",
       "      <td>2021.0</td>\n",
       "      <td>74900.0</td>\n",
       "      <td>0.79*</td>\n",
       "      <td>594.33*</td>\n",
       "      <td>NaN</td>\n",
       "      <td>NaN</td>\n",
       "      <td>Nickel</td>\n",
       "      <td>Nickel,Copper,Palladium,Platinum,Rhodium</td>\n",
       "      <td>Magmatic Sulphide*</td>\n",
       "      <td>NaN</td>\n",
       "      <td>NaN</td>\n",
       "      <td>NaN</td>\n",
       "      <td>Concentrate</td>\n",
       "      <td>NaN</td>\n",
       "      <td>71.15*</td>\n",
       "      <td>5.58*</td>\n",
       "      <td>NaN</td>\n",
       "      <td>NaN</td>\n",
       "      <td>181.88</td>\n",
       "      <td>4342.69</td>\n",
       "      <td>NaN</td>\n",
       "      <td>New Zone Development</td>\n",
       "      <td>NaN</td>\n",
       "      <td>High</td>\n",
       "      <td>Medium</td>\n",
       "      <td>Medium</td>\n",
       "      <td>Medium</td>\n",
       "      <td>NaN</td>\n",
       "    </tr>\n",
       "    <tr>\n",
       "      <th>...</th>\n",
       "      <td>...</td>\n",
       "      <td>...</td>\n",
       "      <td>...</td>\n",
       "      <td>...</td>\n",
       "      <td>...</td>\n",
       "      <td>...</td>\n",
       "      <td>...</td>\n",
       "      <td>...</td>\n",
       "      <td>...</td>\n",
       "      <td>...</td>\n",
       "      <td>...</td>\n",
       "      <td>...</td>\n",
       "      <td>...</td>\n",
       "      <td>...</td>\n",
       "      <td>...</td>\n",
       "      <td>...</td>\n",
       "      <td>...</td>\n",
       "      <td>...</td>\n",
       "      <td>...</td>\n",
       "      <td>...</td>\n",
       "      <td>...</td>\n",
       "      <td>...</td>\n",
       "      <td>...</td>\n",
       "      <td>...</td>\n",
       "      <td>...</td>\n",
       "      <td>...</td>\n",
       "      <td>...</td>\n",
       "      <td>...</td>\n",
       "      <td>...</td>\n",
       "      <td>...</td>\n",
       "      <td>...</td>\n",
       "      <td>...</td>\n",
       "      <td>...</td>\n",
       "      <td>...</td>\n",
       "      <td>...</td>\n",
       "      <td>...</td>\n",
       "      <td>...</td>\n",
       "      <td>...</td>\n",
       "      <td>...</td>\n",
       "    </tr>\n",
       "    <tr>\n",
       "      <th>1454</th>\n",
       "      <td>66652.0</td>\n",
       "      <td>Reinfjord</td>\n",
       "      <td>Oksfjord Peninsula</td>\n",
       "      <td>Nordic Mining ASA</td>\n",
       "      <td>Norway</td>\n",
       "      <td>Norway</td>\n",
       "      <td>On Hold Awaiting Financing</td>\n",
       "      <td>Target Outline</td>\n",
       "      <td>Underground</td>\n",
       "      <td>21.66300</td>\n",
       "      <td>70.08000</td>\n",
       "      <td>2019.0</td>\n",
       "      <td>NaN</td>\n",
       "      <td>0.44*</td>\n",
       "      <td>NaN</td>\n",
       "      <td>NaN</td>\n",
       "      <td>NaN</td>\n",
       "      <td>Nickel</td>\n",
       "      <td>Nickel,Copper,Cobalt,Platinum,Palladium,Rhodiu...</td>\n",
       "      <td>Magmatic Sulphide*</td>\n",
       "      <td>NaN</td>\n",
       "      <td>NaN</td>\n",
       "      <td>NaN</td>\n",
       "      <td>NaN</td>\n",
       "      <td>NaN</td>\n",
       "      <td>76.4*</td>\n",
       "      <td>NaN</td>\n",
       "      <td>NaN</td>\n",
       "      <td>NaN</td>\n",
       "      <td>735.02*</td>\n",
       "      <td>17549.79*</td>\n",
       "      <td>NaN</td>\n",
       "      <td>NaN</td>\n",
       "      <td>NaN</td>\n",
       "      <td>Low</td>\n",
       "      <td>Low</td>\n",
       "      <td>Insignificant</td>\n",
       "      <td>Insignificant</td>\n",
       "      <td>NaN</td>\n",
       "    </tr>\n",
       "    <tr>\n",
       "      <th>1455</th>\n",
       "      <td>67339.0</td>\n",
       "      <td>Disko Island</td>\n",
       "      <td>Disko, Disko &amp; Nuussuaq, Disko-Nuussauq, Disko...</td>\n",
       "      <td>Kobold Metals Company</td>\n",
       "      <td>USA</td>\n",
       "      <td>Greenland</td>\n",
       "      <td>Active</td>\n",
       "      <td>Exploration</td>\n",
       "      <td>NaN</td>\n",
       "      <td>-53.93200</td>\n",
       "      <td>70.22700</td>\n",
       "      <td>2021.0</td>\n",
       "      <td>NaN</td>\n",
       "      <td>1.0*</td>\n",
       "      <td>NaN</td>\n",
       "      <td>NaN</td>\n",
       "      <td>NaN</td>\n",
       "      <td>Nickel</td>\n",
       "      <td>Nickel,Copper,Platinum,Palladium,Rhodium,Cobal...</td>\n",
       "      <td>Magmatic Sulphide</td>\n",
       "      <td>Flood Basalt (Dyke-Sill Complexes), Volcanogen...</td>\n",
       "      <td>NaN</td>\n",
       "      <td>NaN</td>\n",
       "      <td>NaN</td>\n",
       "      <td>NaN</td>\n",
       "      <td>76.4*</td>\n",
       "      <td>NaN</td>\n",
       "      <td>NaN</td>\n",
       "      <td>NaN</td>\n",
       "      <td>230.78*</td>\n",
       "      <td>5510.27*</td>\n",
       "      <td>NaN</td>\n",
       "      <td>NaN</td>\n",
       "      <td>NaN</td>\n",
       "      <td>High</td>\n",
       "      <td>Insignificant</td>\n",
       "      <td>Low</td>\n",
       "      <td>Insignificant</td>\n",
       "      <td>NaN</td>\n",
       "    </tr>\n",
       "    <tr>\n",
       "      <th>1456</th>\n",
       "      <td>66654.0</td>\n",
       "      <td>Lokkarfjord</td>\n",
       "      <td>Oksfjord Peninsula</td>\n",
       "      <td>NaN</td>\n",
       "      <td>NaN</td>\n",
       "      <td>Norway</td>\n",
       "      <td>Inactive</td>\n",
       "      <td>Exploration</td>\n",
       "      <td>NaN</td>\n",
       "      <td>22.51500</td>\n",
       "      <td>70.23500</td>\n",
       "      <td>2016.0</td>\n",
       "      <td>NaN</td>\n",
       "      <td>0.44*</td>\n",
       "      <td>NaN</td>\n",
       "      <td>NaN</td>\n",
       "      <td>NaN</td>\n",
       "      <td>Nickel</td>\n",
       "      <td>Nickel,Copper,Gold,Platinum,Palladium,Rhodium</td>\n",
       "      <td>Magmatic Sulphide*</td>\n",
       "      <td>NaN</td>\n",
       "      <td>NaN</td>\n",
       "      <td>NaN</td>\n",
       "      <td>NaN</td>\n",
       "      <td>NaN</td>\n",
       "      <td>76.4*</td>\n",
       "      <td>NaN</td>\n",
       "      <td>NaN</td>\n",
       "      <td>NaN</td>\n",
       "      <td>412.91*</td>\n",
       "      <td>9858.83*</td>\n",
       "      <td>NaN</td>\n",
       "      <td>NaN</td>\n",
       "      <td>NaN</td>\n",
       "      <td>Low</td>\n",
       "      <td>Low</td>\n",
       "      <td>Insignificant</td>\n",
       "      <td>Insignificant</td>\n",
       "      <td>NaN</td>\n",
       "    </tr>\n",
       "    <tr>\n",
       "      <th>1457</th>\n",
       "      <td>37200.0</td>\n",
       "      <td>Nuussuaq Peninsula</td>\n",
       "      <td>Disko Island</td>\n",
       "      <td>NaN</td>\n",
       "      <td>NaN</td>\n",
       "      <td>Greenland</td>\n",
       "      <td>Inactive</td>\n",
       "      <td>Exploration</td>\n",
       "      <td>NaN</td>\n",
       "      <td>-53.67194</td>\n",
       "      <td>70.43306</td>\n",
       "      <td>2004.0</td>\n",
       "      <td>NaN</td>\n",
       "      <td>1.0*</td>\n",
       "      <td>NaN</td>\n",
       "      <td>NaN</td>\n",
       "      <td>NaN</td>\n",
       "      <td>Nickel</td>\n",
       "      <td>Nickel</td>\n",
       "      <td>Magmatic Sulphide*</td>\n",
       "      <td>NaN</td>\n",
       "      <td>NaN</td>\n",
       "      <td>NaN</td>\n",
       "      <td>NaN</td>\n",
       "      <td>NaN</td>\n",
       "      <td>76.4*</td>\n",
       "      <td>NaN</td>\n",
       "      <td>NaN</td>\n",
       "      <td>NaN</td>\n",
       "      <td>388.82*</td>\n",
       "      <td>9283.77*</td>\n",
       "      <td>NaN</td>\n",
       "      <td>NaN</td>\n",
       "      <td>NaN</td>\n",
       "      <td>High</td>\n",
       "      <td>Insignificant</td>\n",
       "      <td>Low</td>\n",
       "      <td>Insignificant</td>\n",
       "      <td>NaN</td>\n",
       "    </tr>\n",
       "    <tr>\n",
       "      <th>1458</th>\n",
       "      <td>29813.0</td>\n",
       "      <td>Kuujjua</td>\n",
       "      <td>Minto inlier</td>\n",
       "      <td>NaN</td>\n",
       "      <td>NaN</td>\n",
       "      <td>Canada</td>\n",
       "      <td>Inactive</td>\n",
       "      <td>Exploration</td>\n",
       "      <td>NaN</td>\n",
       "      <td>-114.50639</td>\n",
       "      <td>71.42167</td>\n",
       "      <td>1997.0</td>\n",
       "      <td>NaN</td>\n",
       "      <td>0.88*</td>\n",
       "      <td>NaN</td>\n",
       "      <td>NaN</td>\n",
       "      <td>NaN</td>\n",
       "      <td>Nickel</td>\n",
       "      <td>Nickel,Copper,Platinum</td>\n",
       "      <td>Magmatic Sulphide*</td>\n",
       "      <td>NaN</td>\n",
       "      <td>NaN</td>\n",
       "      <td>NaN</td>\n",
       "      <td>NaN</td>\n",
       "      <td>NaN</td>\n",
       "      <td>74.8*</td>\n",
       "      <td>NaN</td>\n",
       "      <td>NaN</td>\n",
       "      <td>NaN</td>\n",
       "      <td>235.88*</td>\n",
       "      <td>5632.14*</td>\n",
       "      <td>NaN</td>\n",
       "      <td>NaN</td>\n",
       "      <td>NaN</td>\n",
       "      <td>Low</td>\n",
       "      <td>Low</td>\n",
       "      <td>Low</td>\n",
       "      <td>Low</td>\n",
       "      <td>NaN</td>\n",
       "    </tr>\n",
       "  </tbody>\n",
       "</table>\n",
       "<p>1459 rows × 39 columns</p>\n",
       "</div>"
      ],
      "text/plain": [
       "      prop_id           prop_name  \\\n",
       "0     28021.0             Codemin   \n",
       "1     36331.0          Maslovskoe   \n",
       "2     27169.0      Polar Division   \n",
       "3     27378.0       Kola Division   \n",
       "4     30487.0          Oktyabrsky   \n",
       "...       ...                 ...   \n",
       "1454  66652.0           Reinfjord   \n",
       "1455  67339.0        Disko Island   \n",
       "1456  66654.0         Lokkarfjord   \n",
       "1457  37200.0  Nuussuaq Peninsula   \n",
       "1458  29813.0             Kuujjua   \n",
       "\n",
       "                                          also_known_as  \\\n",
       "0     Angiquinho, Coriola, Corrego da Fazenda, Jacub...   \n",
       "1     Chernogorskoe, Chernogorskoye, Maslovskoye, Ma...   \n",
       "2     Glubokij, Khalilskaya, Khalilsky, Komsomol, Ko...   \n",
       "3     Bistrinskoe, Bystrinskoe, Bystrinskoye, Flango...   \n",
       "4     Buribay, Oktabrsky, Oktyabrskoe, Oktyabrskoye,...   \n",
       "...                                                 ...   \n",
       "1454                                 Oksfjord Peninsula   \n",
       "1455  Disko, Disko & Nuussuaq, Disko-Nuussauq, Disko...   \n",
       "1456                                 Oksfjord Peninsula   \n",
       "1457                                       Disko Island   \n",
       "1458                                       Minto inlier   \n",
       "\n",
       "                                             owner_name   owner_country  \\\n",
       "0                                    Anglo American plc  United Kingdom   \n",
       "1     Public Joint Stock Company Mining and Metallur...          Russia   \n",
       "2     Public Joint Stock Company Mining and Metallur...          Russia   \n",
       "3     Public Joint Stock Company Mining and Metallur...          Russia   \n",
       "4     Public Joint Stock Company Mining and Metallur...          Russia   \n",
       "...                                                 ...             ...   \n",
       "1454                                  Nordic Mining ASA          Norway   \n",
       "1455                              Kobold Metals Company             USA   \n",
       "1456                                                NaN             NaN   \n",
       "1457                                                NaN             NaN   \n",
       "1458                                                NaN             NaN   \n",
       "\n",
       "     country_name                 actv_status             dev_stage  \\\n",
       "0          Brazil                      Active             Operating   \n",
       "1          Russia                      Active  Reserves Development   \n",
       "2          Russia                      Active             Operating   \n",
       "3          Russia                      Active             Operating   \n",
       "4          Russia                      Active             Satellite   \n",
       "...           ...                         ...                   ...   \n",
       "1454       Norway  On Hold Awaiting Financing        Target Outline   \n",
       "1455    Greenland                      Active           Exploration   \n",
       "1456       Norway                    Inactive           Exploration   \n",
       "1457    Greenland                    Inactive           Exploration   \n",
       "1458       Canada                    Inactive           Exploration   \n",
       "\n",
       "       mine_type1  longitude  latitude  yr_source_date reserve_ore (mt)  \\\n",
       "0        Open Pit  -48.33885 -14.15678          2021.0        8300000.0   \n",
       "1     Underground   88.07600  69.23700          2018.0     189189189.19   \n",
       "2     Underground   88.16999  69.28199          2021.0      663128000.0   \n",
       "3        Open Pit   30.73034  69.39995          2021.0      100918000.0   \n",
       "4     Underground   88.34008  69.52435          2021.0          74900.0   \n",
       "...           ...        ...       ...             ...              ...   \n",
       "1454  Underground   21.66300  70.08000          2019.0              NaN   \n",
       "1455          NaN  -53.93200  70.22700          2021.0              NaN   \n",
       "1456          NaN   22.51500  70.23500          2016.0              NaN   \n",
       "1457          NaN  -53.67194  70.43306          2004.0              NaN   \n",
       "1458          NaN -114.50639  71.42167          1997.0              NaN   \n",
       "\n",
       "     grade (%) reserve_metal (mt) resource_ore (million mt)  \\\n",
       "0         1.25           104000.0                      10.6   \n",
       "1         0.37           700000.0                     206.8   \n",
       "2         0.92          5872000.0                   2137.33   \n",
       "3         0.57           579740.0                     471.5   \n",
       "4        0.79*            594.33*                       NaN   \n",
       "...        ...                ...                       ...   \n",
       "1454     0.44*                NaN                       NaN   \n",
       "1455      1.0*                NaN                       NaN   \n",
       "1456     0.44*                NaN                       NaN   \n",
       "1457      1.0*                NaN                       NaN   \n",
       "1458     0.88*                NaN                       NaN   \n",
       "\n",
       "     resource_metal (mt) primary_commodity  \\\n",
       "0               134000.0            Nickel   \n",
       "1               765160.0            Nickel   \n",
       "2             15440000.0            Nickel   \n",
       "3              3167000.0            Nickel   \n",
       "4                    NaN            Nickel   \n",
       "...                  ...               ...   \n",
       "1454                 NaN            Nickel   \n",
       "1455                 NaN            Nickel   \n",
       "1456                 NaN            Nickel   \n",
       "1457                 NaN            Nickel   \n",
       "1458                 NaN            Nickel   \n",
       "\n",
       "                                       commodities_list        deposit_type  \\\n",
       "0                                                Nickel            Laterite   \n",
       "1     Nickel,Copper,Palladium,Platinum,Cobalt,Gold,S...   Magmatic Sulphide   \n",
       "2     Nickel,Copper,Palladium,Rhodium,Platinum,Cobal...   Magmatic Sulphide   \n",
       "3     Nickel,Copper,Palladium,Platinum,Gold,Cobalt,R...   Magmatic Sulphide   \n",
       "4              Nickel,Copper,Palladium,Platinum,Rhodium  Magmatic Sulphide*   \n",
       "...                                                 ...                 ...   \n",
       "1454  Nickel,Copper,Cobalt,Platinum,Palladium,Rhodiu...  Magmatic Sulphide*   \n",
       "1455  Nickel,Copper,Platinum,Palladium,Rhodium,Cobal...   Magmatic Sulphide   \n",
       "1456      Nickel,Copper,Gold,Platinum,Palladium,Rhodium  Magmatic Sulphide*   \n",
       "1457                                             Nickel  Magmatic Sulphide*   \n",
       "1458                             Nickel,Copper,Platinum  Magmatic Sulphide*   \n",
       "\n",
       "                                 geologic_ore_body_type production_ROM_Ni_tpa  \\\n",
       "0                               Laterite (Ni-Saprolite)               8766.23   \n",
       "1                                                   NaN                   NaN   \n",
       "2                    Flood Basalt (Dyke-Sill Complexes)             309007.63   \n",
       "3                                                   NaN              68210.36   \n",
       "4                                                   NaN                   NaN   \n",
       "...                                                 ...                   ...   \n",
       "1454                                                NaN                   NaN   \n",
       "1455  Flood Basalt (Dyke-Sill Complexes), Volcanogen...                   NaN   \n",
       "1456                                                NaN                   NaN   \n",
       "1457                                                NaN                   NaN   \n",
       "1458                                                NaN                   NaN   \n",
       "\n",
       "     production_PROD_Ni_tpa                                production_forms  \\\n",
       "0                    8100.0                                     Concentrate   \n",
       "1                       NaN                                             NaN   \n",
       "2                  242880.0  Cathodes, Concentrate, Granules, Matte, Powder   \n",
       "3                   43450.0        Briquettes, Cathodes, Concentrate, Matte   \n",
       "4                       NaN                                     Concentrate   \n",
       "...                     ...                                             ...   \n",
       "1454                    NaN                                             NaN   \n",
       "1455                    NaN                                             NaN   \n",
       "1456                    NaN                                             NaN   \n",
       "1457                    NaN                                             NaN   \n",
       "1458                    NaN                                             NaN   \n",
       "\n",
       "      metall_process recovery_Ni_perc production_capacity  start_year  \\\n",
       "0     pyrometallurgy             92.4              9000.0         NaN   \n",
       "1                NaN           71.15*           26987.86*         NaN   \n",
       "2     pyrometallurgy             78.6           367199.2*         NaN   \n",
       "3     pyrometallurgy             63.7           65690.07*         NaN   \n",
       "4                NaN           71.15*               5.58*         NaN   \n",
       "...              ...              ...                 ...         ...   \n",
       "1454             NaN            76.4*                 NaN         NaN   \n",
       "1455             NaN            76.4*                 NaN         NaN   \n",
       "1456             NaN            76.4*                 NaN         NaN   \n",
       "1457             NaN            76.4*                 NaN         NaN   \n",
       "1458             NaN            74.8*                 NaN         NaN   \n",
       "\n",
       "      mine_life cash_cost (nickel USC/lb) cash_cost (nickel USD/t)  \\\n",
       "0        2037.0                    174.73                  4171.97   \n",
       "1        2037.0                    181.88                  4342.69   \n",
       "2        2037.0                    181.88                  4342.69   \n",
       "3           NaN                    181.88                  4342.69   \n",
       "4           NaN                    181.88                  4342.69   \n",
       "...         ...                       ...                      ...   \n",
       "1454        NaN                   735.02*                17549.79*   \n",
       "1455        NaN                   230.78*                 5510.27*   \n",
       "1456        NaN                   412.91*                 9858.83*   \n",
       "1457        NaN                   388.82*                 9283.77*   \n",
       "1458        NaN                   235.88*                 5632.14*   \n",
       "\n",
       "      cash_cost (ore USD/t)     capital_cost_type  amt_capital_invested  \\\n",
       "0                     55.07                   NaN          6.000000e+04   \n",
       "1                       NaN  Initial Capital Cost          2.000000e+06   \n",
       "2                       NaN  Initial Capital Cost          2.000000e+06   \n",
       "3                       NaN  Initial Capital Cost          3.342877e+04   \n",
       "4                       NaN  New Zone Development                   NaN   \n",
       "...                     ...                   ...                   ...   \n",
       "1454                    NaN                   NaN                   NaN   \n",
       "1455                    NaN                   NaN                   NaN   \n",
       "1456                    NaN                   NaN                   NaN   \n",
       "1457                    NaN                   NaN                   NaN   \n",
       "1458                    NaN                   NaN                   NaN   \n",
       "\n",
       "     country/region_op_risk country/region_ter_risk country/region_pol_risk  \\\n",
       "0                    Medium                     Low                  Medium   \n",
       "1                      High                  Medium                  Medium   \n",
       "2                      High                  Medium                  Medium   \n",
       "3                      High                  Medium                  Medium   \n",
       "4                      High                  Medium                  Medium   \n",
       "...                     ...                     ...                     ...   \n",
       "1454                    Low                     Low           Insignificant   \n",
       "1455                   High           Insignificant                     Low   \n",
       "1456                    Low                     Low           Insignificant   \n",
       "1457                   High           Insignificant                     Low   \n",
       "1458                    Low                     Low                     Low   \n",
       "\n",
       "     country/region_sec_risk  \\\n",
       "0                     Medium   \n",
       "1                     Medium   \n",
       "2                     Medium   \n",
       "3                     Medium   \n",
       "4                     Medium   \n",
       "...                      ...   \n",
       "1454           Insignificant   \n",
       "1455           Insignificant   \n",
       "1456           Insignificant   \n",
       "1457           Insignificant   \n",
       "1458                     Low   \n",
       "\n",
       "                                                 remark  \n",
       "0                             Mota e Silva et al., 2013  \n",
       "1                            Norilsk Nickel AnnRpt 2018  \n",
       "2     Mechel Steel AnnRpt 2011Norilsk Nickel Product...  \n",
       "3                                                   NaN  \n",
       "4                                                   NaN  \n",
       "...                                                 ...  \n",
       "1454                                                NaN  \n",
       "1455                                                NaN  \n",
       "1456                                                NaN  \n",
       "1457                                                NaN  \n",
       "1458                                                NaN  \n",
       "\n",
       "[1459 rows x 39 columns]"
      ]
     },
     "execution_count": 101,
     "metadata": {},
     "output_type": "execute_result"
    }
   ],
   "source": [
    "df\n"
   ]
  },
  {
   "cell_type": "code",
   "execution_count": null,
   "id": "214fe326",
   "metadata": {},
   "outputs": [],
   "source": []
  }
 ],
 "metadata": {
  "hide_input": false,
  "kernelspec": {
   "display_name": "Python 3 (ipykernel)",
   "language": "python",
   "name": "python3"
  },
  "language_info": {
   "codemirror_mode": {
    "name": "ipython",
    "version": 3
   },
   "file_extension": ".py",
   "mimetype": "text/x-python",
   "name": "python",
   "nbconvert_exporter": "python",
   "pygments_lexer": "ipython3",
   "version": "3.9.12"
  },
  "toc": {
   "base_numbering": 1,
   "nav_menu": {},
   "number_sections": true,
   "sideBar": true,
   "skip_h1_title": false,
   "title_cell": "Table of Contents",
   "title_sidebar": "Contents",
   "toc_cell": false,
   "toc_position": {
    "height": "722px",
    "left": "55px",
    "top": "216px",
    "width": "255px"
   },
   "toc_section_display": true,
   "toc_window_display": true
  },
  "varInspector": {
   "cols": {
    "lenName": 16,
    "lenType": 16,
    "lenVar": 40
   },
   "kernels_config": {
    "python": {
     "delete_cmd_postfix": "",
     "delete_cmd_prefix": "del ",
     "library": "var_list.py",
     "varRefreshCmd": "print(var_dic_list())"
    },
    "r": {
     "delete_cmd_postfix": ") ",
     "delete_cmd_prefix": "rm(",
     "library": "var_list.r",
     "varRefreshCmd": "cat(var_dic_list()) "
    }
   },
   "types_to_exclude": [
    "module",
    "function",
    "builtin_function_or_method",
    "instance",
    "_Feature"
   ],
   "window_display": false
  }
 },
 "nbformat": 4,
 "nbformat_minor": 5
}
